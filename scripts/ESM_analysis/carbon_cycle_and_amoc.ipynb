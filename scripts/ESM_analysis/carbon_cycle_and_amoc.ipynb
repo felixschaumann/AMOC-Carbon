{
 "cells": [
  {
   "cell_type": "markdown",
   "id": "e80b6a38-cd81-46c7-bbf0-a15e7b5d3367",
   "metadata": {
    "execution": {
     "iopub.execute_input": "2023-11-14T13:02:00.469786Z",
     "iopub.status.busy": "2023-11-14T13:02:00.469452Z",
     "iopub.status.idle": "2023-11-14T13:02:00.473517Z",
     "shell.execute_reply": "2023-11-14T13:02:00.472871Z",
     "shell.execute_reply.started": "2023-11-14T13:02:00.469766Z"
    },
    "tags": []
   },
   "source": [
    "<b><i> carbon_cycle_and_amoc </i></b>\n",
    "\n",
    "Created by Eduardo Alastrue de Asenjo on 2023-11-14\n",
    "\n",
    "- Purpose: Understand changes in carbon cycle due to AMOC decline\n",
    "- Methods: Analyse ocean bgc data (e.g., dissic), AMOC, and SAT in MPI-ESM simulations\n",
    "- Comments: Works with Levante's Jupyterhub kernel python3/2023.1 \n",
    "- Other resources:\n"
   ]
  },
  {
   "cell_type": "markdown",
   "id": "dbfed128-dcc5-4757-9f59-784e64ee776d",
   "metadata": {
    "tags": []
   },
   "source": [
    "# Load modules, variables, and functions"
   ]
  },
  {
   "cell_type": "code",
   "execution_count": 1,
   "id": "d481ecaf-c29a-4348-a2b1-67c2aec53c77",
   "metadata": {
    "execution": {
     "iopub.execute_input": "2024-08-30T07:29:36.525748Z",
     "iopub.status.busy": "2024-08-30T07:29:36.525347Z",
     "iopub.status.idle": "2024-08-30T07:29:41.953862Z",
     "shell.execute_reply": "2024-08-30T07:29:41.953128Z",
     "shell.execute_reply.started": "2024-08-30T07:29:36.525725Z"
    },
    "tags": []
   },
   "outputs": [],
   "source": [
    "import xarray as xr\n",
    "import numpy as np\n",
    "import dask\n",
    "import glob\n",
    "import matplotlib.pyplot as plt\n",
    "import matplotlib as mpl\n",
    "import cartopy.crs as ccrs\n",
    "import os; os.environ['PROJ_LIB'] = '/work/uo1075/m300817/phd/conda/share/proj'\n",
    "#import regionmask\n",
    "import xesmf as xe\n",
    "import cdo # Import Cdo-py\n",
    "cdo = cdo.Cdo(tempdir='/scratch/m/m300817/tmp/cdo-py') # change this to a directory in your scratch\n",
    "import eccodes\n",
    "import cfgrib\n",
    "import zlib\n",
    "from tqdm import tqdm"
   ]
  },
  {
   "cell_type": "code",
   "execution_count": 2,
   "id": "0d5798c5-5e9b-4d1e-8aca-e6b90be572b5",
   "metadata": {
    "execution": {
     "iopub.execute_input": "2024-08-30T07:29:43.557521Z",
     "iopub.status.busy": "2024-08-30T07:29:43.556850Z",
     "iopub.status.idle": "2024-08-30T07:29:43.560361Z",
     "shell.execute_reply": "2024-08-30T07:29:43.559770Z",
     "shell.execute_reply.started": "2024-08-30T07:29:43.557497Z"
    },
    "tags": []
   },
   "outputs": [],
   "source": [
    "g_per_molC = 12.0107  # to convert units to g, as dissic units are given in mol m-3"
   ]
  },
  {
   "cell_type": "code",
   "execution_count": 3,
   "id": "244c1b9d-4517-4139-9054-1f94593e6e19",
   "metadata": {
    "execution": {
     "iopub.execute_input": "2024-08-30T07:29:44.923937Z",
     "iopub.status.busy": "2024-08-30T07:29:44.923351Z",
     "iopub.status.idle": "2024-08-30T07:29:44.927457Z",
     "shell.execute_reply": "2024-08-30T07:29:44.926833Z",
     "shell.execute_reply.started": "2024-08-30T07:29:44.923917Z"
    },
    "tags": []
   },
   "outputs": [],
   "source": [
    "def weighted_area_lat(ds):\n",
    "    \"\"\"\n",
    "    Calculate the area-weighted temperature over its domain. \n",
    "    In a regular latitude/ longitude grid the grid cell area decreases towards the pole.\n",
    "    We can use the cosine of the latitude as proxy for the grid cell area.\n",
    "    Taken from https://docs.xarray.dev/en/stable/examples/area_weighted_temperature.html\n",
    "    \"\"\"\n",
    "    weights = np.cos(np.deg2rad(ds.lat))\n",
    "    weights.name = \"weights\"\n",
    "\n",
    "    return ds.weighted(weights)"
   ]
  },
  {
   "cell_type": "code",
   "execution_count": 4,
   "id": "c2961103-8939-4f84-bf5c-4191823ac3ee",
   "metadata": {
    "execution": {
     "iopub.execute_input": "2024-08-30T07:29:45.552669Z",
     "iopub.status.busy": "2024-08-30T07:29:45.552079Z",
     "iopub.status.idle": "2024-08-30T07:29:45.557177Z",
     "shell.execute_reply": "2024-08-30T07:29:45.556599Z",
     "shell.execute_reply.started": "2024-08-30T07:29:45.552647Z"
    },
    "tags": []
   },
   "outputs": [],
   "source": [
    "def weighted_mon_to_year_mean(ds, var):\n",
    "    \"\"\"\n",
    "    weight by days in each month when doing annual mean from monthly values in xarray\n",
    "    taken from https://ncar.github.io/esds/posts/2021/yearly-averages-xarray/\n",
    "    \"\"\"\n",
    "    month_length = ds.time.dt.days_in_month # Determine the month length\n",
    "    wgts = month_length.groupby(\"time.year\") / month_length.groupby(\"time.year\").sum()  # Calculate the weights\n",
    "    np.testing.assert_allclose(wgts.groupby(\"time.year\").sum(xr.ALL_DIMS), 1.0)  # Make sure the weights in each year add up to 1\n",
    "    obs = ds[var]  # Subset our dataset for our variable\n",
    "    cond = obs.isnull() # Setup our masking for nan values\n",
    "    ones = xr.where(cond, 0.0, 1.0)   \n",
    "    obs_sum = (obs * wgts).resample(time=\"AS\").sum(dim=\"time\")  # Calculate the numerator\n",
    "    ones_out = (ones * wgts).resample(time=\"AS\").sum(dim=\"time\") # Calculate the denominator\n",
    "    return obs_sum / ones_out # Return the weighted average"
   ]
  },
  {
   "cell_type": "code",
   "execution_count": 5,
   "id": "d74647b9-79c4-47b5-ad17-c95a92122305",
   "metadata": {
    "execution": {
     "iopub.execute_input": "2024-08-30T07:29:46.040800Z",
     "iopub.status.busy": "2024-08-30T07:29:46.040185Z",
     "iopub.status.idle": "2024-08-30T07:29:46.043966Z",
     "shell.execute_reply": "2024-08-30T07:29:46.043401Z",
     "shell.execute_reply.started": "2024-08-30T07:29:46.040779Z"
    }
   },
   "outputs": [],
   "source": [
    "colors_scen = {      # IPCC colors for SSPs\n",
    "    'hist': (0/255, 0/255, 0/255),        \n",
    "    'ssp126': (23/255, 60/255, 102/255),      \n",
    "    'ssp245':(247/255, 148/255, 32/255),      \n",
    "    'ssp585': (149/255, 27/255, 30/255)      \n",
    "}"
   ]
  },
  {
   "cell_type": "markdown",
   "id": "0fdac1f1-3339-4802-a3ab-0c074ff8343a",
   "metadata": {},
   "source": [
    "dask cluster"
   ]
  },
  {
   "cell_type": "code",
   "execution_count": 3,
   "id": "c51d1ef2-5400-4f1b-a683-54811f630835",
   "metadata": {
    "execution": {
     "iopub.execute_input": "2024-08-02T09:13:59.516641Z",
     "iopub.status.busy": "2024-08-02T09:13:59.515918Z",
     "iopub.status.idle": "2024-08-02T09:14:14.213540Z",
     "shell.execute_reply": "2024-08-02T09:14:14.212666Z",
     "shell.execute_reply.started": "2024-08-02T09:13:59.516616Z"
    },
    "tags": []
   },
   "outputs": [],
   "source": [
    "from dask_jobqueue import SLURMCluster\n",
    "from dask.distributed import Client\n",
    "import dask\n",
    "#dask.config.set(scheduler=\"single-threaded\")\n",
    "dask.config.set(scheduler=\"threads\")\n",
    "dask.config.config.get('distributed').get('dashboard').update({'link':'{JUPYTERHUB_SERVICE_PREFIX}/proxy/{port}/status'})\n",
    "from dask.distributed import Lock\n",
    "lock = Lock('xarray-IO')"
   ]
  },
  {
   "cell_type": "code",
   "execution_count": 4,
   "id": "9b9bee05-cf44-4d8c-9e7d-58b65bdd2483",
   "metadata": {
    "execution": {
     "iopub.execute_input": "2024-08-02T09:14:14.215972Z",
     "iopub.status.busy": "2024-08-02T09:14:14.215303Z",
     "iopub.status.idle": "2024-08-02T09:14:29.387349Z",
     "shell.execute_reply": "2024-08-02T09:14:29.386236Z",
     "shell.execute_reply.started": "2024-08-02T09:14:14.215945Z"
    },
    "tags": []
   },
   "outputs": [],
   "source": [
    "cluster = SLURMCluster(name='dask-cluster',\n",
    "                      cores=32,          # number of cores per job / number of cores each worker can use\n",
    "                      processes=6,      # number of workers per SLURM job\n",
    "                      memory='100GB',     # total memory per job / memory each worker has\n",
    "                      account='uo1075',\n",
    "                      interface='ib0',\n",
    "                      queue='shared,compute',\n",
    "                      walltime='7:40:00',\n",
    "                      local_directory = '/scratch/m/m300817/dask_temp/',\n",
    "                      log_directory   = '/scratch/m/m300817/dask_temp/log/',\n",
    "                      asynchronous=0)\n",
    "                      #, scheduler_options={'dashboard_address': ':8787'})\n",
    "cluster.scale(18) # number of workers\n",
    "#cluster.adapt(minimum=12,maximum=36, wait_count=60) # number of workers"
   ]
  },
  {
   "cell_type": "code",
   "execution_count": 5,
   "id": "fa603db1-05ae-4002-bc5b-b2d990aceb3b",
   "metadata": {
    "execution": {
     "iopub.execute_input": "2024-08-02T09:14:29.388513Z",
     "iopub.status.busy": "2024-08-02T09:14:29.388242Z",
     "iopub.status.idle": "2024-08-02T09:14:29.710055Z",
     "shell.execute_reply": "2024-08-02T09:14:29.709462Z",
     "shell.execute_reply.started": "2024-08-02T09:14:29.388490Z"
    },
    "tags": []
   },
   "outputs": [],
   "source": [
    "client = Client(cluster)"
   ]
  },
  {
   "cell_type": "markdown",
   "id": "a24cbe43-5566-4c08-9634-75b4864e0340",
   "metadata": {
    "tags": [],
    "toc-hr-collapsed": true
   },
   "source": [
    "# Load data (MPI-ESM1.2-LR)"
   ]
  },
  {
   "cell_type": "markdown",
   "id": "82d6ed1f-37c4-43f0-b976-786d76c8dca5",
   "metadata": {
    "execution": {
     "iopub.execute_input": "2023-11-14T15:09:21.996724Z",
     "iopub.status.busy": "2023-11-14T15:09:21.996185Z",
     "iopub.status.idle": "2023-11-14T15:09:22.000159Z",
     "shell.execute_reply": "2023-11-14T15:09:21.999500Z",
     "shell.execute_reply.started": "2023-11-14T15:09:21.996697Z"
    },
    "tags": [],
    "toc-hr-collapsed": true
   },
   "source": [
    "## Dissolved inorganic Carbon (dissic)"
   ]
  },
  {
   "cell_type": "markdown",
   "id": "2dee7829-b1a2-48e0-bf0d-e301113f00e2",
   "metadata": {
    "jp-MarkdownHeadingCollapsed": true
   },
   "source": [
    "### piC, historical, scenarios"
   ]
  },
  {
   "cell_type": "code",
   "execution_count": 4,
   "id": "870e3b59-0798-4318-af5a-d6e48e760b7a",
   "metadata": {
    "execution": {
     "iopub.execute_input": "2024-03-21T07:08:30.441070Z",
     "iopub.status.busy": "2024-03-21T07:08:30.440609Z",
     "iopub.status.idle": "2024-03-21T07:09:00.952590Z",
     "shell.execute_reply": "2024-03-21T07:09:00.951843Z",
     "shell.execute_reply.started": "2024-03-21T07:08:30.441050Z"
    },
    "tags": []
   },
   "outputs": [],
   "source": [
    "# Load DIC in piC\n",
    "file_type = 'dissic'\n",
    "infiles = glob.glob(f'/pool/data/CMIP6/data/CMIP/MPI-M/MPI-ESM1-2-LR/piControl/r1i1p1f1/Omon/{file_type}/gn/v20190710/*{file_type}*.nc')\n",
    "ds_dissic_pi = xr.open_mfdataset(infiles, use_cftime=True, chunks={\"time\": 50}, parallel=True)"
   ]
  },
  {
   "cell_type": "code",
   "execution_count": 5,
   "id": "01667d95-f5e3-406d-bc22-20c727538ae3",
   "metadata": {
    "execution": {
     "iopub.execute_input": "2024-03-21T07:09:00.953934Z",
     "iopub.status.busy": "2024-03-21T07:09:00.953559Z",
     "iopub.status.idle": "2024-03-21T07:09:05.049092Z",
     "shell.execute_reply": "2024-03-21T07:09:05.048363Z",
     "shell.execute_reply.started": "2024-03-21T07:09:00.953912Z"
    },
    "tags": []
   },
   "outputs": [],
   "source": [
    "# Load DIC in historical\n",
    "file_type = 'dissic'\n",
    "infiles = glob.glob(f'/pool/data/CMIP6/data/CMIP/MPI-M/MPI-ESM1-2-LR/historical/r1i1p1f1/Omon/{file_type}/gn/v20190710/*{file_type}*.nc')\n",
    "ds_dissic_hist = xr.open_mfdataset(infiles, use_cftime=True, parallel=True)"
   ]
  },
  {
   "cell_type": "code",
   "execution_count": 6,
   "id": "d367985c-bb34-4d73-b7bd-30655cca2662",
   "metadata": {
    "execution": {
     "iopub.execute_input": "2024-03-21T07:09:05.050400Z",
     "iopub.status.busy": "2024-03-21T07:09:05.050048Z",
     "iopub.status.idle": "2024-03-21T07:09:07.724636Z",
     "shell.execute_reply": "2024-03-21T07:09:07.723964Z",
     "shell.execute_reply.started": "2024-03-21T07:09:05.050377Z"
    },
    "tags": []
   },
   "outputs": [],
   "source": [
    "# Load DIC in scenario ssp126\n",
    "file_type = 'dissic'\n",
    "infiles = glob.glob(f'/pool/data/CMIP6/data/ScenarioMIP/MPI-M/MPI-ESM1-2-LR/ssp126/r1i1p1f1/Omon/{file_type}/gn/v20190710/*{file_type}*.nc')\n",
    "ds_dissic_ssp126 = xr.open_mfdataset(infiles, use_cftime=True, parallel=True)"
   ]
  },
  {
   "cell_type": "code",
   "execution_count": 7,
   "id": "b14b2b82-c608-48c5-96dd-c1efd892d699",
   "metadata": {
    "execution": {
     "iopub.execute_input": "2024-03-21T07:09:07.725893Z",
     "iopub.status.busy": "2024-03-21T07:09:07.725560Z",
     "iopub.status.idle": "2024-03-21T07:09:10.085382Z",
     "shell.execute_reply": "2024-03-21T07:09:10.084720Z",
     "shell.execute_reply.started": "2024-03-21T07:09:07.725871Z"
    },
    "tags": []
   },
   "outputs": [],
   "source": [
    "# Load DIC in scenario ssp585\n",
    "file_type = 'dissic'\n",
    "infiles = glob.glob(f'/pool/data/CMIP6/data/ScenarioMIP/MPI-M/MPI-ESM1-2-LR/ssp585/r1i1p1f1/Omon/{file_type}/gn/v20190710/*{file_type}*.nc')\n",
    "ds_dissic_ssp585 = xr.open_mfdataset(infiles, use_cftime=True, parallel=True)"
   ]
  },
  {
   "cell_type": "markdown",
   "id": "764dc280-0ccb-4b6a-a979-5a9b7d9f27e8",
   "metadata": {},
   "source": [
    "### 1pctCO2"
   ]
  },
  {
   "cell_type": "code",
   "execution_count": 4,
   "id": "5d591ae0-6ab2-4227-9239-662af37cc6cb",
   "metadata": {
    "execution": {
     "iopub.execute_input": "2024-06-24T08:50:17.033674Z",
     "iopub.status.busy": "2024-06-24T08:50:17.033231Z",
     "iopub.status.idle": "2024-06-24T08:50:22.285409Z",
     "shell.execute_reply": "2024-06-24T08:50:22.284733Z",
     "shell.execute_reply.started": "2024-06-24T08:50:17.033651Z"
    },
    "tags": []
   },
   "outputs": [],
   "source": [
    "# Load DIC in 1pctCO2\n",
    "file_type = 'dissic'\n",
    "infiles = glob.glob(f'/pool/data/CMIP6/data/CMIP/MPI-M/MPI-ESM1-2-LR/1pctCO2/r1i1p1f1/Omon/{file_type}/gn/v20190710/*{file_type}*.nc')\n",
    "ds_dissic_1pct = xr.open_mfdataset(infiles, use_cftime=True, parallel=True, chunks={\"time\": 10})"
   ]
  },
  {
   "cell_type": "code",
   "execution_count": 6,
   "id": "5afaf27f-8a2c-430a-87d3-9ff3fbfc6274",
   "metadata": {
    "execution": {
     "iopub.execute_input": "2024-08-06T07:09:51.878822Z",
     "iopub.status.busy": "2024-08-06T07:09:51.878360Z",
     "iopub.status.idle": "2024-08-06T07:09:56.955854Z",
     "shell.execute_reply": "2024-08-06T07:09:56.955123Z",
     "shell.execute_reply.started": "2024-08-06T07:09:51.878789Z"
    },
    "tags": []
   },
   "outputs": [],
   "source": [
    "# Load DIC in 1pctCO2-bgc\n",
    "file_type = 'dissic'\n",
    "infiles = glob.glob(f'/pool/data/CMIP6/data/C4MIP/MPI-M/MPI-ESM1-2-LR/1pctCO2-bgc/r1i1p1f1/Omon/{file_type}/gn/v20190710/*{file_type}*.nc')\n",
    "ds_dissic_1pctbgc = xr.open_mfdataset(infiles, use_cftime=True, parallel=True, chunks={\"time\": 10})"
   ]
  },
  {
   "cell_type": "code",
   "execution_count": 10,
   "id": "652528a3-ad32-4eff-b5c8-778afa16490c",
   "metadata": {
    "execution": {
     "iopub.execute_input": "2024-03-21T07:09:17.479208Z",
     "iopub.status.busy": "2024-03-21T07:09:17.478999Z",
     "iopub.status.idle": "2024-03-21T07:09:20.854004Z",
     "shell.execute_reply": "2024-03-21T07:09:20.853333Z",
     "shell.execute_reply.started": "2024-03-21T07:09:17.479188Z"
    },
    "tags": []
   },
   "outputs": [],
   "source": [
    "# Load DIC in 1pctCO2-rad\n",
    "file_type = 'dissic'\n",
    "infiles = glob.glob(f'/pool/data/CMIP6/data/C4MIP/MPI-M/MPI-ESM1-2-LR/1pctCO2-rad/r1i1p1f1/Omon/{file_type}/gn/v20190710/*{file_type}*.nc')\n",
    "ds_dissic_1pctrad = xr.open_mfdataset(infiles, use_cftime=True, parallel=True, chunks={\"time\": 10})"
   ]
  },
  {
   "cell_type": "markdown",
   "id": "46077249-60b8-4255-82ad-7bcf81d26b2e",
   "metadata": {
    "jp-MarkdownHeadingCollapsed": true,
    "toc-hr-collapsed": true
   },
   "source": [
    "### Original hosing"
   ]
  },
  {
   "cell_type": "markdown",
   "id": "3c958897-c452-4310-8236-a263f0a33394",
   "metadata": {},
   "source": [
    "u05-LR"
   ]
  },
  {
   "cell_type": "raw",
   "id": "43d63509-fe91-4c96-9000-bfb3d95cb7eb",
   "metadata": {
    "ExecuteTime": {
     "end_time": "2021-09-10T16:09:49.404342Z",
     "start_time": "2021-09-10T16:09:49.300837Z"
    },
    "execution": {
     "iopub.execute_input": "2023-10-19T07:41:47.340393Z",
     "iopub.status.busy": "2023-10-19T07:41:47.340102Z",
     "iopub.status.idle": "2023-10-19T07:41:47.399659Z",
     "shell.execute_reply": "2023-10-19T07:41:47.399062Z",
     "shell.execute_reply.started": "2023-10-19T07:41:47.340371Z"
    },
    "tags": []
   },
   "source": [
    "# NO NEED TO RE-RUN --- Pre-process (select and merge) dissic monthly\n",
    "in_path  = '/work/mh0033/from_Mistral/mh0033/m300817/mpiesm-1.2.01p6-passivesalt_update/experiments/hosing_naa05Sv_FcSV-LR/outdata/hamocc/'\n",
    "wildcard = \"*hamocc_data_3d_mm_*\"\n",
    "ifiles   = in_path+wildcard\n",
    "outpath = \"/work/uo1075/m300817/hosing/post/data/dissic/\"\n",
    "outfile = \"hosing_naa05Sv_FcSV-LR_dissic.nc\"\n",
    "if not glob.glob(outpath):\n",
    "    os.mkdir(outpath)\n",
    "if not os.path.isfile(outpath+outfile):\n",
    "    cdo.mergetime(input = \"-select,name=dissic \"+ifiles, output = outpath+outfile)"
   ]
  },
  {
   "cell_type": "code",
   "execution_count": 11,
   "id": "7fd7979f-8afb-414e-8602-7742cd72ce82",
   "metadata": {
    "execution": {
     "iopub.execute_input": "2024-03-21T07:09:20.855203Z",
     "iopub.status.busy": "2024-03-21T07:09:20.854882Z",
     "iopub.status.idle": "2024-03-21T07:09:21.121507Z",
     "shell.execute_reply": "2024-03-21T07:09:21.120926Z",
     "shell.execute_reply.started": "2024-03-21T07:09:20.855182Z"
    },
    "tags": []
   },
   "outputs": [],
   "source": [
    "# Load resulting file (note: now in new location)\n",
    "ds_dissic_u05hosLR = xr.open_mfdataset(\"/work/uo1075/m300817/hosing/post/data/dissic/hosing_naa05Sv_FcSV-LR_dissic.nc\"\n",
    "                                       , use_cftime=True, parallel=True)"
   ]
  },
  {
   "cell_type": "markdown",
   "id": "55e112a8-8959-412f-855c-1beb4655dd70",
   "metadata": {},
   "source": [
    "u03-LR"
   ]
  },
  {
   "cell_type": "raw",
   "id": "c6128051-54da-4ab3-9397-bd6b42ed0f93",
   "metadata": {
    "ExecuteTime": {
     "end_time": "2021-09-10T16:09:49.404342Z",
     "start_time": "2021-09-10T16:09:49.300837Z"
    },
    "execution": {
     "iopub.execute_input": "2023-10-19T08:02:42.167737Z",
     "iopub.status.busy": "2023-10-19T08:02:42.167257Z",
     "iopub.status.idle": "2023-10-19T08:08:00.041211Z",
     "shell.execute_reply": "2023-10-19T08:08:00.038411Z",
     "shell.execute_reply.started": "2023-10-19T08:02:42.167713Z"
    },
    "tags": []
   },
   "source": [
    "# NO NEED TO RE-RUN --- Pre-process (select and merge) dissic monthly\n",
    "in_path  = '/work/mh0287/from_Mistral/mh0287/mh0469/m211054/projects/hosing/mpiesm-1.2.01p6-passivesalt_update/experiments/hosing_naa03Sv_FcSV-LR/outdata/hamocc/'\n",
    "wildcard = \"*hamocc_data_3d_mm_*\"\n",
    "ifiles   = in_path+wildcard\n",
    "outpath = \"/work/uo1075/m300817/hosing/post/data/dissic/\"\n",
    "outfile = \"hosing_naa03Sv_FcSV-LR_dissic.nc\"\n",
    "if not glob.glob(outpath):\n",
    "    os.mkdir(outpath)\n",
    "if not os.path.isfile(outpath+outfile):\n",
    "    cdo.mergetime(input = \"-select,name=dissic \"+ifiles, output = outpath+outfile)"
   ]
  },
  {
   "cell_type": "code",
   "execution_count": 12,
   "id": "6d92c75e-e45f-495b-ae64-26e2ebe5c7c8",
   "metadata": {
    "execution": {
     "iopub.execute_input": "2024-03-21T07:09:21.122710Z",
     "iopub.status.busy": "2024-03-21T07:09:21.122269Z",
     "iopub.status.idle": "2024-03-21T07:09:21.343513Z",
     "shell.execute_reply": "2024-03-21T07:09:21.342945Z",
     "shell.execute_reply.started": "2024-03-21T07:09:21.122689Z"
    },
    "tags": []
   },
   "outputs": [],
   "source": [
    "# Load resulting file (note: now in new location)\n",
    "ds_dissic_u03hosLR = xr.open_mfdataset(\"/work/uo1075/m300817/hosing/post/data/dissic/hosing_naa03Sv_FcSV-LR_dissic.nc\"\n",
    "                                       , use_cftime=True, parallel=True)"
   ]
  },
  {
   "cell_type": "markdown",
   "id": "f8bb5534-d06c-406e-b7b4-1ae862334c47",
   "metadata": {},
   "source": [
    "g03-LR"
   ]
  },
  {
   "cell_type": "raw",
   "id": "d7b96d82-939e-4b3b-8eb6-d44b19ada669",
   "metadata": {
    "execution": {
     "iopub.execute_input": "2023-11-15T14:00:05.528527Z",
     "iopub.status.busy": "2023-11-15T14:00:05.528061Z",
     "iopub.status.idle": "2023-11-15T14:05:20.480999Z",
     "shell.execute_reply": "2023-11-15T14:05:20.473211Z",
     "shell.execute_reply.started": "2023-11-15T14:00:05.528506Z"
    },
    "tags": []
   },
   "source": [
    "# NO NEED TO RE-RUN --- Pre-process (select and merge) dissic monthly\n",
    "in_path  = '/work/mh0033/from_Mistral/mh0033/m300817/mpiesm-1.2.01p6-passivesalt_update/experiments/hosing_grc03Sv_FcSV-LR/outdata/hamocc/'\n",
    "wildcard = \"*hamocc_data_3d_mm_*\"\n",
    "ifiles   = in_path+wildcard\n",
    "outpath = \"/work/uo1075/m300817/hosing/post/data/dissic/\"\n",
    "outfile = \"hosing_grc03Sv_FcSV-LR_dissic.nc\"\n",
    "if not glob.glob(outpath):\n",
    "    os.mkdir(outpath)\n",
    "if not os.path.isfile(outpath+outfile):\n",
    "    cdo.mergetime(input = \"-select,name=dissic \"+ifiles, output = outpath+outfile)"
   ]
  },
  {
   "cell_type": "code",
   "execution_count": 13,
   "id": "11b83bca-ecb1-49d4-a859-6a4e7ce0bcb8",
   "metadata": {
    "execution": {
     "iopub.execute_input": "2024-03-21T07:09:21.347210Z",
     "iopub.status.busy": "2024-03-21T07:09:21.346663Z",
     "iopub.status.idle": "2024-03-21T07:09:21.851064Z",
     "shell.execute_reply": "2024-03-21T07:09:21.850457Z",
     "shell.execute_reply.started": "2024-03-21T07:09:21.347188Z"
    },
    "tags": []
   },
   "outputs": [],
   "source": [
    "# Load resulting file\n",
    "ds_dissic_g03hosLR = xr.open_mfdataset(\"/work/uo1075/m300817/hosing/post/data/dissic/hosing_grc03Sv_FcSV-LR_dissic.nc\"\n",
    "                                       , use_cftime=True, parallel=True)"
   ]
  },
  {
   "cell_type": "markdown",
   "id": "c80667c3-a360-4f0d-adf6-ec3e93e2a604",
   "metadata": {},
   "source": [
    "g01-LR"
   ]
  },
  {
   "cell_type": "raw",
   "id": "5c874477-a81f-4160-bbf1-9962b0f23989",
   "metadata": {
    "execution": {
     "iopub.execute_input": "2023-11-15T14:29:03.554973Z",
     "iopub.status.busy": "2023-11-15T14:29:03.554507Z",
     "iopub.status.idle": "2023-11-15T14:30:06.245966Z",
     "shell.execute_reply": "2023-11-15T14:30:06.237618Z",
     "shell.execute_reply.started": "2023-11-15T14:29:03.554951Z"
    },
    "tags": []
   },
   "source": [
    "# NO NEED TO RE-RUN --- Pre-process (select and merge) dissic yearly\n",
    "in_path  = '/work/uo1075/m300817/hosing/mpiesm-1.2.01p6-passivesalt_update/experiments/hosing_grc01Sv_FcSV-LR/outdata/hamocc/'\n",
    "wildcard = \"*hamocc_data_3d_ym_*\"\n",
    "ifiles   = in_path+wildcard\n",
    "outpath = \"/work/uo1075/m300817/hosing/post/data/dissic/\"\n",
    "outfile = \"hosing_grc01Sv_FcSV-LR_dissic.nc\"\n",
    "if not glob.glob(outpath):\n",
    "    os.mkdir(outpath)\n",
    "if not os.path.isfile(outpath+outfile):\n",
    "    cdo.mergetime(input = \"-select,name=dissic \"+ifiles, output = outpath+outfile)"
   ]
  },
  {
   "cell_type": "code",
   "execution_count": 14,
   "id": "9fdfb867-e810-4239-b80b-f9266021eed4",
   "metadata": {
    "execution": {
     "iopub.execute_input": "2024-03-21T07:09:21.852102Z",
     "iopub.status.busy": "2024-03-21T07:09:21.851890Z",
     "iopub.status.idle": "2024-03-21T07:09:22.026296Z",
     "shell.execute_reply": "2024-03-21T07:09:22.025721Z",
     "shell.execute_reply.started": "2024-03-21T07:09:21.852082Z"
    },
    "tags": []
   },
   "outputs": [],
   "source": [
    "# Load resulting file. NOTE: HERE IS DIRECTLY YEARLY MEANS\n",
    "ds_dissic_g01hosLR = xr.open_mfdataset(\"/work/uo1075/m300817/hosing/post/data/dissic/hosing_grc01Sv_FcSV-LR_dissic.nc\"\n",
    "                                       , use_cftime=True, parallel=True)"
   ]
  },
  {
   "cell_type": "markdown",
   "id": "00c39e2e-6d7e-4bce-962d-2037a6612933",
   "metadata": {},
   "source": [
    "### New hosing 1pct & scenarios"
   ]
  },
  {
   "cell_type": "markdown",
   "id": "7ad4452c-571b-47c7-a88f-a4453cf88a5b",
   "metadata": {},
   "source": [
    "1pctbgc"
   ]
  },
  {
   "cell_type": "code",
   "execution_count": 4,
   "id": "00084811-3301-4f96-9654-b40952c97788",
   "metadata": {
    "execution": {
     "iopub.execute_input": "2024-06-27T07:00:32.400447Z",
     "iopub.status.busy": "2024-06-27T07:00:32.399993Z",
     "iopub.status.idle": "2024-06-27T07:00:32.702183Z",
     "shell.execute_reply": "2024-06-27T07:00:32.701571Z",
     "shell.execute_reply.started": "2024-06-27T07:00:32.400421Z"
    },
    "tags": []
   },
   "outputs": [],
   "source": [
    "# NO NEED TO RE-RUN --- Pre-process (select and merge) dissic yearly\n",
    "wildcard = \"*hamocc_data_3d_ym_*\"\n",
    "for exp in [\"hosing_naa01Sv_1pctbgc-LR\",\"hosing_naa03Sv_1pctbgc-LR\", \"hosing_naa05Sv_1pctbgc-LR\",\n",
    "            \"hosing_grc01Sv_1pctbgc-LR\", \"hosing_grc03Sv_1pctbgc-LR\", \"hosing_grc05Sv_1pctbgc-LR\",\n",
    "            \"hosing_naa03Sv_1pct-LR\", \"hosing_naa05Sv_1pct-LR\"]:\n",
    "    in_path  = f'/work/uo1075/m300817/hosing/mpiesm-1.2.01p7-passivesalt-hosing/experiments/{exp}/outdata/hamocc/'\n",
    "    ifiles   = in_path+wildcard\n",
    "    outpath = \"/work/uo1075/m300817/hosing/post/data/dissic/\"\n",
    "    outfile = f\"{exp}_dissic.nc\"\n",
    "    if not glob.glob(outpath):\n",
    "        os.mkdir(outpath)\n",
    "    if not os.path.isfile(outpath+outfile):\n",
    "        cdo.mergetime(input = \"-select,name=dissic \"+ifiles, output = outpath+outfile)"
   ]
  },
  {
   "cell_type": "code",
   "execution_count": 7,
   "id": "c381d12c-b00c-4e79-aa42-b431059b9c26",
   "metadata": {
    "execution": {
     "iopub.execute_input": "2024-08-06T07:09:59.032187Z",
     "iopub.status.busy": "2024-08-06T07:09:59.031759Z",
     "iopub.status.idle": "2024-08-06T07:09:59.926308Z",
     "shell.execute_reply": "2024-08-06T07:09:59.925684Z",
     "shell.execute_reply.started": "2024-08-06T07:09:59.032162Z"
    },
    "tags": []
   },
   "outputs": [],
   "source": [
    "# Load resulting file. NOTE: HERE IS DIRECTLY YEARLY MEANS\n",
    "ds_dissic_u011pctbgcLR = xr.open_mfdataset(\"/work/uo1075/m300817/hosing/post/data/dissic/hosing_naa01Sv_1pctbgc-LR_dissic.nc\"\n",
    "                                       , use_cftime=True, parallel=True, chunks={\"time\": 10})\n",
    "ds_dissic_u031pctbgcLR = xr.open_mfdataset(\"/work/uo1075/m300817/hosing/post/data/dissic/hosing_naa03Sv_1pctbgc-LR_dissic.nc\"\n",
    "                                       , use_cftime=True, parallel=True, chunks={\"time\": 10})\n",
    "ds_dissic_u051pctbgcLR = xr.open_mfdataset(\"/work/uo1075/m300817/hosing/post/data/dissic/hosing_naa05Sv_1pctbgc-LR_dissic.nc\"\n",
    "                                       , use_cftime=True, parallel=True, chunks={\"time\": 10})\n",
    "ds_dissic_g011pctbgcLR = xr.open_mfdataset(\"/work/uo1075/m300817/hosing/post/data/dissic/hosing_grc01Sv_1pctbgc-LR_dissic.nc\"\n",
    "                                       , use_cftime=True, parallel=True, chunks={\"time\": 10})\n",
    "ds_dissic_g031pctbgcLR = xr.open_mfdataset(\"/work/uo1075/m300817/hosing/post/data/dissic/hosing_grc03Sv_1pctbgc-LR_dissic.nc\"\n",
    "                                       , use_cftime=True, parallel=True, chunks={\"time\": 10})\n",
    "ds_dissic_g051pctbgcLR = xr.open_mfdataset(\"/work/uo1075/m300817/hosing/post/data/dissic/hosing_grc05Sv_1pctbgc-LR_dissic.nc\"\n",
    "                                       , use_cftime=True, parallel=True, chunks={\"time\": 10})\n",
    "ds_dissic_u031pctLR = xr.open_mfdataset(\"/work/uo1075/m300817/hosing/post/data/dissic/hosing_naa03Sv_1pct-LR_dissic.nc\"\n",
    "                                       , use_cftime=True, parallel=True, chunks={\"time\": 10})\n",
    "ds_dissic_u051pctLR = xr.open_mfdataset(\"/work/uo1075/m300817/hosing/post/data/dissic/hosing_naa05Sv_1pct-LR_dissic.nc\"\n",
    "                                       , use_cftime=True, parallel=True, chunks={\"time\": 10})"
   ]
  },
  {
   "cell_type": "markdown",
   "id": "b29dda69-559c-4e04-8eac-487f2f90da73",
   "metadata": {},
   "source": [
    "hist-bgc and u03 bgc-scenarios"
   ]
  },
  {
   "cell_type": "code",
   "execution_count": 7,
   "id": "5e3a806f-c6b8-4ef3-a3cb-c024efeed860",
   "metadata": {
    "execution": {
     "iopub.execute_input": "2024-08-05T09:50:51.634328Z",
     "iopub.status.busy": "2024-08-05T09:50:51.633971Z",
     "iopub.status.idle": "2024-08-05T09:53:06.068438Z",
     "shell.execute_reply": "2024-08-05T09:53:06.067672Z",
     "shell.execute_reply.started": "2024-08-05T09:50:51.634306Z"
    },
    "tags": []
   },
   "outputs": [],
   "source": [
    "# NO NEED TO RE-RUN --- Pre-process (select and merge) dissic yearly\n",
    "wildcard = \"*hamocc_data_3d_ym_*\"\n",
    "for exp in [\"histbgc-LR\",\"hosing_naa03Sv_ssp126bgc-LR\", \"hosing_naa03Sv_ssp245bgc-LR\",\n",
    "            \"hosing_naa03Sv_ssp585bgc-LR\"]:\n",
    "    in_path  = f'/work/uo1075/m300817/hosing/mpiesm-1.2.01p7-passivesalt-hosing/experiments/{exp}/outdata/hamocc/'\n",
    "    ifiles   = in_path+wildcard\n",
    "    outpath = \"/work/uo1075/m300817/hosing/post/data/dissic/\"\n",
    "    outfile = f\"{exp}_dissic.nc\"\n",
    "    if not glob.glob(outpath):\n",
    "        os.mkdir(outpath)\n",
    "    if not os.path.isfile(outpath+outfile):\n",
    "        cdo.mergetime(input = \"-select,name=dissic \"+ifiles, output = outpath+outfile)"
   ]
  },
  {
   "cell_type": "code",
   "execution_count": 8,
   "id": "4ad59431-5880-4552-acc3-9421693ac988",
   "metadata": {
    "execution": {
     "iopub.execute_input": "2024-08-06T07:10:01.551421Z",
     "iopub.status.busy": "2024-08-06T07:10:01.551030Z",
     "iopub.status.idle": "2024-08-06T07:10:02.263353Z",
     "shell.execute_reply": "2024-08-06T07:10:02.262714Z",
     "shell.execute_reply.started": "2024-08-06T07:10:01.551400Z"
    },
    "tags": []
   },
   "outputs": [],
   "source": [
    "# Load resulting file. NOTE: HERE IS DIRECTLY YEARLY MEANS\n",
    "ds_dissic_histbgcLR = xr.open_mfdataset(\"/work/uo1075/m300817/hosing/post/data/dissic/histbgc-LR_dissic.nc\"\n",
    "                                       , use_cftime=True, parallel=True, chunks={\"time\": 10})\n",
    "ds_dissic_u03ssp126bgcLR = xr.open_mfdataset(\"/work/uo1075/m300817/hosing/post/data/dissic/hosing_naa03Sv_ssp126bgc-LR_dissic.nc\"\n",
    "                                       , use_cftime=True, parallel=True, chunks={\"time\": 10})\n",
    "ds_dissic_u03ssp245bgcLR = xr.open_mfdataset(\"/work/uo1075/m300817/hosing/post/data/dissic/hosing_naa03Sv_ssp245bgc-LR_dissic.nc\"\n",
    "                                       , use_cftime=True, parallel=True, chunks={\"time\": 10})\n",
    "ds_dissic_u03ssp585bgcLR = xr.open_mfdataset(\"/work/uo1075/m300817/hosing/post/data/dissic/hosing_naa03Sv_ssp585bgc-LR_dissic.nc\"\n",
    "                                       , use_cftime=True, parallel=True, chunks={\"time\": 10})"
   ]
  },
  {
   "cell_type": "markdown",
   "id": "bbaf5475-6360-4803-9ebd-7d154ec2aeed",
   "metadata": {},
   "source": [
    "ssp245bgc"
   ]
  },
  {
   "cell_type": "code",
   "execution_count": 9,
   "id": "ee3a9be8-a447-40fc-8e5a-d231c6c7fa23",
   "metadata": {
    "execution": {
     "iopub.execute_input": "2024-08-20T15:57:27.540286Z",
     "iopub.status.busy": "2024-08-20T15:57:27.539778Z",
     "iopub.status.idle": "2024-08-20T15:57:27.544749Z",
     "shell.execute_reply": "2024-08-20T15:57:27.544230Z",
     "shell.execute_reply.started": "2024-08-20T15:57:27.540264Z"
    },
    "tags": []
   },
   "outputs": [],
   "source": [
    "# NO NEED TO RE-RUN --- Pre-process (select and merge) dissic yearly\n",
    "wildcard = \"*hamocc_data_3d_ym_*\"\n",
    "for exp in [\"hosing_naa01Sv_ssp245bgc-LR\",\"hosing_naa03Sv_ssp245bgc-LR\", \"hosing_naa05Sv_ssp245bgc-LR\",\n",
    "            \"hosing_grc01Sv_ssp245bgc-LR\", \"hosing_grc03Sv_ssp245bgc-LR\", \"hosing_grc05Sv_ssp245bgc-LR\",\n",
    "            \"ssp245bgc-LR\"]:\n",
    "    in_path  = f'/work/uo1075/m300817/hosing/mpiesm-1.2.01p7-passivesalt-hosing/experiments/{exp}/outdata/hamocc/'\n",
    "    ifiles   = in_path+wildcard\n",
    "    outpath = \"/work/uo1075/m300817/hosing/post/data/dissic/\"\n",
    "    outfile = f\"{exp}_dissic.nc\"\n",
    "    if not glob.glob(outpath):\n",
    "        os.mkdir(outpath)\n",
    "    if not os.path.isfile(outpath+outfile):\n",
    "        cdo.mergetime(input = \"-select,name=dissic \"+ifiles, output = outpath+outfile)"
   ]
  },
  {
   "cell_type": "code",
   "execution_count": 10,
   "id": "97bdfa92-61b4-4019-aa12-52ebf1a57270",
   "metadata": {
    "execution": {
     "iopub.execute_input": "2024-08-20T15:57:28.060415Z",
     "iopub.status.busy": "2024-08-20T15:57:28.059724Z",
     "iopub.status.idle": "2024-08-20T15:57:29.365788Z",
     "shell.execute_reply": "2024-08-20T15:57:29.365220Z",
     "shell.execute_reply.started": "2024-08-20T15:57:28.060395Z"
    },
    "tags": []
   },
   "outputs": [],
   "source": [
    "# Load resulting file. NOTE: HERE IS DIRECTLY YEARLY MEANS\n",
    "ds_dissic_u01ssp245bgcLR = xr.open_mfdataset(\"/work/uo1075/m300817/hosing/post/data/dissic/hosing_naa01Sv_ssp245bgc-LR_dissic.nc\"\n",
    "                                       , use_cftime=True, parallel=True, chunks={\"time\": 10})\n",
    "ds_dissic_u03ssp245bgcLR = xr.open_mfdataset(\"/work/uo1075/m300817/hosing/post/data/dissic/hosing_naa03Sv_ssp245bgc-LR_dissic.nc\"\n",
    "                                       , use_cftime=True, parallel=True, chunks={\"time\": 10})\n",
    "ds_dissic_u05ssp245bgcLR = xr.open_mfdataset(\"/work/uo1075/m300817/hosing/post/data/dissic/hosing_naa05Sv_ssp245bgc-LR_dissic.nc\"\n",
    "                                       , use_cftime=True, parallel=True, chunks={\"time\": 10})\n",
    "ds_dissic_g01ssp245bgcLR = xr.open_mfdataset(\"/work/uo1075/m300817/hosing/post/data/dissic/hosing_grc01Sv_ssp245bgc-LR_dissic.nc\"\n",
    "                                       , use_cftime=True, parallel=True, chunks={\"time\": 10})\n",
    "ds_dissic_g03ssp245bgcLR = xr.open_mfdataset(\"/work/uo1075/m300817/hosing/post/data/dissic/hosing_grc03Sv_ssp245bgc-LR_dissic.nc\"\n",
    "                                       , use_cftime=True, parallel=True, chunks={\"time\": 10})\n",
    "ds_dissic_g05ssp245bgcLR = xr.open_mfdataset(\"/work/uo1075/m300817/hosing/post/data/dissic/hosing_grc05Sv_ssp245bgc-LR_dissic.nc\"\n",
    "                                       , use_cftime=True, parallel=True, chunks={\"time\": 10})\n",
    "ds_dissic_ssp245bgcLR = xr.open_mfdataset(\"/work/uo1075/m300817/hosing/post/data/dissic/ssp245bgc-LR_dissic.nc\"\n",
    "                                       , use_cftime=True, parallel=True, chunks={\"time\": 10})"
   ]
  },
  {
   "cell_type": "markdown",
   "id": "d65c3028-a3d7-4bbc-9150-5984943df206",
   "metadata": {
    "toc-hr-collapsed": true
   },
   "source": [
    "## SAT (tas)"
   ]
  },
  {
   "cell_type": "markdown",
   "id": "ca940e55-95f1-4bc9-b2e6-80caed1592e4",
   "metadata": {
    "jp-MarkdownHeadingCollapsed": true,
    "toc-hr-collapsed": true
   },
   "source": [
    "### Original hosing"
   ]
  },
  {
   "cell_type": "markdown",
   "id": "9ff9f943-e942-47e3-8054-9d75514ff32d",
   "metadata": {},
   "source": [
    "u03 & u05"
   ]
  },
  {
   "cell_type": "code",
   "execution_count": 17,
   "id": "46f078a9-0820-45dd-bd60-b6932d48069a",
   "metadata": {
    "execution": {
     "iopub.execute_input": "2024-03-21T07:09:23.293969Z",
     "iopub.status.busy": "2024-03-21T07:09:23.293457Z",
     "iopub.status.idle": "2024-03-21T07:09:23.871622Z",
     "shell.execute_reply": "2024-03-21T07:09:23.870904Z",
     "shell.execute_reply.started": "2024-03-21T07:09:23.293947Z"
    },
    "tags": []
   },
   "outputs": [],
   "source": [
    "ds_tas_u03hosLR = xr.open_mfdataset(\"/work/uo1075/m300817/hosing/post/data/tas/u03-hos-LR_tas_mon.nc\", use_cftime=True, parallel=True)\n",
    "ds_tas_u05hosLR = xr.open_mfdataset(\"/work/uo1075/m300817/hosing/post/data/tas/u05-hos-LR_tas_mon.nc\", use_cftime=True, parallel=True)\n",
    "ds_tas_u03hosLR=ds_tas_u03hosLR.assign_coords(time=xr.cftime_range(start=\"1850\", periods=2400, freq=\"M\", calendar=\"proleptic_gregorian\"))\n",
    "ds_tas_u05hosLR=ds_tas_u05hosLR.assign_coords(time=xr.cftime_range(start=\"1850\", periods=2400, freq=\"M\", calendar=\"proleptic_gregorian\"))"
   ]
  },
  {
   "cell_type": "raw",
   "id": "ee606a62-5804-4363-b2a4-1118622cc10b",
   "metadata": {
    "execution": {
     "iopub.execute_input": "2023-11-21T14:57:21.681076Z",
     "iopub.status.busy": "2023-11-21T14:57:21.680684Z",
     "iopub.status.idle": "2023-11-21T14:57:22.565380Z",
     "shell.execute_reply": "2023-11-21T14:57:22.564521Z",
     "shell.execute_reply.started": "2023-11-21T14:57:21.681052Z"
    },
    "tags": []
   },
   "source": [
    "# For daily data\n",
    "ds_tas_u03hosLR = xr.open_mfdataset(\"/work/uo1075/m300817/hosing/post/data/tas/u03-hos-LR_tas.nc\", use_cftime=True, parallel=True)\n",
    "ds_tas_u05hosLR = xr.open_mfdataset(\"/work/uo1075/m300817/hosing/post/data/tas/u05-hos-LR_tas.nc\", use_cftime=True, parallel=True)\n",
    "ds_tas_u03hosLR=ds_tas_u03hosLR.assign_coords(time=xr.cftime_range(start=\"1850\", periods=73049, freq=\"D\", calendar=\"proleptic_gregorian\"))\n",
    "ds_tas_u05hosLR=ds_tas_u05hosLR.assign_coords(time=xr.cftime_range(start=\"1850\", periods=73049, freq=\"D\", calendar=\"proleptic_gregorian\"))"
   ]
  },
  {
   "cell_type": "markdown",
   "id": "18e8e4f3-702f-4ae5-9c22-62d5753a15de",
   "metadata": {},
   "source": [
    "g03-LR"
   ]
  },
  {
   "cell_type": "code",
   "execution_count": null,
   "id": "026b91db-b7a3-4ee4-bfcc-fb36e2e79a9e",
   "metadata": {
    "execution": {
     "iopub.execute_input": "2024-03-21T07:09:23.873108Z",
     "iopub.status.busy": "2024-03-21T07:09:23.872517Z",
     "iopub.status.idle": "2024-03-21T07:09:28.265482Z",
     "shell.execute_reply": "2024-03-21T07:09:28.264737Z",
     "shell.execute_reply.started": "2024-03-21T07:09:23.873084Z"
    },
    "tags": []
   },
   "outputs": [],
   "source": [
    "# grib to nc \n",
    "cdo.setCdo(\"/sw/spack-levante/cdo-1.9.10-j5frmz/bin/cdo\")\n",
    "inpath  = \"/work/mh0033/from_Mistral/mh0033/m300817/mpiesm-1.2.01p6-passivesalt_update/experiments/hosing_grc03Sv_FcSV-LR/outdata/echam6/\"\n",
    "outpath = \"/scratch/m/m300817/tmp/\"\n",
    "for year in tqdm(range(1850, 2050)):\n",
    "    outfile=f\"hosing_grc03Sv_FcSV-LR_echam6_echammon_{year}.nc\"\n",
    "    if not os.path.isfile(outpath+outfile):\n",
    "        cdo.copy(input = f\"-selcode,167 {inpath}hosing_grc03Sv_FcSV-LR_echam6_echammon_{year}.grb\", \n",
    "                 output=outpath+outfile, \n",
    "                 options = '-f nc -t echam6 ')"
   ]
  },
  {
   "cell_type": "code",
   "execution_count": 19,
   "id": "9f9fd023-a121-4321-8726-db1057a27ea6",
   "metadata": {
    "execution": {
     "iopub.execute_input": "2024-03-21T07:09:28.266673Z",
     "iopub.status.busy": "2024-03-21T07:09:28.266364Z",
     "iopub.status.idle": "2024-03-21T07:09:33.973758Z",
     "shell.execute_reply": "2024-03-21T07:09:33.973068Z",
     "shell.execute_reply.started": "2024-03-21T07:09:28.266652Z"
    },
    "tags": []
   },
   "outputs": [],
   "source": [
    "# Load resulting file\n",
    "ifiles  = \"/scratch/m/m300817/tmp/hosing_grc03Sv_FcSV-LR_echam6_echammon_*.nc\"\n",
    "ds_tas_g03hosLR = xr.open_mfdataset(ifiles, use_cftime=True)\n",
    "ds_tas_g03hosLR=ds_tas_g03hosLR.assign_coords(time=xr.cftime_range(start=\"1850\", periods=2400, freq=\"M\", calendar=\"proleptic_gregorian\"))"
   ]
  },
  {
   "cell_type": "code",
   "execution_count": null,
   "id": "afdab0e2-5818-44bf-8123-451aaafbf919",
   "metadata": {
    "execution": {
     "iopub.execute_input": "2024-04-26T14:17:50.289506Z",
     "iopub.status.busy": "2024-04-26T14:17:50.289146Z",
     "iopub.status.idle": "2024-04-26T14:19:04.738865Z",
     "shell.execute_reply": "2024-04-26T14:19:04.737827Z",
     "shell.execute_reply.started": "2024-04-26T14:17:50.289487Z"
    },
    "tags": []
   },
   "outputs": [],
   "source": [
    "# grib to nc \n",
    "cdo.setCdo(\"/sw/spack-levante/cdo-1.9.10-j5frmz/bin/cdo\")\n",
    "inpath  = \"/work/mh0033/from_Mistral/mh0033/m300817/mpiesm-1.2.01p6-passivesalt_update/experiments/hosing_grc03Sv_FcSV-LR/outdata/echam6/\"\n",
    "outpath = \"/work/uo1075/m300817/hosing/post/data/tas/g03-hos-LR_tas_mon/\"\n",
    "for year in tqdm(range(1850, 2050)):\n",
    "    outfile=f\"hosing_grc03Sv_FcSV-LR_echam6_echammon_{year}.nc\"\n",
    "    if not os.path.isfile(outpath+outfile):\n",
    "        cdo.copy(input = f\"-selcode,167 {inpath}hosing_grc03Sv_FcSV-LR_echam6_echammon_{year}.grb\", \n",
    "                 output=outpath+outfile, \n",
    "                 options = '-f nc -t echam6 ')"
   ]
  },
  {
   "cell_type": "code",
   "execution_count": null,
   "id": "4714c004-586a-4bff-81a1-0be15c581958",
   "metadata": {
    "execution": {
     "iopub.execute_input": "2024-04-26T14:42:52.279919Z",
     "iopub.status.busy": "2024-04-26T14:42:52.279382Z",
     "iopub.status.idle": "2024-04-26T14:42:59.526480Z",
     "shell.execute_reply": "2024-04-26T14:42:59.526035Z",
     "shell.execute_reply.started": "2024-04-26T14:42:52.279899Z"
    },
    "tags": []
   },
   "outputs": [],
   "source": [
    "cdo.mergetime(input = \"-chname,temp2,tas /work/uo1075/m300817/hosing/post/data/tas/g03-hos-LR_tas_mon/*nc\", \n",
    "                 output=\"/work/uo1075/m300817/hosing/post/data/tas/g03-hos-LR_tas_mon.nc\")"
   ]
  },
  {
   "cell_type": "markdown",
   "id": "aca938ca-c4d6-436a-a963-a4d683540281",
   "metadata": {
    "execution": {
     "iopub.execute_input": "2023-11-24T14:49:02.956264Z",
     "iopub.status.busy": "2023-11-24T14:49:02.955891Z",
     "iopub.status.idle": "2023-11-24T14:49:02.973687Z",
     "shell.execute_reply": "2023-11-24T14:49:02.971971Z",
     "shell.execute_reply.started": "2023-11-24T14:49:02.956240Z"
    },
    "tags": []
   },
   "source": [
    "g01-LR"
   ]
  },
  {
   "cell_type": "code",
   "execution_count": null,
   "id": "cad6b199-8caa-4b9f-afa5-0b3577c2d54e",
   "metadata": {
    "execution": {
     "iopub.execute_input": "2024-04-26T14:21:16.751088Z",
     "iopub.status.busy": "2024-04-26T14:21:16.750715Z",
     "iopub.status.idle": "2024-04-26T14:23:02.141649Z",
     "shell.execute_reply": "2024-04-26T14:23:02.141060Z",
     "shell.execute_reply.started": "2024-04-26T14:21:16.751069Z"
    },
    "tags": []
   },
   "outputs": [],
   "source": [
    "# grib to nc \n",
    "cdo.setCdo(\"/sw/spack-levante/cdo-1.9.10-j5frmz/bin/cdo\")\n",
    "inpath  = \"/work/uo1075/m300817/hosing/mpiesm-1.2.01p6-passivesalt_update/experiments/hosing_grc01Sv_FcSV-LR/outdata/echam6/\"\n",
    "outpath = \"/work/uo1075/m300817/hosing/post/data/tas/g01-hos-LR_tas_mon/\"\n",
    "for year in tqdm(range(1850, 2050)):\n",
    "    outfile=f\"hosing_grc01Sv_FcSV-LR_echam6_echammon_{year}.nc\"\n",
    "    if not os.path.isfile(outpath+outfile):\n",
    "        cdo.copy(input = f\"-selcode,167 {inpath}hosing_grc01Sv_FcSV-LR_echam6_echammon_{year}.grb\", \n",
    "                 output=outpath+outfile, \n",
    "                 options = '-f nc -t echam6 ')"
   ]
  },
  {
   "cell_type": "code",
   "execution_count": null,
   "id": "9cf9c7ae-9349-4cdc-8f0f-9d60f57f0974",
   "metadata": {
    "execution": {
     "iopub.execute_input": "2024-04-26T14:43:14.400508Z",
     "iopub.status.busy": "2024-04-26T14:43:14.400124Z",
     "iopub.status.idle": "2024-04-26T14:43:15.564122Z",
     "shell.execute_reply": "2024-04-26T14:43:15.563598Z",
     "shell.execute_reply.started": "2024-04-26T14:43:14.400488Z"
    },
    "tags": []
   },
   "outputs": [],
   "source": [
    "cdo.mergetime(input = \"-chname,temp2,tas /work/uo1075/m300817/hosing/post/data/tas/g01-hos-LR_tas_mon/*nc\", \n",
    "                 output=\"/work/uo1075/m300817/hosing/post/data/tas/g01-hos-LR_tas_mon.nc\")"
   ]
  },
  {
   "cell_type": "code",
   "execution_count": null,
   "id": "f132f6e1-3902-429f-9893-bde3fabc12bb",
   "metadata": {
    "execution": {
     "iopub.execute_input": "2024-03-21T07:09:33.975023Z",
     "iopub.status.busy": "2024-03-21T07:09:33.974657Z",
     "iopub.status.idle": "2024-03-21T07:09:35.752304Z",
     "shell.execute_reply": "2024-03-21T07:09:35.751574Z",
     "shell.execute_reply.started": "2024-03-21T07:09:33.975001Z"
    },
    "tags": []
   },
   "outputs": [],
   "source": [
    "# grib to nc \n",
    "cdo.setCdo(\"/sw/spack-levante/cdo-1.9.10-j5frmz/bin/cdo\")\n",
    "inpath  = \"/work/uo1075/m300817/hosing/mpiesm-1.2.01p6-passivesalt_update/experiments/hosing_grc01Sv_FcSV-LR/outdata/echam6/\"\n",
    "outpath = \"/scratch/m/m300817/tmp/\"\n",
    "for year in tqdm(range(1850, 2050)):\n",
    "    outfile=f\"hosing_grc01Sv_FcSV-LR_echam6_echammon_{year}.nc\"\n",
    "    if not os.path.isfile(outpath+outfile):\n",
    "        cdo.copy(input = f\"-selcode,167 {inpath}hosing_grc01Sv_FcSV-LR_echam6_echammon_{year}.grb\", \n",
    "                 output=outpath+outfile, \n",
    "                 options = '-f nc -t echam6 ')"
   ]
  },
  {
   "cell_type": "code",
   "execution_count": 21,
   "id": "eef662b0-c704-4d3d-8b87-9c00979ee660",
   "metadata": {
    "execution": {
     "iopub.execute_input": "2024-03-21T07:09:35.753494Z",
     "iopub.status.busy": "2024-03-21T07:09:35.753184Z",
     "iopub.status.idle": "2024-03-21T07:09:41.882862Z",
     "shell.execute_reply": "2024-03-21T07:09:41.882166Z",
     "shell.execute_reply.started": "2024-03-21T07:09:35.753472Z"
    },
    "tags": []
   },
   "outputs": [],
   "source": [
    "# Load resulting file\n",
    "ifiles  = \"/scratch/m/m300817/tmp/hosing_grc01Sv_FcSV-LR_echam6_echammon_*.nc\"\n",
    "ds_tas_g01hosLR = xr.open_mfdataset(ifiles, use_cftime=True)\n",
    "ds_tas_g01hosLR=ds_tas_g01hosLR.assign_coords(time=xr.cftime_range(start=\"1850\", periods=2400, freq=\"M\", calendar=\"proleptic_gregorian\"))"
   ]
  },
  {
   "cell_type": "markdown",
   "id": "9fd59a0a-947d-4fb2-8d41-d72ebad69f7c",
   "metadata": {},
   "source": [
    "### New hosing 1pct & scenarios"
   ]
  },
  {
   "cell_type": "markdown",
   "id": "9294e719-cde1-41a9-ae94-f6555b15f654",
   "metadata": {
    "execution": {
     "iopub.execute_input": "2024-08-20T13:17:53.812955Z",
     "iopub.status.busy": "2024-08-20T13:17:53.812330Z",
     "iopub.status.idle": "2024-08-20T13:17:53.822240Z",
     "shell.execute_reply": "2024-08-20T13:17:53.820748Z",
     "shell.execute_reply.started": "2024-08-20T13:17:53.812928Z"
    }
   },
   "source": [
    "1pctbgc"
   ]
  },
  {
   "cell_type": "code",
   "execution_count": 10,
   "id": "e71da229-a55e-4deb-a81b-6290a374efa9",
   "metadata": {
    "execution": {
     "iopub.execute_input": "2024-08-06T07:10:31.732963Z",
     "iopub.status.busy": "2024-08-06T07:10:31.732458Z",
     "iopub.status.idle": "2024-08-06T07:20:31.207712Z",
     "shell.execute_reply": "2024-08-06T07:20:31.202894Z",
     "shell.execute_reply.started": "2024-08-06T07:10:31.732940Z"
    },
    "tags": []
   },
   "outputs": [],
   "source": [
    "# grib to nc \n",
    "cdo.setCdo(\"/sw/spack-levante/cdo-1.9.10-j5frmz/bin/cdo\")\n",
    "for exp in [\"hosing_naa01Sv_1pctbgc-LR\",\"hosing_naa03Sv_1pctbgc-LR\", \"hosing_naa05Sv_1pctbgc-LR\",\n",
    "            \"hosing_grc01Sv_1pctbgc-LR\", \"hosing_grc03Sv_1pctbgc-LR\", \"hosing_grc05Sv_1pctbgc-LR\",\n",
    "            \"hosing_naa03Sv_1pct-LR\", \"hosing_naa05Sv_1pct-LR\"]:\n",
    "    inpath  = f\"/work/uo1075/m300817/hosing/mpiesm-1.2.01p7-passivesalt-hosing/experiments/{exp}/outdata/echam6/\"\n",
    "    outpath = \"/scratch/m/m300817/tmp/\"\n",
    "    for year in range (1850, 1990):\n",
    "        outfile=f\"{exp}_echam6_echam_{year}.nc\"\n",
    "        if not os.path.isfile(outpath+outfile):\n",
    "            cdo.copy(input = f\"-selcode,167 {inpath}{exp}_echam6_echam_{year}.grb\", \n",
    "                     output=outpath+outfile, \n",
    "                     options = '-f nc -t echam6 ')"
   ]
  },
  {
   "cell_type": "code",
   "execution_count": 11,
   "id": "0d042efb-c71c-4980-bbff-a33893f3dbaf",
   "metadata": {
    "execution": {
     "iopub.execute_input": "2024-08-06T07:20:31.213190Z",
     "iopub.status.busy": "2024-08-06T07:20:31.212796Z",
     "iopub.status.idle": "2024-08-06T07:20:37.195200Z",
     "shell.execute_reply": "2024-08-06T07:20:37.194362Z",
     "shell.execute_reply.started": "2024-08-06T07:20:31.213166Z"
    },
    "tags": []
   },
   "outputs": [],
   "source": [
    "# Load resulting file\n",
    "ds_tas_new = {}\n",
    "for exp in [\"hosing_naa01Sv_1pctbgc-LR\",\"hosing_naa03Sv_1pctbgc-LR\", \"hosing_naa05Sv_1pctbgc-LR\",\n",
    "            \"hosing_grc01Sv_1pctbgc-LR\", \"hosing_grc03Sv_1pctbgc-LR\", \"hosing_grc05Sv_1pctbgc-LR\",\n",
    "            \"hosing_naa03Sv_1pct-LR\", \"hosing_naa05Sv_1pct-LR\"]:\n",
    "    ifiles  = f\"/scratch/m/m300817/tmp/{exp}_echam6_echam_*.nc\"\n",
    "    ds_tas_new[exp] = xr.open_mfdataset(ifiles, use_cftime=True)\n",
    "    ds_tas_new[exp] = ds_tas_new[exp].assign_coords(time=xr.cftime_range(start=\"1850\", periods=1680, freq=\"M\", calendar=\"proleptic_gregorian\"))"
   ]
  },
  {
   "cell_type": "markdown",
   "id": "5adfeb87-8850-492c-94b6-f540fa4095e1",
   "metadata": {},
   "source": [
    "hist-bgc and u03 bgc-scenarios"
   ]
  },
  {
   "cell_type": "code",
   "execution_count": 12,
   "id": "63e04262-5a4a-4b40-9d97-ca0e51cf3a1f",
   "metadata": {
    "execution": {
     "iopub.execute_input": "2024-08-06T07:20:37.227633Z",
     "iopub.status.busy": "2024-08-06T07:20:37.227408Z",
     "iopub.status.idle": "2024-08-06T07:20:41.876916Z",
     "shell.execute_reply": "2024-08-06T07:20:41.876061Z",
     "shell.execute_reply.started": "2024-08-06T07:20:37.227612Z"
    },
    "tags": []
   },
   "outputs": [],
   "source": [
    "cdo.setCdo(\"/sw/spack-levante/cdo-1.9.10-j5frmz/bin/cdo\")\n",
    "exp = \"histbgc-LR\"\n",
    "inpath  = f\"/work/uo1075/m300817/hosing/mpiesm-1.2.01p7-passivesalt-hosing/experiments/{exp}/outdata/echam6/\"\n",
    "outpath = \"/scratch/m/m300817/tmp/\"\n",
    "for year in range (1850, 2015):\n",
    "    outfile=f\"{exp}_echam6_echam_{year}.nc\"\n",
    "    if not os.path.isfile(outpath+outfile):\n",
    "        cdo.copy(input = f\"-selcode,167 {inpath}{exp}_echam6_echam_{year}.grb\", \n",
    "                 output=outpath+outfile, \n",
    "                 options = '-f nc -t echam6 ')\n",
    "for exp in [\"hosing_naa03Sv_ssp126bgc-LR\", \"hosing_naa03Sv_ssp245bgc-LR\", \"hosing_naa03Sv_ssp585bgc-LR\"]:\n",
    "    inpath  = f\"/work/uo1075/m300817/hosing/mpiesm-1.2.01p7-passivesalt-hosing/experiments/{exp}/outdata/echam6/\"\n",
    "    outpath = \"/scratch/m/m300817/tmp/\"\n",
    "    for year in range (2015, 2100):\n",
    "        outfile=f\"{exp}_echam6_echam_{year}.nc\"\n",
    "        if not os.path.isfile(outpath+outfile):\n",
    "            cdo.copy(input = f\"-selcode,167 {inpath}{exp}_echam6_echam_{year}.grb\", \n",
    "                     output=outpath+outfile, \n",
    "                     options = '-f nc -t echam6 ')"
   ]
  },
  {
   "cell_type": "code",
   "execution_count": 13,
   "id": "d1a7f903-7ae1-410d-a65e-38fc05c2f1cb",
   "metadata": {
    "execution": {
     "iopub.execute_input": "2024-08-06T07:20:41.879003Z",
     "iopub.status.busy": "2024-08-06T07:20:41.878489Z",
     "iopub.status.idle": "2024-08-06T07:20:52.362647Z",
     "shell.execute_reply": "2024-08-06T07:20:52.361820Z",
     "shell.execute_reply.started": "2024-08-06T07:20:41.878981Z"
    },
    "tags": []
   },
   "outputs": [],
   "source": [
    "ds_tas_new_scen = {}\n",
    "\n",
    "exp = \"histbgc-LR\"\n",
    "ifiles  = f\"/scratch/m/m300817/tmp/{exp}_echam6_echam_*.nc\"\n",
    "ds_tas_new_scen[exp] = xr.open_mfdataset(ifiles, use_cftime=True)\n",
    "ds_tas_new_scen[exp] = ds_tas_new_scen[exp].assign_coords(time=xr.cftime_range(start=\"1850\", periods=1980, freq=\"M\", calendar=\"proleptic_gregorian\"))\n",
    "\n",
    "for exp in [\"hosing_naa03Sv_ssp126bgc-LR\", \"hosing_naa03Sv_ssp245bgc-LR\", \"hosing_naa03Sv_ssp585bgc-LR\"]:\n",
    "    ifiles  = f\"/scratch/m/m300817/tmp/{exp}_echam6_echam_*.nc\"\n",
    "    ds_tas_new_scen[exp] = xr.open_mfdataset(ifiles, use_cftime=True)\n",
    "    ds_tas_new_scen[exp] = ds_tas_new_scen[exp].assign_coords(time=xr.cftime_range(start=\"2015\", periods=1020, freq=\"M\", calendar=\"proleptic_gregorian\"))"
   ]
  },
  {
   "cell_type": "markdown",
   "id": "d278a35f-72dc-453c-b266-135e2859f32e",
   "metadata": {},
   "source": [
    "ssp245bgc"
   ]
  },
  {
   "cell_type": "code",
   "execution_count": 11,
   "id": "442fd787-211f-4f7d-bd1a-b9ac80c1549a",
   "metadata": {
    "execution": {
     "iopub.execute_input": "2024-08-20T15:57:34.512498Z",
     "iopub.status.busy": "2024-08-20T15:57:34.511992Z",
     "iopub.status.idle": "2024-08-20T15:57:40.803367Z",
     "shell.execute_reply": "2024-08-20T15:57:40.802626Z",
     "shell.execute_reply.started": "2024-08-20T15:57:34.512474Z"
    },
    "tags": []
   },
   "outputs": [],
   "source": [
    "cdo.setCdo(\"/sw/spack-levante/cdo-1.9.10-j5frmz/bin/cdo\")\n",
    "for exp in [\"hosing_naa01Sv_ssp245bgc-LR\",\"hosing_naa03Sv_ssp245bgc-LR\", \"hosing_naa05Sv_ssp245bgc-LR\",\n",
    "            \"hosing_grc01Sv_ssp245bgc-LR\", \"hosing_grc03Sv_ssp245bgc-LR\", \"hosing_grc05Sv_ssp245bgc-LR\",\n",
    "            \"ssp245bgc-LR\"]:\n",
    "    inpath  = f\"/work/uo1075/m300817/hosing/mpiesm-1.2.01p7-passivesalt-hosing/experiments/{exp}/outdata/echam6/\"\n",
    "    outpath = \"/scratch/m/m300817/tmp/\"\n",
    "    for year in range (2015, 2100):\n",
    "        outfile=f\"{exp}_echam6_echam_{year}.nc\"\n",
    "        if not os.path.isfile(outpath+outfile):\n",
    "            cdo.copy(input = f\"-selcode,167 {inpath}{exp}_echam6_echam_{year}.grb\", \n",
    "                     output=outpath+outfile, \n",
    "                     options = '-f nc -t echam6 ')"
   ]
  },
  {
   "cell_type": "code",
   "execution_count": 12,
   "id": "0f87b0f3-b2c6-4415-8b51-d68269d5f2e1",
   "metadata": {
    "execution": {
     "iopub.execute_input": "2024-08-20T15:57:40.804885Z",
     "iopub.status.busy": "2024-08-20T15:57:40.804554Z",
     "iopub.status.idle": "2024-08-20T15:57:56.803335Z",
     "shell.execute_reply": "2024-08-20T15:57:56.802660Z",
     "shell.execute_reply.started": "2024-08-20T15:57:40.804864Z"
    },
    "tags": []
   },
   "outputs": [],
   "source": [
    "ds_tas_ssp245 = {}\n",
    "for exp in [\"hosing_naa01Sv_ssp245bgc-LR\",\"hosing_naa03Sv_ssp245bgc-LR\", \"hosing_naa05Sv_ssp245bgc-LR\",\n",
    "            \"hosing_grc01Sv_ssp245bgc-LR\", \"hosing_grc03Sv_ssp245bgc-LR\", \"hosing_grc05Sv_ssp245bgc-LR\",\n",
    "            \"ssp245bgc-LR\"]:\n",
    "    ifiles  = f\"/scratch/m/m300817/tmp/{exp}_echam6_echam_*.nc\"\n",
    "    ds_tas_ssp245[exp] = xr.open_mfdataset(ifiles, use_cftime=True)\n",
    "    ds_tas_ssp245[exp] = ds_tas_ssp245[exp].assign_coords(time=xr.cftime_range(start=\"2015\", periods=1020, freq=\"M\", calendar=\"proleptic_gregorian\"))"
   ]
  },
  {
   "cell_type": "markdown",
   "id": "042de186-cf96-4b78-b1bb-1c8d149f138d",
   "metadata": {
    "tags": [],
    "toc-hr-collapsed": true
   },
   "source": [
    "## AMOC (msftmz)"
   ]
  },
  {
   "cell_type": "markdown",
   "id": "a5ab78d7-481d-4988-a00e-acd3cb4c0927",
   "metadata": {},
   "source": [
    "### 1pctCO2"
   ]
  },
  {
   "cell_type": "code",
   "execution_count": 14,
   "id": "a0f9e5d6-c8aa-4846-b88f-db86ec266a85",
   "metadata": {
    "execution": {
     "iopub.execute_input": "2024-08-06T07:20:58.575861Z",
     "iopub.status.busy": "2024-08-06T07:20:58.575318Z",
     "iopub.status.idle": "2024-08-06T07:20:59.271939Z",
     "shell.execute_reply": "2024-08-06T07:20:59.271218Z",
     "shell.execute_reply.started": "2024-08-06T07:20:58.575835Z"
    },
    "tags": []
   },
   "outputs": [],
   "source": [
    "# Load amoc in 1pctCO2-bgc\n",
    "file_type = 'msftmz'\n",
    "infiles = glob.glob(f'/pool/data/CMIP6/data/C4MIP/MPI-M/MPI-ESM1-2-LR/1pctCO2-bgc/r1i1p1f1/Omon/{file_type}/gn/v20190710/*{file_type}*.nc')\n",
    "ds_msftmz_1pctbgc = xr.open_mfdataset(infiles, use_cftime=True, parallel=True)"
   ]
  },
  {
   "cell_type": "markdown",
   "id": "28740a48-ebb7-4662-af15-f01e2c7abd25",
   "metadata": {
    "jp-MarkdownHeadingCollapsed": true
   },
   "source": [
    "### Original hosing "
   ]
  },
  {
   "cell_type": "code",
   "execution_count": 8,
   "id": "81ba8504-f43c-4c13-a9ef-2db67b40210c",
   "metadata": {
    "execution": {
     "iopub.execute_input": "2024-06-28T07:50:59.307222Z",
     "iopub.status.busy": "2024-06-28T07:50:59.306781Z",
     "iopub.status.idle": "2024-06-28T07:50:59.706469Z",
     "shell.execute_reply": "2024-06-28T07:50:59.705943Z",
     "shell.execute_reply.started": "2024-06-28T07:50:59.307199Z"
    },
    "tags": []
   },
   "outputs": [],
   "source": [
    "# Load directly for u03/05, the pre-processing was already done in a different script\n",
    "ds_msftmz_u03hosLR = xr.open_mfdataset(\"/work/uo1075/m300817/hosing/post/data/msftmz/u03-hos-LR_msftmz.nc\", use_cftime=True, parallel=True)\n",
    "ds_msftmz_u05hosLR = xr.open_mfdataset(\"/work/uo1075/m300817/hosing/post/data/msftmz/u05-hos-LR_msftmz.nc\", use_cftime=True, parallel=True)"
   ]
  },
  {
   "cell_type": "raw",
   "id": "2353e067-2897-48ac-a22b-0c9808a0c5f3",
   "metadata": {
    "execution": {
     "iopub.execute_input": "2023-11-15T14:06:40.651895Z",
     "iopub.status.busy": "2023-11-15T14:06:40.651480Z",
     "iopub.status.idle": "2023-11-15T14:06:58.956087Z",
     "shell.execute_reply": "2023-11-15T14:06:58.955391Z",
     "shell.execute_reply.started": "2023-11-15T14:06:40.651872Z"
    },
    "tags": []
   },
   "source": [
    "# For grc-03\n",
    "# NO NEED TO RE-RUN --- Pre-process (select and merge) msftmz monthly\n",
    "in_path  = '/work/mh0033/from_Mistral/mh0033/m300817/mpiesm-1.2.01p6-passivesalt_update/experiments/hosing_grc03Sv_FcSV-LR/outdata/mpiom/'\n",
    "wildcard = \"*mpiom_data_moc_mm_*\"\n",
    "ifiles   = in_path+wildcard\n",
    "outpath = \"/work/uo1075/m300817/hosing/post/data/msftmz/\"\n",
    "outfile = \"hosing_grc03Sv_FcSV-LR_msftmz.nc\"\n",
    "if not glob.glob(outpath):\n",
    "    os.mkdir(outpath)\n",
    "if not os.path.isfile(outpath+outfile):\n",
    "    cdo.mergetime(input = \"-select,name=atlantic_moc \"+ifiles, output = outpath+outfile)"
   ]
  },
  {
   "cell_type": "code",
   "execution_count": 10,
   "id": "1b1e7ddf-8fb1-425a-a015-028b6eb57ab0",
   "metadata": {
    "execution": {
     "iopub.execute_input": "2024-06-24T08:50:42.118073Z",
     "iopub.status.busy": "2024-06-24T08:50:42.117704Z",
     "iopub.status.idle": "2024-06-24T08:50:42.256023Z",
     "shell.execute_reply": "2024-06-24T08:50:42.255448Z",
     "shell.execute_reply.started": "2024-06-24T08:50:42.118051Z"
    },
    "tags": []
   },
   "outputs": [],
   "source": [
    "ds_msftmz_g03hosLR = xr.open_mfdataset(\"/work/uo1075/m300817/hosing/post/data/msftmz/hosing_grc03Sv_FcSV-LR_msftmz.nc\", use_cftime=True, parallel=True)"
   ]
  },
  {
   "cell_type": "raw",
   "id": "4ac8dc91-1a4c-4f11-a5cb-771997ac8b36",
   "metadata": {
    "execution": {
     "iopub.execute_input": "2023-11-15T14:31:16.071124Z",
     "iopub.status.busy": "2023-11-15T14:31:16.070654Z",
     "iopub.status.idle": "2023-11-15T14:31:32.064541Z",
     "shell.execute_reply": "2023-11-15T14:31:32.063849Z",
     "shell.execute_reply.started": "2023-11-15T14:31:16.071102Z"
    },
    "tags": []
   },
   "source": [
    "# For grc-01\n",
    "# NO NEED TO RE-RUN --- Pre-process (select and merge) msftmz monthly\n",
    "in_path  = '/work/uo1075/m300817/hosing/mpiesm-1.2.01p6-passivesalt_update/experiments/hosing_grc01Sv_FcSV-LR/outdata/mpiom/'\n",
    "wildcard = \"*mpiom_data_moc_mm_*\"\n",
    "ifiles   = in_path+wildcard\n",
    "outpath = \"/work/uo1075/m300817/hosing/post/data/msftmz/\"\n",
    "outfile = \"hosing_grc01Sv_FcSV-LR_msftmz.nc\"\n",
    "if not glob.glob(outpath):\n",
    "    os.mkdir(outpath)\n",
    "if not os.path.isfile(outpath+outfile):\n",
    "    cdo.mergetime(input = \"-select,name=atlantic_moc \"+ifiles, output = outpath+outfile)"
   ]
  },
  {
   "cell_type": "code",
   "execution_count": 27,
   "id": "77ef702d-0194-4b39-acce-ac24f01acafd",
   "metadata": {
    "execution": {
     "iopub.execute_input": "2024-03-21T07:10:15.830361Z",
     "iopub.status.busy": "2024-03-21T07:10:15.830162Z",
     "iopub.status.idle": "2024-03-21T07:10:15.973602Z",
     "shell.execute_reply": "2024-03-21T07:10:15.973015Z",
     "shell.execute_reply.started": "2024-03-21T07:10:15.830342Z"
    },
    "tags": []
   },
   "outputs": [],
   "source": [
    "ds_msftmz_g01hosLR = xr.open_mfdataset(\"/work/uo1075/m300817/hosing/post/data/msftmz/hosing_grc01Sv_FcSV-LR_msftmz.nc\", use_cftime=True, parallel=True)"
   ]
  },
  {
   "cell_type": "markdown",
   "id": "94ff220b-db2f-47e1-b5af-51a8ec59140f",
   "metadata": {},
   "source": [
    "### New hosing 1pct & scenario"
   ]
  },
  {
   "cell_type": "markdown",
   "id": "111cfb14-89b2-4d0b-9c08-0f4081cd42ae",
   "metadata": {},
   "source": [
    "1pct-bgc"
   ]
  },
  {
   "cell_type": "code",
   "execution_count": 15,
   "id": "deff87eb-7bb4-4239-924b-5e10ae8cefa2",
   "metadata": {
    "execution": {
     "iopub.execute_input": "2024-08-06T07:21:09.339710Z",
     "iopub.status.busy": "2024-08-06T07:21:09.339184Z",
     "iopub.status.idle": "2024-08-06T07:22:59.144329Z",
     "shell.execute_reply": "2024-08-06T07:22:59.143430Z",
     "shell.execute_reply.started": "2024-08-06T07:21:09.339685Z"
    },
    "tags": []
   },
   "outputs": [],
   "source": [
    "ds_msftmz_u011pctbgcLR = xr.open_mfdataset(\"/work/uo1075/m300817/hosing/mpiesm-1.2.01p7-passivesalt-hosing/experiments/hosing_naa01Sv_1pctbgc-LR/outdata/mpiom/*moc_mm*\",\n",
    "                                       use_cftime=True)\n",
    "ds_msftmz_u031pctbgcLR = xr.open_mfdataset(\"/work/uo1075/m300817/hosing/mpiesm-1.2.01p7-passivesalt-hosing/experiments/hosing_naa03Sv_1pctbgc-LR/outdata/mpiom/*moc_mm*\",\n",
    "                                       use_cftime=True)\n",
    "ds_msftmz_u031pctLR = xr.open_mfdataset(\"/work/uo1075/m300817/hosing/mpiesm-1.2.01p7-passivesalt-hosing/experiments/hosing_naa03Sv_1pct-LR/outdata/mpiom/*moc_mm*\",\n",
    "                                       use_cftime=True)\n",
    "ds_msftmz_u051pctbgcLR = xr.open_mfdataset(\"/work/uo1075/m300817/hosing/mpiesm-1.2.01p7-passivesalt-hosing/experiments/hosing_naa05Sv_1pctbgc-LR/outdata/mpiom/*moc_mm*\",\n",
    "                                       use_cftime=True)\n",
    "ds_msftmz_u051pctLR = xr.open_mfdataset(\"/work/uo1075/m300817/hosing/mpiesm-1.2.01p7-passivesalt-hosing/experiments/hosing_naa05Sv_1pct-LR/outdata/mpiom/*moc_mm*\",\n",
    "                                       use_cftime=True)\n",
    "ds_msftmz_g011pctbgcLR = xr.open_mfdataset(\"/work/uo1075/m300817/hosing/mpiesm-1.2.01p7-passivesalt-hosing/experiments/hosing_grc01Sv_1pctbgc-LR/outdata/mpiom/*moc_mm*\",\n",
    "                                       use_cftime=True)\n",
    "ds_msftmz_g031pctbgcLR = xr.open_mfdataset(\"/work/uo1075/m300817/hosing/mpiesm-1.2.01p7-passivesalt-hosing/experiments/hosing_grc03Sv_1pctbgc-LR/outdata/mpiom/*moc_mm*\",\n",
    "                                       use_cftime=True)\n",
    "ds_msftmz_g051pctbgcLR = xr.open_mfdataset(\"/work/uo1075/m300817/hosing/mpiesm-1.2.01p7-passivesalt-hosing/experiments/hosing_grc05Sv_1pctbgc-LR/outdata/mpiom/*moc_mm*\",\n",
    "                                       use_cftime=True)"
   ]
  },
  {
   "cell_type": "markdown",
   "id": "c607bf3d-eed9-4e8b-977c-8cfb7f872f98",
   "metadata": {},
   "source": [
    "hist-bgc and u03 bgc-scenarios"
   ]
  },
  {
   "cell_type": "code",
   "execution_count": 16,
   "id": "5f456248-d488-4e60-bdb6-412b27d06ee6",
   "metadata": {
    "execution": {
     "iopub.execute_input": "2024-08-06T07:22:59.147695Z",
     "iopub.status.busy": "2024-08-06T07:22:59.147141Z",
     "iopub.status.idle": "2024-08-06T07:23:40.712782Z",
     "shell.execute_reply": "2024-08-06T07:23:40.711945Z",
     "shell.execute_reply.started": "2024-08-06T07:22:59.147670Z"
    }
   },
   "outputs": [],
   "source": [
    "ds_msftmz_histbgcLR = xr.open_mfdataset(\"/work/uo1075/m300817/hosing/mpiesm-1.2.01p7-passivesalt-hosing/experiments/histbgc-LR/outdata/mpiom/*moc_mm*\",\n",
    "                                        use_cftime=True)\n",
    "ds_msftmz_u03ssp126bgcLR = xr.open_mfdataset(\"/work/uo1075/m300817/hosing/mpiesm-1.2.01p7-passivesalt-hosing/experiments/hosing_naa03Sv_ssp126bgc-LR/outdata/mpiom/*moc_mm*\",\n",
    "                                             use_cftime=True)\n",
    "ds_msftmz_u03ssp245bgcLR = xr.open_mfdataset(\"/work/uo1075/m300817/hosing/mpiesm-1.2.01p7-passivesalt-hosing/experiments/hosing_naa03Sv_ssp245bgc-LR/outdata/mpiom/*moc_mm*\",\n",
    "                                             use_cftime=True)\n",
    "ds_msftmz_u03ssp585bgcLR = xr.open_mfdataset(\"/work/uo1075/m300817/hosing/mpiesm-1.2.01p7-passivesalt-hosing/experiments/hosing_naa03Sv_ssp585bgc-LR/outdata/mpiom/*moc_mm*\", \n",
    "                                             use_cftime=True)"
   ]
  },
  {
   "cell_type": "markdown",
   "id": "a0b999ae-e1a8-4fd7-92e8-4321be3c0980",
   "metadata": {},
   "source": [
    "ssp245bgc"
   ]
  },
  {
   "cell_type": "code",
   "execution_count": 13,
   "id": "8f798751-e3b3-48c3-8b15-83a38b86577c",
   "metadata": {
    "execution": {
     "iopub.execute_input": "2024-08-20T15:57:56.804885Z",
     "iopub.status.busy": "2024-08-20T15:57:56.804538Z",
     "iopub.status.idle": "2024-08-20T15:58:24.495907Z",
     "shell.execute_reply": "2024-08-20T15:58:24.494479Z",
     "shell.execute_reply.started": "2024-08-20T15:57:56.804864Z"
    }
   },
   "outputs": [],
   "source": [
    "ds_msftmz_ssp245bgcLR = xr.open_mfdataset(\"/work/uo1075/m300817/hosing/mpiesm-1.2.01p7-passivesalt-hosing/experiments/ssp245bgc-LR/outdata/mpiom/*moc_mm*\",\n",
    "                                        use_cftime=True)\n",
    "ds_msftmz_u05ssp245bgcLR = xr.open_mfdataset(\"/work/uo1075/m300817/hosing/mpiesm-1.2.01p7-passivesalt-hosing/experiments/hosing_naa05Sv_ssp245bgc-LR/outdata/mpiom/*moc_mm*\",\n",
    "                                             use_cftime=True)\n",
    "ds_msftmz_u03ssp245bgcLR = xr.open_mfdataset(\"/work/uo1075/m300817/hosing/mpiesm-1.2.01p7-passivesalt-hosing/experiments/hosing_naa03Sv_ssp245bgc-LR/outdata/mpiom/*moc_mm*\",\n",
    "                                             use_cftime=True)\n",
    "ds_msftmz_u01ssp245bgcLR = xr.open_mfdataset(\"/work/uo1075/m300817/hosing/mpiesm-1.2.01p7-passivesalt-hosing/experiments/hosing_naa01Sv_ssp245bgc-LR/outdata/mpiom/*moc_mm*\",\n",
    "                                             use_cftime=True)\n",
    "ds_msftmz_g05ssp245bgcLR = xr.open_mfdataset(\"/work/uo1075/m300817/hosing/mpiesm-1.2.01p7-passivesalt-hosing/experiments/hosing_grc05Sv_ssp245bgc-LR/outdata/mpiom/*moc_mm*\",\n",
    "                                             use_cftime=True)\n",
    "ds_msftmz_g03ssp245bgcLR = xr.open_mfdataset(\"/work/uo1075/m300817/hosing/mpiesm-1.2.01p7-passivesalt-hosing/experiments/hosing_grc03Sv_ssp245bgc-LR/outdata/mpiom/*moc_mm*\",\n",
    "                                             use_cftime=True)\n",
    "ds_msftmz_g01ssp245bgcLR = xr.open_mfdataset(\"/work/uo1075/m300817/hosing/mpiesm-1.2.01p7-passivesalt-hosing/experiments/hosing_grc01Sv_ssp245bgc-LR/outdata/mpiom/*moc_mm*\",\n",
    "                                             use_cftime=True)"
   ]
  },
  {
   "cell_type": "markdown",
   "id": "de6fb94b-3618-446e-83f5-e7cdbd0d862b",
   "metadata": {
    "toc-hr-collapsed": true
   },
   "source": [
    "## fx files"
   ]
  },
  {
   "cell_type": "markdown",
   "id": "9e019513-14f4-44a1-ae35-c4c7f48c70ca",
   "metadata": {},
   "source": [
    "### mpi-esm output"
   ]
  },
  {
   "cell_type": "raw",
   "id": "78015e45-b495-4785-a0c1-2e2989e2aa16",
   "metadata": {},
   "source": [
    "# NO NEED TO RE-RUN --- Pre-process volcello mpi output\n",
    "in_path  = '/work/mh0033/from_Mistral/mh0033/m300817/mpiesm-1.2.01p6-passivesalt_update/experiments/hosing_naa05Sv_FcSV-LR/outdata/mpiom/'\n",
    "filefx = \"hosing_naa05Sv_FcSV-LR_mpiom_fx_18500101_18501231.nc\n",
    "ifiles   = in_path+filefx\n",
    "outpath = \"/work/uo0122/m300817/hosing/post/data/fx/\"\n",
    "outfile = \"hosing_naa05Sv_FcSV-LR_volcello.nc\"\n",
    "if not glob.glob(outpath):\n",
    "    os.mkdir(outpath)\n",
    "if not os.path.isfile(outpath+outfile):\n",
    "    #cdo(input = \"expr,’volcello=areacello*thkcello’ \"+ifiles, output = outpath+outfile)\n",
    "    cdo(input = \" -expr,'volcello=areacello*thkcello' \"+ifiles, output = outpath+outfile)"
   ]
  },
  {
   "cell_type": "code",
   "execution_count": 14,
   "id": "d0e12c9d-fa1c-43ad-a2c4-76d34636ee79",
   "metadata": {
    "execution": {
     "iopub.execute_input": "2024-08-20T15:58:24.497015Z",
     "iopub.status.busy": "2024-08-20T15:58:24.496778Z",
     "iopub.status.idle": "2024-08-20T15:58:24.566513Z",
     "shell.execute_reply": "2024-08-20T15:58:24.565936Z",
     "shell.execute_reply.started": "2024-08-20T15:58:24.496993Z"
    },
    "tags": []
   },
   "outputs": [],
   "source": [
    "# Load resulting file, same for both hosing configurations (note: now in new location)\n",
    "ds_volcello_u05hosLR = xr.open_mfdataset(\"/work/uo1075/m300817/hosing/post/data/fx/hosing_naa05Sv_FcSV-LR_volcello.nc\"\n",
    "                                       , use_cftime=True, parallel=True)"
   ]
  },
  {
   "cell_type": "code",
   "execution_count": 15,
   "id": "d7ace6c5-ebdc-4680-9c6f-9c3ccce8557f",
   "metadata": {
    "execution": {
     "iopub.execute_input": "2024-08-20T15:58:24.568326Z",
     "iopub.status.busy": "2024-08-20T15:58:24.567927Z",
     "iopub.status.idle": "2024-08-20T15:58:24.571455Z",
     "shell.execute_reply": "2024-08-20T15:58:24.570904Z",
     "shell.execute_reply.started": "2024-08-20T15:58:24.568306Z"
    },
    "tags": []
   },
   "outputs": [],
   "source": [
    "ds_volcello_u05hosLR = ds_volcello_u05hosLR.rename({'x_2':'x', 'y_2':'y', 'lat_2': 'lat','lon_2': 'lon', 'depth_2': 'depth'})"
   ]
  },
  {
   "cell_type": "code",
   "execution_count": 16,
   "id": "15107c58-16c4-404c-bd7f-efb1552bb76b",
   "metadata": {
    "execution": {
     "iopub.execute_input": "2024-08-20T15:58:24.572638Z",
     "iopub.status.busy": "2024-08-20T15:58:24.572172Z",
     "iopub.status.idle": "2024-08-20T15:58:25.049297Z",
     "shell.execute_reply": "2024-08-20T15:58:25.048698Z",
     "shell.execute_reply.started": "2024-08-20T15:58:24.572618Z"
    },
    "tags": []
   },
   "outputs": [],
   "source": [
    "# Files for ocean/land mask LR & HR\n",
    "ds_basin_hosLR = xr.open_mfdataset(\"/pool/data/MPIOM/GR15/GR15_basin.nc\", use_cftime=True, parallel=True)\n",
    "ds_basin_hosHR = xr.open_mfdataset(\"/pool/data/MPIOM/TP04/TP04_basin.nc\", use_cftime=True, parallel=True)"
   ]
  },
  {
   "cell_type": "markdown",
   "id": "2c27188f-725e-4f98-8e99-7a319793b42b",
   "metadata": {
    "execution": {
     "iopub.execute_input": "2023-10-19T08:29:34.275034Z",
     "iopub.status.busy": "2023-10-19T08:29:34.271182Z",
     "iopub.status.idle": "2023-10-19T08:29:34.287748Z",
     "shell.execute_reply": "2023-10-19T08:29:34.286989Z",
     "shell.execute_reply.started": "2023-10-19T08:29:34.275008Z"
    },
    "tags": []
   },
   "source": [
    "### cmor"
   ]
  },
  {
   "cell_type": "code",
   "execution_count": 15,
   "id": "a399cedd-9eea-4fd3-be4d-455649a4eeec",
   "metadata": {
    "execution": {
     "iopub.execute_input": "2024-08-20T13:22:58.462452Z",
     "iopub.status.busy": "2024-08-20T13:22:58.461978Z",
     "iopub.status.idle": "2024-08-20T13:22:58.598641Z",
     "shell.execute_reply": "2024-08-20T13:22:58.597900Z",
     "shell.execute_reply.started": "2024-08-20T13:22:58.462430Z"
    },
    "tags": []
   },
   "outputs": [],
   "source": [
    "infiles = glob.glob('/pool/data/CMIP6/data/CMIP/MPI-M/MPI-ESM1-2-LR/historical/r1i1p1f1/Ofx/volcello/gn/v20190710/*.nc')\n",
    "ds_volcello = xr.open_mfdataset(infiles, use_cftime=True, parallel=True)\n",
    "\n",
    "infiles = glob.glob('/pool/data/CMIP6/data/CMIP/MPI-M/MPI-ESM1-2-LR/historical/r1i1p1f1/Ofx/areacello/gn/v20190710/*.nc')\n",
    "ds_areacello = xr.open_mfdataset(infiles, use_cftime=True, parallel=True)"
   ]
  },
  {
   "cell_type": "code",
   "execution_count": 16,
   "id": "250278df-a437-4d6e-924b-9484d16563cc",
   "metadata": {
    "execution": {
     "iopub.execute_input": "2024-08-20T13:22:58.697692Z",
     "iopub.status.busy": "2024-08-20T13:22:58.697097Z",
     "iopub.status.idle": "2024-08-20T13:22:58.764462Z",
     "shell.execute_reply": "2024-08-20T13:22:58.763781Z",
     "shell.execute_reply.started": "2024-08-20T13:22:58.697670Z"
    },
    "tags": []
   },
   "outputs": [],
   "source": [
    "# Files for ocean/land mask LR \n",
    "infiles = glob.glob('/pool/data/CMIP6/data/CMIP/MPI-M/MPI-ESM1-2-LR/historical/r1i1p1f1/Ofx/basin/gn/v20190710/*.nc')\n",
    "ds_basin = xr.open_mfdataset(infiles, use_cftime=True, parallel=True)"
   ]
  },
  {
   "cell_type": "markdown",
   "id": "06be96c5-5782-4723-a0ed-5183add34ddc",
   "metadata": {
    "execution": {
     "iopub.execute_input": "2023-11-14T15:10:52.263247Z",
     "iopub.status.busy": "2023-11-14T15:10:52.257649Z",
     "iopub.status.idle": "2023-11-14T15:10:52.279857Z",
     "shell.execute_reply": "2023-11-14T15:10:52.278917Z",
     "shell.execute_reply.started": "2023-11-14T15:10:52.263218Z"
    },
    "tags": []
   },
   "source": [
    "# Analysis"
   ]
  },
  {
   "cell_type": "markdown",
   "id": "9fb7b4ed-cf91-40d7-aa33-ee14790b3bbf",
   "metadata": {
    "tags": [],
    "toc-hr-collapsed": true
   },
   "source": [
    "## Original hosing"
   ]
  },
  {
   "cell_type": "markdown",
   "id": "a16d980d-7b67-4059-bb34-0cd477a05119",
   "metadata": {},
   "source": [
    "### u03"
   ]
  },
  {
   "cell_type": "code",
   "execution_count": null,
   "id": "85e34c4a-eb52-448a-92e8-62fbf92bbf06",
   "metadata": {
    "collapsed": true,
    "execution": {
     "iopub.execute_input": "2024-03-10T15:54:07.893448Z",
     "iopub.status.busy": "2024-03-10T15:54:07.892839Z",
     "iopub.status.idle": "2024-03-10T15:55:08.822685Z",
     "shell.execute_reply": "2024-03-10T15:55:08.821226Z",
     "shell.execute_reply.started": "2024-03-10T15:54:07.893420Z"
    },
    "jupyter": {
     "outputs_hidden": true
    },
    "tags": []
   },
   "outputs": [],
   "source": [
    "ds_dissic_u03hosLR.load()"
   ]
  },
  {
   "cell_type": "code",
   "execution_count": 40,
   "id": "ee52eb07-ccfb-45b2-8ce9-bb5a34b132b4",
   "metadata": {
    "execution": {
     "iopub.execute_input": "2024-03-10T15:57:29.405514Z",
     "iopub.status.busy": "2024-03-10T15:57:29.404982Z",
     "iopub.status.idle": "2024-03-10T15:57:32.921301Z",
     "shell.execute_reply": "2024-03-10T15:57:32.920449Z",
     "shell.execute_reply.started": "2024-03-10T15:57:29.405489Z"
    },
    "tags": []
   },
   "outputs": [],
   "source": [
    "# Total DIC full depth (0-5720m) u03hosLR last vs first 10 years\n",
    "u03_total_full = ((ds_dissic_u03hosLR.dissic.isel(time=np.arange(-120,-0)).mean(dim=\"time\")*ds_volcello_u05hosLR.mean(dim=\"time\").volcello*g_per_molC/1e15).isel(depth=np.arange(0,40)).sum(dim='depth')\n",
    "-(ds_dissic_u03hosLR.dissic.isel(time=np.arange(0,120)).mean(dim=\"time\")*ds_volcello_u05hosLR.mean(dim=\"time\").volcello*g_per_molC/1e15).isel(depth=np.arange(0,40)).sum(dim='depth')\n",
    ").sum(dim='y').sum(dim='x').values"
   ]
  },
  {
   "cell_type": "code",
   "execution_count": 41,
   "id": "c0b9e7c1-0a75-436d-b11c-6bc41bc384ec",
   "metadata": {
    "execution": {
     "iopub.execute_input": "2024-03-10T15:57:34.325539Z",
     "iopub.status.busy": "2024-03-10T15:57:34.325105Z",
     "iopub.status.idle": "2024-03-10T15:57:37.820254Z",
     "shell.execute_reply": "2024-03-10T15:57:37.819272Z",
     "shell.execute_reply.started": "2024-03-10T15:57:34.325516Z"
    },
    "tags": []
   },
   "outputs": [],
   "source": [
    "# Total DIC below 1000m (1085-5720m) u03hosLR last vs first 10 years\n",
    "u03_total_deep =  ((ds_dissic_u03hosLR.dissic.isel(time=np.arange(-120,-0)).mean(dim=\"time\")*ds_volcello_u05hosLR.mean(dim=\"time\").volcello*g_per_molC/1e15).isel(depth=np.arange(23,40)).sum(dim='depth')\n",
    "-(ds_dissic_u03hosLR.dissic.isel(time=np.arange(0,120)).mean(dim=\"time\")*ds_volcello_u05hosLR.mean(dim=\"time\").volcello*g_per_molC/1e15).isel(depth=np.arange(23,40)).sum(dim='depth')\n",
    ").sum(dim='y').sum(dim='x').values"
   ]
  },
  {
   "cell_type": "code",
   "execution_count": 42,
   "id": "289b83e8-a463-4674-9529-850160fa2697",
   "metadata": {
    "execution": {
     "iopub.execute_input": "2024-03-10T15:57:37.822170Z",
     "iopub.status.busy": "2024-03-10T15:57:37.821834Z",
     "iopub.status.idle": "2024-03-10T15:57:41.313055Z",
     "shell.execute_reply": "2024-03-10T15:57:41.312099Z",
     "shell.execute_reply.started": "2024-03-10T15:57:37.822147Z"
    },
    "tags": []
   },
   "outputs": [],
   "source": [
    "# Total DIC above 1000m (0-1085m) u03hosLR last vs first 10 years\n",
    "u03_total_surf = ((ds_dissic_u03hosLR.dissic.isel(time=np.arange(-120,-0)).mean(dim=\"time\")*ds_volcello_u05hosLR.mean(dim=\"time\").volcello*g_per_molC/1e15).isel(depth=np.arange(0,23)).sum(dim='depth')\n",
    "-(ds_dissic_u03hosLR.dissic.isel(time=np.arange(0,120)).mean(dim=\"time\")*ds_volcello_u05hosLR.mean(dim=\"time\").volcello*g_per_molC/1e15).isel(depth=np.arange(0,23)).sum(dim='depth')\n",
    ").sum(dim='y').sum(dim='x').values"
   ]
  },
  {
   "cell_type": "code",
   "execution_count": null,
   "id": "484261fe-753f-4225-a22f-715fbd5cca9d",
   "metadata": {
    "execution": {
     "iopub.execute_input": "2024-03-10T15:57:52.037782Z",
     "iopub.status.busy": "2024-03-10T15:57:52.037246Z",
     "iopub.status.idle": "2024-03-10T15:58:09.491733Z",
     "shell.execute_reply": "2024-03-10T15:58:09.490956Z",
     "shell.execute_reply.started": "2024-03-10T15:57:52.037755Z"
    },
    "tags": []
   },
   "outputs": [],
   "source": [
    "fig=plt.figure(figsize=(14, 9))\n",
    "\n",
    "ax1 = fig.add_subplot(211, projection=ccrs.Robinson(central_longitude=-60))\n",
    "ax1.set_global()\n",
    "((ds_dissic_u03hosLR.dissic.isel(time=np.arange(-120,0)).mean(dim=\"time\")*ds_volcello_u05hosLR.mean(dim=\"time\").volcello*g_per_molC/1e15).isel(depth=np.arange(0,40)).sum(dim='depth')\n",
    "-(ds_dissic_u03hosLR.dissic.isel(time=np.arange(0,120)).mean(dim=\"time\")*ds_volcello_u05hosLR.mean(dim=\"time\").volcello*g_per_molC/1e15).isel(depth=np.arange(0,40)).sum(dim='depth')\n",
    ").plot.pcolormesh(\n",
    "    ax=ax1, transform=ccrs.PlateCarree(), x=\"lon\", y=\"lat\", vmin=-0.040, vmax=0.040, cmap='RdBu_r', cbar_kwargs={'label': 'PgC, column integrated'})\n",
    "ax1.coastlines()\n",
    "ax1.set_title(\"Full depth (0-5720m)\") \n",
    "ax1.text(-0.08, 1, str(round(u03_total_full.item(), 3))+\" PgC\", transform=ax1.transAxes, fontsize=14,\n",
    "        verticalalignment='top' , fontweight='bold')\n",
    "\n",
    "ax2 = fig.add_subplot(223, projection=ccrs.Robinson(central_longitude=-60))\n",
    "ax2.set_global()\n",
    "((ds_dissic_u03hosLR.dissic.isel(time=np.arange(-120,0)).mean(dim=\"time\")*ds_volcello_u05hosLR.mean(dim=\"time\").volcello*g_per_molC/1e15).isel(depth=np.arange(0,23)).sum(dim='depth')\n",
    "-(ds_dissic_u03hosLR.dissic.isel(time=np.arange(0,120)).mean(dim=\"time\")*ds_volcello_u05hosLR.mean(dim=\"time\").volcello*g_per_molC/1e15).isel(depth=np.arange(0,23)).sum(dim='depth')\n",
    ").plot.pcolormesh(\n",
    "    ax=ax2, transform=ccrs.PlateCarree(), x=\"lon\", y=\"lat\", cmap='RdBu_r', vmin=-0.040, vmax=0.040, add_colorbar=False)\n",
    "ax2.coastlines()\n",
    "ax2.set_title(\"Upper ocean (0-1085m)\") \n",
    "ax2.text(-0.08, 1, str(round(u03_total_surf.item(), 3))+\" PgC\", transform=ax2.transAxes, fontsize=14,\n",
    "        verticalalignment='top', fontweight='bold')\n",
    "\n",
    "ax3 = fig.add_subplot(224, projection=ccrs.Robinson(central_longitude=-60))\n",
    "ax3.set_global()\n",
    "((ds_dissic_u03hosLR.dissic.isel(time=np.arange(-120,0)).mean(dim=\"time\")*ds_volcello_u05hosLR.mean(dim=\"time\").volcello*g_per_molC/1e15).isel(depth=np.arange(23,40)).sum(dim='depth')\n",
    "-(ds_dissic_u03hosLR.dissic.isel(time=np.arange(0,120)).mean(dim=\"time\")*ds_volcello_u05hosLR.mean(dim=\"time\").volcello*g_per_molC/1e15).isel(depth=np.arange(23,40)).sum(dim='depth')\n",
    ").plot.pcolormesh(\n",
    "   ax=ax3, transform=ccrs.PlateCarree(), x=\"lon\", y=\"lat\", cmap='RdBu_r', vmin=-0.040, vmax=0.040, add_colorbar=False)\n",
    "ax3.coastlines()\n",
    "ax3.set_title(\"Deep ocean (1085-5720m)\") \n",
    "\n",
    "ax3.text(-0.08, 1, str(round(u03_total_deep.item(), 3))+\" PgC\", transform=ax3.transAxes, fontsize=14,\n",
    "        verticalalignment='top', fontweight='bold')"
   ]
  },
  {
   "cell_type": "markdown",
   "id": "d727e214-ba27-4251-aefc-cf727f139859",
   "metadata": {},
   "source": [
    "### u05"
   ]
  },
  {
   "cell_type": "code",
   "execution_count": null,
   "id": "e29b8600-52c2-4582-98fb-528448fff444",
   "metadata": {
    "collapsed": true,
    "execution": {
     "iopub.execute_input": "2024-03-10T15:58:57.214717Z",
     "iopub.status.busy": "2024-03-10T15:58:57.214162Z",
     "iopub.status.idle": "2024-03-10T16:00:04.498530Z",
     "shell.execute_reply": "2024-03-10T16:00:04.496932Z",
     "shell.execute_reply.started": "2024-03-10T15:58:57.214691Z"
    },
    "jupyter": {
     "outputs_hidden": true
    },
    "tags": []
   },
   "outputs": [],
   "source": [
    "ds_dissic_u05hosLR.load()"
   ]
  },
  {
   "cell_type": "code",
   "execution_count": 45,
   "id": "7306b143-5a22-4dab-bc68-386615e1769f",
   "metadata": {
    "execution": {
     "iopub.execute_input": "2024-03-10T16:00:04.506389Z",
     "iopub.status.busy": "2024-03-10T16:00:04.505834Z",
     "iopub.status.idle": "2024-03-10T16:00:08.041909Z",
     "shell.execute_reply": "2024-03-10T16:00:08.040989Z",
     "shell.execute_reply.started": "2024-03-10T16:00:04.506365Z"
    },
    "tags": []
   },
   "outputs": [],
   "source": [
    "# Total DIC full depth (0-5720m) u05hosLR last vs first 10 years\n",
    "u05_total_full = ((ds_dissic_u05hosLR.dissic.isel(time=np.arange(-120,-0)).mean(dim=\"time\")*ds_volcello_u05hosLR.mean(dim=\"time\").volcello*g_per_molC/1e15).isel(depth=np.arange(0,40)).sum(dim='depth')\n",
    "-(ds_dissic_u05hosLR.dissic.isel(time=np.arange(0,120)).mean(dim=\"time\")*ds_volcello_u05hosLR.mean(dim=\"time\").volcello*g_per_molC/1e15).isel(depth=np.arange(0,40)).sum(dim='depth')\n",
    ").sum(dim='y').sum(dim='x').values"
   ]
  },
  {
   "cell_type": "code",
   "execution_count": 46,
   "id": "43f3c4ef-2c40-4def-aa20-1cb5cc0f9335",
   "metadata": {
    "execution": {
     "iopub.execute_input": "2024-03-10T16:00:08.043399Z",
     "iopub.status.busy": "2024-03-10T16:00:08.043066Z",
     "iopub.status.idle": "2024-03-10T16:00:11.519680Z",
     "shell.execute_reply": "2024-03-10T16:00:11.518818Z",
     "shell.execute_reply.started": "2024-03-10T16:00:08.043376Z"
    },
    "tags": []
   },
   "outputs": [],
   "source": [
    "# Total DIC below 1000m (1085-5720m) u05hosLR last vs first 10 years\n",
    "u05_total_deep = ((ds_dissic_u05hosLR.dissic.isel(time=np.arange(-120,-0)).mean(dim=\"time\")*ds_volcello_u05hosLR.mean(dim=\"time\").volcello*g_per_molC/1e15).isel(depth=np.arange(23,40)).sum(dim='depth')\n",
    "-(ds_dissic_u05hosLR.dissic.isel(time=np.arange(0,120)).mean(dim=\"time\")*ds_volcello_u05hosLR.mean(dim=\"time\").volcello*g_per_molC/1e15).isel(depth=np.arange(23,40)).sum(dim='depth')\n",
    ").sum(dim='y').sum(dim='x').values"
   ]
  },
  {
   "cell_type": "code",
   "execution_count": 47,
   "id": "5f30fc36-6bb0-4147-8fd7-344e743e23a6",
   "metadata": {
    "execution": {
     "iopub.execute_input": "2024-03-10T16:00:11.521933Z",
     "iopub.status.busy": "2024-03-10T16:00:11.521581Z",
     "iopub.status.idle": "2024-03-10T16:00:14.980312Z",
     "shell.execute_reply": "2024-03-10T16:00:14.979417Z",
     "shell.execute_reply.started": "2024-03-10T16:00:11.521898Z"
    },
    "tags": []
   },
   "outputs": [],
   "source": [
    "# Total DIC above 1000m (0-1085m) u05hosLR last vs first 10 years\n",
    "u05_total_surf = ((ds_dissic_u05hosLR.dissic.isel(time=np.arange(-120,-0)).mean(dim=\"time\")*ds_volcello_u05hosLR.mean(dim=\"time\").volcello*g_per_molC/1e15).isel(depth=np.arange(0,23)).sum(dim='depth')\n",
    "-(ds_dissic_u05hosLR.dissic.isel(time=np.arange(0,120)).mean(dim=\"time\")*ds_volcello_u05hosLR.mean(dim=\"time\").volcello*g_per_molC/1e15).isel(depth=np.arange(0,23)).sum(dim='depth')\n",
    ").sum(dim='y').sum(dim='x').values"
   ]
  },
  {
   "cell_type": "code",
   "execution_count": null,
   "id": "f05941be-5091-4439-8fb7-1cf87b3825be",
   "metadata": {
    "execution": {
     "iopub.execute_input": "2024-03-10T16:00:14.981803Z",
     "iopub.status.busy": "2024-03-10T16:00:14.981458Z",
     "iopub.status.idle": "2024-03-10T16:00:32.232038Z",
     "shell.execute_reply": "2024-03-10T16:00:32.231225Z",
     "shell.execute_reply.started": "2024-03-10T16:00:14.981780Z"
    },
    "tags": []
   },
   "outputs": [],
   "source": [
    "fig=plt.figure(figsize=(14, 9))\n",
    "\n",
    "ax1 = fig.add_subplot(211, projection=ccrs.Robinson(central_longitude=-60))\n",
    "ax1.set_global()\n",
    "((ds_dissic_u05hosLR.dissic.isel(time=np.arange(-120,0)).mean(dim=\"time\")*ds_volcello_u05hosLR.mean(dim=\"time\").volcello*g_per_molC/1e15).isel(depth=np.arange(0,40)).sum(dim='depth')\n",
    "-(ds_dissic_u05hosLR.dissic.isel(time=np.arange(0,120)).mean(dim=\"time\")*ds_volcello_u05hosLR.mean(dim=\"time\").volcello*g_per_molC/1e15).isel(depth=np.arange(0,40)).sum(dim='depth')\n",
    ").plot.pcolormesh(\n",
    "    ax=ax1, transform=ccrs.PlateCarree(), x=\"lon\", y=\"lat\", vmin=-0.040, vmax=0.040, cmap='RdBu_r', cbar_kwargs={'label': 'PgC, column integrated'})\n",
    "ax1.coastlines()\n",
    "ax1.set_title(\"Full depth (0-5720m)\") \n",
    "ax1.text(-0.08, 1.1, str(round(u05_total_full.item(), 3))+\" PgC\", transform=ax1.transAxes, fontsize=14,\n",
    "        verticalalignment='top', fontweight='bold')\n",
    "\n",
    "ax2 = fig.add_subplot(223, projection=ccrs.Robinson(central_longitude=-60))\n",
    "ax2.set_global()\n",
    "((ds_dissic_u05hosLR.dissic.isel(time=np.arange(-120,0)).mean(dim=\"time\")*ds_volcello_u05hosLR.mean(dim=\"time\").volcello*g_per_molC/1e15).isel(depth=np.arange(0,23)).sum(dim='depth')\n",
    "-(ds_dissic_u05hosLR.dissic.isel(time=np.arange(0,120)).mean(dim=\"time\")*ds_volcello_u05hosLR.mean(dim=\"time\").volcello*g_per_molC/1e15).isel(depth=np.arange(0,23)).sum(dim='depth')\n",
    ").plot.pcolormesh(\n",
    "    ax=ax2, transform=ccrs.PlateCarree(), x=\"lon\", y=\"lat\", cmap='RdBu_r', vmin=-0.040, vmax=0.040, add_colorbar=False)\n",
    "ax2.coastlines()\n",
    "ax2.set_title(\"Upper ocean (0-1085m)\") \n",
    "ax2.text(-0.08, 1.1, str(round(u05_total_surf.item(), 3))+\" PgC\", transform=ax2.transAxes, fontsize=14,\n",
    "        verticalalignment='top', fontweight='bold')\n",
    "\n",
    "ax3 = fig.add_subplot(224, projection=ccrs.Robinson(central_longitude=-60))\n",
    "ax3.set_global()\n",
    "((ds_dissic_u05hosLR.dissic.isel(time=np.arange(-120,0)).mean(dim=\"time\")*ds_volcello_u05hosLR.mean(dim=\"time\").volcello*g_per_molC/1e15).isel(depth=np.arange(23,40)).sum(dim='depth')\n",
    "-(ds_dissic_u05hosLR.dissic.isel(time=np.arange(0,120)).mean(dim=\"time\")*ds_volcello_u05hosLR.mean(dim=\"time\").volcello*g_per_molC/1e15).isel(depth=np.arange(23,40)).sum(dim='depth')\n",
    ").plot.pcolormesh(\n",
    "   ax=ax3, transform=ccrs.PlateCarree(), x=\"lon\", y=\"lat\", cmap='RdBu_r', vmin=-0.040, vmax=0.040, add_colorbar=False)\n",
    "ax3.coastlines()\n",
    "ax3.set_title(\"Deep ocean (1085-5720m)\") \n",
    "ax3.text(-0.08, 1.1, str(round(u05_total_deep.item(), 3))+\" PgC\", transform=ax3.transAxes, fontsize=14,\n",
    "        verticalalignment='top', fontweight='bold')"
   ]
  },
  {
   "cell_type": "markdown",
   "id": "d4465b2e-182e-43e4-a2ce-8369ebce200d",
   "metadata": {},
   "source": [
    "### g03"
   ]
  },
  {
   "cell_type": "code",
   "execution_count": null,
   "id": "a496a88b-66e1-48e2-a241-8f9da9925af0",
   "metadata": {
    "collapsed": true,
    "execution": {
     "iopub.execute_input": "2024-03-10T16:00:32.233476Z",
     "iopub.status.busy": "2024-03-10T16:00:32.233148Z",
     "iopub.status.idle": "2024-03-10T16:01:30.905159Z",
     "shell.execute_reply": "2024-03-10T16:01:30.903608Z",
     "shell.execute_reply.started": "2024-03-10T16:00:32.233453Z"
    },
    "jupyter": {
     "outputs_hidden": true
    },
    "tags": []
   },
   "outputs": [],
   "source": [
    "ds_dissic_g03hosLR.load()"
   ]
  },
  {
   "cell_type": "code",
   "execution_count": 50,
   "id": "6584289f-1114-4896-b7d5-5d165cca8457",
   "metadata": {
    "execution": {
     "iopub.execute_input": "2024-03-10T16:01:30.911502Z",
     "iopub.status.busy": "2024-03-10T16:01:30.910977Z",
     "iopub.status.idle": "2024-03-10T16:01:34.530876Z",
     "shell.execute_reply": "2024-03-10T16:01:34.529967Z",
     "shell.execute_reply.started": "2024-03-10T16:01:30.911479Z"
    },
    "tags": []
   },
   "outputs": [],
   "source": [
    "# Total DIC full depth (0-5720m) u05hosLR last vs first 10 years\n",
    "g03_total_full = ((ds_dissic_g03hosLR.dissic.isel(time=np.arange(-120,-0)).mean(dim=\"time\")*ds_volcello_u05hosLR.mean(dim=\"time\").volcello*g_per_molC/1e15).isel(depth=np.arange(0,40)).sum(dim='depth')\n",
    "-(ds_dissic_g03hosLR.dissic.isel(time=np.arange(0,120)).mean(dim=\"time\")*ds_volcello_u05hosLR.mean(dim=\"time\").volcello*g_per_molC/1e15).isel(depth=np.arange(0,40)).sum(dim='depth')\n",
    ").sum(dim='y').sum(dim='x').values"
   ]
  },
  {
   "cell_type": "code",
   "execution_count": 51,
   "id": "0de3b51c-4243-4e9e-8d79-e6b2775aa40e",
   "metadata": {
    "execution": {
     "iopub.execute_input": "2024-03-10T16:01:34.532243Z",
     "iopub.status.busy": "2024-03-10T16:01:34.531994Z",
     "iopub.status.idle": "2024-03-10T16:01:38.044208Z",
     "shell.execute_reply": "2024-03-10T16:01:38.043267Z",
     "shell.execute_reply.started": "2024-03-10T16:01:34.532219Z"
    },
    "tags": []
   },
   "outputs": [],
   "source": [
    "# Total DIC below 1000m (1085-5720m) u05hosLR last vs first 10 years\n",
    "g03_total_deep = ((ds_dissic_g03hosLR.dissic.isel(time=np.arange(-120,-0)).mean(dim=\"time\")*ds_volcello_u05hosLR.mean(dim=\"time\").volcello*g_per_molC/1e15).isel(depth=np.arange(23,40)).sum(dim='depth')\n",
    "-(ds_dissic_g03hosLR.dissic.isel(time=np.arange(0,120)).mean(dim=\"time\")*ds_volcello_u05hosLR.mean(dim=\"time\").volcello*g_per_molC/1e15).isel(depth=np.arange(23,40)).sum(dim='depth')\n",
    ").sum(dim='y').sum(dim='x').values"
   ]
  },
  {
   "cell_type": "code",
   "execution_count": 52,
   "id": "0c534bc1-229b-4f8e-8400-3ff96243f15e",
   "metadata": {
    "execution": {
     "iopub.execute_input": "2024-03-10T16:01:38.045938Z",
     "iopub.status.busy": "2024-03-10T16:01:38.045403Z",
     "iopub.status.idle": "2024-03-10T16:01:41.560670Z",
     "shell.execute_reply": "2024-03-10T16:01:41.559812Z",
     "shell.execute_reply.started": "2024-03-10T16:01:38.045902Z"
    },
    "tags": []
   },
   "outputs": [],
   "source": [
    "# Total DIC above 1000m (0-1085m) u05hosLR last vs first 10 years\n",
    "g03_total_surf = ((ds_dissic_g03hosLR.dissic.isel(time=np.arange(-120,-0)).mean(dim=\"time\")*ds_volcello_u05hosLR.mean(dim=\"time\").volcello*g_per_molC/1e15).isel(depth=np.arange(0,23)).sum(dim='depth')\n",
    "-(ds_dissic_g03hosLR.dissic.isel(time=np.arange(0,120)).mean(dim=\"time\")*ds_volcello_u05hosLR.mean(dim=\"time\").volcello*g_per_molC/1e15).isel(depth=np.arange(0,23)).sum(dim='depth')\n",
    ").sum(dim='y').sum(dim='x').values"
   ]
  },
  {
   "cell_type": "code",
   "execution_count": null,
   "id": "a6142449-4f1b-45bd-b29a-4846791b0b66",
   "metadata": {
    "execution": {
     "iopub.execute_input": "2024-03-10T16:01:41.563380Z",
     "iopub.status.busy": "2024-03-10T16:01:41.563033Z",
     "iopub.status.idle": "2024-03-10T16:01:59.018640Z",
     "shell.execute_reply": "2024-03-10T16:01:59.017825Z",
     "shell.execute_reply.started": "2024-03-10T16:01:41.563355Z"
    },
    "tags": []
   },
   "outputs": [],
   "source": [
    "fig=plt.figure(figsize=(14, 9))\n",
    "\n",
    "ax1 = fig.add_subplot(211, projection=ccrs.Robinson(central_longitude=-60))\n",
    "ax1.set_global()\n",
    "((ds_dissic_g03hosLR.dissic.isel(time=np.arange(-120,0)).mean(dim=\"time\")*ds_volcello_u05hosLR.mean(dim=\"time\").volcello*g_per_molC/1e15).isel(depth=np.arange(0,40)).sum(dim='depth')\n",
    "-(ds_dissic_g03hosLR.dissic.isel(time=np.arange(0,120)).mean(dim=\"time\")*ds_volcello_u05hosLR.mean(dim=\"time\").volcello*g_per_molC/1e15).isel(depth=np.arange(0,40)).sum(dim='depth')\n",
    ").plot.pcolormesh(\n",
    "    ax=ax1, transform=ccrs.PlateCarree(), x=\"lon\", y=\"lat\", vmin=-0.040, vmax=0.040, cmap='RdBu_r', cbar_kwargs={'label': 'PgC, column integrated'})\n",
    "ax1.coastlines()\n",
    "ax1.set_title(\"Full depth (0-5720m)\") \n",
    "ax1.text(-0.08, 1, str(round(g03_total_full.item(), 3))+\" PgC\", transform=ax1.transAxes, fontsize=14,\n",
    "        verticalalignment='top', fontweight='bold')\n",
    "\n",
    "ax2 = fig.add_subplot(223, projection=ccrs.Robinson(central_longitude=-60))\n",
    "ax2.set_global()\n",
    "((ds_dissic_g03hosLR.dissic.isel(time=np.arange(-120,0)).mean(dim=\"time\")*ds_volcello_u05hosLR.mean(dim=\"time\").volcello*g_per_molC/1e15).isel(depth=np.arange(0,23)).sum(dim='depth')\n",
    "-(ds_dissic_g03hosLR.dissic.isel(time=np.arange(0,120)).mean(dim=\"time\")*ds_volcello_u05hosLR.mean(dim=\"time\").volcello*g_per_molC/1e15).isel(depth=np.arange(0,23)).sum(dim='depth')\n",
    ").plot.pcolormesh(\n",
    "    ax=ax2, transform=ccrs.PlateCarree(), x=\"lon\", y=\"lat\", cmap='RdBu_r', vmin=-0.040, vmax=0.040, add_colorbar=False)\n",
    "ax2.coastlines()\n",
    "ax2.set_title(\"Upper ocean (0-1085m)\") \n",
    "ax2.text(-0.08, 1, str(round(g03_total_surf.item(), 3))+\" PgC\", transform=ax2.transAxes, fontsize=14,\n",
    "        verticalalignment='top', fontweight='bold')\n",
    "\n",
    "\n",
    "ax3 = fig.add_subplot(224, projection=ccrs.Robinson(central_longitude=-60))\n",
    "ax3.set_global()\n",
    "((ds_dissic_g03hosLR.dissic.isel(time=np.arange(-120,0)).mean(dim=\"time\")*ds_volcello_u05hosLR.mean(dim=\"time\").volcello*g_per_molC/1e15).isel(depth=np.arange(23,40)).sum(dim='depth')\n",
    "-(ds_dissic_g03hosLR.dissic.isel(time=np.arange(0,120)).mean(dim=\"time\")*ds_volcello_u05hosLR.mean(dim=\"time\").volcello*g_per_molC/1e15).isel(depth=np.arange(23,40)).sum(dim='depth')\n",
    ").plot.pcolormesh(\n",
    "   ax=ax3, transform=ccrs.PlateCarree(), x=\"lon\", y=\"lat\", cmap='RdBu_r', vmin=-0.040, vmax=0.040, add_colorbar=False)\n",
    "ax3.coastlines()\n",
    "ax3.set_title(\"Deep ocean (1085-5720m)\")\n",
    "ax3.text(-0.08, 1, str(round(g03_total_deep.item(), 3))+\" PgC\", transform=ax3.transAxes, fontsize=14,\n",
    "        verticalalignment='top', fontweight='bold')"
   ]
  },
  {
   "cell_type": "markdown",
   "id": "ae12ceef-399d-4728-9a54-bf544d1425d6",
   "metadata": {},
   "source": [
    "### g01"
   ]
  },
  {
   "cell_type": "code",
   "execution_count": null,
   "id": "a9ddeb9a-b973-4b4b-bedd-529e9d62ce52",
   "metadata": {
    "collapsed": true,
    "execution": {
     "iopub.execute_input": "2024-03-10T16:01:59.020103Z",
     "iopub.status.busy": "2024-03-10T16:01:59.019756Z",
     "iopub.status.idle": "2024-03-10T16:02:03.970158Z",
     "shell.execute_reply": "2024-03-10T16:02:03.969402Z",
     "shell.execute_reply.started": "2024-03-10T16:01:59.020079Z"
    },
    "jupyter": {
     "outputs_hidden": true
    },
    "tags": []
   },
   "outputs": [],
   "source": [
    "ds_dissic_g01hosLR.load()"
   ]
  },
  {
   "cell_type": "code",
   "execution_count": 55,
   "id": "e1d606bc-482b-4fce-b313-6ff14e3110e8",
   "metadata": {
    "execution": {
     "iopub.execute_input": "2024-03-10T16:02:03.971481Z",
     "iopub.status.busy": "2024-03-10T16:02:03.971165Z",
     "iopub.status.idle": "2024-03-10T16:02:04.425596Z",
     "shell.execute_reply": "2024-03-10T16:02:04.424641Z",
     "shell.execute_reply.started": "2024-03-10T16:02:03.971461Z"
    },
    "tags": []
   },
   "outputs": [],
   "source": [
    "# Total DIC full depth (0-5720m) u05hosLR last vs first 10 years\n",
    "g01_total_full = ((ds_dissic_g01hosLR.dissic.isel(time=np.arange(-10,0)).mean(dim=\"time\")*ds_volcello_u05hosLR.mean(dim=\"time\").volcello*g_per_molC/1e15).isel(depth=np.arange(0,40)).sum(dim='depth')\n",
    "-(ds_dissic_g01hosLR.dissic.isel(time=np.arange(0,10)).mean(dim=\"time\")*ds_volcello_u05hosLR.mean(dim=\"time\").volcello*g_per_molC/1e15).isel(depth=np.arange(0,40)).sum(dim='depth')\n",
    ").sum(dim='y').sum(dim='x').values"
   ]
  },
  {
   "cell_type": "code",
   "execution_count": 56,
   "id": "568451b8-184a-4480-b12a-dc7fccea1dd3",
   "metadata": {
    "execution": {
     "iopub.execute_input": "2024-03-10T16:02:04.427394Z",
     "iopub.status.busy": "2024-03-10T16:02:04.426798Z",
     "iopub.status.idle": "2024-03-10T16:02:04.851209Z",
     "shell.execute_reply": "2024-03-10T16:02:04.850250Z",
     "shell.execute_reply.started": "2024-03-10T16:02:04.427366Z"
    },
    "tags": []
   },
   "outputs": [],
   "source": [
    "# Total DIC below 1000m (1085-5720m) u05hosLR last vs first 10 years\n",
    "g01_total_deep = ((ds_dissic_g01hosLR.dissic.isel(time=np.arange(-10,-0)).mean(dim=\"time\")*ds_volcello_u05hosLR.mean(dim=\"time\").volcello*g_per_molC/1e15).isel(depth=np.arange(23,40)).sum(dim='depth')\n",
    "-(ds_dissic_g01hosLR.dissic.isel(time=np.arange(0,10)).mean(dim=\"time\")*ds_volcello_u05hosLR.mean(dim=\"time\").volcello*g_per_molC/1e15).isel(depth=np.arange(23,40)).sum(dim='depth')\n",
    ").sum(dim='y').sum(dim='x').values"
   ]
  },
  {
   "cell_type": "code",
   "execution_count": 57,
   "id": "2c3f42c6-c7d3-48bf-b9c4-a58eebb1d0c4",
   "metadata": {
    "execution": {
     "iopub.execute_input": "2024-03-10T16:02:04.853040Z",
     "iopub.status.busy": "2024-03-10T16:02:04.852415Z",
     "iopub.status.idle": "2024-03-10T16:02:05.287229Z",
     "shell.execute_reply": "2024-03-10T16:02:05.286347Z",
     "shell.execute_reply.started": "2024-03-10T16:02:04.853014Z"
    },
    "tags": []
   },
   "outputs": [],
   "source": [
    "# Total DIC above 1000m (0-1085m) u05hosLR last vs first 10 years\n",
    "g01_total_surf = ((ds_dissic_g01hosLR.dissic.isel(time=np.arange(-10,-0)).mean(dim=\"time\")*ds_volcello_u05hosLR.mean(dim=\"time\").volcello*g_per_molC/1e15).isel(depth=np.arange(0,23)).sum(dim='depth')\n",
    "-(ds_dissic_g01hosLR.dissic.isel(time=np.arange(0,10)).mean(dim=\"time\")*ds_volcello_u05hosLR.mean(dim=\"time\").volcello*g_per_molC/1e15).isel(depth=np.arange(0,23)).sum(dim='depth')\n",
    ").sum(dim='y').sum(dim='x').values"
   ]
  },
  {
   "cell_type": "code",
   "execution_count": null,
   "id": "39f6ebb0-9533-489f-bcc8-d2d8af16af64",
   "metadata": {
    "execution": {
     "iopub.execute_input": "2024-03-10T16:02:05.288844Z",
     "iopub.status.busy": "2024-03-10T16:02:05.288374Z",
     "iopub.status.idle": "2024-03-10T16:02:13.498010Z",
     "shell.execute_reply": "2024-03-10T16:02:13.497199Z",
     "shell.execute_reply.started": "2024-03-10T16:02:05.288819Z"
    },
    "tags": []
   },
   "outputs": [],
   "source": [
    "fig=plt.figure(figsize=(14, 9))\n",
    "\n",
    "ax1 = fig.add_subplot(211, projection=ccrs.Robinson(central_longitude=-60))\n",
    "ax1.set_global()\n",
    "((ds_dissic_g01hosLR.dissic.isel(time=np.arange(-10,0)).mean(dim=\"time\")*ds_volcello_u05hosLR.mean(dim=\"time\").volcello*g_per_molC/1e15).isel(depth=np.arange(0,40)).sum(dim='depth')\n",
    "-(ds_dissic_g01hosLR.dissic.isel(time=np.arange(0,10)).mean(dim=\"time\")*ds_volcello_u05hosLR.mean(dim=\"time\").volcello*g_per_molC/1e15).isel(depth=np.arange(0,40)).sum(dim='depth')\n",
    ").plot.pcolormesh(\n",
    "    ax=ax1, transform=ccrs.PlateCarree(), x=\"lon\", y=\"lat\", vmin=-0.040, vmax=0.040, cmap='RdBu_r', cbar_kwargs={'label': 'PgC, column integrated'})\n",
    "ax1.coastlines()\n",
    "ax1.set_title(\"Full depth (0-5720m)\") \n",
    "ax1.text(-0.08, 1, str(round(g01_total_full.item(), 3))+\" PgC\", transform=ax1.transAxes, fontsize=14,\n",
    "        verticalalignment='top', fontweight='bold')\n",
    "\n",
    "ax2 = fig.add_subplot(223, projection=ccrs.Robinson(central_longitude=-60))\n",
    "ax2.set_global()\n",
    "((ds_dissic_g01hosLR.dissic.isel(time=np.arange(-10,0)).mean(dim=\"time\")*ds_volcello_u05hosLR.mean(dim=\"time\").volcello*g_per_molC/1e15).isel(depth=np.arange(0,23)).sum(dim='depth')\n",
    "-(ds_dissic_g01hosLR.dissic.isel(time=np.arange(0,10)).mean(dim=\"time\")*ds_volcello_u05hosLR.mean(dim=\"time\").volcello*g_per_molC/1e15).isel(depth=np.arange(0,23)).sum(dim='depth')\n",
    ").plot.pcolormesh(\n",
    "    ax=ax2, transform=ccrs.PlateCarree(), x=\"lon\", y=\"lat\", cmap='RdBu_r', vmin=-0.040, vmax=0.040, add_colorbar=False)\n",
    "ax2.coastlines()\n",
    "ax2.set_title(\"Upper ocean (0-1085m)\") \n",
    "ax2.text(-0.08, 1, str(round(g01_total_surf.item(), 3))+\" PgC\", transform=ax2.transAxes, fontsize=14,\n",
    "        verticalalignment='top', fontweight='bold')\n",
    "\n",
    "ax3 = fig.add_subplot(224, projection=ccrs.Robinson(central_longitude=-60))\n",
    "ax3.set_global()\n",
    "((ds_dissic_g01hosLR.dissic.isel(time=np.arange(-10,0)).mean(dim=\"time\")*ds_volcello_u05hosLR.mean(dim=\"time\").volcello*g_per_molC/1e15).isel(depth=np.arange(23,40)).sum(dim='depth')\n",
    "-(ds_dissic_g01hosLR.dissic.isel(time=np.arange(0,10)).mean(dim=\"time\")*ds_volcello_u05hosLR.mean(dim=\"time\").volcello*g_per_molC/1e15).isel(depth=np.arange(23,40)).sum(dim='depth')\n",
    ").plot.pcolormesh(\n",
    "   ax=ax3, transform=ccrs.PlateCarree(), x=\"lon\", y=\"lat\", cmap='RdBu_r', vmin=-0.040, vmax=0.040, add_colorbar=False)\n",
    "ax3.coastlines()\n",
    "ax3.set_title(\"Deep ocean (1085-5720m)\")\n",
    "ax3.text(-0.08, 1, str(round(g01_total_deep.item(), 3))+\" PgC\", transform=ax3.transAxes, fontsize=14,\n",
    "        verticalalignment='top', fontweight='bold')"
   ]
  },
  {
   "cell_type": "markdown",
   "id": "c4948561-ce8a-4f3a-9f27-e454a76ca95d",
   "metadata": {},
   "source": [
    "### all - full depth"
   ]
  },
  {
   "cell_type": "code",
   "execution_count": null,
   "id": "6526b6fb-a491-4588-bdbf-f46826093f41",
   "metadata": {
    "execution": {
     "iopub.execute_input": "2024-03-10T16:02:13.499498Z",
     "iopub.status.busy": "2024-03-10T16:02:13.499172Z",
     "iopub.status.idle": "2024-03-10T16:02:33.972575Z",
     "shell.execute_reply": "2024-03-10T16:02:33.971745Z",
     "shell.execute_reply.started": "2024-03-10T16:02:13.499476Z"
    },
    "tags": []
   },
   "outputs": [],
   "source": [
    "fig=plt.figure(figsize=(14, 6))\n",
    "\n",
    "ax1 = fig.add_subplot(221, projection=ccrs.Robinson(central_longitude=-60))\n",
    "ax1.set_global()\n",
    "((ds_dissic_u03hosLR.dissic.isel(time=np.arange(-120,0)).mean(dim=\"time\")*ds_volcello_u05hosLR.mean(dim=\"time\").volcello*g_per_molC/1e15).isel(depth=np.arange(0,40)).sum(dim='depth')\n",
    "-(ds_dissic_u03hosLR.dissic.isel(time=np.arange(0,120)).mean(dim=\"time\")*ds_volcello_u05hosLR.mean(dim=\"time\").volcello*g_per_molC/1e15).isel(depth=np.arange(0,40)).sum(dim='depth')\n",
    ").plot.pcolormesh(\n",
    "    ax=ax1, transform=ccrs.PlateCarree(), x=\"lon\", y=\"lat\", vmin=-0.040, vmax=0.040, cmap='RdBu_r', cbar_kwargs={'label': 'PgC, column integrated'})\n",
    "ax1.coastlines()\n",
    "ax1.set_title(\"u03\")\n",
    "ax1.text(-0.1, 1.1, str(round(u03_total_full.item(), 3))+\" PgC\", transform=ax1.transAxes, fontsize=14,\n",
    "        verticalalignment='top', fontweight='bold')\n",
    "\n",
    "ax2 = fig.add_subplot(222, projection=ccrs.Robinson(central_longitude=-60))\n",
    "ax2.set_global()\n",
    "((ds_dissic_u05hosLR.dissic.isel(time=np.arange(-120,0)).mean(dim=\"time\")*ds_volcello_u05hosLR.mean(dim=\"time\").volcello*g_per_molC/1e15).isel(depth=np.arange(0,40)).sum(dim='depth')\n",
    "-(ds_dissic_u05hosLR.dissic.isel(time=np.arange(0,120)).mean(dim=\"time\")*ds_volcello_u05hosLR.mean(dim=\"time\").volcello*g_per_molC/1e15).isel(depth=np.arange(0,40)).sum(dim='depth')\n",
    ").plot.pcolormesh(\n",
    "    ax=ax2, transform=ccrs.PlateCarree(), x=\"lon\", y=\"lat\", vmin=-0.040, vmax=0.040, cmap='RdBu_r', cbar_kwargs={'label': 'PgC, column integrated'})\n",
    "ax2.coastlines()\n",
    "ax2.set_title(\"u05\")\n",
    "ax2.text(-0.1, 1.1, str(round(u05_total_full.item(), 3))+\" PgC\", transform=ax2.transAxes, fontsize=14,\n",
    "        verticalalignment='top', fontweight='bold')\n",
    "\n",
    "\n",
    "ax3 = fig.add_subplot(223, projection=ccrs.Robinson(central_longitude=-60))\n",
    "ax3.set_global()\n",
    "((ds_dissic_g03hosLR.dissic.isel(time=np.arange(-120,0)).mean(dim=\"time\")*ds_volcello_u05hosLR.mean(dim=\"time\").volcello*g_per_molC/1e15).isel(depth=np.arange(0,40)).sum(dim='depth')\n",
    "-(ds_dissic_g03hosLR.dissic.isel(time=np.arange(0,120)).mean(dim=\"time\")*ds_volcello_u05hosLR.mean(dim=\"time\").volcello*g_per_molC/1e15).isel(depth=np.arange(0,40)).sum(dim='depth')\n",
    ").plot.pcolormesh(\n",
    "    ax=ax3, transform=ccrs.PlateCarree(), x=\"lon\", y=\"lat\", vmin=-0.040, vmax=0.040, cmap='RdBu_r', cbar_kwargs={'label': 'PgC, column integrated'})\n",
    "ax3.coastlines()\n",
    "ax3.set_title(\"g03\")\n",
    "ax3.text(-0.1, 1.1, str(round(g03_total_full.item(), 3))+\" PgC\", transform=ax3.transAxes, fontsize=14,\n",
    "        verticalalignment='top', fontweight='bold')\n",
    "\n",
    "\n",
    "ax4 = fig.add_subplot(224, projection=ccrs.Robinson(central_longitude=-60))\n",
    "ax4.set_global()\n",
    "((ds_dissic_g01hosLR.dissic.isel(time=np.arange(-10,0)).mean(dim=\"time\")*ds_volcello_u05hosLR.mean(dim=\"time\").volcello*g_per_molC/1e15).isel(depth=np.arange(0,40)).sum(dim='depth')\n",
    "-(ds_dissic_g01hosLR.dissic.isel(time=np.arange(0,10)).mean(dim=\"time\")*ds_volcello_u05hosLR.mean(dim=\"time\").volcello*g_per_molC/1e15).isel(depth=np.arange(0,40)).sum(dim='depth')\n",
    ").plot.pcolormesh(\n",
    "    ax=ax4, transform=ccrs.PlateCarree(), x=\"lon\", y=\"lat\", vmin=-0.040, vmax=0.040, cmap='RdBu_r', cbar_kwargs={'label': 'PgC, column integrated'})\n",
    "ax4.coastlines()\n",
    "ax4.set_title(\"g01\")\n",
    "ax4.text(-0.1, 1.1, str(round(g01_total_full.item(), 3))+\" PgC\", transform=ax4.transAxes, fontsize=14,\n",
    "        verticalalignment='top', fontweight='bold')"
   ]
  },
  {
   "cell_type": "markdown",
   "id": "a4905b39-b715-4e6d-ba94-0929e6c02ed2",
   "metadata": {},
   "source": [
    "### Time series"
   ]
  },
  {
   "cell_type": "code",
   "execution_count": 60,
   "id": "27e13a2d-503a-4cef-9b51-b243e74ef332",
   "metadata": {
    "execution": {
     "iopub.execute_input": "2024-03-10T16:04:00.274772Z",
     "iopub.status.busy": "2024-03-10T16:04:00.274396Z",
     "iopub.status.idle": "2024-03-10T16:08:29.514972Z",
     "shell.execute_reply": "2024-03-10T16:08:29.514323Z",
     "shell.execute_reply.started": "2024-03-10T16:04:00.274749Z"
    },
    "tags": []
   },
   "outputs": [],
   "source": [
    "diff_dissic_u05 = []\n",
    "for year in range(1,200):\n",
    "    diff_dissic_u05.append(\n",
    "        ((ds_dissic_u05hosLR.dissic.isel(time=np.arange(year*12,year*12+12)).mean(dim=\"time\")*ds_volcello_u05hosLR.sum(dim=\"time\").volcello*g_per_molC/1e15).isel(depth=np.arange(0,40)).sum(dim='depth')\n",
    "        -(ds_dissic_u05hosLR.dissic.isel(time=np.arange(0,12)).mean(dim=\"time\")*ds_volcello_u05hosLR.sum(dim=\"time\").volcello*g_per_molC/1e15).isel(depth=np.arange(0,40)).sum(dim='depth')\n",
    "        ).sum(dim='y').sum(dim='x').values)\n",
    "diff_dissic_u03 = []\n",
    "for year in range(1,200):\n",
    "    diff_dissic_u03.append(\n",
    "        ((ds_dissic_u03hosLR.dissic.isel(time=np.arange(year*12,year*12+12)).mean(dim=\"time\")*ds_volcello_u05hosLR.sum(dim=\"time\").volcello*g_per_molC/1e15).isel(depth=np.arange(0,40)).sum(dim='depth')\n",
    "        -(ds_dissic_u03hosLR.dissic.isel(time=np.arange(0,12)).mean(dim=\"time\")*ds_volcello_u05hosLR.sum(dim=\"time\").volcello*g_per_molC/1e15).isel(depth=np.arange(0,40)).sum(dim='depth')\n",
    "        ).sum(dim='y').sum(dim='x').values)    \n",
    "diff_dissic_g03 = []\n",
    "for year in range(1,200):\n",
    "    diff_dissic_g03.append(\n",
    "        ((ds_dissic_g03hosLR.dissic.isel(time=np.arange(year*12,year*12+12)).mean(dim=\"time\")*ds_volcello_u05hosLR.sum(dim=\"time\").volcello*g_per_molC/1e15).isel(depth=np.arange(0,40)).sum(dim='depth')\n",
    "        -(ds_dissic_g03hosLR.dissic.isel(time=np.arange(0,12)).mean(dim=\"time\")*ds_volcello_u05hosLR.sum(dim=\"time\").volcello*g_per_molC/1e15).isel(depth=np.arange(0,40)).sum(dim='depth')\n",
    "        ).sum(dim='y').sum(dim='x').values)        \n",
    "diff_dissic_g01 = []\n",
    "for year in range(1,200):\n",
    "    diff_dissic_g01.append(\n",
    "        ((ds_dissic_g01hosLR.dissic.isel(time=year)*ds_volcello_u05hosLR.sum(dim=\"time\").volcello*g_per_molC/1e15).isel(depth=np.arange(0,40)).sum(dim='depth')\n",
    "        -(ds_dissic_g01hosLR.dissic.isel(time=0)*ds_volcello_u05hosLR.sum(dim=\"time\").volcello*g_per_molC/1e15).isel(depth=np.arange(0,40)).sum(dim='depth')\n",
    "        ).sum(dim='y').sum(dim='x').values)  "
   ]
  },
  {
   "cell_type": "code",
   "execution_count": 61,
   "id": "c076ae5e-9e0b-4558-ac44-1d5cdbe3de63",
   "metadata": {
    "execution": {
     "iopub.execute_input": "2024-03-10T16:08:29.516414Z",
     "iopub.status.busy": "2024-03-10T16:08:29.516139Z",
     "iopub.status.idle": "2024-03-10T16:08:29.526676Z",
     "shell.execute_reply": "2024-03-10T16:08:29.526164Z",
     "shell.execute_reply.started": "2024-03-10T16:08:29.516392Z"
    },
    "tags": []
   },
   "outputs": [],
   "source": [
    "np.save('diff_dissic_u03.npy', diff_dissic_u03)  \n",
    "np.save('diff_dissic_u05.npy', diff_dissic_u05)  \n",
    "np.save('diff_dissic_g03.npy', diff_dissic_g03)  \n",
    "np.save('diff_dissic_g01.npy', diff_dissic_g01)  "
   ]
  },
  {
   "cell_type": "code",
   "execution_count": 10,
   "id": "45cb02a2-799e-4347-84b0-ce42590c445a",
   "metadata": {
    "execution": {
     "iopub.execute_input": "2023-08-27T17:32:41.851315Z",
     "iopub.status.busy": "2023-08-27T17:32:41.850560Z",
     "iopub.status.idle": "2023-08-27T17:33:14.576875Z",
     "shell.execute_reply": "2023-08-27T17:33:14.571876Z",
     "shell.execute_reply.started": "2023-08-27T17:32:41.851287Z"
    },
    "tags": []
   },
   "outputs": [],
   "source": [
    "diff_dissic_u03 = np.load('diff_dissic_u03.npy')\n",
    "diff_dissic_u05 = np.load('diff_dissic_u05.npy')\n",
    "diff_dissic_g03 = np.load('diff_dissic_g03.npy')\n",
    "diff_dissic_g01 = np.load('diff_dissic_g01.npy')"
   ]
  },
  {
   "cell_type": "code",
   "execution_count": null,
   "id": "71bec540-b2cd-44ac-9a44-d0a6c0457284",
   "metadata": {
    "execution": {
     "iopub.execute_input": "2024-03-10T16:08:29.692660Z",
     "iopub.status.busy": "2024-03-10T16:08:29.692422Z",
     "iopub.status.idle": "2024-03-10T16:08:33.687284Z",
     "shell.execute_reply": "2024-03-10T16:08:33.686662Z",
     "shell.execute_reply.started": "2024-03-10T16:08:29.692641Z"
    },
    "tags": []
   },
   "outputs": [],
   "source": [
    "fig, ax1 = plt.subplots()\n",
    "\n",
    "ax1.plot(np.arange(1851, 2050), diff_dissic_u03, label='u03-LR', color='orange')\n",
    "ax1.plot(np.arange(1851, 2050), diff_dissic_u05, label ='u05-LR', color='red')\n",
    "ax1.plot(np.arange(1851, 2050), diff_dissic_g03, label ='g03-LR', color='darkblue')\n",
    "ax1.plot(np.arange(1851, 2050), diff_dissic_g01, label ='g01-LR', color='lightblue')\n",
    "ax1.legend()\n",
    "ax1.set_xlabel(\"Time [year]\")\n",
    "ax1.set_ylabel('Difference Ocean Carbon [PgC]', color='darkgreen')\n",
    "ax1.tick_params(axis='y', labelcolor=\"darkgreen\")\n",
    "ax1.spines['top'].set_visible(False)\n",
    "\n",
    "ax2 = ax1.twinx()\n",
    "(ds_msftmz_u03hosLR.sel(lat=26.5).sel(depth_2=1020).sel(lon=0).groupby('time.year').mean('time').atlantic_moc/1e9).plot(ax=ax2, color='orange')\n",
    "(ds_msftmz_u05hosLR.sel(lat=26.5).sel(depth_2=1020).sel(lon=0).groupby('time.year').mean('time').atlantic_moc/1e9).plot(ax=ax2, color='red')\n",
    "(ds_msftmz_g03hosLR.sel(lat=26.5).sel(depth_2=1020).sel(lon=0).groupby('time.year').mean('time').atlantic_moc/1e9).plot(ax=ax2, color='darkblue')\n",
    "(ds_msftmz_g01hosLR.sel(lat=26.5).sel(depth_2=1020).sel(lon=0).groupby('time.year').mean('time').atlantic_moc/1e9).plot(ax=ax2, color='lightblue')\n",
    "ax2.tick_params(axis='y', labelcolor='k')\n",
    "ax2.set_ylabel(\"AMOC strength [Sv]\")\n",
    "ax2.spines['top'].set_visible(False)\n",
    "\n",
    "#plt.legend(['u03','u05','g03','g01'])\n",
    "fig.tight_layout()  # otherwise the right y-label is slightly clipped\n",
    "\n",
    "plt.show()"
   ]
  },
  {
   "cell_type": "code",
   "execution_count": null,
   "id": "fb1fe928-979b-4b40-9748-59678d2b3ef2",
   "metadata": {
    "execution": {
     "iopub.execute_input": "2024-03-10T16:08:33.688438Z",
     "iopub.status.busy": "2024-03-10T16:08:33.688169Z",
     "iopub.status.idle": "2024-03-10T16:08:36.192046Z",
     "shell.execute_reply": "2024-03-10T16:08:36.191402Z",
     "shell.execute_reply.started": "2024-03-10T16:08:33.688418Z"
    },
    "tags": []
   },
   "outputs": [],
   "source": [
    "fig, axs = plt.subplots(2, 1, figsize=(7,7), sharex=True)\n",
    "fig.subplots_adjust(hspace=0)\n",
    "\n",
    "axs[0].plot(np.arange(1851, 2050), diff_dissic_u03, label='u03-LR', color='orange')\n",
    "axs[0].plot(np.arange(1851, 2050), diff_dissic_u05, label ='u05-LR', color='red')\n",
    "axs[0].plot(np.arange(1851, 2050), diff_dissic_g03, label ='g03-LR', color='darkblue')\n",
    "axs[0].plot(np.arange(1851, 2050), diff_dissic_g01, label ='g01-LR', color='lightblue')\n",
    "axs[0].legend(loc='lower center')\n",
    "axs[0].set_xlabel(\"\")\n",
    "axs[0].set_ylabel('Difference Ocean Carbon [PgC]', color='darkgreen')\n",
    "axs[0].tick_params(axis='y', labelcolor=\"darkgreen\")\n",
    "axs[0].spines['bottom'].set_visible(False)\n",
    "axs[0].spines['top'].set_visible(False)\n",
    "axs[0].spines['right'].set_visible(False)\n",
    "axs[0].set_xticks([])\n",
    "axs[0].get_xaxis().set_visible(False)\n",
    "\n",
    "(ds_msftmz_u03hosLR.sel(lat=26.5).sel(depth_2=1020).sel(lon=0).groupby('time.year').mean('time').atlantic_moc/1e9).plot(ax=axs[1], color='orange')\n",
    "(ds_msftmz_u05hosLR.sel(lat=26.5).sel(depth_2=1020).sel(lon=0).groupby('time.year').mean('time').atlantic_moc/1e9).plot(ax=axs[1], color='red')\n",
    "(ds_msftmz_g03hosLR.sel(lat=26.5).sel(depth_2=1020).sel(lon=0).groupby('time.year').mean('time').atlantic_moc/1e9).plot(ax=axs[1], color='darkblue')\n",
    "(ds_msftmz_g01hosLR.sel(lat=26.5).sel(depth_2=1020).sel(lon=0).groupby('time.year').mean('time').atlantic_moc/1e9).plot(ax=axs[1], color='lightblue')\n",
    "axs[1].tick_params(axis='y', labelcolor='darkblue')\n",
    "axs[1].set_ylabel(\"AMOC strength [Sv]\")\n",
    "axs[1].spines['left'].set_visible(False)\n",
    "axs[1].spines['top'].set_visible(False)\n",
    "axs[1].set_xlabel(\"Time [year]\")\n",
    "axs[1].yaxis.set_label_position(\"right\")\n",
    "axs[1].yaxis.tick_right()\n",
    "axs[1].set_title(\"\")\n",
    "axs[1].set_xticks([1850, 1875, 1900, 1925, 1950, 1975, 2000, 2025, 2050], [0, 25, 50, 75, 100, 125, 150, 175, 200])\n",
    "fig.tight_layout()  # otherwise the right y-label is slightly clipped\n",
    "plt.show()"
   ]
  },
  {
   "cell_type": "code",
   "execution_count": 66,
   "id": "39e34d04-3656-42cb-b9a2-8d7cc0b058cd",
   "metadata": {
    "execution": {
     "iopub.execute_input": "2024-03-10T16:10:59.175192Z",
     "iopub.status.busy": "2024-03-10T16:10:59.174815Z",
     "iopub.status.idle": "2024-03-10T16:11:00.822467Z",
     "shell.execute_reply": "2024-03-10T16:11:00.821800Z",
     "shell.execute_reply.started": "2024-03-10T16:10:59.175169Z"
    },
    "tags": []
   },
   "outputs": [],
   "source": [
    "amoc_u03=(ds_msftmz_u03hosLR.sel(lat=26.5).sel(depth_2=1020).sel(lon=0).groupby('time.year').mean('time').atlantic_moc/1e9)\n",
    "amoc_u05=(ds_msftmz_u05hosLR.sel(lat=26.5).sel(depth_2=1020).sel(lon=0).groupby('time.year').mean('time').atlantic_moc/1e9)\n",
    "amoc_g03=(ds_msftmz_g03hosLR.sel(lat=26.5).sel(depth_2=1020).sel(lon=0).groupby('time.year').mean('time').atlantic_moc/1e9)\n",
    "amoc_g01=(ds_msftmz_g01hosLR.sel(lat=26.5).sel(depth_2=1020).sel(lon=0).groupby('time.year').mean('time').atlantic_moc/1e9)"
   ]
  },
  {
   "cell_type": "code",
   "execution_count": null,
   "id": "4f77b657-554c-4de1-a736-ba90dd6ff687",
   "metadata": {
    "execution": {
     "iopub.execute_input": "2024-03-10T16:11:01.559157Z",
     "iopub.status.busy": "2024-03-10T16:11:01.558775Z",
     "iopub.status.idle": "2024-03-10T16:11:02.469071Z",
     "shell.execute_reply": "2024-03-10T16:11:02.468420Z",
     "shell.execute_reply.started": "2024-03-10T16:11:01.559136Z"
    },
    "tags": []
   },
   "outputs": [],
   "source": [
    "plt.plot(amoc_u03[1:], diff_dissic_u03, label='u03-LR')\n",
    "plt.plot(amoc_u05[1:], diff_dissic_u05, label='u05-LR')\n",
    "plt.plot(amoc_g03[1:], diff_dissic_g03, label='g03-LR')\n",
    "plt.plot(amoc_g01[1:], diff_dissic_g01, label='g01-LR')\n",
    "plt.xlabel('AMOC [Sv]')\n",
    "plt.ylabel('Difference Ocean Carbon [PgC]')\n",
    "plt.legend()\n",
    "plt.savefig('/home/m/m300817/carbon_amoc/plots/dissic_vs_moc_hosing.jpg', bbox_inches='tight')"
   ]
  },
  {
   "cell_type": "markdown",
   "id": "680170ba-b068-4cdc-b2cf-b3817b677790",
   "metadata": {},
   "source": [
    "### Temperature"
   ]
  },
  {
   "cell_type": "code",
   "execution_count": 78,
   "id": "4138a9d3-6211-4ec5-86e2-53e41fedd189",
   "metadata": {
    "execution": {
     "iopub.execute_input": "2024-03-10T16:18:00.593626Z",
     "iopub.status.busy": "2024-03-10T16:18:00.593118Z",
     "iopub.status.idle": "2024-03-10T16:19:13.216580Z",
     "shell.execute_reply": "2024-03-10T16:19:13.215847Z",
     "shell.execute_reply.started": "2024-03-10T16:18:00.593602Z"
    },
    "tags": []
   },
   "outputs": [],
   "source": [
    "diff_tas_u05 = []\n",
    "for year in range(1,200):\n",
    "    diff_tas_u05.append(\n",
    "        ((ds_tas_u05hosLR.tas.isel(time=np.arange(year*12,year*12+12)).mean(dim=\"time\")\n",
    "        -(ds_tas_u05hosLR.tas.isel(time=np.arange(0,12)).mean(dim=\"time\"))\n",
    "        ).mean(dim='lat').mean(dim='lon').values))\n",
    "diff_tas_u03 = []\n",
    "for year in range(1,200):\n",
    "    diff_tas_u03.append(\n",
    "        ((ds_tas_u03hosLR.tas.isel(time=np.arange(year*12,year*12+12)).mean(dim=\"time\")\n",
    "        -(ds_tas_u03hosLR.tas.isel(time=np.arange(0,12)).mean(dim=\"time\"))\n",
    "        ).mean(dim='lat').mean(dim='lon').values))\n",
    "diff_tas_g03 = []\n",
    "for year in range(1,200):\n",
    "    diff_tas_g03.append(\n",
    "        ((ds_tas_g03hosLR.temp2.isel(time=np.arange(year*12,year*12+12)).mean(dim=\"time\")\n",
    "        -(ds_tas_g03hosLR.temp2.isel(time=np.arange(0,12)).mean(dim=\"time\"))\n",
    "        ).mean(dim='lat').mean(dim='lon').values))       \n",
    "diff_tas_g01 = []\n",
    "for year in range(1,200):\n",
    "    diff_tas_g01.append(\n",
    "        ((ds_tas_g01hosLR.temp2.isel(time=np.arange(year*12,year*12+12)).mean(dim=\"time\")\n",
    "        -(ds_tas_g01hosLR.temp2.isel(time=np.arange(0,12)).mean(dim=\"time\"))\n",
    "        ).mean(dim='lat').mean(dim='lon').values))     "
   ]
  },
  {
   "cell_type": "code",
   "execution_count": null,
   "id": "c7fd5afa-6117-4666-983a-c4b4be6fe5e0",
   "metadata": {
    "execution": {
     "iopub.execute_input": "2024-03-10T16:21:49.652775Z",
     "iopub.status.busy": "2024-03-10T16:21:49.652334Z",
     "iopub.status.idle": "2024-03-10T16:21:55.672098Z",
     "shell.execute_reply": "2024-03-10T16:21:55.671268Z",
     "shell.execute_reply.started": "2024-03-10T16:21:49.652752Z"
    },
    "tags": []
   },
   "outputs": [],
   "source": [
    "ds_tas_u03hosLR.groupby('time.year').mean('time').mean(dim='lat').mean(dim='lon').tas.plot(label='u03-LR')\n",
    "ds_tas_u05hosLR.groupby('time.year').mean('time').mean(dim='lat').mean(dim='lon').tas.plot(label='u05-LR')\n",
    "ds_tas_g03hosLR.groupby('time.year').mean('time').mean(dim='lat').mean(dim='lon').temp2.plot(label='g03-LR')\n",
    "ds_tas_g01hosLR.groupby('time.year').mean('time').mean(dim='lat').mean(dim='lon').temp2.plot(label='g01-LR')"
   ]
  },
  {
   "cell_type": "code",
   "execution_count": null,
   "id": "701f925a-53e9-4f23-bcec-100040faa512",
   "metadata": {
    "execution": {
     "iopub.execute_input": "2024-03-10T16:22:04.433336Z",
     "iopub.status.busy": "2024-03-10T16:22:04.432800Z",
     "iopub.status.idle": "2024-03-10T16:22:06.099478Z",
     "shell.execute_reply": "2024-03-10T16:22:06.098645Z",
     "shell.execute_reply.started": "2024-03-10T16:22:04.433311Z"
    },
    "tags": []
   },
   "outputs": [],
   "source": [
    "plt.scatter(amoc_u03[1:], diff_tas_u03, label='u03-LR')\n",
    "plt.scatter(amoc_u05[1:], diff_tas_u05, label='u05-LR')\n",
    "plt.scatter(amoc_g03[1:], diff_tas_g03, label='g03-LR')\n",
    "plt.scatter(amoc_g01[1:], diff_tas_g01, label='g01-LR')\n",
    "plt.xlabel('AMOC [Sv]')\n",
    "plt.ylabel('$\\Delta$T (°C)')\n",
    "plt.legend()"
   ]
  },
  {
   "cell_type": "code",
   "execution_count": null,
   "id": "b51ba4e8-9a19-4a40-95ab-f0692313df37",
   "metadata": {
    "execution": {
     "iopub.execute_input": "2024-03-10T16:22:43.847192Z",
     "iopub.status.busy": "2024-03-10T16:22:43.846645Z",
     "iopub.status.idle": "2024-03-10T16:22:49.091948Z",
     "shell.execute_reply": "2024-03-10T16:22:49.091106Z",
     "shell.execute_reply.started": "2024-03-10T16:22:43.847166Z"
    },
    "tags": []
   },
   "outputs": [],
   "source": [
    "fig=plt.figure(figsize=(14, 6))\n",
    "\n",
    "ax1 = fig.add_subplot(221, projection=ccrs.Robinson(central_longitude=-60))\n",
    "ax1.set_global()\n",
    "(ds_tas_u03hosLR.tas.isel(time=np.arange(-120,0)).mean(dim=\"time\")\n",
    "-ds_tas_u03hosLR.tas.isel(time=np.arange(0,120)).mean(dim=\"time\")\n",
    ").plot.pcolormesh(\n",
    "    ax=ax1, transform=ccrs.PlateCarree(), x=\"lon\", y=\"lat\", cmap='RdBu_r', cbar_kwargs={'label': '$\\Delta$T (°C)'})\n",
    "ax1.coastlines()\n",
    "ax1.set_title(\"u03\")\n",
    "\n",
    "ax2 = fig.add_subplot(222, projection=ccrs.Robinson(central_longitude=-60))\n",
    "ax2.set_global()\n",
    "(ds_tas_u05hosLR.tas.isel(time=np.arange(-120,0)).mean(dim=\"time\")\n",
    "-ds_tas_u05hosLR.tas.isel(time=np.arange(0,120)).mean(dim=\"time\")\n",
    ").plot.pcolormesh(\n",
    "    ax=ax2, transform=ccrs.PlateCarree(), x=\"lon\", y=\"lat\", cmap='RdBu_r', cbar_kwargs={'label': '$\\Delta$T (°C)'})\n",
    "ax2.coastlines()\n",
    "ax2.set_title(\"u05\")\n",
    "\n",
    "\n",
    "ax3 = fig.add_subplot(223, projection=ccrs.Robinson(central_longitude=-60))\n",
    "ax3.set_global()\n",
    "(ds_tas_g03hosLR.temp2.isel(time=np.arange(-120,0)).mean(dim=\"time\")\n",
    "-ds_tas_g03hosLR.temp2.isel(time=np.arange(0,120)).mean(dim=\"time\")\n",
    ").plot.pcolormesh(\n",
    "    ax=ax3, transform=ccrs.PlateCarree(), x=\"lon\", y=\"lat\", cmap='RdBu_r', cbar_kwargs={'label': '$\\Delta$T (°C)'})\n",
    "ax3.coastlines()\n",
    "ax3.set_title(\"g03\")\n",
    "\n",
    "\n",
    "ax4 = fig.add_subplot(224, projection=ccrs.Robinson(central_longitude=-60))\n",
    "ax4.set_global()\n",
    "(ds_tas_g01hosLR.temp2.isel(time=np.arange(-120,0)).mean(dim=\"time\")\n",
    "-ds_tas_g01hosLR.temp2.isel(time=np.arange(0,120)).mean(dim=\"time\")\n",
    ").plot.pcolormesh(\n",
    "    ax=ax4, transform=ccrs.PlateCarree(), x=\"lon\", y=\"lat\", cmap='RdBu_r', cbar_kwargs={'label': '$\\Delta$T (°C)'})\n",
    "ax4.coastlines()\n",
    "ax4.set_title(\"g01\")"
   ]
  },
  {
   "cell_type": "code",
   "execution_count": null,
   "id": "3f994194-976f-4e69-b828-8a18f00b1e24",
   "metadata": {
    "execution": {
     "iopub.execute_input": "2024-03-10T16:23:19.607427Z",
     "iopub.status.busy": "2024-03-10T16:23:19.606855Z",
     "iopub.status.idle": "2024-03-10T16:23:26.590400Z",
     "shell.execute_reply": "2024-03-10T16:23:26.589528Z",
     "shell.execute_reply.started": "2024-03-10T16:23:19.607402Z"
    },
    "tags": []
   },
   "outputs": [],
   "source": [
    "fig=plt.figure(figsize=(14, 9))\n",
    "\n",
    "ax1 = fig.add_subplot(211, projection=ccrs.Robinson(central_longitude=-60))\n",
    "ax1.set_global()\n",
    "((ds_tas_u03hosLR.groupby('time.year').mean('time').isel(year=np.arange(90,100)).mean(dim='year').tas)\n",
    "-(ds_tas_u03hosLR.groupby('time.year').mean('time').isel(year=np.arange(0,10)).mean(dim='year').tas)\n",
    ").plot.pcolormesh(\n",
    "    ax=ax1, transform=ccrs.PlateCarree(), x=\"lon\", y=\"lat\", cmap='RdBu_r', cbar_kwargs={'label': 'K'})\n",
    "ax1.coastlines()\n",
    "ax1.set_title(\"Anomaly after 100 yrs wrt year 0\") \n",
    "\n",
    "ax1 = fig.add_subplot(212, projection=ccrs.Robinson(central_longitude=-60))\n",
    "ax1.set_global()\n",
    "((ds_tas_u05hosLR.groupby('time.year').mean('time').isel(year=np.arange(-10,0)).mean(dim='year').tas)\n",
    "-(ds_tas_u05hosLR.groupby('time.year').mean('time').isel(year=np.arange(100,110)).mean(dim='year').tas)\n",
    ").plot.pcolormesh(\n",
    "    ax=ax1, transform=ccrs.PlateCarree(), x=\"lon\", y=\"lat\", cmap='RdBu_r', cbar_kwargs={'label': 'K'})\n",
    "ax1.coastlines()\n",
    "ax1.set_title(\"Anomaly after 200 yrs wrt year 100\") "
   ]
  },
  {
   "cell_type": "markdown",
   "id": "a45b9aa0-37cc-4859-9481-45dd14bc5c47",
   "metadata": {},
   "source": [
    "GIF"
   ]
  },
  {
   "cell_type": "code",
   "execution_count": 30,
   "id": "92591fd1-4190-4b87-a817-0b521768bc80",
   "metadata": {
    "execution": {
     "iopub.execute_input": "2024-06-28T08:21:04.375755Z",
     "iopub.status.busy": "2024-06-28T08:21:04.375303Z",
     "iopub.status.idle": "2024-06-28T08:21:04.935363Z",
     "shell.execute_reply": "2024-06-28T08:21:04.934770Z",
     "shell.execute_reply.started": "2024-06-28T08:21:04.375734Z"
    }
   },
   "outputs": [],
   "source": [
    "u05_amoc=(ds_msftmz_u05hosLR.sel(lat=26.5).sel(depth_2=1020).sel(lon=0).groupby('time.year').mean('time').atlantic_moc/1e9).load()"
   ]
  },
  {
   "cell_type": "code",
   "execution_count": 64,
   "id": "7ae638b2-bf60-45f5-8c48-72c1541d93d6",
   "metadata": {
    "execution": {
     "iopub.execute_input": "2024-06-28T09:01:52.726843Z",
     "iopub.status.busy": "2024-06-28T09:01:52.726337Z",
     "iopub.status.idle": "2024-06-28T09:02:55.709742Z",
     "shell.execute_reply": "2024-06-28T09:02:55.709014Z",
     "shell.execute_reply.started": "2024-06-28T09:01:52.726819Z"
    },
    "tags": []
   },
   "outputs": [],
   "source": [
    "for i in range(1,20):\n",
    "    fig=plt.figure(figsize=(10, 6))\n",
    "    ax1 = fig.add_subplot(111, projection=ccrs.Robinson(central_longitude=-60))\n",
    "    ax1.set_global()\n",
    "    ((ds_tas_u03hosLR.groupby('time.year').mean('time').isel(year=np.arange(i*10,(i+1)*10)).mean(dim='year').tas)\n",
    "    -(ds_tas_u03hosLR.groupby('time.year').mean('time').isel(year=np.arange(0,10)).mean(dim='year').tas)\n",
    "    ).plot.pcolormesh(\n",
    "        ax=ax1, transform=ccrs.PlateCarree(), x=\"lon\", y=\"lat\", vmin=-3.5, vmax=3.5, cmap='RdBu_r', cbar_kwargs={'label': 'K', 'extend': 'both'})\n",
    "    ax1.coastlines()\n",
    "    ax1.set_title(f\"SAT anomaly after {(i+1)*10} years\", fontsize =16) \n",
    "    ax1.text(0, 1.2, str(round(u05_amoc.isel(year=(i+1)*10-1).values.item(), 1))+\" Sv\", transform=ax1.transAxes, fontsize=20,\n",
    "        verticalalignment='top', fontweight='bold')\n",
    "    plt.savefig(f'/work/uo1075/m300817/carbon_amoc/plots/Tdiff_u05_y{(i+1)*10}.png')\n",
    "    plt.close()"
   ]
  },
  {
   "cell_type": "code",
   "execution_count": null,
   "id": "0245320d-596c-4d77-a8cb-e5022e167338",
   "metadata": {
    "execution": {
     "iopub.execute_input": "2024-06-28T09:01:11.830900Z",
     "iopub.status.busy": "2024-06-28T09:01:11.830420Z",
     "iopub.status.idle": "2024-06-28T09:01:15.038297Z",
     "shell.execute_reply": "2024-06-28T09:01:15.037626Z",
     "shell.execute_reply.started": "2024-06-28T09:01:11.830876Z"
    }
   },
   "outputs": [],
   "source": [
    "fig=plt.figure(figsize=(10, 6))\n",
    "ax1 = fig.add_subplot(111, projection=ccrs.Robinson(central_longitude=-60))\n",
    "ax1.set_global()\n",
    "((ds_tas_u03hosLR.groupby('time.year').mean('time').isel(year=np.arange(19*10,(19+1)*10)).mean(dim='year').tas)\n",
    "-(ds_tas_u03hosLR.groupby('time.year').mean('time').isel(year=np.arange(0,10)).mean(dim='year').tas)\n",
    ").plot.pcolormesh(\n",
    "    ax=ax1, transform=ccrs.PlateCarree(), x=\"lon\", y=\"lat\", vmin=-3.5, vmax=3.5, cmap='RdBu_r', cbar_kwargs={'label': 'K'})\n",
    "ax1.coastlines()\n",
    "ax1.set_title(f\"SAT anomaly after {(19+1)*10} years\", fontsize =16) \n",
    "ax1.text(0, 1.2, str(round(u05_amoc.isel(year=(19+1)*10-1).values.item(), 1))+\" Sv\", transform=ax1.transAxes, fontsize=20,\n",
    "         verticalalignment='top', fontweight='bold')"
   ]
  },
  {
   "cell_type": "code",
   "execution_count": null,
   "id": "ca414ecb-4b7d-42fd-b6ad-bc19b07616dd",
   "metadata": {
    "execution": {
     "iopub.execute_input": "2024-06-28T09:03:42.321037Z",
     "iopub.status.busy": "2024-06-28T09:03:42.320555Z",
     "iopub.status.idle": "2024-06-28T09:03:43.761317Z",
     "shell.execute_reply": "2024-06-28T09:03:43.760584Z",
     "shell.execute_reply.started": "2024-06-28T09:03:42.321013Z"
    }
   },
   "outputs": [],
   "source": [
    "import imageio\n",
    "images = []\n",
    "for i in range(1,20):\n",
    "    images.append(imageio.imread(f'/work/uo1075/m300817/carbon_amoc/plots/Tdiff_u05_y{(i+1)*10}.png'))\n",
    "imageio.mimsave('/work/uo1075/m300817/carbon_amoc/plots/Tdiff_u05.gif', images, fps=1.4)  # adjust fps as needed"
   ]
  },
  {
   "cell_type": "markdown",
   "id": "f6e16081-f4ab-4074-a8d7-aa0d4e54cc4b",
   "metadata": {
    "toc-hr-collapsed": true
   },
   "source": [
    "## 1pctCO2 "
   ]
  },
  {
   "cell_type": "code",
   "execution_count": null,
   "id": "1246afab-d0ae-4d50-a88b-ec303fde92dc",
   "metadata": {
    "execution": {
     "iopub.execute_input": "2024-08-06T07:24:54.876173Z",
     "iopub.status.busy": "2024-08-06T07:24:54.875577Z",
     "iopub.status.idle": "2024-08-06T07:26:21.952161Z",
     "shell.execute_reply": "2024-08-06T07:26:21.950796Z",
     "shell.execute_reply.started": "2024-08-06T07:24:54.876146Z"
    },
    "tags": []
   },
   "outputs": [],
   "source": [
    "#ds_dissic_1pct.load()\n",
    "ds_dissic_1pctbgc.load()\n",
    "#ds_dissic_1pctrad.load()"
   ]
  },
  {
   "cell_type": "code",
   "execution_count": null,
   "id": "696f8662-92bc-48f8-aa2c-70ed876b0392",
   "metadata": {
    "execution": {
     "iopub.status.busy": "2023-11-20T12:32:29.783689Z",
     "iopub.status.idle": "2023-11-20T12:32:29.783935Z",
     "shell.execute_reply": "2023-11-20T12:32:29.783824Z",
     "shell.execute_reply.started": "2023-11-20T12:32:29.783812Z"
    },
    "tags": []
   },
   "outputs": [],
   "source": [
    "fig=plt.figure(figsize=(14, 6))\n",
    "\n",
    "ax1 = fig.add_subplot(221, projection=ccrs.Robinson(central_longitude=-60))\n",
    "ax1.set_global()\n",
    "((ds_dissic_1pct.dissic.isel(time=np.arange(-120,0)).mean(dim=\"time\")*ds_volcello.volcello*g_per_molC/1e15).isel(lev=np.arange(0,40)).sum(dim='lev')\n",
    "-(ds_dissic_1pct.dissic.isel(time=np.arange(0,120)).mean(dim=\"time\")*ds_volcello.volcello*g_per_molC/1e15).isel(lev=np.arange(0,40)).sum(dim='lev')\n",
    ").plot.pcolormesh(\n",
    "    ax=ax1, transform=ccrs.PlateCarree(), x=\"longitude\", y=\"latitude\", cmap='RdBu_r', cbar_kwargs={'label': 'PgC, column integrated'})\n",
    "ax1.coastlines()\n",
    "ax1.set_title(\"1pct\")\n",
    "\n",
    "ax2 = fig.add_subplot(222, projection=ccrs.Robinson(central_longitude=-60))\n",
    "ax2.set_global()\n",
    "((ds_dissic_1pctbgc.dissic.isel(time=np.arange(-120,0)).mean(dim=\"time\")*ds_volcello.volcello*g_per_molC/1e15).isel(lev=np.arange(0,40)).sum(dim='lev')\n",
    "-(ds_dissic_1pctbgc.dissic.isel(time=np.arange(0,120)).mean(dim=\"time\")*ds_volcello.volcello*g_per_molC/1e15).isel(lev=np.arange(0,40)).sum(dim='lev')\n",
    ").plot.pcolormesh(\n",
    "    ax=ax2, transform=ccrs.PlateCarree(), x=\"longitude\", y=\"latitude\", cmap='RdBu_r', cbar_kwargs={'label': 'PgC, column integrated'})\n",
    "ax2.coastlines()\n",
    "ax2.set_title(\"1pctbgc\")\n",
    "\n",
    "\n",
    "ax3 = fig.add_subplot(223, projection=ccrs.Robinson(central_longitude=-60))\n",
    "ax3.set_global()\n",
    "((ds_dissic_1pctrad.dissic.isel(time=np.arange(-120,0)).mean(dim=\"time\")*ds_volcello.volcello*g_per_molC/1e15).isel(lev=np.arange(0,40)).sum(dim='lev')\n",
    "-(ds_dissic_1pctrad.dissic.isel(time=np.arange(0,120)).mean(dim=\"time\")*ds_volcello.volcello*g_per_molC/1e15).isel(lev=np.arange(0,40)).sum(dim='lev')\n",
    ").plot.pcolormesh(\n",
    "    ax=ax3, transform=ccrs.PlateCarree(), x=\"longitude\", y=\"latitude\", cmap='RdBu_r', cbar_kwargs={'label': 'PgC, column integrated'})\n",
    "ax3.coastlines()\n",
    "ax3.set_title(\"1pctrad\")"
   ]
  },
  {
   "cell_type": "code",
   "execution_count": null,
   "id": "c6d3bc22-7c33-45f7-a291-f173f675d1a4",
   "metadata": {
    "collapsed": true,
    "execution": {
     "iopub.execute_input": "2023-10-19T15:54:41.759148Z",
     "iopub.status.busy": "2023-10-19T15:54:41.758596Z",
     "iopub.status.idle": "2023-10-19T15:55:05.035573Z",
     "shell.execute_reply": "2023-10-19T15:55:05.034801Z",
     "shell.execute_reply.started": "2023-10-19T15:54:41.759121Z"
    },
    "jupyter": {
     "outputs_hidden": true
    },
    "tags": []
   },
   "outputs": [],
   "source": [
    "# Total DIC below 1000m (1085-5720m) last 10 years 1pct-1pctbgc\n",
    "plt.figure(figsize=(14, 6))\n",
    "ax = plt.axes(projection=ccrs.Robinson(central_longitude=-60))\n",
    "ax.set_global()\n",
    "((ds_dissic_1pct.dissic.isel(time=np.arange(-120,-1)).sum(dim=\"time\")*ds_volcello.volcello*g_per_molC/1e15).isel(lev=np.arange(23,40)).sum(dim='lev')\n",
    "-(ds_dissic_1pctbgc.dissic.isel(time=np.arange(-120,-1)).sum(dim=\"time\")*ds_volcello.volcello*g_per_molC/1e15).isel(lev=np.arange(23,40)).sum(dim='lev')\n",
    ").plot.pcolormesh(\n",
    "    ax=ax, transform=ccrs.PlateCarree(), x=\"longitude\", y=\"latitude\", cmap='RdBu_r', cbar_kwargs={'label': ''})\n",
    "ax.coastlines()"
   ]
  },
  {
   "cell_type": "code",
   "execution_count": null,
   "id": "d03d5d4f-36e1-4032-b194-0e9eea051f3e",
   "metadata": {
    "collapsed": true,
    "execution": {
     "iopub.execute_input": "2023-05-04T19:44:41.326531Z",
     "iopub.status.busy": "2023-05-04T19:44:41.319876Z",
     "iopub.status.idle": "2023-05-04T19:47:25.613006Z",
     "shell.execute_reply": "2023-05-04T19:47:25.612429Z",
     "shell.execute_reply.started": "2023-05-04T19:44:41.326508Z"
    },
    "jupyter": {
     "outputs_hidden": true
    },
    "tags": []
   },
   "outputs": [],
   "source": [
    "# Plot DIC below 1000m (1085-5720m) difference last 10 years 1pctbgc-1pctrad\n",
    "plt.figure(figsize=(14, 6))\n",
    "ax = plt.axes(projection=ccrs.Robinson(central_longitude=-60))\n",
    "ax.set_global()\n",
    "(ds_dissic_1pctbgc.dissic.load().isel(lev=np.arange(23,40)).sum(dim='lev').isel(time=np.arange(-120,-1)).mean(dim='time')-\n",
    " ds_dissic_1pctrad.dissic.load().isel(lev=np.arange(23,40)).sum(dim='lev').isel(time=np.arange(-120,-1)).mean(dim='time')).plot.pcolormesh(\n",
    "    ax=ax, transform=ccrs.PlateCarree(), x=\"longitude\", y=\"latitude\")\n",
    "ax.coastlines()\n",
    "#ax.set_xlim([-100, 40])"
   ]
  },
  {
   "cell_type": "code",
   "execution_count": null,
   "id": "b0f9fb85-07ba-495f-b827-4dd7bb0b2b9a",
   "metadata": {
    "collapsed": true,
    "execution": {
     "iopub.execute_input": "2023-10-05T11:00:03.364574Z",
     "iopub.status.busy": "2023-10-05T11:00:03.360944Z",
     "iopub.status.idle": "2023-10-05T11:03:07.406541Z",
     "shell.execute_reply": "2023-10-05T11:03:07.405372Z",
     "shell.execute_reply.started": "2023-10-05T11:00:03.364550Z"
    },
    "jupyter": {
     "outputs_hidden": true
    },
    "tags": []
   },
   "outputs": [],
   "source": [
    "# Plot DIC below 1000m (1085-5720m) difference last 10 years 1pct-1pctbgc\n",
    "plt.figure(figsize=(14, 6))\n",
    "ax = plt.axes(projection=ccrs.Robinson(central_longitude=-60))\n",
    "ax.set_global()\n",
    "(ds_dissic_1pct.dissic.load().isel(lev=np.arange(23,40)).sum(dim='lev').isel(time=np.arange(-120,-1)).mean(dim='time')-\n",
    " ds_dissic_1pctbgc.dissic.load().isel(lev=np.arange(23,40)).sum(dim='lev').isel(time=np.arange(-120,-1)).mean(dim='time')).plot.pcolormesh(\n",
    "    ax=ax, transform=ccrs.PlateCarree(), x=\"longitude\", y=\"latitude\")\n",
    "ax.coastlines()\n",
    "#ax.set_xlim([-100, 40])"
   ]
  },
  {
   "cell_type": "code",
   "execution_count": null,
   "id": "641c6d3d-4722-451b-9cd4-613f4db7e86a",
   "metadata": {
    "collapsed": true,
    "execution": {
     "iopub.execute_input": "2023-10-05T11:00:03.364574Z",
     "iopub.status.busy": "2023-10-05T11:00:03.360944Z",
     "iopub.status.idle": "2023-10-05T11:03:07.406541Z",
     "shell.execute_reply": "2023-10-05T11:03:07.405372Z",
     "shell.execute_reply.started": "2023-10-05T11:00:03.364550Z"
    },
    "jupyter": {
     "outputs_hidden": true
    },
    "tags": []
   },
   "outputs": [],
   "source": [
    "# Plot DIC below 1000m (1085-5720m) difference last 10 years 1pct-1pctbgc\n",
    "plt.figure(figsize=(14, 6))\n",
    "ax = plt.axes(projection=ccrs.Robinson(central_longitude=-60))\n",
    "ax.set_global()\n",
    "(ds_dissic_1pct.dissic.load().isel(lev=np.arange(23,40)).sum(dim='lev').isel(time=np.arange(-120,-1)).mean(dim='time')-\n",
    " ds_dissic_1pctbgc.dissic.load().isel(lev=np.arange(23,40)).sum(dim='lev').isel(time=np.arange(-120,-1)).mean(dim='time')).plot.pcolormesh(\n",
    "    ax=ax, transform=ccrs.PlateCarree(), x=\"longitude\", y=\"latitude\")\n",
    "ax.coastlines()\n",
    "#ax.set_xlim([-100, 40])"
   ]
  },
  {
   "cell_type": "code",
   "execution_count": null,
   "id": "7c3a1ee7-bb14-4be4-a660-b73f0dfec22d",
   "metadata": {
    "collapsed": true,
    "execution": {
     "iopub.execute_input": "2023-10-05T12:20:31.085297Z",
     "iopub.status.busy": "2023-10-05T12:20:31.084790Z",
     "iopub.status.idle": "2023-10-05T12:21:04.001051Z",
     "shell.execute_reply": "2023-10-05T12:21:04.000288Z",
     "shell.execute_reply.started": "2023-10-05T12:20:31.085270Z"
    },
    "jupyter": {
     "outputs_hidden": true
    },
    "tags": []
   },
   "outputs": [],
   "source": [
    "# Total DIC below 1000m (1085-5720m) 1pct-1pctbgc\n",
    "plt.figure(figsize=(14, 6))\n",
    "ax = plt.axes(projection=ccrs.Robinson(central_longitude=-60))\n",
    "ax.set_global()\n",
    "((ds_dissic_1pct.dissic*ds_volcello.volcello*g_per_molC/1e15).isel(lev=np.arange(23,40)).sum(dim='lev').isel(time=np.arange(-120,-1)).sum(dim=\"time\")\n",
    "-(ds_dissic_1pctbgc.dissic*ds_volcello.volcello*g_per_molC/1e15).isel(lev=np.arange(23,40)).sum(dim='lev').isel(time=np.arange(-120,-1)).sum(dim=\"time\")\n",
    ").plot.pcolormesh(\n",
    "    ax=ax, transform=ccrs.PlateCarree(), x=\"longitude\", y=\"latitude\", cbar_kwargs={'label': 'PgC'})\n",
    "ax.coastlines()\n"
   ]
  },
  {
   "cell_type": "code",
   "execution_count": null,
   "id": "c0a3ee6e-2ff4-4ea8-b61e-67b378ab3bec",
   "metadata": {
    "collapsed": true,
    "execution": {
     "iopub.execute_input": "2023-10-05T12:36:14.583547Z",
     "iopub.status.busy": "2023-10-05T12:36:14.583061Z",
     "iopub.status.idle": "2023-10-05T12:36:45.518972Z",
     "shell.execute_reply": "2023-10-05T12:36:45.518308Z",
     "shell.execute_reply.started": "2023-10-05T12:36:14.583525Z"
    },
    "jupyter": {
     "outputs_hidden": true
    },
    "tags": []
   },
   "outputs": [],
   "source": [
    "# Total DIC below 1000m (1085-5720m) 1pct-1pctbgc\n",
    "\n",
    "((ds_dissic_1pct.dissic*ds_volcello.volcello*g_per_molC/1e15).isel(lev=np.arange(23,40)).sum(dim='lev').isel(time=np.arange(-120,-1)).sum(dim=\"time\")\n",
    "-(ds_dissic_1pctbgc.dissic*ds_volcello.volcello*g_per_molC/1e15).isel(lev=np.arange(23,40)).sum(dim='lev').isel(time=np.arange(-120,-1)).sum(dim=\"time\")\n",
    ").sum(dim='i').sum(dim='j').values\n"
   ]
  },
  {
   "cell_type": "code",
   "execution_count": null,
   "id": "8d38895e-000a-4a7b-9b24-3021bb1db6a7",
   "metadata": {
    "collapsed": true,
    "execution": {
     "iopub.execute_input": "2023-02-23T17:02:25.749419Z",
     "iopub.status.busy": "2023-02-23T17:02:25.748939Z",
     "iopub.status.idle": "2023-02-23T17:02:41.885866Z",
     "shell.execute_reply": "2023-02-23T17:02:41.885187Z",
     "shell.execute_reply.started": "2023-02-23T17:02:25.749396Z"
    },
    "jupyter": {
     "outputs_hidden": true
    },
    "tags": []
   },
   "outputs": [],
   "source": [
    "# Plot DIC below 1000m (1085-5720m) difference last 10 years 1pctrad & first 10 years hist\n",
    "plt.figure(figsize=(14, 6))\n",
    "ax = plt.axes(projection=ccrs.Robinson(central_longitude=-60))\n",
    "ax.set_global()\n",
    "(ds_dissic_1pctrad.dissic.load().isel(lev=np.arange(23,40)).sum(dim='lev').isel(time=np.arange(-120,-1)).mean(dim='time')-\n",
    " ds_dissic_hist.dissic.load().isel(lev=np.arange(23,40)).sum(dim='lev').isel(time=np.arange(0,120)).mean(dim='time')).plot.pcolormesh(\n",
    "    ax=ax, transform=ccrs.PlateCarree(), x=\"longitude\", y=\"latitude\")\n",
    "ax.coastlines()\n",
    "#ax.set_xlim([-100, 40])"
   ]
  },
  {
   "cell_type": "code",
   "execution_count": null,
   "id": "68968736-edb3-4cad-8a46-c00e7a6fe27e",
   "metadata": {
    "collapsed": true,
    "execution": {
     "iopub.execute_input": "2023-11-27T17:13:50.898998Z",
     "iopub.status.busy": "2023-11-27T17:13:50.898681Z",
     "iopub.status.idle": "2023-11-27T17:13:59.191124Z",
     "shell.execute_reply": "2023-11-27T17:13:59.190419Z",
     "shell.execute_reply.started": "2023-11-27T17:13:50.898976Z"
    },
    "jupyter": {
     "outputs_hidden": true
    },
    "tags": []
   },
   "outputs": [],
   "source": [
    "fig=plt.figure(figsize=(14, 9))\n",
    "\n",
    "ax1 = fig.add_subplot(211, projection=ccrs.Robinson(central_longitude=-60))\n",
    "ax1.set_global()\n",
    "((ds_dissic_1pctbgc.dissic.isel(time=np.arange(-12,0)).mean(dim=\"time\")*ds_volcello.volcello*g_per_molC/1e15).isel(lev=np.arange(0,40)).sum(dim='lev')\n",
    "-(ds_dissic_1pctbgc.dissic.isel(time=np.arange(0,12)).mean(dim=\"time\")*ds_volcello.volcello*g_per_molC/1e15).isel(lev=np.arange(0,40)).sum(dim='lev')\n",
    ").plot.pcolormesh(\n",
    "    ax=ax1, transform=ccrs.PlateCarree(), x=\"longitude\", y=\"latitude\", vmin=-0.01, vmax=0.01, cmap='RdBu_r', cbar_kwargs={'label': 'PgC, column integrated'})\n",
    "ax1.coastlines()\n",
    "ax1.set_title(\"Full depth (0-5720m)\") \n",
    "\n",
    "ax2 = fig.add_subplot(223, projection=ccrs.Robinson(central_longitude=-60))\n",
    "ax2.set_global()\n",
    "((ds_dissic_1pctbgc.dissic.isel(time=np.arange(-12,0)).mean(dim=\"time\")*ds_volcello.volcello*g_per_molC/1e15).isel(lev=np.arange(0,23)).sum(dim='lev')\n",
    "-(ds_dissic_1pctbgc.dissic.isel(time=np.arange(0,12)).mean(dim=\"time\")*ds_volcello.volcello*g_per_molC/1e15).isel(lev=np.arange(0,23)).sum(dim='lev')\n",
    ").plot.pcolormesh(\n",
    "    ax=ax2, transform=ccrs.PlateCarree(), x=\"longitude\", y=\"latitude\", vmin=-0.01, vmax=0.01, cmap='RdBu_r', add_colorbar=False)\n",
    "ax2.coastlines()\n",
    "ax2.set_title(\"Upper ocean (0-1085m)\") \n",
    "\n",
    "ax3 = fig.add_subplot(224, projection=ccrs.Robinson(central_longitude=-60))\n",
    "ax3.set_global()\n",
    "((ds_dissic_1pctbgc.dissic.isel(time=np.arange(-12,0)).mean(dim=\"time\")*ds_volcello.volcello*g_per_molC/1e15).isel(lev=np.arange(23,40)).sum(dim='lev')\n",
    "-(ds_dissic_1pctbgc.dissic.isel(time=np.arange(0,12)).mean(dim=\"time\")*ds_volcello.volcello*g_per_molC/1e15).isel(lev=np.arange(23,40)).sum(dim='lev')\n",
    ").plot.pcolormesh(\n",
    "   ax=ax3, transform=ccrs.PlateCarree(), x=\"longitude\", y=\"latitude\", vmin=-0.01, vmax=0.01, cmap='RdBu_r', add_colorbar=False)\n",
    "ax3.coastlines()\n",
    "ax3.set_title(\"Deep ocean (1085-5720m)\") "
   ]
  },
  {
   "cell_type": "markdown",
   "id": "ad38a796-eeb7-41fe-beff-4be39a1318a4",
   "metadata": {},
   "source": [
    "### Other variables"
   ]
  },
  {
   "cell_type": "code",
   "execution_count": 50,
   "id": "bc54db51-4e38-4d71-aa2b-813be399489e",
   "metadata": {
    "execution": {
     "iopub.execute_input": "2023-11-27T17:22:57.834646Z",
     "iopub.status.busy": "2023-11-27T17:22:57.834214Z",
     "iopub.status.idle": "2023-11-27T17:23:00.296322Z",
     "shell.execute_reply": "2023-11-27T17:23:00.295632Z",
     "shell.execute_reply.started": "2023-11-27T17:22:57.834621Z"
    },
    "tags": []
   },
   "outputs": [],
   "source": [
    "# Load wfo in 1pctCO2-bgc\n",
    "file_type = 'wfo'\n",
    "infiles = glob.glob(f'/pool/data/CMIP6/data/C4MIP/MPI-M/MPI-ESM1-2-LR/1pctCO2-bgc/r1i1p1f1/Omon/{file_type}/gn/v20190710/*{file_type}*.nc')\n",
    "ds_wfo_1pctbgc = xr.open_mfdataset(infiles, use_cftime=True, parallel=True)"
   ]
  },
  {
   "cell_type": "code",
   "execution_count": null,
   "id": "5ba5f330-9faf-4a42-b2cf-dd74275baac6",
   "metadata": {
    "execution": {
     "iopub.execute_input": "2023-11-27T17:54:02.503626Z",
     "iopub.status.busy": "2023-11-27T17:54:02.503156Z",
     "iopub.status.idle": "2023-11-27T17:54:08.331742Z",
     "shell.execute_reply": "2023-11-27T17:54:08.331055Z",
     "shell.execute_reply.started": "2023-11-27T17:54:02.503593Z"
    },
    "tags": []
   },
   "outputs": [],
   "source": [
    "fig=plt.figure(figsize=(14, 9))\n",
    "ax1 = fig.add_subplot(211, projection=ccrs.Robinson(central_longitude=-60))\n",
    "ax1.set_global()\n",
    "ds_wfo_1pctbgc.mean(dim=\"time\").wfo.plot.pcolormesh(\n",
    "    ax=ax1, transform=ccrs.PlateCarree(), vmin=-0.0001, vmax=0.0001, x=\"longitude\", y=\"latitude\", cmap='RdBu_r')\n",
    "ax1.coastlines()"
   ]
  },
  {
   "cell_type": "code",
   "execution_count": 58,
   "id": "62f8ac4b-b0bf-4a1e-8e0f-e28face505f6",
   "metadata": {
    "execution": {
     "iopub.execute_input": "2023-11-27T17:45:50.757845Z",
     "iopub.status.busy": "2023-11-27T17:45:50.754124Z",
     "iopub.status.idle": "2023-11-27T17:46:58.142497Z",
     "shell.execute_reply": "2023-11-27T17:46:58.141768Z",
     "shell.execute_reply.started": "2023-11-27T17:45:50.757817Z"
    },
    "tags": []
   },
   "outputs": [],
   "source": [
    "# Surface net water into ocean flux FIELD\n",
    "ifiles  = \"/work/mh0033/from_Mistral/mh0033/m300817/mpiesm-1.2.01p6-passivesalt_update/experiments/hosing_naa05Sv_FcSV-LR/outdata/mpiom/*2d_mm_*\"\n",
    "outfile = \"/scratch/m/m300817/tmp/hosing_naa05Sv_FcSV-LR_wfo.nc\"\n",
    "if not os.path.isfile(outfile):\n",
    "    cdo.yearmean(input = \"-mergetime -select,name=wfo \"+ifiles , output = outfile)"
   ]
  },
  {
   "cell_type": "code",
   "execution_count": 59,
   "id": "00cdbd5f-fc99-4091-afed-aa06fd1bd042",
   "metadata": {
    "execution": {
     "iopub.execute_input": "2023-11-27T17:47:19.814772Z",
     "iopub.status.busy": "2023-11-27T17:47:19.814284Z",
     "iopub.status.idle": "2023-11-27T17:47:19.892793Z",
     "shell.execute_reply": "2023-11-27T17:47:19.892149Z",
     "shell.execute_reply.started": "2023-11-27T17:47:19.814745Z"
    },
    "tags": []
   },
   "outputs": [],
   "source": [
    "ds_wfo_u05hosLR = xr.open_mfdataset(\"/scratch/m/m300817/tmp/hosing_naa05Sv_FcSV-LR_wfo.nc\", use_cftime=True, parallel=True)"
   ]
  },
  {
   "cell_type": "code",
   "execution_count": null,
   "id": "d4e6d544-858d-4fbb-8606-07d3ea4115e7",
   "metadata": {
    "collapsed": true,
    "execution": {
     "iopub.execute_input": "2023-11-27T17:47:45.809245Z",
     "iopub.status.busy": "2023-11-27T17:47:45.808829Z",
     "iopub.status.idle": "2023-11-27T17:47:45.853767Z",
     "shell.execute_reply": "2023-11-27T17:47:45.853158Z",
     "shell.execute_reply.started": "2023-11-27T17:47:45.809219Z"
    },
    "jupyter": {
     "outputs_hidden": true
    },
    "tags": []
   },
   "outputs": [],
   "source": [
    "ds_wfo_u05hosLR"
   ]
  },
  {
   "cell_type": "code",
   "execution_count": null,
   "id": "048b4501-cd84-4a3f-8fb8-121bdbee8245",
   "metadata": {
    "execution": {
     "iopub.execute_input": "2023-11-27T17:53:38.775011Z",
     "iopub.status.busy": "2023-11-27T17:53:38.774583Z",
     "iopub.status.idle": "2023-11-27T17:53:41.551523Z",
     "shell.execute_reply": "2023-11-27T17:53:41.550893Z",
     "shell.execute_reply.started": "2023-11-27T17:53:38.774986Z"
    },
    "tags": []
   },
   "outputs": [],
   "source": [
    "fig=plt.figure(figsize=(14, 9))\n",
    "ax1 = fig.add_subplot(211, projection=ccrs.Robinson(central_longitude=-60))\n",
    "ax1.set_global()\n",
    "ds_wfo_u05hosLR.mean(dim=\"time\").mean(dim='depth').wfo.plot.pcolormesh(\n",
    "    ax=ax1, transform=ccrs.PlateCarree(), vmin=-0.0001, vmax=0.0001, x=\"lon\", y=\"lat\", cmap='RdBu_r')\n",
    "ax1.coastlines()"
   ]
  },
  {
   "cell_type": "code",
   "execution_count": 22,
   "id": "10aadccd-2d10-4943-bcca-f778484e422a",
   "metadata": {
    "execution": {
     "iopub.execute_input": "2024-08-06T15:27:35.525403Z",
     "iopub.status.busy": "2024-08-06T15:27:35.525058Z",
     "iopub.status.idle": "2024-08-06T15:27:37.989745Z",
     "shell.execute_reply": "2024-08-06T15:27:37.989125Z",
     "shell.execute_reply.started": "2024-08-06T15:27:35.525382Z"
    },
    "tags": []
   },
   "outputs": [],
   "source": [
    "ds_fwmask_u03 = xr.open_mfdataset(\"/work/mh0287/m211054/mpiesm/hosing/masks/HOSING_NAA_03SV_GR15.nc\", use_cftime=True, parallel=True)"
   ]
  },
  {
   "cell_type": "code",
   "execution_count": null,
   "id": "00497b87-edf3-410a-a1db-e4e2c7f02cd3",
   "metadata": {
    "execution": {
     "iopub.execute_input": "2023-11-27T18:27:16.742472Z",
     "iopub.status.busy": "2023-11-27T18:27:16.741967Z",
     "iopub.status.idle": "2023-11-27T18:27:17.373210Z",
     "shell.execute_reply": "2023-11-27T18:27:17.372642Z",
     "shell.execute_reply.started": "2023-11-27T18:27:16.742445Z"
    },
    "tags": []
   },
   "outputs": [],
   "source": [
    "fig=plt.figure(figsize=(14, 9))\n",
    "ax1 = fig.add_subplot(211, projection=ccrs.Robinson(central_longitude=-60))\n",
    "(ds_fwmask_u03.hosing.where((ds_fwmask_u03.hosing>0).compute(), drop=True)*1e6).plot(\n",
    "    ax=ax1, transform=ccrs.PlateCarree(), x=\"lon\", y=\"lat\", vmin=0)\n",
    "ax1.coastlines()"
   ]
  },
  {
   "cell_type": "code",
   "execution_count": 24,
   "id": "7e98afe7-ca66-4a4a-8361-ee4cbf8ed2fb",
   "metadata": {
    "execution": {
     "iopub.execute_input": "2024-08-06T15:27:49.907817Z",
     "iopub.status.busy": "2024-08-06T15:27:49.907498Z",
     "iopub.status.idle": "2024-08-06T15:27:49.911740Z",
     "shell.execute_reply": "2024-08-06T15:27:49.911120Z",
     "shell.execute_reply.started": "2024-08-06T15:27:49.907790Z"
    }
   },
   "outputs": [],
   "source": [
    "import matplotlib.colors as mcolors\n",
    "blue_cmap = mcolors.LinearSegmentedColormap.from_list('blue_cmap', ['white', 'steelblue'])\n",
    "dblue_cmap = mcolors.LinearSegmentedColormap.from_list('dblue_cmap', ['steelblue', 'steelblue'])"
   ]
  },
  {
   "cell_type": "code",
   "execution_count": null,
   "id": "ff981d75-d7e4-4d83-9839-759a880d68ad",
   "metadata": {
    "execution": {
     "iopub.execute_input": "2024-08-06T15:37:38.015627Z",
     "iopub.status.busy": "2024-08-06T15:37:38.015255Z",
     "iopub.status.idle": "2024-08-06T15:37:39.209320Z",
     "shell.execute_reply": "2024-08-06T15:37:39.208721Z",
     "shell.execute_reply.started": "2024-08-06T15:37:38.015605Z"
    },
    "tags": []
   },
   "outputs": [],
   "source": [
    "fig=plt.figure(figsize=(8, 8))\n",
    "ax1 = fig.add_subplot(111, projection=ccrs.NearsidePerspective(central_longitude=-20, central_latitude= 35, satellite_height=35785831)) #frame_on=False\n",
    "ds_fwmask_u03.hosing.where(ds_fwmask_u03.hosing>0).plot(\n",
    "    ax=ax1, transform=ccrs.PlateCarree(), x=\"lon\", y=\"lat\", add_colorbar=False, cmap='Blues', alpha=1, zorder=-1)\n",
    "ds_fwmask_u03.hosing.where(ds_fwmask_u03.hosing==0).plot(\n",
    "    ax=ax1, transform=ccrs.PlateCarree(), x=\"lon\", y=\"lat\", add_colorbar=False, cmap=dblue_cmap, alpha=1, zorder=1)\n",
    "ax1.coastlines(color='black')\n",
    "for spine in ax1.spines.values(): # color of circle\n",
    "    spine.set_edgecolor('white')\n",
    "ax1.stock_img()\n",
    "ax1.gridlines(color='black')"
   ]
  },
  {
   "cell_type": "code",
   "execution_count": 86,
   "id": "8c21a448-4b3c-4ca2-a85a-017ee9918f01",
   "metadata": {
    "execution": {
     "iopub.execute_input": "2023-11-27T18:03:13.674298Z",
     "iopub.status.busy": "2023-11-27T18:03:13.673886Z",
     "iopub.status.idle": "2023-11-27T18:03:13.774665Z",
     "shell.execute_reply": "2023-11-27T18:03:13.774086Z",
     "shell.execute_reply.started": "2023-11-27T18:03:13.674276Z"
    },
    "tags": []
   },
   "outputs": [],
   "source": [
    "ds_fwmask_g01 = xr.open_mfdataset(\"/work/mh0287/m211054/mpiesm/hosing/masks/HOSING_GRC_01SV_GR15.nc\", use_cftime=True, parallel=True)"
   ]
  },
  {
   "cell_type": "code",
   "execution_count": null,
   "id": "a53cce01-0f49-4ebc-8b28-f16f59e0e0b4",
   "metadata": {
    "execution": {
     "iopub.execute_input": "2023-11-27T18:27:27.008418Z",
     "iopub.status.busy": "2023-11-27T18:27:27.007918Z",
     "iopub.status.idle": "2023-11-27T18:27:27.236650Z",
     "shell.execute_reply": "2023-11-27T18:27:27.236133Z",
     "shell.execute_reply.started": "2023-11-27T18:27:27.008391Z"
    },
    "tags": []
   },
   "outputs": [],
   "source": [
    "fig=plt.figure(figsize=(14, 9))\n",
    "ax1 = fig.add_subplot(211, projection=ccrs.Robinson(central_longitude=-60))\n",
    "(ds_fwmask_g01.flux.where((ds_fwmask_g01.flux>0).compute(), drop=True)*1e6).plot(\n",
    "    ax=ax1, transform=ccrs.PlateCarree(), x=\"longitude\", y=\"latitude\", vmin=0)\n",
    "ax1.coastlines()"
   ]
  },
  {
   "cell_type": "markdown",
   "id": "5bc297ba-2047-4ebc-b9c9-796bb0c0507b",
   "metadata": {},
   "source": [
    "so"
   ]
  },
  {
   "cell_type": "code",
   "execution_count": 159,
   "id": "6ef9ead7-cabf-4bed-b752-b162c2b2d38d",
   "metadata": {
    "execution": {
     "iopub.execute_input": "2023-11-27T22:20:33.157014Z",
     "iopub.status.busy": "2023-11-27T22:20:33.156605Z",
     "iopub.status.idle": "2023-11-27T22:20:33.471314Z",
     "shell.execute_reply": "2023-11-27T22:20:33.470628Z",
     "shell.execute_reply.started": "2023-11-27T22:20:33.156990Z"
    },
    "tags": []
   },
   "outputs": [],
   "source": [
    "ds_sss_u03hosLR = xr.open_mfdataset(\"/work/uo1075/m300817/hosing/post/from_Mistral/data/SSS/hosing_naa03Sv_FcSV-LR_SSS.nc\"\n",
    "                                    , use_cftime=True, parallel=True)"
   ]
  },
  {
   "cell_type": "code",
   "execution_count": null,
   "id": "40d43c26-1479-4125-a88a-b5210ee3abd5",
   "metadata": {
    "execution": {
     "iopub.execute_input": "2023-11-27T22:21:21.661035Z",
     "iopub.status.busy": "2023-11-27T22:21:21.660617Z",
     "iopub.status.idle": "2023-11-27T22:21:22.378437Z",
     "shell.execute_reply": "2023-11-27T22:21:22.377713Z",
     "shell.execute_reply.started": "2023-11-27T22:21:21.661011Z"
    },
    "tags": []
   },
   "outputs": [],
   "source": [
    "ds_sss_u03hosLR.mean(dim='x').mean(dim='y').sos.plot()"
   ]
  },
  {
   "cell_type": "code",
   "execution_count": 132,
   "id": "87827a89-72df-4854-9fe4-3ee94acec09b",
   "metadata": {
    "execution": {
     "iopub.execute_input": "2023-11-27T18:31:31.808745Z",
     "iopub.status.busy": "2023-11-27T18:31:31.808245Z",
     "iopub.status.idle": "2023-11-27T18:36:55.698650Z",
     "shell.execute_reply": "2023-11-27T18:36:55.689543Z",
     "shell.execute_reply.started": "2023-11-27T18:31:31.808721Z"
    },
    "tags": []
   },
   "outputs": [],
   "source": [
    "# Surface net water into ocean flux FIELD\n",
    "ifiles  = \"/work/mh0033/from_Mistral/mh0033/m300817/mpiesm-1.2.01p6-passivesalt_update/experiments/hosing_naa05Sv_FcSV-LR/outdata/mpiom/*3d_mm_*\"\n",
    "outfile = \"/scratch/m/m300817/tmp/hosing_naa05Sv_FcSV-LR_so.nc\"\n",
    "if not os.path.isfile(outfile):\n",
    "    cdo.yearmean(input = \"-mergetime -select,name=so \"+ifiles , output = outfile)"
   ]
  },
  {
   "cell_type": "code",
   "execution_count": 133,
   "id": "209262f0-b357-43b1-aef0-f3c30a8990f8",
   "metadata": {
    "execution": {
     "iopub.execute_input": "2023-11-27T18:37:02.300884Z",
     "iopub.status.busy": "2023-11-27T18:37:02.300195Z",
     "iopub.status.idle": "2023-11-27T18:37:02.413755Z",
     "shell.execute_reply": "2023-11-27T18:37:02.413061Z",
     "shell.execute_reply.started": "2023-11-27T18:37:02.300855Z"
    },
    "tags": []
   },
   "outputs": [],
   "source": [
    "ds_so_u05hosLR = xr.open_mfdataset(\"/scratch/m/m300817/tmp/hosing_naa05Sv_FcSV-LR_so.nc\", use_cftime=True, parallel=True)"
   ]
  },
  {
   "cell_type": "code",
   "execution_count": 153,
   "id": "bd3aebe0-f7d3-4549-b25f-2ae608546363",
   "metadata": {
    "execution": {
     "iopub.execute_input": "2023-11-27T21:47:21.562389Z",
     "iopub.status.busy": "2023-11-27T21:47:21.561905Z",
     "iopub.status.idle": "2023-11-27T21:51:25.051612Z",
     "shell.execute_reply": "2023-11-27T21:51:25.048645Z",
     "shell.execute_reply.started": "2023-11-27T21:47:21.562365Z"
    },
    "tags": []
   },
   "outputs": [],
   "source": [
    "# Surface net water into ocean flux FIELD\n",
    "ifiles  = \"/work/uo1075/m300817/hosing/mpiesm-1.2.01p7-passivesalt-hosing/experiments/hosing_naa03Sv_1pctbgc-LR/outdata/mpiom/*3d_mm_*\"\n",
    "outfile = \"/scratch/m/m300817/tmp/hosing_naa03Sv_1pctbgc-LR_so.nc\"\n",
    "if not os.path.isfile(outfile):\n",
    "    cdo.yearmean(input = \"-mergetime -select,name=so \"+ifiles , output = outfile)"
   ]
  },
  {
   "cell_type": "code",
   "execution_count": 154,
   "id": "0cc7d44e-c223-48fc-bfa5-ab5ee107964e",
   "metadata": {
    "execution": {
     "iopub.execute_input": "2023-11-27T21:51:25.057373Z",
     "iopub.status.busy": "2023-11-27T21:51:25.057000Z",
     "iopub.status.idle": "2023-11-27T21:51:25.162227Z",
     "shell.execute_reply": "2023-11-27T21:51:25.161539Z",
     "shell.execute_reply.started": "2023-11-27T21:51:25.057351Z"
    },
    "tags": []
   },
   "outputs": [],
   "source": [
    "ds_so_u031pctbgcLR= xr.open_mfdataset(\"/scratch/m/m300817/tmp/hosing_naa03Sv_1pctbgc-LR_so.nc\", use_cftime=True, parallel=True)"
   ]
  },
  {
   "cell_type": "code",
   "execution_count": 134,
   "id": "72ae0066-2ce2-4d56-9b03-19ea3da74992",
   "metadata": {
    "execution": {
     "iopub.execute_input": "2023-11-27T18:37:04.689454Z",
     "iopub.status.busy": "2023-11-27T18:37:04.689005Z",
     "iopub.status.idle": "2023-11-27T18:37:08.038601Z",
     "shell.execute_reply": "2023-11-27T18:37:08.037836Z",
     "shell.execute_reply.started": "2023-11-27T18:37:04.689429Z"
    },
    "tags": []
   },
   "outputs": [],
   "source": [
    "# Load so in 1pctCO2-bgc\n",
    "file_type = 'so'\n",
    "infiles = glob.glob(f'/pool/data/CMIP6/data/C4MIP/MPI-M/MPI-ESM1-2-LR/1pctCO2-bgc/r1i1p1f1/Omon/{file_type}/gn/v20190710/*{file_type}*.nc')\n",
    "ds_so_1pctbgc = xr.open_mfdataset(infiles, use_cftime=True, parallel=True)"
   ]
  },
  {
   "cell_type": "code",
   "execution_count": null,
   "id": "65ccc66f-8068-465e-a33f-513e1f78bc28",
   "metadata": {
    "execution": {
     "iopub.execute_input": "2023-11-27T18:38:39.679857Z",
     "iopub.status.busy": "2023-11-27T18:38:39.679299Z",
     "iopub.status.idle": "2023-11-27T18:38:42.146174Z",
     "shell.execute_reply": "2023-11-27T18:38:42.145410Z",
     "shell.execute_reply.started": "2023-11-27T18:38:39.679830Z"
    },
    "tags": []
   },
   "outputs": [],
   "source": [
    "fig=plt.figure(figsize=(14, 9))\n",
    "ax1 = fig.add_subplot(211, projection=ccrs.Robinson(central_longitude=-60))\n",
    "ax1.set_global()\n",
    "ds_so_1pctbgc.isel(lev=0).isel(time=0).so.plot.pcolormesh(\n",
    "    ax=ax1, transform=ccrs.PlateCarree(), x=\"longitude\", y=\"latitude\", cmap='RdBu_r')\n",
    "ax1.coastlines()"
   ]
  },
  {
   "cell_type": "code",
   "execution_count": null,
   "id": "cfa11e97-8c19-4809-87ee-f05a24ccca23",
   "metadata": {
    "execution": {
     "iopub.execute_input": "2023-11-27T18:39:30.288685Z",
     "iopub.status.busy": "2023-11-27T18:39:30.288205Z",
     "iopub.status.idle": "2023-11-27T18:39:32.624861Z",
     "shell.execute_reply": "2023-11-27T18:39:32.624135Z",
     "shell.execute_reply.started": "2023-11-27T18:39:30.288659Z"
    },
    "tags": []
   },
   "outputs": [],
   "source": [
    "fig=plt.figure(figsize=(14, 9))\n",
    "ax1 = fig.add_subplot(211, projection=ccrs.Robinson(central_longitude=-60))\n",
    "ax1.set_global()\n",
    "ds_so_u05hosLR.isel(depth=0).isel(time=0).so.plot.pcolormesh(\n",
    "    ax=ax1, transform=ccrs.PlateCarree(), x=\"lon\", y=\"lat\", cmap='RdBu_r')\n",
    "ax1.coastlines()"
   ]
  },
  {
   "cell_type": "code",
   "execution_count": null,
   "id": "a0fc4b4e-3f01-413f-b1af-3b640f77849f",
   "metadata": {
    "execution": {
     "iopub.execute_input": "2023-11-27T21:44:33.814239Z",
     "iopub.status.busy": "2023-11-27T21:44:33.813777Z",
     "iopub.status.idle": "2023-11-27T21:45:05.381028Z",
     "shell.execute_reply": "2023-11-27T21:45:05.380285Z",
     "shell.execute_reply.started": "2023-11-27T21:44:33.814217Z"
    },
    "tags": []
   },
   "outputs": [],
   "source": [
    "ds_so_1pctbgc.isel(lev=0).mean(dim='i').mean(dim='j').groupby('time.year').mean('time').so.plot()"
   ]
  },
  {
   "cell_type": "markdown",
   "id": "0d4b3364-9ba8-498d-95e0-ec3afa9f5df5",
   "metadata": {},
   "source": [
    "### plot concentrations 1pct"
   ]
  },
  {
   "cell_type": "code",
   "execution_count": null,
   "id": "83eb5a37-6a90-46f7-a76c-1fa577ef8f18",
   "metadata": {
    "execution": {
     "iopub.execute_input": "2024-06-28T10:16:20.728173Z",
     "iopub.status.busy": "2024-06-28T10:16:20.727649Z",
     "iopub.status.idle": "2024-06-28T10:16:20.824428Z",
     "shell.execute_reply": "2024-06-28T10:16:20.823813Z",
     "shell.execute_reply.started": "2024-06-28T10:16:20.728150Z"
    }
   },
   "outputs": [],
   "source": [
    "import matplotlib.pyplot as plt\n",
    "import numpy as np\n",
    "\n",
    "# Initial concentration\n",
    "concentration = 284.7\n",
    "# List to store concentrations\n",
    "concentrations = [concentration]\n",
    "\n",
    "# Calculate concentrations for 140 years\n",
    "for year in range(140):\n",
    "    concentration *= 1.01  # Increase by 1%\n",
    "    concentrations.append(concentration)\n",
    "\n",
    "# Create an array for the years\n",
    "years = np.arange(0, 141, 1)\n",
    "\n",
    "# Create the plot\n",
    "fig, ax = plt.subplots(figsize=(4, 3))\n",
    "ax.plot(years, concentrations, linewidth=3)\n",
    "ax.set_xlabel('Years')\n",
    "ax.set_ylabel(r'CO$_2$ concentration [ppm]')\n",
    "ax.set_xlim(0,140)\n",
    "ax.spines['right'].set_visible(False)\n",
    "ax.spines['top'].set_visible(False)\n",
    "plt.show()"
   ]
  },
  {
   "cell_type": "markdown",
   "id": "71588bbc-5e07-47ef-9055-a2df02f77dd8",
   "metadata": {},
   "source": [
    "1 PgC = 44.01/12.01 = 3.664 GtCO2"
   ]
  },
  {
   "cell_type": "code",
   "execution_count": null,
   "id": "edf460d0-c32b-40da-be51-d59593b96549",
   "metadata": {
    "execution": {
     "iopub.execute_input": "2024-06-28T13:17:19.613958Z",
     "iopub.status.busy": "2024-06-28T13:17:19.609657Z",
     "iopub.status.idle": "2024-06-28T13:17:19.632836Z",
     "shell.execute_reply": "2024-06-28T13:17:19.632047Z",
     "shell.execute_reply.started": "2024-06-28T13:17:19.613931Z"
    }
   },
   "outputs": [],
   "source": [
    "5*3.664"
   ]
  },
  {
   "cell_type": "code",
   "execution_count": null,
   "id": "752c6ece-4464-46cf-9520-d245b8c45825",
   "metadata": {
    "execution": {
     "iopub.execute_input": "2024-06-28T14:42:09.412354Z",
     "iopub.status.busy": "2024-06-28T14:42:09.411848Z",
     "iopub.status.idle": "2024-06-28T14:42:09.416715Z",
     "shell.execute_reply": "2024-06-28T14:42:09.416107Z",
     "shell.execute_reply.started": "2024-06-28T14:42:09.412330Z"
    }
   },
   "outputs": [],
   "source": [
    "3.664*11.6"
   ]
  },
  {
   "cell_type": "markdown",
   "id": "5bda036b-4907-400d-ba68-6aa94ee29ad0",
   "metadata": {
    "toc-hr-collapsed": true
   },
   "source": [
    "## New hosing bgc"
   ]
  },
  {
   "cell_type": "markdown",
   "id": "80d02aa6-133a-4a45-b1d4-5ce7fb93d9f6",
   "metadata": {
    "jp-MarkdownHeadingCollapsed": true
   },
   "source": [
    "### Time series"
   ]
  },
  {
   "cell_type": "markdown",
   "id": "4581fc92-cf23-4ca6-b976-c3189fdf18cc",
   "metadata": {},
   "source": [
    "AMOC"
   ]
  },
  {
   "cell_type": "code",
   "execution_count": null,
   "id": "9f42f122-1b33-4f78-9cc7-1b5b53e37eae",
   "metadata": {
    "execution": {
     "iopub.execute_input": "2024-04-05T07:54:41.319747Z",
     "iopub.status.busy": "2024-04-05T07:54:41.319223Z",
     "iopub.status.idle": "2024-04-05T07:56:09.367897Z",
     "shell.execute_reply": "2024-04-05T07:56:09.367189Z",
     "shell.execute_reply.started": "2024-04-05T07:54:41.319721Z"
    },
    "tags": []
   },
   "outputs": [],
   "source": [
    "(ds_msftmz_g011pctbgcLR.sel(lat=26.5).sel(depth_2=1020).sel(lon=0).groupby('time.year').mean('time').atlantic_moc/1e9).plot(color='lightsteelblue')\n",
    "(ds_msftmz_g031pctbgcLR.sel(lat=26.5).sel(depth_2=1020).sel(lon=0).groupby('time.year').mean('time').atlantic_moc/1e9).plot(color='powderblue')\n",
    "(ds_msftmz_g051pctbgcLR.sel(lat=26.5).sel(depth_2=1020).sel(lon=0).groupby('time.year').mean('time').atlantic_moc/1e9).plot(color='skyblue')\n",
    "(ds_msftmz_u011pctbgcLR.sel(lat=26.5).sel(depth_2=1020).sel(lon=0).groupby('time.year').mean('time').atlantic_moc/1e9).plot(color='lightsalmon')\n",
    "(ds_msftmz_u031pctbgcLR.sel(lat=26.5).sel(depth_2=1020).sel(lon=0).groupby('time.year').mean('time').atlantic_moc/1e9).plot(color='indianred')\n",
    "(ds_msftmz_u051pctbgcLR.sel(lat=26.5).sel(depth_2=1020).sel(lon=0).groupby('time.year').mean('time').atlantic_moc/1e9).plot(color='lightcoral')\n",
    "(ds_msftmz_u031pctLR.sel(lat=26.5).sel(depth_2=1020).sel(lon=0).groupby('time.year').mean('time').atlantic_moc/1e9).plot(color='darkgrey')\n",
    "(ds_msftmz_u051pctLR.sel(lat=26.5).sel(depth_2=1020).sel(lon=0).groupby('time.year').mean('time').atlantic_moc/1e9).plot(color='dimgrey')\n",
    "plt.legend(['g01-1pctbgc', 'g03-1pctbgc', 'g05-1pctbgc', 'u01-1pctbgc','u03-1pctbgc', 'u05-1pctbgc', 'u03-1pct','u05-1pct'])"
   ]
  },
  {
   "cell_type": "code",
   "execution_count": null,
   "id": "7d191c5a-f3a0-4f38-a502-4cf75cb85027",
   "metadata": {
    "execution": {
     "iopub.execute_input": "2024-08-05T14:51:52.385372Z",
     "iopub.status.busy": "2024-08-05T14:51:52.384910Z",
     "iopub.status.idle": "2024-08-05T14:52:24.867003Z",
     "shell.execute_reply": "2024-08-05T14:52:24.866255Z",
     "shell.execute_reply.started": "2024-08-05T14:51:52.385350Z"
    },
    "tags": []
   },
   "outputs": [],
   "source": [
    "(ds_msftmz_histbgcLR.sel(lat=26.5).sel(depth_2=1020).sel(lon=0).groupby('time.year').mean('time').atlantic_moc/1e9).plot(color=colors_scen['hist'])\n",
    "(ds_msftmz_u03ssp126bgcLR.sel(lat=26.5).sel(depth_2=1020).sel(lon=0).groupby('time.year').mean('time').atlantic_moc/1e9).plot(color=colors_scen['ssp126'])\n",
    "(ds_msftmz_u03ssp245bgcLR.sel(lat=26.5).sel(depth_2=1020).sel(lon=0).groupby('time.year').mean('time').atlantic_moc/1e9).plot(color=colors_scen['ssp245'])\n",
    "(ds_msftmz_u03ssp585bgcLR.sel(lat=26.5).sel(depth_2=1020).sel(lon=0).groupby('time.year').mean('time').atlantic_moc/1e9).plot(color=colors_scen['ssp585'])\n",
    "plt.legend(['hist', 'ssp126', 'ssp245', 'ssp585'])"
   ]
  },
  {
   "cell_type": "code",
   "execution_count": null,
   "id": "495a0fc2-b433-4b18-8782-758c67505763",
   "metadata": {
    "execution": {
     "iopub.execute_input": "2024-08-20T14:36:20.385180Z",
     "iopub.status.busy": "2024-08-20T14:36:20.384741Z",
     "iopub.status.idle": "2024-08-20T14:37:05.925320Z",
     "shell.execute_reply": "2024-08-20T14:37:05.924612Z",
     "shell.execute_reply.started": "2024-08-20T14:36:20.385157Z"
    },
    "tags": []
   },
   "outputs": [],
   "source": [
    "(ds_msftmz_ssp245bgcLR.sel(lat=26.5).sel(depth_2=1020).sel(lon=0).groupby('time.year').mean('time').atlantic_moc/1e9).plot(color='k')\n",
    "(ds_msftmz_u05ssp245bgcLR.sel(lat=26.5).sel(depth_2=1020).sel(lon=0).groupby('time.year').mean('time').atlantic_moc/1e9).plot(color='darkred')\n",
    "(ds_msftmz_u03ssp245bgcLR.sel(lat=26.5).sel(depth_2=1020).sel(lon=0).groupby('time.year').mean('time').atlantic_moc/1e9).plot(color='salmon')\n",
    "(ds_msftmz_u01ssp245bgcLR.sel(lat=26.5).sel(depth_2=1020).sel(lon=0).groupby('time.year').mean('time').atlantic_moc/1e9).plot(color='peachpuff')\n",
    "(ds_msftmz_g05ssp245bgcLR.sel(lat=26.5).sel(depth_2=1020).sel(lon=0).groupby('time.year').mean('time').atlantic_moc/1e9).plot(color='lightblue')\n",
    "(ds_msftmz_g03ssp245bgcLR.sel(lat=26.5).sel(depth_2=1020).sel(lon=0).groupby('time.year').mean('time').atlantic_moc/1e9).plot(color='dodgerblue')\n",
    "(ds_msftmz_g01ssp245bgcLR.sel(lat=26.5).sel(depth_2=1020).sel(lon=0).groupby('time.year').mean('time').atlantic_moc/1e9).plot(color='darkblue')\n",
    "plt.legend(['ssp245-bgc', 'u05-ssp245-bgc', 'u03-ssp245-bgc', 'u01-ssp245-bgc', 'g05-ssp245-bgc', 'g03-ssp245-bgc', 'g01-ssp245-bgc'])"
   ]
  },
  {
   "cell_type": "markdown",
   "id": "79ee4239-381f-4276-9a6a-7df24ebe5020",
   "metadata": {},
   "source": [
    "Temperature"
   ]
  },
  {
   "cell_type": "code",
   "execution_count": null,
   "id": "69b6ab16-cad0-48d4-bca9-9dd2338725a2",
   "metadata": {
    "execution": {
     "iopub.execute_input": "2024-03-20T14:41:58.825163Z",
     "iopub.status.busy": "2024-03-20T14:41:58.824492Z",
     "iopub.status.idle": "2024-03-20T14:42:31.143992Z",
     "shell.execute_reply": "2024-03-20T14:42:31.143161Z",
     "shell.execute_reply.started": "2024-03-20T14:41:58.825137Z"
    },
    "tags": []
   },
   "outputs": [],
   "source": [
    "ds_tas_new[\"hosing_grc01Sv_1pctbgc-LR\"].groupby('time.year').mean('time').mean(dim='lat').mean(dim='lon').temp2.plot(color='lightblue')\n",
    "ds_tas_new[\"hosing_grc03Sv_1pctbgc-LR\"].groupby('time.year').mean('time').mean(dim='lat').mean(dim='lon').temp2.plot(color='khaki')\n",
    "ds_tas_new[\"hosing_naa03Sv_1pctbgc-LR\"].groupby('time.year').mean('time').mean(dim='lat').mean(dim='lon').temp2.plot(color='orange')\n",
    "ds_tas_new[\"hosing_naa05Sv_1pctbgc-LR\"].groupby('time.year').mean('time').mean(dim='lat').mean(dim='lon').temp2.plot(color='red')\n",
    "ds_tas_new[\"hosing_naa03Sv_1pct-LR\"].groupby('time.year').mean('time').mean(dim='lat').mean(dim='lon').temp2.plot(color='lightgrey')\n",
    "ds_tas_new[\"hosing_naa05Sv_1pct-LR\"].groupby('time.year').mean('time').mean(dim='lat').mean(dim='lon').temp2.plot(color='darkgrey')\n",
    "plt.legend(['g01-1pctbgc','g03-1pctbgc','u03-1pctbgc', 'u05-1pctbgc', 'u03-1pct','u05-1pct'])"
   ]
  },
  {
   "cell_type": "code",
   "execution_count": null,
   "id": "20afaad2-617b-4d0b-bfde-7ab74cf670c8",
   "metadata": {
    "execution": {
     "iopub.execute_input": "2024-08-05T14:52:43.536998Z",
     "iopub.status.busy": "2024-08-05T14:52:43.536557Z",
     "iopub.status.idle": "2024-08-05T14:52:46.532363Z",
     "shell.execute_reply": "2024-08-05T14:52:46.531659Z",
     "shell.execute_reply.started": "2024-08-05T14:52:43.536976Z"
    },
    "tags": []
   },
   "outputs": [],
   "source": [
    "ds_tas_new_scen[\"histbgc-LR\"].groupby('time.year').mean('time').mean(dim='lat').mean(dim='lon').temp2.plot(color=colors_scen['hist'])\n",
    "ds_tas_new_scen[\"hosing_naa03Sv_ssp126bgc-LR\"].groupby('time.year').mean('time').mean(dim='lat').mean(dim='lon').temp2.plot(color=colors_scen['ssp126'])\n",
    "ds_tas_new_scen[\"hosing_naa03Sv_ssp245bgc-LR\"].groupby('time.year').mean('time').mean(dim='lat').mean(dim='lon').temp2.plot(color=colors_scen['ssp245'])\n",
    "ds_tas_new_scen[\"hosing_naa03Sv_ssp585bgc-LR\"].groupby('time.year').mean('time').mean(dim='lat').mean(dim='lon').temp2.plot(color=colors_scen['ssp585'])\n",
    "plt.legend(['hist', 'ssp126', 'ssp245', 'ssp585'])"
   ]
  },
  {
   "cell_type": "markdown",
   "id": "45757127-14a0-46e3-b043-18322153d942",
   "metadata": {
    "jp-MarkdownHeadingCollapsed": true
   },
   "source": [
    "### dissic maps"
   ]
  },
  {
   "cell_type": "code",
   "execution_count": null,
   "id": "a648bd25-fec7-48c7-b68c-1bcf5e00a263",
   "metadata": {
    "execution": {
     "iopub.execute_input": "2024-03-10T16:28:59.558155Z",
     "iopub.status.busy": "2024-03-10T16:28:59.557576Z",
     "iopub.status.idle": "2024-03-10T16:29:09.084395Z",
     "shell.execute_reply": "2024-03-10T16:29:09.083059Z",
     "shell.execute_reply.started": "2024-03-10T16:28:59.558129Z"
    },
    "tags": []
   },
   "outputs": [],
   "source": [
    "# u03-1pctbgc dissic map\n",
    "fig=plt.figure(figsize=(14, 9))\n",
    "\n",
    "ax1 = fig.add_subplot(211, projection=ccrs.Robinson(central_longitude=-60))\n",
    "ax1.set_global()\n",
    "((ds_dissic_u031pctbgcLR.dissic.isel(time=np.arange(-10,0)).mean(dim=\"time\")*ds_volcello_u05hosLR.mean(dim=\"time\").volcello*g_per_molC/1e15).isel(depth=np.arange(0,40)).sum(dim='depth')\n",
    "-(ds_dissic_u031pctbgcLR.dissic.isel(time=np.arange(0,10)).mean(dim=\"time\")*ds_volcello_u05hosLR.mean(dim=\"time\").volcello*g_per_molC/1e15).isel(depth=np.arange(0,40)).sum(dim='depth')\n",
    ").plot.pcolormesh(\n",
    "    ax=ax1, transform=ccrs.PlateCarree(), x=\"lon\", y=\"lat\", vmin=-0.1, vmax=0.1, cmap='RdBu_r', cbar_kwargs={'label': 'PgC, column integrated'})\n",
    "ax1.coastlines()\n",
    "ax1.set_title(\"Full depth (0-5720m)\") \n",
    "\n",
    "ax2 = fig.add_subplot(223, projection=ccrs.Robinson(central_longitude=-60))\n",
    "ax2.set_global()\n",
    "((ds_dissic_u031pctbgcLR.dissic.isel(time=np.arange(-10,0)).mean(dim=\"time\")*ds_volcello_u05hosLR.mean(dim=\"time\").volcello*g_per_molC/1e15).isel(depth=np.arange(0,23)).sum(dim='depth')\n",
    "-(ds_dissic_u031pctbgcLR.dissic.isel(time=np.arange(0,10)).mean(dim=\"time\")*ds_volcello_u05hosLR.mean(dim=\"time\").volcello*g_per_molC/1e15).isel(depth=np.arange(0,23)).sum(dim='depth')\n",
    ").plot.pcolormesh(\n",
    "    ax=ax2, transform=ccrs.PlateCarree(), x=\"lon\", y=\"lat\", vmin=-0.1, vmax=0.1, cmap='RdBu_r', add_colorbar=False)\n",
    "ax2.coastlines()\n",
    "ax2.set_title(\"Upper ocean (0-1085m)\") \n",
    "\n",
    "ax3 = fig.add_subplot(224, projection=ccrs.Robinson(central_longitude=-60))\n",
    "ax3.set_global()\n",
    "((ds_dissic_u031pctbgcLR.dissic.isel(time=np.arange(-10,0)).mean(dim=\"time\")*ds_volcello_u05hosLR.mean(dim=\"time\").volcello*g_per_molC/1e15).isel(depth=np.arange(23,40)).sum(dim='depth')\n",
    "-(ds_dissic_u031pctbgcLR.dissic.isel(time=np.arange(0,10)).mean(dim=\"time\")*ds_volcello_u05hosLR.mean(dim=\"time\").volcello*g_per_molC/1e15).isel(depth=np.arange(23,40)).sum(dim='depth')\n",
    ").plot.pcolormesh(\n",
    "   ax=ax3, transform=ccrs.PlateCarree(), x=\"lon\", y=\"lat\", vmin=-0.1, vmax=0.1, cmap='RdBu_r', add_colorbar=False)\n",
    "ax3.coastlines()\n",
    "ax3.set_title(\"Deep ocean (1085-5720m)\") "
   ]
  },
  {
   "cell_type": "code",
   "execution_count": null,
   "id": "4a93537b-e3d1-44d1-8993-4015f22a7531",
   "metadata": {
    "execution": {
     "iopub.status.busy": "2024-06-24T08:54:52.719952Z",
     "iopub.status.idle": "2024-06-24T08:54:52.720337Z",
     "shell.execute_reply": "2024-06-24T08:54:52.720195Z",
     "shell.execute_reply.started": "2024-06-24T08:54:52.720179Z"
    },
    "tags": []
   },
   "outputs": [],
   "source": [
    "# Total DIC full depth (0-5720m) last vs first 10 years\n",
    "dissic_u011pctbgc_total_full = ((ds_dissic_u011pctbgcLR.dissic.isel(time=np.arange(-10,-0)).mean(dim=\"time\")*ds_volcello_u05hosLR.mean(dim=\"time\").volcello*g_per_molC/1e15).isel(depth=np.arange(0,40)).sum(dim='depth')\n",
    "-(ds_dissic_u011pctbgcLR.dissic.isel(time=np.arange(0,10)).mean(dim=\"time\")*ds_volcello_u05hosLR.mean(dim=\"time\").volcello*g_per_molC/1e15).isel(depth=np.arange(0,40)).sum(dim='depth')\n",
    ").sum(dim='y').sum(dim='x').values\n",
    "\n",
    "dissic_u031pctbgc_total_full = ((ds_dissic_u031pctbgcLR.dissic.isel(time=np.arange(-10,-0)).mean(dim=\"time\")*ds_volcello_u05hosLR.mean(dim=\"time\").volcello*g_per_molC/1e15).isel(depth=np.arange(0,40)).sum(dim='depth')\n",
    "-(ds_dissic_u031pctbgcLR.dissic.isel(time=np.arange(0,10)).mean(dim=\"time\")*ds_volcello_u05hosLR.mean(dim=\"time\").volcello*g_per_molC/1e15).isel(depth=np.arange(0,40)).sum(dim='depth')\n",
    ").sum(dim='y').sum(dim='x').values\n",
    "\n",
    "dissic_u051pctbgc_total_full = ((ds_dissic_u051pctbgcLR.dissic.isel(time=np.arange(-10,-0)).mean(dim=\"time\")*ds_volcello_u05hosLR.mean(dim=\"time\").volcello*g_per_molC/1e15).isel(depth=np.arange(0,40)).sum(dim='depth')\n",
    "-(ds_dissic_u051pctbgcLR.dissic.isel(time=np.arange(0,10)).mean(dim=\"time\")*ds_volcello_u05hosLR.mean(dim=\"time\").volcello*g_per_molC/1e15).isel(depth=np.arange(0,40)).sum(dim='depth')\n",
    ").sum(dim='y').sum(dim='x').values\n",
    "\n",
    "dissic_g011pctbgc_total_full = ((ds_dissic_g011pctbgcLR.dissic.isel(time=np.arange(-10,-0)).mean(dim=\"time\")*ds_volcello_u05hosLR.mean(dim=\"time\").volcello*g_per_molC/1e15).isel(depth=np.arange(0,40)).sum(dim='depth')\n",
    "-(ds_dissic_g011pctbgcLR.dissic.isel(time=np.arange(0,10)).mean(dim=\"time\")*ds_volcello_u05hosLR.mean(dim=\"time\").volcello*g_per_molC/1e15).isel(depth=np.arange(0,40)).sum(dim='depth')\n",
    ").sum(dim='y').sum(dim='x').values\n",
    "\n",
    "dissic_g031pctbgc_total_full = ((ds_dissic_g031pctbgcLR.dissic.isel(time=np.arange(-10,-0)).mean(dim=\"time\")*ds_volcello_u05hosLR.mean(dim=\"time\").volcello*g_per_molC/1e15).isel(depth=np.arange(0,40)).sum(dim='depth')\n",
    "-(ds_dissic_g031pctbgcLR.dissic.isel(time=np.arange(0,10)).mean(dim=\"time\")*ds_volcello_u05hosLR.mean(dim=\"time\").volcello*g_per_molC/1e15).isel(depth=np.arange(0,40)).sum(dim='depth')\n",
    ").sum(dim='y').sum(dim='x').values\n",
    "\n",
    "dissic_g051pctbgc_total_full = ((ds_dissic_g051pctbgcLR.dissic.isel(time=np.arange(-10,-0)).mean(dim=\"time\")*ds_volcello_u05hosLR.mean(dim=\"time\").volcello*g_per_molC/1e15).isel(depth=np.arange(0,40)).sum(dim='depth')\n",
    "-(ds_dissic_g051pctbgcLR.dissic.isel(time=np.arange(0,10)).mean(dim=\"time\")*ds_volcello_u05hosLR.mean(dim=\"time\").volcello*g_per_molC/1e15).isel(depth=np.arange(0,40)).sum(dim='depth')\n",
    ").sum(dim='y').sum(dim='x').values\n",
    "\n",
    "dissic_u031pct_total_full = ((ds_dissic_u031pctLR.dissic.isel(time=np.arange(-10,-0)).mean(dim=\"time\")*ds_volcello_u05hosLR.mean(dim=\"time\").volcello*g_per_molC/1e15).isel(depth=np.arange(0,40)).sum(dim='depth')\n",
    "-(ds_dissic_u031pctLR.dissic.isel(time=np.arange(0,10)).mean(dim=\"time\")*ds_volcello_u05hosLR.mean(dim=\"time\").volcello*g_per_molC/1e15).isel(depth=np.arange(0,40)).sum(dim='depth')\n",
    ").sum(dim='y').sum(dim='x').values\n",
    "\n",
    "dissic_u051pct_total_full = ((ds_dissic_u051pctLR.dissic.isel(time=np.arange(-10,-0)).mean(dim=\"time\")*ds_volcello_u05hosLR.mean(dim=\"time\").volcello*g_per_molC/1e15).isel(depth=np.arange(0,40)).sum(dim='depth')\n",
    "-(ds_dissic_u051pctLR.dissic.isel(time=np.arange(0,10)).mean(dim=\"time\")*ds_volcello_u05hosLR.mean(dim=\"time\").volcello*g_per_molC/1e15).isel(depth=np.arange(0,40)).sum(dim='depth')\n",
    ").sum(dim='y').sum(dim='x').values\n",
    "\n",
    "# Now with 1pct simulations without hosing\n",
    "dissic_1pctbgc_total_full = ((ds_dissic_1pctbgc.dissic.isel(time=np.arange(-120,-0)).mean(dim=\"time\")*ds_volcello.volcello*g_per_molC/1e15).isel(lev=np.arange(0,40)).sum(dim='lev')\n",
    "-(ds_dissic_1pctbgc.dissic.isel(time=np.arange(0,120)).mean(dim=\"time\")*ds_volcello.volcello*g_per_molC/1e15).isel(lev=np.arange(0,40)).sum(dim='lev')\n",
    ").sum(dim='i').sum(dim='j').values\n",
    "\n",
    "dissic_1pct_total_full = ((ds_dissic_1pct.dissic.isel(time=np.arange(-120,-0)).mean(dim=\"time\")*ds_volcello.volcello*g_per_molC/1e15).isel(lev=np.arange(0,40)).sum(dim='lev')\n",
    "-(ds_dissic_1pct.dissic.isel(time=np.arange(0,120)).mean(dim=\"time\")*ds_volcello.volcello*g_per_molC/1e15).isel(lev=np.arange(0,40)).sum(dim='lev')\n",
    ").sum(dim='i').sum(dim='j').values"
   ]
  },
  {
   "cell_type": "code",
   "execution_count": null,
   "id": "36a01a92-5649-4c52-8005-799959348af4",
   "metadata": {
    "collapsed": true,
    "execution": {
     "iopub.execute_input": "2024-04-05T08:19:32.674607Z",
     "iopub.status.busy": "2024-04-05T08:19:32.674270Z",
     "iopub.status.idle": "2024-04-05T08:19:37.069220Z",
     "shell.execute_reply": "2024-04-05T08:19:37.067328Z",
     "shell.execute_reply.started": "2024-04-05T08:19:32.674586Z"
    },
    "jupyter": {
     "outputs_hidden": true
    },
    "tags": []
   },
   "outputs": [],
   "source": [
    "fig=plt.figure(figsize=(18, 8))\n",
    "\n",
    "ax1 = fig.add_subplot(231, projection=ccrs.Robinson(central_longitude=-60))\n",
    "ax1.set_global()\n",
    "((ds_dissic_1pctbgc.dissic.isel(time=np.arange(-120,0)).mean(dim=\"time\")*ds_volcello.volcello*g_per_molC/1e15).isel(lev=np.arange(0,40)).sum(dim='lev')\n",
    "-(ds_dissic_1pctbgc.dissic.isel(time=np.arange(0,120)).mean(dim=\"time\")*ds_volcello.volcello*g_per_molC/1e15).isel(lev=np.arange(0,40)).sum(dim='lev')\n",
    ").plot.pcolormesh(\n",
    "    ax=ax1, transform=ccrs.PlateCarree(), x=\"longitude\", y=\"latitude\", cmap='RdBu_r', cbar_kwargs={'label': 'PgC, column integrated'}, vmin=-0.15, vmax=0.15)\n",
    "ax1.coastlines()\n",
    "ax1.set_title(\"1pctbgc\")\n",
    "ax1.text(-0.1, 1.3, str(round(dissic_1pctbgc_total_full.item(), 1))+\" PgC\", transform=ax1.transAxes, fontsize=14, verticalalignment='top', fontweight='bold')\n",
    "\n",
    "ax2 = fig.add_subplot(232, projection=ccrs.Robinson(central_longitude=-60))\n",
    "ax2.set_global()\n",
    "((ds_dissic_u031pctbgcLR.dissic.isel(time=np.arange(-10,0)).mean(dim=\"time\")*ds_volcello_u05hosLR.mean(dim=\"time\").volcello*g_per_molC/1e15).isel(depth=np.arange(0,40)).sum(dim='depth')\n",
    "-(ds_dissic_u031pctbgcLR.dissic.isel(time=np.arange(0,10)).mean(dim=\"time\")*ds_volcello_u05hosLR.mean(dim=\"time\").volcello*g_per_molC/1e15).isel(depth=np.arange(0,40)).sum(dim='depth')\n",
    ").plot.pcolormesh(\n",
    "    ax=ax2, transform=ccrs.PlateCarree(), x=\"lon\", y=\"lat\", cmap='RdBu_r', cbar_kwargs={'label': 'PgC, column integrated'}, vmin=-0.15, vmax=0.15)\n",
    "ax2.coastlines()\n",
    "ax2.set_title(\"u03-1pctbgc\")\n",
    "ax2.text(-0.1, 1.3, str(round(dissic_u031pctbgc_total_full.item(), 1))+\" PgC\", transform=ax2.transAxes, fontsize=14, verticalalignment='top', fontweight='bold')\n",
    "\n",
    "ax3 = fig.add_subplot(233, projection=ccrs.Robinson(central_longitude=-60))\n",
    "ax3.set_global()\n",
    "((ds_dissic_u051pctbgcLR.dissic.isel(time=np.arange(-10,0)).mean(dim=\"time\")*ds_volcello_u05hosLR.mean(dim=\"time\").volcello*g_per_molC/1e15).isel(depth=np.arange(0,40)).sum(dim='depth')\n",
    "-(ds_dissic_u051pctbgcLR.dissic.isel(time=np.arange(0,10)).mean(dim=\"time\")*ds_volcello_u05hosLR.mean(dim=\"time\").volcello*g_per_molC/1e15).isel(depth=np.arange(0,40)).sum(dim='depth')\n",
    ").plot.pcolormesh(\n",
    "    ax=ax3, transform=ccrs.PlateCarree(), x=\"lon\", y=\"lat\", cmap='RdBu_r', cbar_kwargs={'label': 'PgC, column integrated'}, vmin=-0.15, vmax=0.15)\n",
    "ax3.coastlines()\n",
    "ax3.set_title(\"u05-1pctbgc\")\n",
    "ax3.text(-0.1, 1.3, str(round(dissic_u051pctbgc_total_full.item(), 1))+\" PgC\", transform=ax3.transAxes, fontsize=14, verticalalignment='top', fontweight='bold')\n",
    "\n",
    "ax4 = fig.add_subplot(234, projection=ccrs.Robinson(central_longitude=-60))\n",
    "ax4.set_global()\n",
    "((ds_dissic_g011pctbgcLR.dissic.isel(time=np.arange(-10,0)).mean(dim=\"time\")*ds_volcello_u05hosLR.mean(dim=\"time\").volcello*g_per_molC/1e15).isel(depth=np.arange(0,40)).sum(dim='depth')\n",
    "-(ds_dissic_g011pctbgcLR.dissic.isel(time=np.arange(0,10)).mean(dim=\"time\")*ds_volcello_u05hosLR.mean(dim=\"time\").volcello*g_per_molC/1e15).isel(depth=np.arange(0,40)).sum(dim='depth')\n",
    ").plot.pcolormesh(\n",
    "    ax=ax4, transform=ccrs.PlateCarree(), x=\"lon\", y=\"lat\", cmap='RdBu_r', cbar_kwargs={'label': 'PgC, column integrated'}, vmin=-0.15, vmax=0.15)\n",
    "ax4.coastlines()\n",
    "ax4.set_title(\"g01-1pctbgc\")\n",
    "ax4.text(-0.1, 1.3, str(round(dissic_g011pctbgc_total_full.item(), 1))+\" PgC\", transform=ax6.transAxes, fontsize=14, verticalalignment='top', fontweight='bold')\n",
    "\n",
    "ax5 = fig.add_subplot(235, projection=ccrs.Robinson(central_longitude=-60))\n",
    "ax5.set_global()\n",
    "((ds_dissic_g031pctbgcLR.dissic.isel(time=np.arange(-10,0)).mean(dim=\"time\")*ds_volcello_u05hosLR.mean(dim=\"time\").volcello*g_per_molC/1e15).isel(depth=np.arange(0,40)).sum(dim='depth')\n",
    "-(ds_dissic_g031pctbgcLR.dissic.isel(time=np.arange(0,10)).mean(dim=\"time\")*ds_volcello_u05hosLR.mean(dim=\"time\").volcello*g_per_molC/1e15).isel(depth=np.arange(0,40)).sum(dim='depth')\n",
    ").plot.pcolormesh(\n",
    "    ax=ax5, transform=ccrs.PlateCarree(), x=\"lon\", y=\"lat\", cmap='RdBu_r', cbar_kwargs={'label': 'PgC, column integrated'}, vmin=-0.15, vmax=0.15)\n",
    "ax5.coastlines()\n",
    "ax5.set_title(\"g03-1pctbgc\")\n",
    "ax5.text(-0.1, 1.3, str(round(dissic_g031pctbgc_total_full.item(), 1))+\" PgC\", transform=ax5.transAxes, fontsize=14, verticalalignment='top', fontweight='bold')\n",
    "\n",
    "ax6 = fig.add_subplot(236, projection=ccrs.Robinson(central_longitude=-60))\n",
    "ax6.set_global()\n",
    "((ds_dissic_g011pctbgcLR.dissic.isel(time=np.arange(-10,0)).mean(dim=\"time\")*ds_volcello_u05hosLR.mean(dim=\"time\").volcello*g_per_molC/1e15).isel(depth=np.arange(0,40)).sum(dim='depth')\n",
    "-(ds_dissic_g011pctbgcLR.dissic.isel(time=np.arange(0,10)).mean(dim=\"time\")*ds_volcello_u05hosLR.mean(dim=\"time\").volcello*g_per_molC/1e15).isel(depth=np.arange(0,40)).sum(dim='depth')\n",
    ").plot.pcolormesh(\n",
    "    ax=ax6, transform=ccrs.PlateCarree(), x=\"lon\", y=\"lat\", cmap='RdBu_r', cbar_kwargs={'label': 'PgC, column integrated'}, vmin=-0.15, vmax=0.15)\n",
    "ax6.coastlines()\n",
    "ax6.set_title(\"g01-1pctbgc\")\n",
    "ax6.text(-0.1, 1.3, str(round(dissic_g011pctbgc_total_full.item(), 1))+\" PgC\", transform=ax6.transAxes, fontsize=14, verticalalignment='top', fontweight='bold')"
   ]
  },
  {
   "cell_type": "code",
   "execution_count": null,
   "id": "245b430b-8ce3-4210-bd17-fea850103e71",
   "metadata": {
    "execution": {
     "iopub.status.busy": "2024-06-24T08:54:52.721295Z",
     "iopub.status.idle": "2024-06-24T08:54:52.721654Z",
     "shell.execute_reply": "2024-06-24T08:54:52.721508Z",
     "shell.execute_reply.started": "2024-06-24T08:54:52.721487Z"
    },
    "tags": []
   },
   "outputs": [],
   "source": [
    "diff10y_dissic_1pctbgc = ((ds_dissic_1pctbgc.dissic.isel(time=np.arange(-120,0)).mean(dim=\"time\")*ds_volcello.volcello*g_per_molC/1e15).isel(lev=np.arange(0,40)).sum(dim='lev')\n",
    "               -(ds_dissic_1pctbgc.dissic.isel(time=np.arange(0,120)).mean(dim=\"time\")*ds_volcello.volcello*g_per_molC/1e15).isel(lev=np.arange(0,40)).sum(dim='lev')).rename({'i': 'x','j': 'y','latitude':'lat', 'longitude':'lon'})\n",
    "diff10y_dissic_1pctbgc.coords['lon'] = (diff10y_dissic_1pctbgc.coords['lon'] + 180) % 360 - 180\n",
    "\n",
    "diff10y_dissic_u011pctbgc = ((ds_dissic_u011pctbgcLR.dissic.isel(time=np.arange(-10,0)).mean(dim=\"time\")*ds_volcello_u05hosLR.mean(dim=\"time\").volcello*g_per_molC/1e15).isel(depth=np.arange(0,40)).sum(dim='depth')\n",
    "-(ds_dissic_u011pctbgcLR.dissic.isel(time=np.arange(0,10)).mean(dim=\"time\")*ds_volcello_u05hosLR.mean(dim=\"time\").volcello*g_per_molC/1e15).isel(depth=np.arange(0,40)).sum(dim='depth'))\n",
    "diff10y_dissic_u011pctbgc.coords['lon'] = (diff10y_dissic_u011pctbgc.coords['lon'] + 180) % 360 - 180\n",
    "\n",
    "diff10y_dissic_u031pctbgc = ((ds_dissic_u031pctbgcLR.dissic.isel(time=np.arange(-10,0)).mean(dim=\"time\")*ds_volcello_u05hosLR.mean(dim=\"time\").volcello*g_per_molC/1e15).isel(depth=np.arange(0,40)).sum(dim='depth')\n",
    "-(ds_dissic_u031pctbgcLR.dissic.isel(time=np.arange(0,10)).mean(dim=\"time\")*ds_volcello_u05hosLR.mean(dim=\"time\").volcello*g_per_molC/1e15).isel(depth=np.arange(0,40)).sum(dim='depth'))\n",
    "diff10y_dissic_u031pctbgc.coords['lon'] = (diff10y_dissic_u031pctbgc.coords['lon'] + 180) % 360 - 180\n",
    "\n",
    "diff10y_dissic_u051pctbgc = ((ds_dissic_u051pctbgcLR.dissic.isel(time=np.arange(-10,0)).mean(dim=\"time\")*ds_volcello_u05hosLR.mean(dim=\"time\").volcello*g_per_molC/1e15).isel(depth=np.arange(0,40)).sum(dim='depth')\n",
    "-(ds_dissic_u051pctbgcLR.dissic.isel(time=np.arange(0,10)).mean(dim=\"time\")*ds_volcello_u05hosLR.mean(dim=\"time\").volcello*g_per_molC/1e15).isel(depth=np.arange(0,40)).sum(dim='depth'))\n",
    "diff10y_dissic_u051pctbgc.coords['lon'] = (diff10y_dissic_u051pctbgc.coords['lon'] + 180) % 360 - 180\n",
    "\n",
    "diff10y_dissic_g051pctbgc = ((ds_dissic_g051pctbgcLR.dissic.isel(time=np.arange(-10,0)).mean(dim=\"time\")*ds_volcello_u05hosLR.mean(dim=\"time\").volcello*g_per_molC/1e15).isel(depth=np.arange(0,40)).sum(dim='depth')\n",
    "-(ds_dissic_g051pctbgcLR.dissic.isel(time=np.arange(0,10)).mean(dim=\"time\")*ds_volcello_u05hosLR.mean(dim=\"time\").volcello*g_per_molC/1e15).isel(depth=np.arange(0,40)).sum(dim='depth'))\n",
    "diff10y_dissic_g051pctbgc.coords['lon'] = (diff10y_dissic_g051pctbgc.coords['lon'] + 180) % 360 - 180\n",
    "\n",
    "diff10y_dissic_g031pctbgc = ((ds_dissic_g031pctbgcLR.dissic.isel(time=np.arange(-10,0)).mean(dim=\"time\")*ds_volcello_u05hosLR.mean(dim=\"time\").volcello*g_per_molC/1e15).isel(depth=np.arange(0,40)).sum(dim='depth')\n",
    "-(ds_dissic_g031pctbgcLR.dissic.isel(time=np.arange(0,10)).mean(dim=\"time\")*ds_volcello_u05hosLR.mean(dim=\"time\").volcello*g_per_molC/1e15).isel(depth=np.arange(0,40)).sum(dim='depth'))\n",
    "diff10y_dissic_g031pctbgc.coords['lon'] = (diff10y_dissic_g031pctbgc.coords['lon'] + 180) % 360 - 180\n",
    "\n",
    "diff10y_dissic_g011pctbgc =((ds_dissic_g011pctbgcLR.dissic.isel(time=np.arange(-10,0)).mean(dim=\"time\")*ds_volcello_u05hosLR.mean(dim=\"time\").volcello*g_per_molC/1e15).isel(depth=np.arange(0,40)).sum(dim='depth')\n",
    "-(ds_dissic_g011pctbgcLR.dissic.isel(time=np.arange(0,10)).mean(dim=\"time\")*ds_volcello_u05hosLR.mean(dim=\"time\").volcello*g_per_molC/1e15).isel(depth=np.arange(0,40)).sum(dim='depth'))\n",
    "diff10y_dissic_g011pctbgc.coords['lon'] = (diff10y_dissic_g011pctbgc.coords['lon'] + 180) % 360 - 180"
   ]
  },
  {
   "cell_type": "code",
   "execution_count": null,
   "id": "39b0ae6b-5f79-4a92-b0e2-fc336073b2f4",
   "metadata": {
    "execution": {
     "iopub.execute_input": "2024-04-05T08:19:43.529183Z",
     "iopub.status.busy": "2024-04-05T08:19:43.528706Z",
     "iopub.status.idle": "2024-04-05T08:20:49.930810Z",
     "shell.execute_reply": "2024-04-05T08:20:49.930084Z",
     "shell.execute_reply.started": "2024-04-05T08:19:43.529158Z"
    },
    "tags": []
   },
   "outputs": [],
   "source": [
    "# Now difference plot 1pctbgc MINUS EACH HOSING 1pctbgc\n",
    "fig=plt.figure(figsize=(18, 8))\n",
    "\n",
    "ax1 = fig.add_subplot(231, projection=ccrs.Robinson(central_longitude=-40))\n",
    "ax1.set_global()\n",
    "(xr.DataArray(diff10y_dissic_1pctbgc.variable - diff10y_dissic_u011pctbgc.variable, coords=diff10y_dissic_1pctbgc.coords)).plot.pcolormesh(\n",
    "    ax=ax1, transform=ccrs.PlateCarree(), x=\"lon\", y=\"lat\", cmap='RdBu_r', cbar_kwargs={'label': 'PgC, column integrated'}, vmin=-0.03, vmax=0.03)\n",
    "ax1.coastlines()\n",
    "ax1.set_title(\"1pctbgc - u01-1pctbgc\")\n",
    "ax1.text(-0.1, 1.1, str(round(dissic_1pctbgc_total_full-dissic_u011pctbgc_total_full.item(), 1))+\" PgC\", transform=ax1.transAxes, fontsize=14, verticalalignment='top', fontweight='bold')\n",
    "\n",
    "ax2 = fig.add_subplot(232, projection=ccrs.Robinson(central_longitude=-40))\n",
    "ax2.set_global()\n",
    "(xr.DataArray(diff10y_dissic_1pctbgc.variable - diff10y_dissic_u031pctbgc.variable, coords=diff10y_dissic_1pctbgc.coords)).plot.pcolormesh(\n",
    "    ax=ax2, transform=ccrs.PlateCarree(), x=\"lon\", y=\"lat\", cmap='RdBu_r', cbar_kwargs={'label': 'PgC, column integrated'}, vmin=-0.03, vmax=0.03)\n",
    "ax2.coastlines()\n",
    "ax2.set_title(\"1pctbgc - u03-1pctbgc\")\n",
    "ax2.text(-0.1, 1.1, str(round(dissic_1pctbgc_total_full-dissic_u031pctbgc_total_full.item(), 1))+\" PgC\", transform=ax2.transAxes, fontsize=14, verticalalignment='top', fontweight='bold')\n",
    "\n",
    "ax3 = fig.add_subplot(233, projection=ccrs.Robinson(central_longitude=-60))\n",
    "ax3.set_global()\n",
    "(xr.DataArray(diff10y_dissic_1pctbgc.variable - diff10y_dissic_u051pctbgc.variable, coords=diff10y_dissic_1pctbgc.coords)).plot.pcolormesh(\n",
    "    ax=ax3, transform=ccrs.PlateCarree(), x=\"lon\", y=\"lat\", cmap='RdBu_r', cbar_kwargs={'label': 'PgC, column integrated'}, vmin=-0.03, vmax=0.03)\n",
    "ax3.coastlines()\n",
    "ax3.set_title(\"1pctbgc - u05-1pctbgc\")\n",
    "ax3.text(-0.1, 1.1, str(round(dissic_1pctbgc_total_full-dissic_u051pctbgc_total_full.item(), 1))+\" PgC\", transform=ax3.transAxes, fontsize=14, verticalalignment='top', fontweight='bold')\n",
    "\n",
    "\n",
    "ax4 = fig.add_subplot(234, projection=ccrs.Robinson(central_longitude=-60))\n",
    "ax4.set_global()\n",
    "(xr.DataArray(diff10y_dissic_1pctbgc.variable - diff10y_dissic_g011pctbgc.variable, coords=diff10y_dissic_1pctbgc.coords)).plot.pcolormesh(\n",
    "    ax=ax4, transform=ccrs.PlateCarree(), x=\"lon\", y=\"lat\", cmap='RdBu_r', cbar_kwargs={'label': 'PgC, column integrated'}, vmin=-0.03, vmax=0.03)\n",
    "ax4.coastlines()\n",
    "ax4.set_title(\"1pctbgc - g01-1pctbgc\")\n",
    "ax4.text(-0.1, 1.1, str(round(dissic_1pctbgc_total_full-dissic_g011pctbgc_total_full.item(), 1))+\" PgC\", transform=ax4.transAxes, fontsize=14, verticalalignment='top', fontweight='bold')\n",
    "\n",
    "ax5 = fig.add_subplot(235, projection=ccrs.Robinson(central_longitude=-60))\n",
    "ax5.set_global()\n",
    "(xr.DataArray(diff10y_dissic_1pctbgc.variable - diff10y_dissic_g031pctbgc.variable, coords=diff10y_dissic_1pctbgc.coords)).plot.pcolormesh(\n",
    "    ax=ax5, transform=ccrs.PlateCarree(), x=\"lon\", y=\"lat\", cmap='RdBu_r', cbar_kwargs={'label': 'PgC, column integrated'}, vmin=-0.03, vmax=0.03)\n",
    "ax5.coastlines()\n",
    "ax5.set_title(\"1pctbgc - g03-1pctbgc\")\n",
    "ax5.text(-0.1, 1.1, str(round(dissic_1pctbgc_total_full-dissic_g031pctbgc_total_full.item(), 1))+\" PgC\", transform=ax5.transAxes, fontsize=14, verticalalignment='top', fontweight='bold')\n",
    "\n",
    "ax6 = fig.add_subplot(236, projection=ccrs.Robinson(central_longitude=-60))\n",
    "ax6.set_global()\n",
    "(xr.DataArray(diff10y_dissic_1pctbgc.variable - diff10y_dissic_g051pctbgc.variable, coords=diff10y_dissic_1pctbgc.coords)).plot.pcolormesh(\n",
    "    ax=ax6, transform=ccrs.PlateCarree(), x=\"lon\", y=\"lat\", cmap='RdBu_r', cbar_kwargs={'label': 'PgC, column integrated'}, vmin=-0.03, vmax=0.03)\n",
    "ax6.coastlines()\n",
    "ax6.set_title(\"1pctbgc - g05-1pctbgc\")\n",
    "ax6.text(-0.1, 1.1, str(round(dissic_1pctbgc_total_full-dissic_g051pctbgc_total_full.item(), 1))+\" PgC\", transform=ax6.transAxes, fontsize=14, verticalalignment='top', fontweight='bold')"
   ]
  },
  {
   "cell_type": "markdown",
   "id": "47315de8-08cd-45d4-876d-510c69fbb1c5",
   "metadata": {},
   "source": [
    "### Calculation feedbacks"
   ]
  },
  {
   "cell_type": "markdown",
   "id": "037c7696-eb6c-4b57-b056-f7990ba8c702",
   "metadata": {
    "execution": {
     "iopub.execute_input": "2024-08-20T15:12:51.250894Z",
     "iopub.status.busy": "2024-08-20T15:12:51.250392Z",
     "iopub.status.idle": "2024-08-20T15:12:51.256014Z",
     "shell.execute_reply": "2024-08-20T15:12:51.255185Z",
     "shell.execute_reply.started": "2024-08-20T15:12:51.250870Z"
    }
   },
   "source": [
    "First, calculate the total difference in tas, dissic and msftmz; comparing initial to last states"
   ]
  },
  {
   "cell_type": "code",
   "execution_count": null,
   "id": "6ab2859c-19ec-409f-925b-9b09d3a9bcde",
   "metadata": {
    "execution": {
     "iopub.execute_input": "2024-08-06T07:34:58.571387Z",
     "iopub.status.busy": "2024-08-06T07:34:58.570840Z",
     "iopub.status.idle": "2024-08-06T07:35:07.276297Z",
     "shell.execute_reply": "2024-08-06T07:35:07.275490Z",
     "shell.execute_reply.started": "2024-08-06T07:34:58.571363Z"
    },
    "tags": []
   },
   "outputs": [],
   "source": [
    "# Total diff tas 1pctbgc\n",
    "total_tas_diff = {}\n",
    "for exp in [\"hosing_naa01Sv_1pctbgc-LR\",\"hosing_naa03Sv_1pctbgc-LR\", \"hosing_naa05Sv_1pctbgc-LR\",\n",
    "            \"hosing_grc01Sv_1pctbgc-LR\", \"hosing_grc03Sv_1pctbgc-LR\", \"hosing_grc05Sv_1pctbgc-LR\",\n",
    "            \"hosing_naa03Sv_1pct-LR\", \"hosing_naa05Sv_1pct-LR\"]:\n",
    "    total_tas_diff[exp] = (ds_tas_new[exp].groupby('time.year').mean('time').isel(year=-1).mean(dim='lat').mean(dim='lon').temp2-ds_tas_new[exp].groupby(\n",
    "        'time.year').mean('time').isel(year=0).mean(dim='lat').mean(dim='lon').temp2).values\n",
    "    print(exp+\": \"+str(total_tas_diff[exp]))"
   ]
  },
  {
   "cell_type": "code",
   "execution_count": null,
   "id": "08d99ddd-1aca-44ee-b6bb-fbf3093ee186",
   "metadata": {
    "execution": {
     "iopub.execute_input": "2024-08-06T07:36:14.767603Z",
     "iopub.status.busy": "2024-08-06T07:36:14.767124Z",
     "iopub.status.idle": "2024-08-06T07:36:17.563142Z",
     "shell.execute_reply": "2024-08-06T07:36:17.562333Z",
     "shell.execute_reply.started": "2024-08-06T07:36:14.767579Z"
    },
    "tags": []
   },
   "outputs": [],
   "source": [
    "# Total diff dissic bgc hist & scenarios\n",
    "total_tas_diff_scen = {}\n",
    "for exp in [\"histbgc-LR\", \"hosing_naa03Sv_ssp126bgc-LR\", \"hosing_naa03Sv_ssp245bgc-LR\", \"hosing_naa03Sv_ssp585bgc-LR\"]:\n",
    "    total_tas_diff_scen[exp] = (ds_tas_new_scen[exp].groupby('time.year').mean('time').isel(year=-1).mean(dim='lat').mean(dim='lon').temp2-ds_tas_new_scen[exp].groupby(\n",
    "        'time.year').mean('time').isel(year=0).mean(dim='lat').mean(dim='lon').temp2).values\n",
    "    print(exp+\": \"+str(total_tas_diff_scen[exp]))"
   ]
  },
  {
   "cell_type": "code",
   "execution_count": null,
   "id": "356d0dd5-8b9c-46b9-95f9-dffdaa84a0f1",
   "metadata": {
    "execution": {
     "iopub.execute_input": "2024-08-20T14:50:05.918284Z",
     "iopub.status.busy": "2024-08-20T14:50:05.917838Z",
     "iopub.status.idle": "2024-08-20T14:50:09.409839Z",
     "shell.execute_reply": "2024-08-20T14:50:09.409070Z",
     "shell.execute_reply.started": "2024-08-20T14:50:05.918262Z"
    },
    "tags": []
   },
   "outputs": [],
   "source": [
    "# Total diff tas ssp245bgc\n",
    "total_tas_diff_ssp245 = {}\n",
    "for exp in [\"hosing_naa01Sv_ssp245bgc-LR\",\"hosing_naa03Sv_ssp245bgc-LR\", \"hosing_naa05Sv_ssp245bgc-LR\",\n",
    "            \"hosing_grc01Sv_ssp245bgc-LR\", \"hosing_grc03Sv_ssp245bgc-LR\", \"hosing_grc05Sv_ssp245bgc-LR\",\n",
    "            \"ssp245bgc-LR\"]:\n",
    "    total_tas_diff_ssp245[exp] = (ds_tas_ssp245[exp].groupby('time.year').mean('time').isel(year=-1).mean(dim='lat').mean(dim='lon').temp2-ds_tas_ssp245[exp].groupby(\n",
    "        'time.year').mean('time').isel(year=0).mean(dim='lat').mean(dim='lon').temp2).values\n",
    "    print(exp+\": \"+str(total_tas_diff_ssp245[exp]))"
   ]
  },
  {
   "cell_type": "code",
   "execution_count": null,
   "id": "a0ed495c-7fee-4419-b39a-0bc27379a65c",
   "metadata": {},
   "outputs": [],
   "source": []
  },
  {
   "cell_type": "code",
   "execution_count": null,
   "id": "972f8373-a411-4301-81c6-e9b118f168fc",
   "metadata": {
    "execution": {
     "iopub.execute_input": "2024-06-24T08:56:40.802324Z",
     "iopub.status.busy": "2024-06-24T08:56:40.801874Z",
     "iopub.status.idle": "2024-06-24T08:58:33.299167Z",
     "shell.execute_reply": "2024-06-24T08:58:33.298374Z",
     "shell.execute_reply.started": "2024-06-24T08:56:40.802301Z"
    },
    "tags": []
   },
   "outputs": [],
   "source": [
    "# Total diff dissic 1pctbgc\n",
    "dissic_1pctbgc_diff = ((ds_dissic_1pctbgc.dissic.groupby('time.year').mean('time').isel(year=-1)*ds_volcello.volcello*g_per_molC/1e15).isel(lev=np.arange(0,40)).sum(dim='lev')\n",
    "-(ds_dissic_1pctbgc.dissic.groupby('time.year').mean('time').isel(year=0)*ds_volcello.volcello*g_per_molC/1e15).isel(lev=np.arange(0,40)).sum(dim='lev')\n",
    ").sum(dim='i').sum(dim='j').values\n",
    "print(dissic_1pctbgc_diff)\n",
    "\n",
    "dissic_u011pctbgc_diff = ((ds_dissic_u011pctbgcLR.dissic.isel(time=-1)*ds_volcello_u05hosLR.mean(dim=\"time\").volcello*g_per_molC/1e15).isel(depth=np.arange(0,40)).sum(dim='depth')\n",
    "-(ds_dissic_u011pctbgcLR.dissic.isel(time=0)*ds_volcello_u05hosLR.mean(dim=\"time\").volcello*g_per_molC/1e15).isel(depth=np.arange(0,40)).sum(dim='depth')\n",
    ").sum(dim='x').sum(dim='y').values\n",
    "print(dissic_u011pctbgc_diff)\n",
    "\n",
    "dissic_u031pctbgc_diff = ((ds_dissic_u031pctbgcLR.dissic.isel(time=-1)*ds_volcello_u05hosLR.mean(dim=\"time\").volcello*g_per_molC/1e15).isel(depth=np.arange(0,40)).sum(dim='depth')\n",
    "-(ds_dissic_u031pctbgcLR.dissic.isel(time=0)*ds_volcello_u05hosLR.mean(dim=\"time\").volcello*g_per_molC/1e15).isel(depth=np.arange(0,40)).sum(dim='depth')\n",
    ").sum(dim='x').sum(dim='y').values\n",
    "print(dissic_u031pctbgc_diff)\n",
    "\n",
    "dissic_u051pctbgc_diff = ((ds_dissic_u051pctbgcLR.dissic.isel(time=-1)*ds_volcello_u05hosLR.mean(dim=\"time\").volcello*g_per_molC/1e15).isel(depth=np.arange(0,40)).sum(dim='depth')\n",
    "-(ds_dissic_u051pctbgcLR.dissic.isel(time=0)*ds_volcello_u05hosLR.mean(dim=\"time\").volcello*g_per_molC/1e15).isel(depth=np.arange(0,40)).sum(dim='depth')\n",
    ").sum(dim='x').sum(dim='y').values\n",
    "print(dissic_u051pctbgc_diff)\n",
    "\n",
    "dissic_g011pctbgc_diff = ((ds_dissic_g011pctbgcLR.dissic.isel(time=-1)*ds_volcello_u05hosLR.mean(dim=\"time\").volcello*g_per_molC/1e15).isel(depth=np.arange(0,40)).sum(dim='depth')\n",
    "-(ds_dissic_g011pctbgcLR.dissic.isel(time=0)*ds_volcello_u05hosLR.mean(dim=\"time\").volcello*g_per_molC/1e15).isel(depth=np.arange(0,40)).sum(dim='depth')\n",
    ").sum(dim='x').sum(dim='y').values\n",
    "print(dissic_g011pctbgc_diff)\n",
    "\n",
    "dissic_g031pctbgc_diff = ((ds_dissic_g031pctbgcLR.dissic.isel(time=-1)*ds_volcello_u05hosLR.mean(dim=\"time\").volcello*g_per_molC/1e15).isel(depth=np.arange(0,40)).sum(dim='depth')\n",
    "-(ds_dissic_g031pctbgcLR.dissic.isel(time=0)*ds_volcello_u05hosLR.mean(dim=\"time\").volcello*g_per_molC/1e15).isel(depth=np.arange(0,40)).sum(dim='depth')\n",
    ").sum(dim='x').sum(dim='y').values\n",
    "print(dissic_g031pctbgc_diff)\n",
    "\n",
    "dissic_g051pctbgc_diff = ((ds_dissic_g051pctbgcLR.dissic.isel(time=-1)*ds_volcello_u05hosLR.mean(dim=\"time\").volcello*g_per_molC/1e15).isel(depth=np.arange(0,40)).sum(dim='depth')\n",
    "-(ds_dissic_g051pctbgcLR.dissic.isel(time=0)*ds_volcello_u05hosLR.mean(dim=\"time\").volcello*g_per_molC/1e15).isel(depth=np.arange(0,40)).sum(dim='depth')\n",
    ").sum(dim='x').sum(dim='y').values\n",
    "print(dissic_g051pctbgc_diff)\n",
    "\n",
    "dissic_1pct_diff = ((ds_dissic_1pct.dissic.groupby('time.year').mean('time').isel(year=-1)*ds_volcello.volcello*g_per_molC/1e15).isel(lev=np.arange(0,40)).sum(dim='lev')\n",
    "-(ds_dissic_1pct.dissic.groupby('time.year').mean('time').isel(year=0)*ds_volcello.volcello*g_per_molC/1e15).isel(lev=np.arange(0,40)).sum(dim='lev')\n",
    ").sum(dim='i').sum(dim='j').values\n",
    "print(dissic_1pct_diff)\n",
    "\n",
    "dissic_u031pct_diff = ((ds_dissic_u031pctLR.dissic.isel(time=-1)*ds_volcello_u05hosLR.mean(dim=\"time\").volcello*g_per_molC/1e15).isel(depth=np.arange(0,40)).sum(dim='depth')\n",
    "-(ds_dissic_u031pctLR.dissic.isel(time=0)*ds_volcello_u05hosLR.mean(dim=\"time\").volcello*g_per_molC/1e15).isel(depth=np.arange(0,40)).sum(dim='depth')\n",
    ").sum(dim='x').sum(dim='y').values\n",
    "print(dissic_u031pct_diff)\n",
    "\n",
    "dissic_u051pct_diff = ((ds_dissic_u051pctLR.dissic.isel(time=-1)*ds_volcello_u05hosLR.mean(dim=\"time\").volcello*g_per_molC/1e15).isel(depth=np.arange(0,40)).sum(dim='depth')\n",
    "-(ds_dissic_u051pctLR.dissic.isel(time=0)*ds_volcello_u05hosLR.mean(dim=\"time\").volcello*g_per_molC/1e15).isel(depth=np.arange(0,40)).sum(dim='depth')\n",
    ").sum(dim='x').sum(dim='y').values\n",
    "print(dissic_u051pct_diff)"
   ]
  },
  {
   "cell_type": "code",
   "execution_count": null,
   "id": "12f35fd0-a6b3-4614-8ab0-ec4e168cdf74",
   "metadata": {
    "execution": {
     "iopub.execute_input": "2024-08-06T07:36:30.450056Z",
     "iopub.status.busy": "2024-08-06T07:36:30.448677Z",
     "iopub.status.idle": "2024-08-06T07:36:31.906712Z",
     "shell.execute_reply": "2024-08-06T07:36:31.905953Z",
     "shell.execute_reply.started": "2024-08-06T07:36:30.450032Z"
    },
    "tags": []
   },
   "outputs": [],
   "source": [
    "# Total diff dissic bgc hist & scenarios\n",
    "dissic_histbgc_diff = ((ds_dissic_histbgcLR.dissic.isel(time=-1)*ds_volcello_u05hosLR.mean(dim=\"time\").volcello*g_per_molC/1e15).isel(depth=np.arange(0,40)).sum(dim='depth')\n",
    "-(ds_dissic_histbgcLR.dissic.isel(time=0)*ds_volcello_u05hosLR.mean(dim=\"time\").volcello*g_per_molC/1e15).isel(depth=np.arange(0,40)).sum(dim='depth')\n",
    ").sum(dim='x').sum(dim='y').values\n",
    "print(dissic_histbgc_diff)\n",
    "\n",
    "dissic_u03ssp126bgc_diff = ((ds_dissic_u03ssp126bgcLR.dissic.isel(time=-1)*ds_volcello_u05hosLR.mean(dim=\"time\").volcello*g_per_molC/1e15).isel(depth=np.arange(0,40)).sum(dim='depth')\n",
    "-(ds_dissic_u03ssp126bgcLR.dissic.isel(time=0)*ds_volcello_u05hosLR.mean(dim=\"time\").volcello*g_per_molC/1e15).isel(depth=np.arange(0,40)).sum(dim='depth')\n",
    ").sum(dim='x').sum(dim='y').values\n",
    "print(dissic_u03ssp126bgc_diff)\n",
    "\n",
    "dissic_u03ssp245bgc_diff = ((ds_dissic_u03ssp245bgcLR.dissic.isel(time=-1)*ds_volcello_u05hosLR.mean(dim=\"time\").volcello*g_per_molC/1e15).isel(depth=np.arange(0,40)).sum(dim='depth')\n",
    "-(ds_dissic_u03ssp245bgcLR.dissic.isel(time=0)*ds_volcello_u05hosLR.mean(dim=\"time\").volcello*g_per_molC/1e15).isel(depth=np.arange(0,40)).sum(dim='depth')\n",
    ").sum(dim='x').sum(dim='y').values\n",
    "print(dissic_u03ssp245bgc_diff)\n",
    "\n",
    "dissic_u03ssp585bgc_diff = ((ds_dissic_u03ssp585bgcLR.dissic.isel(time=-1)*ds_volcello_u05hosLR.mean(dim=\"time\").volcello*g_per_molC/1e15).isel(depth=np.arange(0,40)).sum(dim='depth')\n",
    "-(ds_dissic_u03ssp585bgcLR.dissic.isel(time=0)*ds_volcello_u05hosLR.mean(dim=\"time\").volcello*g_per_molC/1e15).isel(depth=np.arange(0,40)).sum(dim='depth')\n",
    ").sum(dim='x').sum(dim='y').values\n",
    "print(dissic_u03ssp585bgc_diff)"
   ]
  },
  {
   "cell_type": "code",
   "execution_count": null,
   "id": "3b2515b8-70bb-4941-99ad-7e7c97bbc6c3",
   "metadata": {
    "execution": {
     "iopub.execute_input": "2024-08-20T15:15:26.888184Z",
     "iopub.status.busy": "2024-08-20T15:15:26.887705Z",
     "iopub.status.idle": "2024-08-20T15:15:27.723680Z",
     "shell.execute_reply": "2024-08-20T15:15:27.722895Z",
     "shell.execute_reply.started": "2024-08-20T15:15:26.888161Z"
    },
    "tags": []
   },
   "outputs": [],
   "source": [
    "# Total diff dissic ssp245bgc\n",
    "dissic_ssp245bgc_diff = ((ds_dissic_ssp245bgcLR.dissic.isel(time=-1)*ds_volcello_u05hosLR.mean(dim=\"time\").volcello*g_per_molC/1e15).isel(depth=np.arange(0,40)).sum(dim='depth')\n",
    "-(ds_dissic_ssp245bgcLR.dissic.isel(time=0)*ds_volcello_u05hosLR.mean(dim=\"time\").volcello*g_per_molC/1e15).isel(depth=np.arange(0,40)).sum(dim='depth')\n",
    ").sum(dim='x').sum(dim='y').values\n",
    "print(dissic_ssp245bgc_diff)\n",
    "\n",
    "dissic_u01ssp245bgc_diff = ((ds_dissic_u01ssp245bgcLR.dissic.isel(time=-1)*ds_volcello_u05hosLR.mean(dim=\"time\").volcello*g_per_molC/1e15).isel(depth=np.arange(0,40)).sum(dim='depth')\n",
    "-(ds_dissic_u01ssp245bgcLR.dissic.isel(time=0)*ds_volcello_u05hosLR.mean(dim=\"time\").volcello*g_per_molC/1e15).isel(depth=np.arange(0,40)).sum(dim='depth')\n",
    ").sum(dim='x').sum(dim='y').values\n",
    "print(dissic_u01ssp245bgc_diff)\n",
    "\n",
    "dissic_u03ssp245bgc_diff = ((ds_dissic_u03ssp245bgcLR.dissic.isel(time=-1)*ds_volcello_u05hosLR.mean(dim=\"time\").volcello*g_per_molC/1e15).isel(depth=np.arange(0,40)).sum(dim='depth')\n",
    "-(ds_dissic_u03ssp245bgcLR.dissic.isel(time=0)*ds_volcello_u05hosLR.mean(dim=\"time\").volcello*g_per_molC/1e15).isel(depth=np.arange(0,40)).sum(dim='depth')\n",
    ").sum(dim='x').sum(dim='y').values\n",
    "print(dissic_u03ssp245bgc_diff)\n",
    "\n",
    "dissic_u05ssp245bgc_diff = ((ds_dissic_u05ssp245bgcLR.dissic.isel(time=-1)*ds_volcello_u05hosLR.mean(dim=\"time\").volcello*g_per_molC/1e15).isel(depth=np.arange(0,40)).sum(dim='depth')\n",
    "-(ds_dissic_u05ssp245bgcLR.dissic.isel(time=0)*ds_volcello_u05hosLR.mean(dim=\"time\").volcello*g_per_molC/1e15).isel(depth=np.arange(0,40)).sum(dim='depth')\n",
    ").sum(dim='x').sum(dim='y').values\n",
    "print(dissic_u05ssp245bgc_diff)\n",
    "\n",
    "dissic_g01ssp245bgc_diff = ((ds_dissic_g01ssp245bgcLR.dissic.isel(time=-1)*ds_volcello_u05hosLR.mean(dim=\"time\").volcello*g_per_molC/1e15).isel(depth=np.arange(0,40)).sum(dim='depth')\n",
    "-(ds_dissic_g01ssp245bgcLR.dissic.isel(time=0)*ds_volcello_u05hosLR.mean(dim=\"time\").volcello*g_per_molC/1e15).isel(depth=np.arange(0,40)).sum(dim='depth')\n",
    ").sum(dim='x').sum(dim='y').values\n",
    "print(dissic_g01ssp245bgc_diff)\n",
    "\n",
    "dissic_g03ssp245bgc_diff = ((ds_dissic_g03ssp245bgcLR.dissic.isel(time=-1)*ds_volcello_u05hosLR.mean(dim=\"time\").volcello*g_per_molC/1e15).isel(depth=np.arange(0,40)).sum(dim='depth')\n",
    "-(ds_dissic_g03ssp245bgcLR.dissic.isel(time=0)*ds_volcello_u05hosLR.mean(dim=\"time\").volcello*g_per_molC/1e15).isel(depth=np.arange(0,40)).sum(dim='depth')\n",
    ").sum(dim='x').sum(dim='y').values\n",
    "print(dissic_g03ssp245bgc_diff)\n",
    "\n",
    "dissic_g05ssp245bgc_diff = ((ds_dissic_g05ssp245bgcLR.dissic.isel(time=-1)*ds_volcello_u05hosLR.mean(dim=\"time\").volcello*g_per_molC/1e15).isel(depth=np.arange(0,40)).sum(dim='depth')\n",
    "-(ds_dissic_g05ssp245bgcLR.dissic.isel(time=0)*ds_volcello_u05hosLR.mean(dim=\"time\").volcello*g_per_molC/1e15).isel(depth=np.arange(0,40)).sum(dim='depth')\n",
    ").sum(dim='x').sum(dim='y').values\n",
    "print(dissic_g05ssp245bgc_diff)"
   ]
  },
  {
   "cell_type": "code",
   "execution_count": null,
   "id": "dc6431b4-2656-4bcd-ac15-cce039496de6",
   "metadata": {},
   "outputs": [],
   "source": []
  },
  {
   "cell_type": "code",
   "execution_count": null,
   "id": "5c54e87d-74a1-4663-b9ba-0991c7db2257",
   "metadata": {
    "execution": {
     "iopub.status.busy": "2024-06-24T08:54:52.723839Z",
     "iopub.status.idle": "2024-06-24T08:54:52.724107Z",
     "shell.execute_reply": "2024-06-24T08:54:52.723979Z",
     "shell.execute_reply.started": "2024-06-24T08:54:52.723966Z"
    },
    "tags": []
   },
   "outputs": [],
   "source": [
    "# Total diff msftmz 1pct\n",
    "msftmz_1pctbgc_diff = ((ds_msftmz_1pctbgc.sel(lat=26.5).sel(lev=1020).isel(basin=1).groupby('time.year').mean('time').isel(year=-1).msftmz.values/1e9)) - ((ds_msftmz_1pctbgc.sel(\n",
    "    lat=26.5).sel(lev=1020).isel(basin=1).groupby('time.year').mean('time').isel(year=0).msftmz.values/1e9))\n",
    "print(msftmz_1pctbgc_diff)\n",
    "\n",
    "msftmz_u011pctbgc_diff = ((ds_msftmz_u011pctbgcLR.sel(lat=26.5).sel(depth_2=1020).sel(lon=0).groupby('time.year').mean('time').isel(year=-1).atlantic_moc.values)/1e9) - ((ds_msftmz_u011pctbgcLR.sel(\n",
    "    lat=26.5).sel(depth_2=1020).sel(lon=0).groupby('time.year').mean('time').isel(year=0).atlantic_moc.values)/1e9)\n",
    "print(msftmz_u011pctbgc_diff)\n",
    "\n",
    "msftmz_u031pctbgc_diff = ((ds_msftmz_u031pctbgcLR.sel(lat=26.5).sel(depth_2=1020).sel(lon=0).groupby('time.year').mean('time').isel(year=-1).atlantic_moc.values)/1e9) - ((ds_msftmz_u031pctbgcLR.sel(\n",
    "    lat=26.5).sel(depth_2=1020).sel(lon=0).groupby('time.year').mean('time').isel(year=0).atlantic_moc.values)/1e9)\n",
    "print(msftmz_u031pctbgc_diff)\n",
    "\n",
    "msftmz_u051pctbgc_diff = ((ds_msftmz_u051pctbgcLR.sel(lat=26.5).sel(depth_2=1020).sel(lon=0).groupby('time.year').mean('time').isel(year=-1).atlantic_moc.values)/1e9) - ((ds_msftmz_u051pctbgcLR.sel(\n",
    "    lat=26.5).sel(depth_2=1020).sel(lon=0).groupby('time.year').mean('time').isel(year=0).atlantic_moc.values)/1e9)\n",
    "print(msftmz_u051pctbgc_diff)\n",
    "\n",
    "msftmz_g011pctbgc_diff = ((ds_msftmz_g011pctbgcLR.sel(lat=26.5).sel(depth_2=1020).sel(lon=0).groupby('time.year').mean('time').isel(year=-1).atlantic_moc.values)/1e9) - ((ds_msftmz_g011pctbgcLR.sel(\n",
    "    lat=26.5).sel(depth_2=1020).sel(lon=0).groupby('time.year').mean('time').isel(year=0).atlantic_moc.values)/1e9)\n",
    "print(msftmz_g011pctbgc_diff)\n",
    "\n",
    "msftmz_g031pctbgc_diff = ((ds_msftmz_g031pctbgcLR.sel(lat=26.5).sel(depth_2=1020).sel(lon=0).groupby('time.year').mean('time').isel(year=-1).atlantic_moc.values)/1e9) - ((ds_msftmz_g031pctbgcLR.sel(\n",
    "    lat=26.5).sel(depth_2=1020).sel(lon=0).groupby('time.year').mean('time').isel(year=0).atlantic_moc.values)/1e9)\n",
    "print(msftmz_g031pctbgc_diff)\n",
    "\n",
    "msftmz_g051pctbgc_diff = ((ds_msftmz_g051pctbgcLR.sel(lat=26.5).sel(depth_2=1020).sel(lon=0).groupby('time.year').mean('time').isel(year=-1).atlantic_moc.values)/1e9) - ((ds_msftmz_g051pctbgcLR.sel(\n",
    "    lat=26.5).sel(depth_2=1020).sel(lon=0).groupby('time.year').mean('time').isel(year=0).atlantic_moc.values)/1e9)\n",
    "print(msftmz_g051pctbgc_diff)\n",
    "\n",
    "msftmz_u031pct_diff = ((ds_msftmz_u031pctLR.sel(lat=26.5).sel(depth_2=1020).sel(lon=0).groupby('time.year').mean('time').isel(year=-1).atlantic_moc.values)/1e9) - ((ds_msftmz_u031pctLR.sel(\n",
    "    lat=26.5).sel(depth_2=1020).sel(lon=0).groupby('time.year').mean('time').isel(year=0).atlantic_moc.values)/1e9)\n",
    "print(msftmz_u031pct_diff)\n",
    "\n",
    "msftmz_u051pct_diff = ((ds_msftmz_u051pctLR.sel(lat=26.5).sel(depth_2=1020).sel(lon=0).groupby('time.year').mean('time').isel(year=-1).atlantic_moc.values)/1e9) - ((ds_msftmz_u051pctLR.sel(\n",
    "    lat=26.5).sel(depth_2=1020).sel(lon=0).groupby('time.year').mean('time').isel(year=0).atlantic_moc.values)/1e9)\n",
    "print(msftmz_u051pct_diff)"
   ]
  },
  {
   "cell_type": "code",
   "execution_count": null,
   "id": "5a80c9f7-a0f3-4268-9041-f90b5d3c8e19",
   "metadata": {
    "execution": {
     "iopub.execute_input": "2024-08-06T07:37:10.565428Z",
     "iopub.status.busy": "2024-08-06T07:37:10.564939Z",
     "iopub.status.idle": "2024-08-06T07:38:01.280947Z",
     "shell.execute_reply": "2024-08-06T07:38:01.280313Z",
     "shell.execute_reply.started": "2024-08-06T07:37:10.565403Z"
    },
    "tags": []
   },
   "outputs": [],
   "source": [
    "# Total diff msftmz scen\n",
    "msftmz_histbgc_diff = ((ds_msftmz_histbgcLR.sel(lat=26.5).sel(depth_2=1020).sel(lon=0).groupby('time.year').mean('time').isel(year=-1).atlantic_moc.values)/1e9) - ((ds_msftmz_histbgcLR.sel(\n",
    "    lat=26.5).sel(depth_2=1020).sel(lon=0).groupby('time.year').mean('time').isel(year=0).atlantic_moc.values)/1e9)\n",
    "print(msftmz_histbgc_diff)\n",
    "\n",
    "msftmz_u03ssp126bgc_diff = ((ds_msftmz_u03ssp126bgcLR.sel(lat=26.5).sel(depth_2=1020).sel(lon=0).groupby('time.year').mean('time').isel(year=-1).atlantic_moc.values)/1e9) - ((ds_msftmz_u03ssp126bgcLR.sel(\n",
    "    lat=26.5).sel(depth_2=1020).sel(lon=0).groupby('time.year').mean('time').isel(year=0).atlantic_moc.values)/1e9)\n",
    "print(msftmz_u03ssp126bgc_diff)\n",
    "\n",
    "msftmz_u03ssp245bgc_diff = ((ds_msftmz_u03ssp245bgcLR.sel(lat=26.5).sel(depth_2=1020).sel(lon=0).groupby('time.year').mean('time').isel(year=-1).atlantic_moc.values)/1e9) - ((ds_msftmz_u03ssp245bgcLR.sel(\n",
    "    lat=26.5).sel(depth_2=1020).sel(lon=0).groupby('time.year').mean('time').isel(year=0).atlantic_moc.values)/1e9)\n",
    "print(msftmz_u03ssp245bgc_diff)\n",
    "\n",
    "msftmz_u03ssp585bgc_diff = ((ds_msftmz_u03ssp585bgcLR.sel(lat=26.5).sel(depth_2=1020).sel(lon=0).groupby('time.year').mean('time').isel(year=-1).atlantic_moc.values)/1e9) - ((ds_msftmz_u03ssp585bgcLR.sel(\n",
    "    lat=26.5).sel(depth_2=1020).sel(lon=0).groupby('time.year').mean('time').isel(year=0).atlantic_moc.values)/1e9)\n",
    "print(msftmz_u03ssp585bgc_diff)"
   ]
  },
  {
   "cell_type": "code",
   "execution_count": null,
   "id": "dbc704a3-2824-4426-8d77-08d59d42a5ad",
   "metadata": {
    "execution": {
     "iopub.execute_input": "2024-08-20T15:17:32.984775Z",
     "iopub.status.busy": "2024-08-20T15:17:32.984306Z",
     "iopub.status.idle": "2024-08-20T15:18:41.436403Z",
     "shell.execute_reply": "2024-08-20T15:18:41.435605Z",
     "shell.execute_reply.started": "2024-08-20T15:17:32.984740Z"
    },
    "tags": []
   },
   "outputs": [],
   "source": [
    "# Total diff msftmz 1pct\n",
    "msftmz_ssp245bgc_diff = ((ds_msftmz_ssp245bgcLR.sel(lat=26.5).sel(depth_2=1020).sel(lon=0).groupby('time.year').mean('time').isel(year=-1).atlantic_moc.values)/1e9) - ((ds_msftmz_ssp245bgcLR.sel(\n",
    "    lat=26.5).sel(depth_2=1020).sel(lon=0).groupby('time.year').mean('time').isel(year=0).atlantic_moc.values)/1e9)\n",
    "print(msftmz_ssp245bgc_diff)\n",
    "\n",
    "msftmz_u01ssp245bgc_diff = ((ds_msftmz_u01ssp245bgcLR.sel(lat=26.5).sel(depth_2=1020).sel(lon=0).groupby('time.year').mean('time').isel(year=-1).atlantic_moc.values)/1e9) - ((ds_msftmz_u01ssp245bgcLR.sel(\n",
    "    lat=26.5).sel(depth_2=1020).sel(lon=0).groupby('time.year').mean('time').isel(year=0).atlantic_moc.values)/1e9)\n",
    "print(msftmz_u01ssp245bgc_diff)\n",
    "\n",
    "msftmz_u03ssp245bgc_diff = ((ds_msftmz_u03ssp245bgcLR.sel(lat=26.5).sel(depth_2=1020).sel(lon=0).groupby('time.year').mean('time').isel(year=-1).atlantic_moc.values)/1e9) - ((ds_msftmz_u03ssp245bgcLR.sel(\n",
    "    lat=26.5).sel(depth_2=1020).sel(lon=0).groupby('time.year').mean('time').isel(year=0).atlantic_moc.values)/1e9)\n",
    "print(msftmz_u03ssp245bgc_diff)\n",
    "\n",
    "msftmz_u05ssp245bgc_diff = ((ds_msftmz_u05ssp245bgcLR.sel(lat=26.5).sel(depth_2=1020).sel(lon=0).groupby('time.year').mean('time').isel(year=-1).atlantic_moc.values)/1e9) - ((ds_msftmz_u05ssp245bgcLR.sel(\n",
    "    lat=26.5).sel(depth_2=1020).sel(lon=0).groupby('time.year').mean('time').isel(year=0).atlantic_moc.values)/1e9)\n",
    "print(msftmz_u05ssp245bgc_diff)\n",
    "\n",
    "msftmz_g01ssp245bgc_diff = ((ds_msftmz_g01ssp245bgcLR.sel(lat=26.5).sel(depth_2=1020).sel(lon=0).groupby('time.year').mean('time').isel(year=-1).atlantic_moc.values)/1e9) - ((ds_msftmz_g01ssp245bgcLR.sel(\n",
    "    lat=26.5).sel(depth_2=1020).sel(lon=0).groupby('time.year').mean('time').isel(year=0).atlantic_moc.values)/1e9)\n",
    "print(msftmz_g01ssp245bgc_diff)\n",
    "\n",
    "msftmz_g03ssp245bgc_diff = ((ds_msftmz_g03ssp245bgcLR.sel(lat=26.5).sel(depth_2=1020).sel(lon=0).groupby('time.year').mean('time').isel(year=-1).atlantic_moc.values)/1e9) - ((ds_msftmz_g03ssp245bgcLR.sel(\n",
    "    lat=26.5).sel(depth_2=1020).sel(lon=0).groupby('time.year').mean('time').isel(year=0).atlantic_moc.values)/1e9)\n",
    "print(msftmz_g03ssp245bgc_diff)\n",
    "\n",
    "msftmz_g05ssp245bgc_diff = ((ds_msftmz_g05ssp245bgcLR.sel(lat=26.5).sel(depth_2=1020).sel(lon=0).groupby('time.year').mean('time').isel(year=-1).atlantic_moc.values)/1e9) - ((ds_msftmz_g05ssp245bgcLR.sel(\n",
    "    lat=26.5).sel(depth_2=1020).sel(lon=0).groupby('time.year').mean('time').isel(year=0).atlantic_moc.values)/1e9)\n",
    "print(msftmz_g05ssp245bgc_diff)"
   ]
  },
  {
   "cell_type": "markdown",
   "id": "53384744-ca01-421c-97ac-162c250ff05d",
   "metadata": {},
   "source": [
    "Linear regression"
   ]
  },
  {
   "cell_type": "raw",
   "id": "55a6480f-2787-426e-9a1f-631aae70fdb3",
   "metadata": {
    "collapsed": true,
    "execution": {
     "iopub.execute_input": "2023-12-13T17:16:20.104583Z",
     "iopub.status.busy": "2023-12-13T17:16:20.104084Z",
     "iopub.status.idle": "2023-12-13T17:16:21.490493Z",
     "shell.execute_reply": "2023-12-13T17:16:21.489587Z",
     "shell.execute_reply.started": "2023-12-13T17:16:20.104560Z"
    },
    "jupyter": {
     "outputs_hidden": true
    },
    "tags": []
   },
   "source": [
    "from sklearn.linear_model import LinearRegression\n",
    "X = [msftmz_1pctbgc_diff, msftmz_g011pctbgc_diff, msftmz_u031pctbgc_diff, msftmz_u051pctbgc_diff]\n",
    "Y = [dissic_1pctbgc_diff*10, dissic_g011pctbgc_diff*10, dissic_u031pctbgc_diff*10, dissic_u051pctbgc_diff*10]\n",
    "linear_regressor = LinearRegression()  # create object for the class\n",
    "linear_regressor.fit(X, Y)  # perform linear regression\n",
    "Y_pred = linear_regressor.predict(X)  "
   ]
  },
  {
   "cell_type": "code",
   "execution_count": 35,
   "id": "53cf030c-5ab5-4f8b-98c5-1eb325dd5640",
   "metadata": {
    "execution": {
     "iopub.execute_input": "2024-08-20T15:18:41.438042Z",
     "iopub.status.busy": "2024-08-20T15:18:41.437711Z",
     "iopub.status.idle": "2024-08-20T15:18:41.442233Z",
     "shell.execute_reply": "2024-08-20T15:18:41.441627Z",
     "shell.execute_reply.started": "2024-08-20T15:18:41.438021Z"
    },
    "tags": []
   },
   "outputs": [],
   "source": [
    "def estimate_coef(x, y):\n",
    "  # number of observations/points\n",
    "  n = np.size(x)\n",
    "  # mean of x and y vector\n",
    "  m_x = np.mean(x)\n",
    "  m_y = np.mean(y)\n",
    "  # calculating cross-deviation and deviation about x\n",
    "  SS_xy = np.sum(y*x) - n*m_y*m_x\n",
    "  SS_xx = np.sum(x*x) - n*m_x*m_x\n",
    "  # calculating regression coefficients\n",
    "  b_1 = SS_xy / SS_xx\n",
    "  b_0 = m_y - b_1*m_x\n",
    " \n",
    "  return (b_0, b_1)"
   ]
  },
  {
   "cell_type": "code",
   "execution_count": 45,
   "id": "9ea8c129-3926-4b47-8d68-9b96b686f3b0",
   "metadata": {
    "execution": {
     "iopub.execute_input": "2024-04-05T08:25:09.777863Z",
     "iopub.status.busy": "2024-04-05T08:25:09.777372Z",
     "iopub.status.idle": "2024-04-05T08:25:09.782247Z",
     "shell.execute_reply": "2024-04-05T08:25:09.781595Z",
     "shell.execute_reply.started": "2024-04-05T08:25:09.777840Z"
    },
    "tags": []
   },
   "outputs": [],
   "source": [
    "X = np.array([msftmz_1pctbgc_diff, msftmz_g011pctbgc_diff, msftmz_g031pctbgc_diff, msftmz_g051pctbgc_diff, msftmz_u011pctbgc_diff, msftmz_u031pctbgc_diff, msftmz_u051pctbgc_diff])\n",
    "Y = np.array([dissic_1pctbgc_diff, dissic_g011pctbgc_diff, dissic_g031pctbgc_diff, dissic_g051pctbgc_diff, dissic_u011pctbgc_diff, dissic_u031pctbgc_diff, dissic_u051pctbgc_diff])\n",
    "b = estimate_coef(X,Y)\n",
    "y_pred = b[0] + b[1]*X"
   ]
  },
  {
   "cell_type": "code",
   "execution_count": null,
   "id": "c2395857-0a4a-48a0-a232-a3ce0ba7dbad",
   "metadata": {
    "execution": {
     "iopub.execute_input": "2024-04-05T08:29:39.977297Z",
     "iopub.status.busy": "2024-04-05T08:29:39.976845Z",
     "iopub.status.idle": "2024-04-05T08:29:40.293113Z",
     "shell.execute_reply": "2024-04-05T08:29:40.292475Z",
     "shell.execute_reply.started": "2024-04-05T08:29:39.977274Z"
    },
    "tags": []
   },
   "outputs": [],
   "source": [
    "plt.scatter(msftmz_1pctbgc_diff, dissic_1pctbgc_diff, label='1pctbgc', color='dimgrey')\n",
    "plt.scatter(msftmz_g011pctbgc_diff, dissic_g011pctbgc_diff, label='1pctbgc-g01', color='darkblue')\n",
    "plt.scatter(msftmz_g031pctbgc_diff, dissic_g031pctbgc_diff, label='1pctbgc-g03', color='dodgerblue')\n",
    "plt.scatter(msftmz_g051pctbgc_diff, dissic_g051pctbgc_diff, label='1pctbgc-g05', color='lightblue')\n",
    "plt.scatter(msftmz_u011pctbgc_diff, dissic_u011pctbgc_diff, label='1pctbgc-u01', color='peachpuff')\n",
    "plt.scatter(msftmz_u031pctbgc_diff, dissic_u031pctbgc_diff, label='1pctbgc-u03', color='salmon')\n",
    "plt.scatter(msftmz_u051pctbgc_diff, dissic_u051pctbgc_diff, label='1pctbgc-u05', color='darkred')\n",
    "plt.plot(X, y_pred, color = \"k\")\n",
    "plt.xlabel(\"$\\Delta$AMOC [Sv]\")\n",
    "plt.ylabel(\"$\\Delta$C [PgC]\")\n",
    "plt.text(-13,633, f\"slope={b[1].round(3)}\",fontsize=11, rotation=34)\n",
    "plt.legend()\n",
    "#plt.text(-11,635, \"2.57\", fontweight='bold')\n",
    "#plt.savefig('../plots/carbon_vs_amoc_regression.png', transparent=True)"
   ]
  },
  {
   "cell_type": "code",
   "execution_count": 46,
   "id": "6de99726-6026-4719-816b-39710b24eb22",
   "metadata": {
    "execution": {
     "iopub.execute_input": "2024-08-05T15:14:14.525498Z",
     "iopub.status.busy": "2024-08-05T15:14:14.525066Z",
     "iopub.status.idle": "2024-08-05T15:14:14.532034Z",
     "shell.execute_reply": "2024-08-05T15:14:14.531375Z",
     "shell.execute_reply.started": "2024-08-05T15:14:14.525472Z"
    },
    "tags": []
   },
   "outputs": [],
   "source": [
    "X = np.array([msftmz_u03ssp126bgc_diff, msftmz_u03ssp245bgc_diff, msftmz_u03ssp245bgc_diff])\n",
    "Y = np.array([dissic_u03ssp126bgc_diff, dissic_u03ssp245bgc_diff, dissic_u03ssp585bgc_diff])\n",
    "b = estimate_coef(X,Y)\n",
    "y_pred = b[0] + b[1]*X"
   ]
  },
  {
   "cell_type": "code",
   "execution_count": null,
   "id": "9aefe19f-a365-47bf-b486-47eab95b3829",
   "metadata": {
    "execution": {
     "iopub.execute_input": "2024-08-05T15:17:54.045265Z",
     "iopub.status.busy": "2024-08-05T15:17:54.044731Z",
     "iopub.status.idle": "2024-08-05T15:17:54.250325Z",
     "shell.execute_reply": "2024-08-05T15:17:54.249658Z",
     "shell.execute_reply.started": "2024-08-05T15:17:54.045241Z"
    },
    "tags": []
   },
   "outputs": [],
   "source": [
    "plt.scatter(msftmz_u03ssp126bgc_diff, dissic_u03ssp126bgc_diff, label='ssp126bgc-u03', color=colors_scen['ssp126'])\n",
    "plt.scatter(msftmz_u03ssp245bgc_diff, dissic_u03ssp245bgc_diff, label='ssp245bgc-u03', color=colors_scen['ssp245'])\n",
    "plt.scatter(msftmz_u03ssp585bgc_diff, dissic_u03ssp585bgc_diff, label='ssp585bgc-u03', color=colors_scen['ssp585'])\n",
    "#plt.plot(X, y_pred, color = \"k\")\n",
    "plt.xlabel(\"$\\Delta$AMOC [Sv]\")\n",
    "plt.ylabel(\"$\\Delta$C [PgC]\")\n",
    "plt.xlim(-16,-1)\n",
    "#plt.ylim(625,665)\n",
    "#plt.text(-13,633, f\"slope={b[1].round(3)}\",fontsize=11, rotation=34)\n",
    "plt.legend()\n",
    "#plt.text(-11,635, \"2.57\", fontweight='bold')\n",
    "#plt.savefig('../plots/carbon_vs_amoc_regression.png', transparent=True)"
   ]
  },
  {
   "cell_type": "code",
   "execution_count": 36,
   "id": "d58bc4e1-6eb8-493d-b2a7-b37d891b8a3a",
   "metadata": {
    "execution": {
     "iopub.execute_input": "2024-08-20T15:26:50.064235Z",
     "iopub.status.busy": "2024-08-20T15:26:50.063540Z",
     "iopub.status.idle": "2024-08-20T15:26:50.083827Z",
     "shell.execute_reply": "2024-08-20T15:26:50.083210Z",
     "shell.execute_reply.started": "2024-08-20T15:26:50.064212Z"
    },
    "tags": []
   },
   "outputs": [],
   "source": [
    "X = np.array([msftmz_ssp245bgc_diff, msftmz_g01ssp245bgc_diff, msftmz_g03ssp245bgc_diff, msftmz_g05ssp245bgc_diff, msftmz_u01ssp245bgc_diff, msftmz_u03ssp245bgc_diff, msftmz_u05ssp245bgc_diff])\n",
    "Y = np.array([dissic_ssp245bgc_diff, dissic_g01ssp245bgc_diff, dissic_g03ssp245bgc_diff, dissic_g05ssp245bgc_diff, dissic_u01ssp245bgc_diff, dissic_u03ssp245bgc_diff, dissic_u05ssp245bgc_diff])\n",
    "b = estimate_coef(X,Y)\n",
    "y_pred = b[0] + b[1]*X"
   ]
  },
  {
   "cell_type": "code",
   "execution_count": null,
   "id": "3c68c1a3-070e-4a34-841a-71fb3a1d2a41",
   "metadata": {
    "execution": {
     "iopub.execute_input": "2024-08-20T15:29:37.643243Z",
     "iopub.status.busy": "2024-08-20T15:29:37.642828Z",
     "iopub.status.idle": "2024-08-20T15:29:37.956131Z",
     "shell.execute_reply": "2024-08-20T15:29:37.955468Z",
     "shell.execute_reply.started": "2024-08-20T15:29:37.643221Z"
    },
    "tags": []
   },
   "outputs": [],
   "source": [
    "plt.scatter(msftmz_ssp245bgc_diff, dissic_ssp245bgc_diff, label='ssp245bgc', color='dimgrey')\n",
    "plt.scatter(msftmz_g01ssp245bgc_diff, dissic_g01ssp245bgc_diff, label='ssp245bgc-g01', color='darkblue')\n",
    "plt.scatter(msftmz_g03ssp245bgc_diff, dissic_g03ssp245bgc_diff, label='ssp245bgc-g03', color='dodgerblue')\n",
    "plt.scatter(msftmz_g05ssp245bgc_diff, dissic_g05ssp245bgc_diff, label='ssp245bgc-g05', color='lightblue')\n",
    "plt.scatter(msftmz_u01ssp245bgc_diff, dissic_u01ssp245bgc_diff, label='ssp245bgc-u01', color='peachpuff')\n",
    "plt.scatter(msftmz_u03ssp245bgc_diff, dissic_u03ssp245bgc_diff, label='ssp245bgc-u03', color='salmon')\n",
    "plt.scatter(msftmz_u05ssp245bgc_diff, dissic_u05ssp245bgc_diff, label='ssp245bgc-u05', color='darkred')\n",
    "plt.plot(X, y_pred, color = \"k\")\n",
    "plt.xlabel(\"$\\Delta$AMOC [Sv]\")\n",
    "plt.ylabel(\"$\\Delta$C [PgC]\")\n",
    "plt.text(-9, 277, f\"slope={b[1].round(3)}\",fontsize=11, rotation=34)\n",
    "plt.legend()\n",
    "#plt.text(-11,635, \"2.57\", fontweight='bold')\n",
    "#plt.savefig('../plots/carbon_vs_amoc_regression.png', transparent=True)"
   ]
  },
  {
   "cell_type": "markdown",
   "id": "d20a2094-1775-4027-9513-92ab55611e03",
   "metadata": {},
   "source": [
    "### Yearly differences plots"
   ]
  },
  {
   "cell_type": "code",
   "execution_count": 23,
   "id": "525a6103-06b0-4684-8aeb-24eadcd80d46",
   "metadata": {
    "execution": {
     "iopub.execute_input": "2024-06-24T08:58:58.818575Z",
     "iopub.status.busy": "2024-06-24T08:58:58.818120Z",
     "iopub.status.idle": "2024-06-24T08:59:24.200581Z",
     "shell.execute_reply": "2024-06-24T08:59:24.199759Z",
     "shell.execute_reply.started": "2024-06-24T08:58:58.818549Z"
    },
    "tags": []
   },
   "outputs": [],
   "source": [
    "ds_dissic_1pctbgc_year = ds_dissic_1pctbgc.dissic.groupby('time.year').mean('time')"
   ]
  },
  {
   "cell_type": "code",
   "execution_count": null,
   "id": "ef52e2b7-a18c-4bd5-8cf2-73e1354f5b7a",
   "metadata": {
    "collapsed": true,
    "execution": {
     "iopub.execute_input": "2024-06-24T08:59:24.202219Z",
     "iopub.status.busy": "2024-06-24T08:59:24.201911Z",
     "iopub.status.idle": "2024-06-24T08:59:24.269259Z",
     "shell.execute_reply": "2024-06-24T08:59:24.268684Z",
     "shell.execute_reply.started": "2024-06-24T08:59:24.202197Z"
    },
    "jupyter": {
     "outputs_hidden": true
    },
    "tags": []
   },
   "outputs": [],
   "source": [
    "ds_dissic_1pctbgc_year.load()"
   ]
  },
  {
   "cell_type": "code",
   "execution_count": null,
   "id": "ea15e00c-fa40-43e7-bfd0-d7d3357cec9b",
   "metadata": {
    "collapsed": true,
    "execution": {
     "iopub.execute_input": "2024-06-24T08:59:24.270456Z",
     "iopub.status.busy": "2024-06-24T08:59:24.270009Z",
     "iopub.status.idle": "2024-06-24T08:59:43.157848Z",
     "shell.execute_reply": "2024-06-24T08:59:43.156316Z",
     "shell.execute_reply.started": "2024-06-24T08:59:24.270437Z"
    },
    "jupyter": {
     "outputs_hidden": true
    },
    "scrolled": true,
    "tags": []
   },
   "outputs": [],
   "source": [
    "ds_dissic_u051pctbgcLR.load()\n",
    "ds_dissic_u031pctbgcLR.load()\n",
    "ds_dissic_u011pctbgcLR.load()\n",
    "ds_dissic_g011pctbgcLR.load()\n",
    "ds_dissic_g031pctbgcLR.load()\n",
    "ds_dissic_g051pctbgcLR.load()"
   ]
  },
  {
   "cell_type": "code",
   "execution_count": null,
   "id": "3479d031-4fe7-41d3-b766-d4e6dc6dcb3a",
   "metadata": {
    "execution": {
     "iopub.execute_input": "2024-06-24T08:59:43.166272Z",
     "iopub.status.busy": "2024-06-24T08:59:43.165668Z",
     "iopub.status.idle": "2024-06-24T09:01:14.970719Z",
     "shell.execute_reply": "2024-06-24T09:01:14.969912Z",
     "shell.execute_reply.started": "2024-06-24T08:59:43.166250Z"
    },
    "tags": []
   },
   "outputs": [],
   "source": [
    "diff_dissic_u051pctbgc = []\n",
    "diff_dissic_u031pctbgc = []\n",
    "diff_dissic_u011pctbgc = []\n",
    "diff_dissic_g011pctbgc = []\n",
    "diff_dissic_g031pctbgc = []\n",
    "diff_dissic_g051pctbgc = []\n",
    "diff_dissic_1pctbgc    = []\n",
    "for year in tqdm(range(1,140)):\n",
    "    diff_dissic_u051pctbgc.append(\n",
    "        ((ds_dissic_u051pctbgcLR.dissic.isel(time=np.arange(year,year+1))*ds_volcello_u05hosLR.sum(dim=\"time\").volcello*g_per_molC/1e15).isel(depth=np.arange(0,40)).sum(dim='depth')\n",
    "        -(ds_dissic_u051pctbgcLR.dissic.isel(time=0)*ds_volcello_u05hosLR.sum(dim=\"time\").volcello*g_per_molC/1e15).isel(depth=np.arange(0,40)).sum(dim='depth')\n",
    "        ).sum(dim='y').sum(dim='x').values)\n",
    "    diff_dissic_u031pctbgc.append(\n",
    "        ((ds_dissic_u031pctbgcLR.dissic.isel(time=np.arange(year,year+1))*ds_volcello_u05hosLR.sum(dim=\"time\").volcello*g_per_molC/1e15).isel(depth=np.arange(0,40)).sum(dim='depth')\n",
    "        -(ds_dissic_u031pctbgcLR.dissic.isel(time=0)*ds_volcello_u05hosLR.sum(dim=\"time\").volcello*g_per_molC/1e15).isel(depth=np.arange(0,40)).sum(dim='depth')\n",
    "        ).sum(dim='y').sum(dim='x').values)\n",
    "    diff_dissic_u011pctbgc.append(\n",
    "        ((ds_dissic_u011pctbgcLR.dissic.isel(time=np.arange(year,year+1))*ds_volcello_u05hosLR.sum(dim=\"time\").volcello*g_per_molC/1e15).isel(depth=np.arange(0,40)).sum(dim='depth')\n",
    "        -(ds_dissic_u011pctbgcLR.dissic.isel(time=0)*ds_volcello_u05hosLR.sum(dim=\"time\").volcello*g_per_molC/1e15).isel(depth=np.arange(0,40)).sum(dim='depth')\n",
    "        ).sum(dim='y').sum(dim='x').values)\n",
    "    diff_dissic_g011pctbgc.append(\n",
    "        ((ds_dissic_g011pctbgcLR.dissic.isel(time=np.arange(year,year+1))*ds_volcello_u05hosLR.sum(dim=\"time\").volcello*g_per_molC/1e15).isel(depth=np.arange(0,40)).sum(dim='depth')\n",
    "        -(ds_dissic_g011pctbgcLR.dissic.isel(time=0)*ds_volcello_u05hosLR.sum(dim=\"time\").volcello*g_per_molC/1e15).isel(depth=np.arange(0,40)).sum(dim='depth')\n",
    "        ).sum(dim='y').sum(dim='x').values)\n",
    "    diff_dissic_g031pctbgc.append(\n",
    "        ((ds_dissic_g031pctbgcLR.dissic.isel(time=np.arange(year,year+1))*ds_volcello_u05hosLR.sum(dim=\"time\").volcello*g_per_molC/1e15).isel(depth=np.arange(0,40)).sum(dim='depth')\n",
    "        -(ds_dissic_g031pctbgcLR.dissic.isel(time=0)*ds_volcello_u05hosLR.sum(dim=\"time\").volcello*g_per_molC/1e15).isel(depth=np.arange(0,40)).sum(dim='depth')\n",
    "        ).sum(dim='y').sum(dim='x').values)\n",
    "    diff_dissic_g051pctbgc.append(\n",
    "        ((ds_dissic_g051pctbgcLR.dissic.isel(time=np.arange(year,year+1))*ds_volcello_u05hosLR.sum(dim=\"time\").volcello*g_per_molC/1e15).isel(depth=np.arange(0,40)).sum(dim='depth')\n",
    "        -(ds_dissic_g051pctbgcLR.dissic.isel(time=0)*ds_volcello_u05hosLR.sum(dim=\"time\").volcello*g_per_molC/1e15).isel(depth=np.arange(0,40)).sum(dim='depth')\n",
    "        ).sum(dim='y').sum(dim='x').values)\n",
    "    diff_dissic_1pctbgc.append(\n",
    "        ((ds_dissic_1pctbgc_year.isel(year=np.arange(year,year+1))*ds_volcello.volcello*g_per_molC/1e15).isel(lev=np.arange(0,40)).sum(dim='lev')\n",
    "        -(ds_dissic_1pctbgc_year.isel(year=0)*ds_volcello.volcello*g_per_molC/1e15).isel(lev=np.arange(0,40)).sum(dim='lev')\n",
    "        ).sum(dim='j').sum(dim='i').values)"
   ]
  },
  {
   "cell_type": "code",
   "execution_count": null,
   "id": "b61c77e5-125c-48b0-83b2-f750990ee868",
   "metadata": {
    "collapsed": true,
    "execution": {
     "iopub.execute_input": "2024-08-06T07:45:35.927303Z",
     "iopub.status.busy": "2024-08-06T07:45:35.926834Z",
     "iopub.status.idle": "2024-08-06T07:45:41.823736Z",
     "shell.execute_reply": "2024-08-06T07:45:41.823159Z",
     "shell.execute_reply.started": "2024-08-06T07:45:35.927280Z"
    },
    "jupyter": {
     "outputs_hidden": true
    }
   },
   "outputs": [],
   "source": [
    "ds_dissic_u03ssp126bgcLR.load()\n",
    "ds_dissic_u03ssp245bgcLR.load()\n",
    "ds_dissic_u03ssp585bgcLR.load()"
   ]
  },
  {
   "cell_type": "code",
   "execution_count": null,
   "id": "8afdd73c-415e-48a1-9d03-19bde31ead72",
   "metadata": {
    "execution": {
     "iopub.execute_input": "2024-08-06T07:48:34.062396Z",
     "iopub.status.busy": "2024-08-06T07:48:34.061942Z",
     "iopub.status.idle": "2024-08-06T07:48:58.935279Z",
     "shell.execute_reply": "2024-08-06T07:48:58.934668Z",
     "shell.execute_reply.started": "2024-08-06T07:48:34.062370Z"
    },
    "tags": []
   },
   "outputs": [],
   "source": [
    "diff_dissic_ = []\n",
    "diff_dissic_u03ssp126bgc = []\n",
    "diff_dissic_u03ssp245bgc = []\n",
    "diff_dissic_u03ssp585bgc = []\n",
    "\n",
    "for year in tqdm(range(1,85)):\n",
    "    diff_dissic_u03ssp126bgc.append(\n",
    "        ((ds_dissic_u03ssp126bgcLR.dissic.isel(time=np.arange(year,year+1))*ds_volcello_u05hosLR.sum(dim=\"time\").volcello*g_per_molC/1e15).isel(depth=np.arange(0,40)).sum(dim='depth')\n",
    "        -(ds_dissic_u03ssp126bgcLR.dissic.isel(time=0)*ds_volcello_u05hosLR.sum(dim=\"time\").volcello*g_per_molC/1e15).isel(depth=np.arange(0,40)).sum(dim='depth')\n",
    "        ).sum(dim='y').sum(dim='x').values)\n",
    "    diff_dissic_u03ssp245bgc.append(\n",
    "        ((ds_dissic_u03ssp245bgcLR.dissic.isel(time=np.arange(year,year+1))*ds_volcello_u05hosLR.sum(dim=\"time\").volcello*g_per_molC/1e15).isel(depth=np.arange(0,40)).sum(dim='depth')\n",
    "        -(ds_dissic_u03ssp245bgcLR.dissic.isel(time=0)*ds_volcello_u05hosLR.sum(dim=\"time\").volcello*g_per_molC/1e15).isel(depth=np.arange(0,40)).sum(dim='depth')\n",
    "        ).sum(dim='y').sum(dim='x').values)\n",
    "    diff_dissic_u03ssp585bgc.append(\n",
    "        ((ds_dissic_u03ssp585bgcLR.dissic.isel(time=np.arange(year,year+1))*ds_volcello_u05hosLR.sum(dim=\"time\").volcello*g_per_molC/1e15).isel(depth=np.arange(0,40)).sum(dim='depth')\n",
    "        -(ds_dissic_u03ssp585bgcLR.dissic.isel(time=0)*ds_volcello_u05hosLR.sum(dim=\"time\").volcello*g_per_molC/1e15).isel(depth=np.arange(0,40)).sum(dim='depth')\n",
    "        ).sum(dim='y').sum(dim='x').values)"
   ]
  },
  {
   "cell_type": "code",
   "execution_count": null,
   "id": "19f42565-eaf8-473f-a45e-2874b272c87a",
   "metadata": {
    "execution": {
     "iopub.execute_input": "2024-08-20T15:59:24.853482Z",
     "iopub.status.busy": "2024-08-20T15:59:24.853047Z",
     "iopub.status.idle": "2024-08-20T15:59:36.578370Z",
     "shell.execute_reply": "2024-08-20T15:59:36.577724Z",
     "shell.execute_reply.started": "2024-08-20T15:59:24.853460Z"
    },
    "scrolled": true,
    "tags": []
   },
   "outputs": [],
   "source": [
    "ds_dissic_u05ssp245bgcLR.load()\n",
    "ds_dissic_u03ssp245bgcLR.load()\n",
    "ds_dissic_u01ssp245bgcLR.load()\n",
    "ds_dissic_g01ssp245bgcLR.load()\n",
    "ds_dissic_g03ssp245bgcLR.load()\n",
    "ds_dissic_g05ssp245bgcLR.load()\n",
    "ds_dissic_ssp245bgcLR.load()"
   ]
  },
  {
   "cell_type": "code",
   "execution_count": null,
   "id": "1aedfa69-4932-4edf-a869-eb0b34c8216c",
   "metadata": {
    "execution": {
     "iopub.execute_input": "2024-08-20T15:59:36.579879Z",
     "iopub.status.busy": "2024-08-20T15:59:36.579526Z",
     "iopub.status.idle": "2024-08-20T16:00:26.553262Z",
     "shell.execute_reply": "2024-08-20T16:00:26.552535Z",
     "shell.execute_reply.started": "2024-08-20T15:59:36.579858Z"
    },
    "tags": []
   },
   "outputs": [],
   "source": [
    "diff_dissic_u05ssp245bgc = []\n",
    "diff_dissic_u03ssp245bgc = []\n",
    "diff_dissic_u01ssp245bgc = []\n",
    "diff_dissic_g01ssp245bgc = []\n",
    "diff_dissic_g03ssp245bgc = []\n",
    "diff_dissic_g05ssp245bgc = []\n",
    "diff_dissic_ssp245bgc    = []\n",
    "for year in tqdm(range(1,85)):\n",
    "    diff_dissic_u05ssp245bgc.append(\n",
    "        ((ds_dissic_u05ssp245bgcLR.dissic.isel(time=np.arange(year,year+1))*ds_volcello_u05hosLR.sum(dim=\"time\").volcello*g_per_molC/1e15).isel(depth=np.arange(0,40)).sum(dim='depth')\n",
    "        -(ds_dissic_u05ssp245bgcLR.dissic.isel(time=0)*ds_volcello_u05hosLR.sum(dim=\"time\").volcello*g_per_molC/1e15).isel(depth=np.arange(0,40)).sum(dim='depth')\n",
    "        ).sum(dim='y').sum(dim='x').values)\n",
    "    diff_dissic_u03ssp245bgc.append(\n",
    "        ((ds_dissic_u03ssp245bgcLR.dissic.isel(time=np.arange(year,year+1))*ds_volcello_u05hosLR.sum(dim=\"time\").volcello*g_per_molC/1e15).isel(depth=np.arange(0,40)).sum(dim='depth')\n",
    "        -(ds_dissic_u03ssp245bgcLR.dissic.isel(time=0)*ds_volcello_u05hosLR.sum(dim=\"time\").volcello*g_per_molC/1e15).isel(depth=np.arange(0,40)).sum(dim='depth')\n",
    "        ).sum(dim='y').sum(dim='x').values)\n",
    "    diff_dissic_u01ssp245bgc.append(\n",
    "        ((ds_dissic_u01ssp245bgcLR.dissic.isel(time=np.arange(year,year+1))*ds_volcello_u05hosLR.sum(dim=\"time\").volcello*g_per_molC/1e15).isel(depth=np.arange(0,40)).sum(dim='depth')\n",
    "        -(ds_dissic_u01ssp245bgcLR.dissic.isel(time=0)*ds_volcello_u05hosLR.sum(dim=\"time\").volcello*g_per_molC/1e15).isel(depth=np.arange(0,40)).sum(dim='depth')\n",
    "        ).sum(dim='y').sum(dim='x').values)\n",
    "    diff_dissic_g01ssp245bgc.append(\n",
    "        ((ds_dissic_g01ssp245bgcLR.dissic.isel(time=np.arange(year,year+1))*ds_volcello_u05hosLR.sum(dim=\"time\").volcello*g_per_molC/1e15).isel(depth=np.arange(0,40)).sum(dim='depth')\n",
    "        -(ds_dissic_g01ssp245bgcLR.dissic.isel(time=0)*ds_volcello_u05hosLR.sum(dim=\"time\").volcello*g_per_molC/1e15).isel(depth=np.arange(0,40)).sum(dim='depth')\n",
    "        ).sum(dim='y').sum(dim='x').values)\n",
    "    diff_dissic_g03ssp245bgc.append(\n",
    "        ((ds_dissic_g03ssp245bgcLR.dissic.isel(time=np.arange(year,year+1))*ds_volcello_u05hosLR.sum(dim=\"time\").volcello*g_per_molC/1e15).isel(depth=np.arange(0,40)).sum(dim='depth')\n",
    "        -(ds_dissic_g03ssp245bgcLR.dissic.isel(time=0)*ds_volcello_u05hosLR.sum(dim=\"time\").volcello*g_per_molC/1e15).isel(depth=np.arange(0,40)).sum(dim='depth')\n",
    "        ).sum(dim='y').sum(dim='x').values)\n",
    "    diff_dissic_g05ssp245bgc.append(\n",
    "        ((ds_dissic_g05ssp245bgcLR.dissic.isel(time=np.arange(year,year+1))*ds_volcello_u05hosLR.sum(dim=\"time\").volcello*g_per_molC/1e15).isel(depth=np.arange(0,40)).sum(dim='depth')\n",
    "        -(ds_dissic_g05ssp245bgcLR.dissic.isel(time=0)*ds_volcello_u05hosLR.sum(dim=\"time\").volcello*g_per_molC/1e15).isel(depth=np.arange(0,40)).sum(dim='depth')\n",
    "        ).sum(dim='y').sum(dim='x').values)\n",
    "    diff_dissic_ssp245bgc.append(\n",
    "        ((ds_dissic_ssp245bgcLR.dissic.isel(time=np.arange(year,year+1))*ds_volcello_u05hosLR.sum(dim=\"time\").volcello*g_per_molC/1e15).isel(depth=np.arange(0,40)).sum(dim='depth')\n",
    "        -(ds_dissic_ssp245bgcLR.dissic.isel(time=0)*ds_volcello_u05hosLR.sum(dim=\"time\").volcello*g_per_molC/1e15).isel(depth=np.arange(0,40)).sum(dim='depth')\n",
    "        ).sum(dim='y').sum(dim='x').values)"
   ]
  },
  {
   "cell_type": "code",
   "execution_count": null,
   "id": "08e0ca98-d940-4240-ba18-efb600b92640",
   "metadata": {
    "execution": {
     "iopub.execute_input": "2024-04-05T08:37:44.161181Z",
     "iopub.status.busy": "2024-04-05T08:37:44.159959Z",
     "iopub.status.idle": "2024-04-05T08:39:38.686928Z",
     "shell.execute_reply": "2024-04-05T08:39:38.686198Z",
     "shell.execute_reply.started": "2024-04-05T08:37:44.161158Z"
    },
    "tags": []
   },
   "outputs": [],
   "source": [
    "fig, axs = plt.subplots(2, 1, figsize=(7,7), sharex=True)\n",
    "fig.subplots_adjust(hspace=0)\n",
    "\n",
    "axs[0].plot(np.arange(1851, 1990), diff_dissic_1pctbgc, label ='1pct-bgc', color='dimgrey')\n",
    "axs[0].plot(np.arange(1851, 1990), diff_dissic_g011pctbgc, label ='g01-1pct-bgc', color='darkblue')\n",
    "axs[0].plot(np.arange(1851, 1990), diff_dissic_g031pctbgc,  label='g03-1pct-bgc', color='dodgerblue')\n",
    "axs[0].plot(np.arange(1851, 1990), diff_dissic_g051pctbgc,  label='g05-1pct-bgc', color='lightblue')\n",
    "axs[0].plot(np.arange(1851, 1990), diff_dissic_u011pctbgc, label ='u01-1pct-bgc', color='peachpuff')\n",
    "axs[0].plot(np.arange(1851, 1990), diff_dissic_u031pctbgc, label ='u03-1pct-bgc', color='salmon')\n",
    "axs[0].plot(np.arange(1851, 1990), diff_dissic_u051pctbgc, label ='u05-1pct-bgc', color='darkred')\n",
    "axs[0].legend(loc='lower center')\n",
    "axs[0].set_xlabel(\"\")\n",
    "axs[0].set_ylabel('$\\Delta$C [PgC]')\n",
    "axs[0].tick_params(axis='y')\n",
    "axs[0].spines['bottom'].set_visible(False)\n",
    "axs[0].spines['top'].set_visible(False)\n",
    "axs[0].spines['right'].set_visible(False)\n",
    "axs[0].set_xticks([])\n",
    "axs[0].get_xaxis().set_visible(False)\n",
    "(ds_msftmz_1pctbgc.isel(basin=1).sel(lat=26.5).sel(lev=1020).groupby('time.year').mean('time').msftmz/1e9).plot(ax=axs[1], color='dimgrey')\n",
    "(ds_msftmz_g011pctbgcLR.sel(lat=26.5).sel(depth_2=1020).sel(lon=0).groupby('time.year').mean('time').atlantic_moc/1e9).plot(ax=axs[1], color='darkblue')\n",
    "(ds_msftmz_g031pctbgcLR.sel(lat=26.5).sel(depth_2=1020).sel(lon=0).groupby('time.year').mean('time').atlantic_moc/1e9).plot(ax=axs[1], color='dodgerblue')\n",
    "(ds_msftmz_g051pctbgcLR.sel(lat=26.5).sel(depth_2=1020).sel(lon=0).groupby('time.year').mean('time').atlantic_moc/1e9).plot(ax=axs[1], color='lightblue')\n",
    "(ds_msftmz_u011pctbgcLR.sel(lat=26.5).sel(depth_2=1020).sel(lon=0).groupby('time.year').mean('time').atlantic_moc/1e9).plot(ax=axs[1], color='peachpuff')\n",
    "(ds_msftmz_u031pctbgcLR.sel(lat=26.5).sel(depth_2=1020).sel(lon=0).groupby('time.year').mean('time').atlantic_moc/1e9).plot(ax=axs[1], color='salmon')\n",
    "(ds_msftmz_u051pctbgcLR.sel(lat=26.5).sel(depth_2=1020).sel(lon=0).groupby('time.year').mean('time').atlantic_moc/1e9).plot(ax=axs[1], color='darkred')\n",
    "axs[1].tick_params(axis='y')\n",
    "axs[1].set_ylabel(\"AMOC strength [Sv]\")\n",
    "axs[1].spines['left'].set_visible(False)\n",
    "axs[1].spines['top'].set_visible(False)\n",
    "axs[1].set_xlabel(\"Time [year]\")\n",
    "axs[1].yaxis.set_label_position(\"right\")\n",
    "axs[1].yaxis.tick_right()\n",
    "axs[1].set_title(\"\")\n",
    "axs[1].set_xticks([1850, 1875, 1900, 1925, 1950, 1975, 2000], [0, 25, 50, 75, 100, 125, 150])\n",
    "fig.tight_layout()  # otherwise the right y-label is slightly clipped\n",
    "#plt.show()\n",
    "#plt.savefig('../plots/hosing_amoc_carbon_timeseries.png', transparent=True)"
   ]
  },
  {
   "cell_type": "code",
   "execution_count": null,
   "id": "c5f38c71-9f42-4cab-a69c-476073f5269f",
   "metadata": {
    "execution": {
     "iopub.execute_input": "2024-08-06T07:57:12.428428Z",
     "iopub.status.busy": "2024-08-06T07:57:12.427084Z",
     "iopub.status.idle": "2024-08-06T07:57:33.015313Z",
     "shell.execute_reply": "2024-08-06T07:57:33.014709Z",
     "shell.execute_reply.started": "2024-08-06T07:57:12.428404Z"
    },
    "tags": []
   },
   "outputs": [],
   "source": [
    "fig, axs = plt.subplots(2, 1, figsize=(7,7), sharex=True)\n",
    "fig.subplots_adjust(hspace=0)\n",
    "plt.rcParams['font.size'] = 13\n",
    "\n",
    "axs[0].plot(np.arange(2015, 2099), diff_dissic_u03ssp126bgc, label ='ssp126', color=colors_scen['ssp126'])\n",
    "axs[0].plot(np.arange(2015, 2099), diff_dissic_u03ssp245bgc, label ='ssp245', color=colors_scen['ssp245'])\n",
    "axs[0].plot(np.arange(2015, 2099), diff_dissic_u03ssp585bgc, label ='ssp585', color=colors_scen['ssp585'])\n",
    "axs[0].set_ylabel('$\\Delta$C in ocean [PgC]')\n",
    "axs[0].set_title(\"\")\n",
    "axs[0].set_xlabel(\"\")\n",
    "axs[0].tick_params(axis='y')\n",
    "axs[0].spines['bottom'].set_visible(False)\n",
    "axs[0].spines['top'].set_visible(False)\n",
    "axs[0].spines['right'].set_visible(False)\n",
    "axs[0].set_xticks([])\n",
    "axs[0].get_xaxis().set_visible(False)\n",
    "axs[0].legend(loc=3)\n",
    "\n",
    "\n",
    "(ds_msftmz_u03ssp126bgcLR.sel(lat=26.5).sel(depth_2=1020).sel(lon=0).groupby('time.year').mean('time').atlantic_moc/1e9).plot(ax=axs[1], color=colors_scen['ssp126'], label ='ssp126')\n",
    "(ds_msftmz_u03ssp245bgcLR.sel(lat=26.5).sel(depth_2=1020).sel(lon=0).groupby('time.year').mean('time').atlantic_moc/1e9).plot(ax=axs[1], color=colors_scen['ssp245'], label ='ssp245')\n",
    "(ds_msftmz_u03ssp585bgcLR.sel(lat=26.5).sel(depth_2=1020).sel(lon=0).groupby('time.year').mean('time').atlantic_moc/1e9).plot(ax=axs[1], color=colors_scen['ssp585'], label ='ssp585')\n",
    "axs[1].set_ylabel(\"AMOC strength [Sv]\")\n",
    "axs[1].tick_params(axis='y')\n",
    "axs[1].spines['left'].set_visible(False)\n",
    "axs[1].spines['top'].set_visible(False)\n",
    "axs[1].set_xlabel(\"Time [year]\")\n",
    "axs[1].yaxis.set_label_position(\"right\")\n",
    "axs[1].yaxis.tick_right()\n",
    "axs[1].set_title(\"\")\n",
    "axs[1].set_xticks([2020, 2040, 2060, 2080])\n",
    "fig.tight_layout()  # otherwise the right y-label is slightly clipped\n",
    "#plt.show()\n",
    "#plt.savefig('../plots/hosing_amoc_carbon_timeseries.png', transparent=True)"
   ]
  },
  {
   "cell_type": "code",
   "execution_count": 28,
   "id": "c6432fc6-8734-4d7c-b567-7c8cf4f3e0b5",
   "metadata": {
    "execution": {
     "iopub.execute_input": "2024-06-24T10:39:04.438110Z",
     "iopub.status.busy": "2024-06-24T10:39:04.437384Z",
     "iopub.status.idle": "2024-06-24T10:39:04.442970Z",
     "shell.execute_reply": "2024-06-24T10:39:04.442322Z",
     "shell.execute_reply.started": "2024-06-24T10:39:04.438086Z"
    },
    "tags": []
   },
   "outputs": [],
   "source": [
    "diff_dissic_1pctbgc = np.array(diff_dissic_1pctbgc)\n",
    "diff_dissic_g011pctbgc = np.array(diff_dissic_g011pctbgc)\n",
    "diff_dissic_g031pctbgc = np.array(diff_dissic_g031pctbgc)\n",
    "diff_dissic_g051pctbgc = np.array(diff_dissic_g051pctbgc)\n",
    "diff_dissic_u011pctbgc = np.array(diff_dissic_u011pctbgc)\n",
    "diff_dissic_u031pctbgc = np.array(diff_dissic_u031pctbgc)\n",
    "diff_dissic_u051pctbgc = np.array(diff_dissic_u051pctbgc)"
   ]
  },
  {
   "cell_type": "code",
   "execution_count": 32,
   "id": "3f1fd45a-3fe5-4a3e-b95a-1927f9f34876",
   "metadata": {
    "execution": {
     "iopub.execute_input": "2024-08-06T07:49:24.382060Z",
     "iopub.status.busy": "2024-08-06T07:49:24.381584Z",
     "iopub.status.idle": "2024-08-06T07:49:24.385996Z",
     "shell.execute_reply": "2024-08-06T07:49:24.385407Z",
     "shell.execute_reply.started": "2024-08-06T07:49:24.382036Z"
    }
   },
   "outputs": [],
   "source": [
    "diff_dissic_u03ssp126bgc = np.array(diff_dissic_u03ssp126bgc)\n",
    "diff_dissic_u03ssp245bgc = np.array(diff_dissic_u03ssp245bgc)\n",
    "diff_dissic_u03ssp585bgc = np.array(diff_dissic_u03ssp585bgc)"
   ]
  },
  {
   "cell_type": "code",
   "execution_count": 20,
   "id": "fdbbddf4-ae26-4ddc-927b-06dfbb28af96",
   "metadata": {
    "execution": {
     "iopub.execute_input": "2024-08-20T16:00:51.017481Z",
     "iopub.status.busy": "2024-08-20T16:00:51.017061Z",
     "iopub.status.idle": "2024-08-20T16:00:51.022001Z",
     "shell.execute_reply": "2024-08-20T16:00:51.021512Z",
     "shell.execute_reply.started": "2024-08-20T16:00:51.017459Z"
    },
    "tags": []
   },
   "outputs": [],
   "source": [
    "diff_dissic_ssp245bgc = np.array(diff_dissic_ssp245bgc)\n",
    "diff_dissic_g01ssp245bgc = np.array(diff_dissic_g01ssp245bgc)\n",
    "diff_dissic_g03ssp245bgc = np.array(diff_dissic_g03ssp245bgc)\n",
    "diff_dissic_g05ssp245bgc = np.array(diff_dissic_g05ssp245bgc)\n",
    "diff_dissic_u01ssp245bgc = np.array(diff_dissic_u01ssp245bgc)\n",
    "diff_dissic_u03ssp245bgc = np.array(diff_dissic_u03ssp245bgc)\n",
    "diff_dissic_u05ssp245bgc = np.array(diff_dissic_u05ssp245bgc)"
   ]
  },
  {
   "cell_type": "code",
   "execution_count": null,
   "id": "75a12b82-2c6c-4e65-a4b9-721d0c9d04ba",
   "metadata": {
    "execution": {
     "iopub.execute_input": "2024-06-24T10:44:01.393665Z",
     "iopub.status.busy": "2024-06-24T10:44:01.393216Z",
     "iopub.status.idle": "2024-06-24T10:45:06.083155Z",
     "shell.execute_reply": "2024-06-24T10:45:06.082476Z",
     "shell.execute_reply.started": "2024-06-24T10:44:01.393642Z"
    },
    "tags": []
   },
   "outputs": [],
   "source": [
    "fig, axs = plt.subplots(2, 1, figsize=(7,7), sharex=True)\n",
    "fig.subplots_adjust(hspace=0)\n",
    "plt.rcParams['font.size'] = 13\n",
    "\n",
    "#axs[0].plot(np.arange(1851, 1990), -(diff_dissic_1pctbgc-diff_dissic_1pctbgc), label ='1pct-bgc', color='dimgrey')\n",
    "axs[0].plot(np.arange(1851, 1990), -(diff_dissic_1pctbgc-diff_dissic_g011pctbgc), label ='g01-1pct-bgc', color='lightblue')\n",
    "axs[0].plot(np.arange(1851, 1990), -(diff_dissic_1pctbgc-diff_dissic_g031pctbgc), label ='g03-1pct-bgc', color='dodgerblue')\n",
    "axs[0].plot(np.arange(1851, 1990), -(diff_dissic_1pctbgc-diff_dissic_g051pctbgc), label ='g05-1pct-bgc', color='darkblue')\n",
    "axs[0].plot(np.arange(1851, 1990), -(diff_dissic_1pctbgc-diff_dissic_u011pctbgc), label ='u01-1pct-bgc', color='peachpuff')\n",
    "axs[0].plot(np.arange(1851, 1990), -(diff_dissic_1pctbgc-diff_dissic_u031pctbgc), label ='u03-1pct-bgc', color='salmon')\n",
    "axs[0].plot(np.arange(1851, 1990), -(diff_dissic_1pctbgc-diff_dissic_u051pctbgc), label ='u05-1pct-bgc', color='darkred')\n",
    "axs[0].set_ylabel('$\\Delta$C in ocean w.r.t. 1pct-bgc [PgC]')\n",
    "axs[0].set_title(\"\")\n",
    "axs[0].set_xlabel(\"\")\n",
    "axs[0].tick_params(axis='y')\n",
    "axs[0].spines['bottom'].set_visible(False)\n",
    "axs[0].spines['top'].set_visible(False)\n",
    "axs[0].spines['right'].set_visible(False)\n",
    "axs[0].set_xticks([])\n",
    "axs[0].get_xaxis().set_visible(False)\n",
    "#axs[0].legend(loc=3)\n",
    "\n",
    "#(ds_msftmz_1pctbgc.isel(basin=1).sel(lat=26.5).sel(lev=1020).groupby('time.year').mean('time').msftmz/1e9).plot(ax=axs[1], color='dimgrey', label ='1pct-bgc')\n",
    "(ds_msftmz_g011pctbgcLR.sel(lat=26.5).sel(depth_2=1020).sel(lon=0).groupby('time.year').mean('time').atlantic_moc/1e9).plot(ax=axs[1], color='lightblue', label ='g01-1pct-bgc')\n",
    "(ds_msftmz_g031pctbgcLR.sel(lat=26.5).sel(depth_2=1020).sel(lon=0).groupby('time.year').mean('time').atlantic_moc/1e9).plot(ax=axs[1], color='dodgerblue', label ='g03-1pct-bgc')\n",
    "(ds_msftmz_g051pctbgcLR.sel(lat=26.5).sel(depth_2=1020).sel(lon=0).groupby('time.year').mean('time').atlantic_moc/1e9).plot(ax=axs[1], color='darkblue', label ='g05-1pct-bgc')\n",
    "(ds_msftmz_u011pctbgcLR.sel(lat=26.5).sel(depth_2=1020).sel(lon=0).groupby('time.year').mean('time').atlantic_moc/1e9).plot(ax=axs[1], color='peachpuff', label ='u01-1pct-bgc')\n",
    "(ds_msftmz_u031pctbgcLR.sel(lat=26.5).sel(depth_2=1020).sel(lon=0).groupby('time.year').mean('time').atlantic_moc/1e9).plot(ax=axs[1], color='salmon', label ='u03-1pct-bgc')\n",
    "(ds_msftmz_u051pctbgcLR.sel(lat=26.5).sel(depth_2=1020).sel(lon=0).groupby('time.year').mean('time').atlantic_moc/1e9).plot(ax=axs[1], color='darkred', label ='u05-1pct-bgc')\n",
    "axs[1].set_ylabel(\"AMOC strength [Sv]\")\n",
    "axs[1].tick_params(axis='y')\n",
    "axs[1].spines['left'].set_visible(False)\n",
    "axs[1].spines['top'].set_visible(False)\n",
    "axs[1].set_xlabel(\"Time [year]\")\n",
    "axs[1].yaxis.set_label_position(\"right\")\n",
    "axs[1].yaxis.tick_right()\n",
    "axs[1].set_title(\"\")\n",
    "axs[1].set_xticks([1850, 1875, 1900, 1925, 1950, 1975, 2000], [0, 25, 50, 75, 100, 125, 150])\n",
    "fig.tight_layout()  # otherwise the right y-label is slightly clipped\n",
    "#plt.show()\n",
    "plt.savefig('/work/uo1075/m300817/carbon_amoc/plots/hosing_amoc_carbon_timeseries.pdf', transparent=True)"
   ]
  },
  {
   "cell_type": "code",
   "execution_count": null,
   "id": "594daa2b-8040-4110-a84d-378f4e30f61d",
   "metadata": {
    "execution": {
     "iopub.execute_input": "2024-04-09T17:53:04.119862Z",
     "iopub.status.busy": "2024-04-09T17:53:04.119396Z",
     "iopub.status.idle": "2024-04-09T17:53:55.718814Z",
     "shell.execute_reply": "2024-04-09T17:53:55.718374Z",
     "shell.execute_reply.started": "2024-04-09T17:53:04.119843Z"
    },
    "tags": []
   },
   "outputs": [],
   "source": [
    "fig, axs = plt.subplots(2, 1, figsize=(7,7), sharex=True)\n",
    "fig.subplots_adjust(hspace=0)\n",
    "plt.rcParams['font.size'] = 13\n",
    "\n",
    "axs[0].plot(np.arange(1851, 1990), -(diff_dissic_1pctbgc-diff_dissic_1pctbgc), label ='1pct-bgc', color='dimgrey')\n",
    "axs[0].plot(np.arange(1851, 1990), -(diff_dissic_1pctbgc-diff_dissic_g011pctbgc), label ='g01-1pct-bgc', color='lightblue')\n",
    "axs[0].plot(np.arange(1851, 1990), -(diff_dissic_1pctbgc-diff_dissic_g031pctbgc), label ='g03-1pct-bgc', color='dodgerblue')\n",
    "axs[0].plot(np.arange(1851, 1990), -(diff_dissic_1pctbgc-diff_dissic_g051pctbgc), label ='g05-1pct-bgc', color='darkblue')\n",
    "axs[0].plot(np.arange(1851, 1990), -(diff_dissic_1pctbgc-diff_dissic_u011pctbgc), label ='u01-1pct-bgc', color='peachpuff')\n",
    "axs[0].plot(np.arange(1851, 1990), -(diff_dissic_1pctbgc-diff_dissic_u031pctbgc), label ='u03-1pct-bgc', color='salmon')\n",
    "axs[0].plot(np.arange(1851, 1990), -(diff_dissic_1pctbgc-diff_dissic_u051pctbgc), label ='u05-1pct-bgc', color='darkred')\n",
    "axs[0].set_ylabel('$\\Delta$C in ocean w.r.t. 1pct-bgc [PgC]')\n",
    "axs[0].set_title(\"\")\n",
    "axs[0].set_xlabel(\"\")\n",
    "axs[0].tick_params(axis='y')\n",
    "axs[0].spines['bottom'].set_visible(False)\n",
    "axs[0].spines['top'].set_visible(False)\n",
    "axs[0].spines['right'].set_visible(False)\n",
    "axs[0].set_xticks([])\n",
    "axs[0].get_xaxis().set_visible(False)\n",
    "axs[0].legend(loc=3)\n",
    "\n",
    "(ds_msftmz_1pctbgc.isel(basin=1).sel(lat=26.5).sel(lev=1020).groupby('time.year').mean('time').msftmz/1e9).plot(ax=axs[1], color='dimgrey', label ='1pct-bgc')\n",
    "(ds_msftmz_g011pctbgcLR.sel(lat=26.5).sel(depth_2=1020).sel(lon=0).groupby('time.year').mean('time').atlantic_moc/1e9).plot(ax=axs[1], color='lightblue', label ='g01-1pct-bgc')\n",
    "(ds_msftmz_g031pctbgcLR.sel(lat=26.5).sel(depth_2=1020).sel(lon=0).groupby('time.year').mean('time').atlantic_moc/1e9).plot(ax=axs[1], color='dodgerblue', label ='g03-1pct-bgc')\n",
    "(ds_msftmz_g051pctbgcLR.sel(lat=26.5).sel(depth_2=1020).sel(lon=0).groupby('time.year').mean('time').atlantic_moc/1e9).plot(ax=axs[1], color='darkblue', label ='g05-1pct-bgc')\n",
    "(ds_msftmz_u011pctbgcLR.sel(lat=26.5).sel(depth_2=1020).sel(lon=0).groupby('time.year').mean('time').atlantic_moc/1e9).plot(ax=axs[1], color='peachpuff', label ='u01-1pct-bgc')\n",
    "(ds_msftmz_u031pctbgcLR.sel(lat=26.5).sel(depth_2=1020).sel(lon=0).groupby('time.year').mean('time').atlantic_moc/1e9).plot(ax=axs[1], color='salmon', label ='u03-1pct-bgc')\n",
    "(ds_msftmz_u051pctbgcLR.sel(lat=26.5).sel(depth_2=1020).sel(lon=0).groupby('time.year').mean('time').atlantic_moc/1e9).plot(ax=axs[1], color='darkred', label ='u05-1pct-bgc')\n",
    "axs[1].set_ylabel(\"AMOC strength [Sv]\")\n",
    "axs[1].tick_params(axis='y')\n",
    "axs[1].spines['left'].set_visible(False)\n",
    "axs[1].spines['top'].set_visible(False)\n",
    "axs[1].set_xlabel(\"Time [year]\")\n",
    "axs[1].yaxis.set_label_position(\"right\")\n",
    "axs[1].yaxis.tick_right()\n",
    "axs[1].set_title(\"\")\n",
    "axs[1].set_xticks([1850, 1875, 1900, 1925, 1950, 1975, 2000], [0, 25, 50, 75, 100, 125, 150])\n",
    "fig.tight_layout()  # otherwise the right y-label is slightly clipped\n",
    "#plt.show()\n",
    "#plt.savefig('../plots/hosing_amoc_carbon_timeseries.png', transparent=True)"
   ]
  },
  {
   "cell_type": "code",
   "execution_count": null,
   "id": "ac8b86ed-26f5-4acf-b37e-31bd184ba9ae",
   "metadata": {
    "execution": {
     "iopub.execute_input": "2024-08-20T16:04:26.216616Z",
     "iopub.status.busy": "2024-08-20T16:04:26.216073Z",
     "iopub.status.idle": "2024-08-20T16:05:10.515829Z",
     "shell.execute_reply": "2024-08-20T16:05:10.515154Z",
     "shell.execute_reply.started": "2024-08-20T16:04:26.216591Z"
    },
    "tags": []
   },
   "outputs": [],
   "source": [
    "fig, axs = plt.subplots(2, 1, figsize=(7,7), sharex=True)\n",
    "fig.subplots_adjust(hspace=0)\n",
    "plt.rcParams['font.size'] = 13\n",
    "\n",
    "axs[0].plot(np.arange(2015, 2099), -(diff_dissic_ssp245bgc-diff_dissic_ssp245bgc), label ='ssp245-bgc', color='dimgrey')\n",
    "axs[0].plot(np.arange(2015, 2099), -(diff_dissic_ssp245bgc-diff_dissic_g01ssp245bgc), label ='g01-ssp245-bgc', color='lightblue')\n",
    "axs[0].plot(np.arange(2015, 2099), -(diff_dissic_ssp245bgc-diff_dissic_g03ssp245bgc), label ='g03-ssp245-bgc', color='dodgerblue')\n",
    "axs[0].plot(np.arange(2015, 2099), -(diff_dissic_ssp245bgc-diff_dissic_g05ssp245bgc), label ='g05-ssp245-bgc', color='darkblue')\n",
    "axs[0].plot(np.arange(2015, 2099), -(diff_dissic_ssp245bgc-diff_dissic_u01ssp245bgc), label ='u01-ssp245-bgc', color='peachpuff')\n",
    "axs[0].plot(np.arange(2015, 2099), -(diff_dissic_ssp245bgc-diff_dissic_u03ssp245bgc), label ='u03-ssp245-bgc', color='salmon')\n",
    "axs[0].plot(np.arange(2015, 2099), -(diff_dissic_ssp245bgc-diff_dissic_u05ssp245bgc), label ='u05-ssp245-bgc', color='darkred')\n",
    "axs[0].set_ylabel('$\\Delta$C in ocean w.r.t. ssp245-bgc [PgC]')\n",
    "axs[0].set_title(\"\")\n",
    "axs[0].set_xlabel(\"\")\n",
    "axs[0].tick_params(axis='y')\n",
    "axs[0].spines['bottom'].set_visible(False)\n",
    "axs[0].spines['top'].set_visible(False)\n",
    "axs[0].spines['right'].set_visible(False)\n",
    "axs[0].set_xticks([])\n",
    "axs[0].get_xaxis().set_visible(False)\n",
    "axs[0].legend(loc=3)\n",
    "\n",
    "(ds_msftmz_ssp245bgcLR.sel(lat=26.5).sel(depth_2=1020).sel(lon=0).groupby('time.year').mean('time').atlantic_moc/1e9).plot(ax=axs[1], color='dimgrey', label ='ssp245-bgc')\n",
    "(ds_msftmz_g01ssp245bgcLR.sel(lat=26.5).sel(depth_2=1020).sel(lon=0).groupby('time.year').mean('time').atlantic_moc/1e9).plot(ax=axs[1], color='lightblue', label ='g01-ssp245-bgc')\n",
    "(ds_msftmz_g03ssp245bgcLR.sel(lat=26.5).sel(depth_2=1020).sel(lon=0).groupby('time.year').mean('time').atlantic_moc/1e9).plot(ax=axs[1], color='dodgerblue', label ='g03-ssp245-bgc')\n",
    "(ds_msftmz_g05ssp245bgcLR.sel(lat=26.5).sel(depth_2=1020).sel(lon=0).groupby('time.year').mean('time').atlantic_moc/1e9).plot(ax=axs[1], color='darkblue', label ='g05-ssp245-bgc')\n",
    "(ds_msftmz_u01ssp245bgcLR.sel(lat=26.5).sel(depth_2=1020).sel(lon=0).groupby('time.year').mean('time').atlantic_moc/1e9).plot(ax=axs[1], color='peachpuff', label ='u01-ssp245-bgc')\n",
    "(ds_msftmz_u03ssp245bgcLR.sel(lat=26.5).sel(depth_2=1020).sel(lon=0).groupby('time.year').mean('time').atlantic_moc/1e9).plot(ax=axs[1], color='salmon', label ='u03-ssp245-bgc')\n",
    "(ds_msftmz_u05ssp245bgcLR.sel(lat=26.5).sel(depth_2=1020).sel(lon=0).groupby('time.year').mean('time').atlantic_moc/1e9).plot(ax=axs[1], color='darkred', label ='u05-ssp245-bgc')\n",
    "axs[1].set_ylabel(\"AMOC strength [Sv]\")\n",
    "axs[1].tick_params(axis='y')\n",
    "axs[1].spines['left'].set_visible(False)\n",
    "axs[1].spines['top'].set_visible(False)\n",
    "axs[1].set_xlabel(\"Time [year]\")\n",
    "axs[1].yaxis.set_label_position(\"right\")\n",
    "axs[1].yaxis.tick_right()\n",
    "axs[1].set_title(\"\")\n",
    "axs[1].set_xticks([2020, 2040, 2060, 2080, 2100], [2020, 2040, 2060, 2080, 2100])\n",
    "fig.tight_layout()  # otherwise the right y-label is slightly clipped\n",
    "#plt.show()\n",
    "#plt.savefig('../plots/hosing_amoc_carbon_timeseries.png', transparent=True)"
   ]
  },
  {
   "cell_type": "code",
   "execution_count": null,
   "id": "57b56306-0427-4236-8ad0-7d61e10e507d",
   "metadata": {
    "execution": {
     "iopub.execute_input": "2024-04-05T08:46:36.324177Z",
     "iopub.status.busy": "2024-04-05T08:46:36.323673Z",
     "iopub.status.idle": "2024-04-05T08:47:44.922063Z",
     "shell.execute_reply": "2024-04-05T08:47:44.921328Z",
     "shell.execute_reply.started": "2024-04-05T08:46:36.324152Z"
    },
    "tags": []
   },
   "outputs": [],
   "source": [
    "fig, axs = plt.subplots(2, 1, figsize=(7,7), sharex=True)\n",
    "fig.subplots_adjust(hspace=0)\n",
    "\n",
    "(ds_msftmz_1pctbgc.isel(basin=1).sel(lat=26.5).sel(lev=1020).groupby('time.year').mean('time').msftmz/1e9).plot(ax=axs[0], color='dimgrey', label ='1pct-bgc')\n",
    "(ds_msftmz_g011pctbgcLR.sel(lat=26.5).sel(depth_2=1020).sel(lon=0).groupby('time.year').mean('time').atlantic_moc/1e9).plot(ax=axs[0], color='darkblue', label ='g01-1pct-bgc')\n",
    "(ds_msftmz_g031pctbgcLR.sel(lat=26.5).sel(depth_2=1020).sel(lon=0).groupby('time.year').mean('time').atlantic_moc/1e9).plot(ax=axs[0], color='dodgerblue', label ='g03-1pct-bgc')\n",
    "(ds_msftmz_g051pctbgcLR.sel(lat=26.5).sel(depth_2=1020).sel(lon=0).groupby('time.year').mean('time').atlantic_moc/1e9).plot(ax=axs[0], color='lightblue', label ='g05-1pct-bgc')\n",
    "(ds_msftmz_u011pctbgcLR.sel(lat=26.5).sel(depth_2=1020).sel(lon=0).groupby('time.year').mean('time').atlantic_moc/1e9).plot(ax=axs[0], color='peachpuff', label ='u01-1pct-bgc')\n",
    "(ds_msftmz_u031pctbgcLR.sel(lat=26.5).sel(depth_2=1020).sel(lon=0).groupby('time.year').mean('time').atlantic_moc/1e9).plot(ax=axs[0], color='salmon', label ='u03-1pct-bgc')\n",
    "(ds_msftmz_u051pctbgcLR.sel(lat=26.5).sel(depth_2=1020).sel(lon=0).groupby('time.year').mean('time').atlantic_moc/1e9).plot(ax=axs[0], color='darkred', label ='u05-1pct-bgc')\n",
    "#axs[0].legend(loc='lower center')\n",
    "axs[0].set_title(\"\")\n",
    "axs[0].set_xlabel(\"\")\n",
    "axs[0].set_ylabel(\"AMOC strength [Sv]\")\n",
    "axs[0].tick_params(axis='y')\n",
    "axs[0].spines['bottom'].set_visible(False)\n",
    "axs[0].spines['top'].set_visible(False)\n",
    "axs[0].spines['right'].set_visible(False)\n",
    "axs[0].set_xticks([])\n",
    "axs[0].get_xaxis().set_visible(False)\n",
    "\n",
    "axs[1].plot(np.arange(1851, 1990), diff_dissic_1pctbgc-diff_dissic_1pctbgc, label ='1pct-bgc', color='dimgrey')\n",
    "axs[1].plot(np.arange(1851, 1990), diff_dissic_1pctbgc-diff_dissic_g011pctbgc, label ='g01-1pct-bgc', color='darkblue')\n",
    "axs[1].plot(np.arange(1851, 1990), diff_dissic_1pctbgc-diff_dissic_g031pctbgc, label ='g03-1pct-bgc', color='dodgerblue')\n",
    "axs[1].plot(np.arange(1851, 1990), diff_dissic_1pctbgc-diff_dissic_g051pctbgc, label ='g05-1pct-bgc', color='lightblue')\n",
    "axs[1].plot(np.arange(1851, 1990), diff_dissic_1pctbgc-diff_dissic_u011pctbgc, label ='u01-1pct-bgc', color='peachpuff')\n",
    "axs[1].plot(np.arange(1851, 1990), diff_dissic_1pctbgc-diff_dissic_u031pctbgc, label ='u03-1pct-bgc', color='salmon')\n",
    "axs[1].plot(np.arange(1851, 1990), diff_dissic_1pctbgc-diff_dissic_u051pctbgc, label ='u05-1pct-bgc', color='darkred')\n",
    "axs[1].tick_params(axis='y')\n",
    "axs[1].set_ylabel('$\\Delta$C w.r.t. 1pct-bgc [PgC]')\n",
    "axs[1].spines['left'].set_visible(False)\n",
    "axs[1].spines['top'].set_visible(False)\n",
    "axs[1].set_xlabel(\"Time [year]\")\n",
    "axs[1].yaxis.set_label_position(\"right\")\n",
    "axs[1].yaxis.tick_right()\n",
    "axs[1].set_title(\"\")\n",
    "axs[1].legend(loc='upper center')\n",
    "axs[1].set_xticks([1850, 1875, 1900, 1925, 1950, 1975, 2000], [0, 25, 50, 75, 100, 125, 150])\n",
    "fig.tight_layout()  # otherwise the right y-label is slightly clipped\n",
    "#plt.show()\n",
    "#plt.savefig('../plots/hosing_amoc_carbon_timeseries.png', transparent=True)"
   ]
  },
  {
   "cell_type": "code",
   "execution_count": 64,
   "id": "d1c2fc6f-b589-4998-aeb9-c37326a76b8a",
   "metadata": {
    "execution": {
     "iopub.execute_input": "2024-04-05T08:42:55.228516Z",
     "iopub.status.busy": "2024-04-05T08:42:55.228050Z",
     "iopub.status.idle": "2024-04-05T08:42:55.233922Z",
     "shell.execute_reply": "2024-04-05T08:42:55.233266Z",
     "shell.execute_reply.started": "2024-04-05T08:42:55.228493Z"
    },
    "tags": []
   },
   "outputs": [],
   "source": [
    "diff_dissic_u051pctbgc_array=[]\n",
    "diff_dissic_u031pctbgc_array=[]\n",
    "diff_dissic_u011pctbgc_array=[]\n",
    "diff_dissic_g051pctbgc_array=[]\n",
    "diff_dissic_g031pctbgc_array=[]\n",
    "diff_dissic_g011pctbgc_array=[]\n",
    "diff_dissic_1pctbgc_array=[]\n",
    "for i in range(len(diff_dissic_u051pctbgc)):\n",
    "    diff_dissic_u051pctbgc_array.append(diff_dissic_u051pctbgc[i].item())\n",
    "    diff_dissic_u031pctbgc_array.append(diff_dissic_u031pctbgc[i].item())\n",
    "    diff_dissic_u011pctbgc_array.append(diff_dissic_u011pctbgc[i].item())\n",
    "    diff_dissic_g011pctbgc_array.append(diff_dissic_g011pctbgc[i].item())\n",
    "    diff_dissic_g031pctbgc_array.append(diff_dissic_g031pctbgc[i].item())\n",
    "    diff_dissic_g051pctbgc_array.append(diff_dissic_g051pctbgc[i].item())\n",
    "    diff_dissic_1pctbgc_array.append(diff_dissic_1pctbgc[i].item())"
   ]
  },
  {
   "cell_type": "code",
   "execution_count": 32,
   "id": "2b46b361-d2b3-4912-bb4d-f4e19722d806",
   "metadata": {
    "execution": {
     "iopub.execute_input": "2024-08-20T16:14:52.719667Z",
     "iopub.status.busy": "2024-08-20T16:14:52.719173Z",
     "iopub.status.idle": "2024-08-20T16:14:52.725604Z",
     "shell.execute_reply": "2024-08-20T16:14:52.724995Z",
     "shell.execute_reply.started": "2024-08-20T16:14:52.719644Z"
    },
    "tags": []
   },
   "outputs": [],
   "source": [
    "diff_dissic_u05ssp245bgc_array=[]\n",
    "diff_dissic_u03ssp245bgc_array=[]\n",
    "diff_dissic_u01ssp245bgc_array=[]\n",
    "diff_dissic_g05ssp245bgc_array=[]\n",
    "diff_dissic_g03ssp245bgc_array=[]\n",
    "diff_dissic_g01ssp245bgc_array=[]\n",
    "diff_dissic_ssp245bgc_array=[]\n",
    "for i in range(len(diff_dissic_u05ssp245bgc)):\n",
    "    diff_dissic_u05ssp245bgc_array.append(diff_dissic_u05ssp245bgc[i].item())\n",
    "    diff_dissic_u03ssp245bgc_array.append(diff_dissic_u03ssp245bgc[i].item())\n",
    "    diff_dissic_u01ssp245bgc_array.append(diff_dissic_u01ssp245bgc[i].item())\n",
    "    diff_dissic_g01ssp245bgc_array.append(diff_dissic_g01ssp245bgc[i].item())\n",
    "    diff_dissic_g03ssp245bgc_array.append(diff_dissic_g03ssp245bgc[i].item())\n",
    "    diff_dissic_g05ssp245bgc_array.append(diff_dissic_g05ssp245bgc[i].item())\n",
    "    diff_dissic_ssp245bgc_array.append(diff_dissic_ssp245bgc[i].item())"
   ]
  },
  {
   "cell_type": "code",
   "execution_count": null,
   "id": "8ba0bcec-a333-4ad5-b326-a04b454d6b10",
   "metadata": {
    "execution": {
     "iopub.execute_input": "2024-04-05T08:47:44.938812Z",
     "iopub.status.busy": "2024-04-05T08:47:44.938489Z",
     "iopub.status.idle": "2024-04-05T08:48:53.361679Z",
     "shell.execute_reply": "2024-04-05T08:48:53.360998Z",
     "shell.execute_reply.started": "2024-04-05T08:47:44.938790Z"
    },
    "tags": []
   },
   "outputs": [],
   "source": [
    "fig, axs = plt.subplots(figsize=(14, 6))\n",
    "axs.plot(np.arange(1851, 1990), diff_dissic_u051pctbgc_array/(ds_msftmz_u051pctbgcLR.sel(lat=26.5).sel(depth_2=1020).sel(lon=0).groupby('time.year').mean('time').isel(year=np.arange(0,139)).atlantic_moc.values/1e9), color='darkred')\n",
    "axs.plot(np.arange(1851, 1990), diff_dissic_u031pctbgc_array/(ds_msftmz_u031pctbgcLR.sel(lat=26.5).sel(depth_2=1020).sel(lon=0).groupby('time.year').mean('time').isel(year=np.arange(0,139)).atlantic_moc.values/1e9), color='salmon')\n",
    "axs.plot(np.arange(1851, 1990), diff_dissic_u011pctbgc_array/(ds_msftmz_u011pctbgcLR.sel(lat=26.5).sel(depth_2=1020).sel(lon=0).groupby('time.year').mean('time').isel(year=np.arange(0,139)).atlantic_moc.values/1e9), color='peachpuff')\n",
    "axs.plot(np.arange(1851, 1990), diff_dissic_g011pctbgc_array/(ds_msftmz_g011pctbgcLR.sel(lat=26.5).sel(depth_2=1020).sel(lon=0).groupby('time.year').mean('time').isel(year=np.arange(0,139)).atlantic_moc.values/1e9), color='lightblue')\n",
    "axs.plot(np.arange(1851, 1990), diff_dissic_g031pctbgc_array/(ds_msftmz_g031pctbgcLR.sel(lat=26.5).sel(depth_2=1020).sel(lon=0).groupby('time.year').mean('time').isel(year=np.arange(0,139)).atlantic_moc.values/1e9), color='dodgerblue')\n",
    "axs.plot(np.arange(1851, 1990), diff_dissic_g051pctbgc_array/(ds_msftmz_g051pctbgcLR.sel(lat=26.5).sel(depth_2=1020).sel(lon=0).groupby('time.year').mean('time').isel(year=np.arange(0,139)).atlantic_moc.values/1e9), color='darkblue')\n",
    "axs.plot(np.arange(1851, 1990), diff_dissic_1pctbgc_array/(ds_msftmz_1pctbgc.sel(lat=26.5).sel(lev=1020).isel(basin=1).groupby('time.year').mean('time').isel(year=np.arange(0,139)).msftmz.values/1e9), color='dimgrey')\n",
    "axs.legend(loc='lower center')\n",
    "axs.set_ylabel('Difference Ocean Carbon/AMOC strength [PgC/Sv]', color='k')\n",
    "axs.spines['top'].set_visible(False)\n",
    "axs.spines['right'].set_visible(False)\n",
    "axs.set_xlabel(\"Time [year]\")\n",
    "plt.show()"
   ]
  },
  {
   "cell_type": "markdown",
   "id": "ae8af7f5-3d57-4fc1-861b-2e27a600137a",
   "metadata": {},
   "source": [
    "u03"
   ]
  },
  {
   "cell_type": "code",
   "execution_count": null,
   "id": "43280655-04a6-4223-9239-839ea1348e60",
   "metadata": {
    "execution": {
     "iopub.execute_input": "2023-12-12T23:21:59.537706Z",
     "iopub.status.busy": "2023-12-12T23:21:59.537167Z",
     "iopub.status.idle": "2023-12-12T23:21:59.542744Z",
     "shell.execute_reply": "2023-12-12T23:21:59.542083Z",
     "shell.execute_reply.started": "2023-12-12T23:21:59.537680Z"
    },
    "tags": []
   },
   "outputs": [],
   "source": [
    "dissic_u031pct_diff/total_tas_diff['hosing_naa03Sv_1pct-LR']"
   ]
  },
  {
   "cell_type": "code",
   "execution_count": null,
   "id": "183d4c2c-1c75-4308-a284-0d344f502e8f",
   "metadata": {
    "execution": {
     "iopub.execute_input": "2023-12-12T23:15:01.923584Z",
     "iopub.status.busy": "2023-12-12T23:15:01.922990Z",
     "iopub.status.idle": "2023-12-12T23:15:01.928982Z",
     "shell.execute_reply": "2023-12-12T23:15:01.928313Z",
     "shell.execute_reply.started": "2023-12-12T23:15:01.923557Z"
    },
    "tags": []
   },
   "outputs": [],
   "source": [
    "(dissic_u031pct_diff - dissic_u031pctbgc_diff)/total_tas_diff['hosing_naa03Sv_1pct-LR']"
   ]
  },
  {
   "cell_type": "code",
   "execution_count": null,
   "id": "151d90e0-36b4-49dc-94be-17770b1edb30",
   "metadata": {
    "execution": {
     "iopub.execute_input": "2023-12-12T23:19:52.467341Z",
     "iopub.status.busy": "2023-12-12T23:19:52.466849Z",
     "iopub.status.idle": "2023-12-12T23:19:52.497656Z",
     "shell.execute_reply": "2023-12-12T23:19:52.496989Z",
     "shell.execute_reply.started": "2023-12-12T23:19:52.467315Z"
    },
    "tags": []
   },
   "outputs": [],
   "source": [
    "(dissic_u031pct_diff - dissic_u031pctbgc_diff)/(total_tas_diff['hosing_naa03Sv_1pct-LR']*msftmz_u031pct_diff)"
   ]
  },
  {
   "cell_type": "markdown",
   "id": "27744bfa-1844-4de6-8ca0-6e0966e2795a",
   "metadata": {
    "execution": {
     "iopub.execute_input": "2023-12-12T23:16:08.877815Z",
     "iopub.status.busy": "2023-12-12T23:16:08.877290Z",
     "iopub.status.idle": "2023-12-12T23:16:08.903214Z",
     "shell.execute_reply": "2023-12-12T23:16:08.901332Z",
     "shell.execute_reply.started": "2023-12-12T23:16:08.877786Z"
    },
    "tags": []
   },
   "source": [
    "u05"
   ]
  },
  {
   "cell_type": "code",
   "execution_count": null,
   "id": "e3d6353a-3548-4b15-8cea-572d4d209680",
   "metadata": {
    "execution": {
     "iopub.execute_input": "2023-12-12T23:15:03.399204Z",
     "iopub.status.busy": "2023-12-12T23:15:03.398812Z",
     "iopub.status.idle": "2023-12-12T23:15:03.403707Z",
     "shell.execute_reply": "2023-12-12T23:15:03.403059Z",
     "shell.execute_reply.started": "2023-12-12T23:15:03.399180Z"
    },
    "tags": []
   },
   "outputs": [],
   "source": [
    "(dissic_u051pct_diff - dissic_u051pctbgc_diff)/total_tas_diff['hosing_naa05Sv_1pct-LR']"
   ]
  },
  {
   "cell_type": "code",
   "execution_count": null,
   "id": "1e9a6bba-005a-4928-9d91-ff9d8dcb8cb5",
   "metadata": {
    "execution": {
     "iopub.execute_input": "2023-12-12T23:20:13.869687Z",
     "iopub.status.busy": "2023-12-12T23:20:13.869174Z",
     "iopub.status.idle": "2023-12-12T23:20:13.874682Z",
     "shell.execute_reply": "2023-12-12T23:20:13.874025Z",
     "shell.execute_reply.started": "2023-12-12T23:20:13.869661Z"
    },
    "tags": []
   },
   "outputs": [],
   "source": [
    "(dissic_u051pct_diff - dissic_u051pctbgc_diff)/(total_tas_diff['hosing_naa05Sv_1pct-LR']*msftmz_u051pct_diff)"
   ]
  },
  {
   "cell_type": "markdown",
   "id": "91a06e4f-b881-4614-913b-461f7461a4e5",
   "metadata": {
    "tags": []
   },
   "source": [
    "# Export data to csv"
   ]
  },
  {
   "cell_type": "markdown",
   "id": "89e46c2c-d823-424f-9bdc-1667887dd14a",
   "metadata": {
    "execution": {
     "iopub.execute_input": "2024-08-20T16:12:24.151048Z",
     "iopub.status.busy": "2024-08-20T16:12:24.150576Z",
     "iopub.status.idle": "2024-08-20T16:12:24.154271Z",
     "shell.execute_reply": "2024-08-20T16:12:24.153647Z",
     "shell.execute_reply.started": "2024-08-20T16:12:24.151025Z"
    },
    "jp-MarkdownHeadingCollapsed": true
   },
   "source": [
    "## 1pct-bgc"
   ]
  },
  {
   "cell_type": "raw",
   "id": "e0690ffa-de31-4b4e-b350-87c1f38ecfef",
   "metadata": {},
   "source": [
    "Dissic totals"
   ]
  },
  {
   "cell_type": "code",
   "execution_count": 125,
   "id": "6643f5c1-f2f7-4786-9d66-2aab2ca2e686",
   "metadata": {
    "execution": {
     "iopub.execute_input": "2024-03-12T16:25:36.947351Z",
     "iopub.status.busy": "2024-03-12T16:25:36.946817Z",
     "iopub.status.idle": "2024-03-12T16:25:39.240246Z",
     "shell.execute_reply": "2024-03-12T16:25:39.239262Z",
     "shell.execute_reply.started": "2024-03-12T16:25:36.947326Z"
    },
    "tags": []
   },
   "outputs": [],
   "source": [
    "(ds_dissic_u051pctbgcLR.dissic*ds_volcello_u05hosLR.sum(dim=\"time\").volcello*g_per_molC/1e15).isel(depth=np.arange(0,40)).sum(dim='depth').sum(dim='y').sum(dim='x').values.tofile(\n",
    "    '/work/uo1075/m300817/carbon_amoc/files/total_dissic_u051pctbgcLR.csv', sep=',')"
   ]
  },
  {
   "cell_type": "code",
   "execution_count": 126,
   "id": "75fd6f67-bf43-4109-bd31-e8192e2c814a",
   "metadata": {
    "execution": {
     "iopub.execute_input": "2024-03-12T16:25:39.242217Z",
     "iopub.status.busy": "2024-03-12T16:25:39.241814Z",
     "iopub.status.idle": "2024-03-12T16:25:41.321080Z",
     "shell.execute_reply": "2024-03-12T16:25:41.320137Z",
     "shell.execute_reply.started": "2024-03-12T16:25:39.242195Z"
    },
    "tags": []
   },
   "outputs": [],
   "source": [
    "(ds_dissic_u031pctbgcLR.dissic*ds_volcello_u05hosLR.sum(dim=\"time\").volcello*g_per_molC/1e15).isel(depth=np.arange(0,40)).sum(dim='depth').sum(dim='y').sum(dim='x').values.tofile(\n",
    "    '/work/uo1075/m300817/carbon_amoc/files/total_dissic_u031pctbgcLR.csv', sep=',')"
   ]
  },
  {
   "cell_type": "code",
   "execution_count": 69,
   "id": "58a77e12-26e9-4f0f-b219-9badee172673",
   "metadata": {
    "execution": {
     "iopub.execute_input": "2024-04-05T08:48:53.364709Z",
     "iopub.status.busy": "2024-04-05T08:48:53.364385Z",
     "iopub.status.idle": "2024-04-05T08:48:55.434702Z",
     "shell.execute_reply": "2024-04-05T08:48:55.433934Z",
     "shell.execute_reply.started": "2024-04-05T08:48:53.364679Z"
    },
    "tags": []
   },
   "outputs": [],
   "source": [
    "(ds_dissic_u011pctbgcLR.dissic*ds_volcello_u05hosLR.sum(dim=\"time\").volcello*g_per_molC/1e15).isel(depth=np.arange(0,40)).sum(dim='depth').sum(dim='y').sum(dim='x').values.tofile(\n",
    "    '/work/uo1075/m300817/carbon_amoc/files/total_dissic_u011pctbgcLR.csv', sep=',')"
   ]
  },
  {
   "cell_type": "code",
   "execution_count": 127,
   "id": "e3d1575d-3caa-4b15-a8f6-a145a075465e",
   "metadata": {
    "execution": {
     "iopub.execute_input": "2024-03-12T16:25:41.322579Z",
     "iopub.status.busy": "2024-03-12T16:25:41.322200Z",
     "iopub.status.idle": "2024-03-12T16:25:43.448472Z",
     "shell.execute_reply": "2024-03-12T16:25:43.447539Z",
     "shell.execute_reply.started": "2024-03-12T16:25:41.322547Z"
    },
    "tags": []
   },
   "outputs": [],
   "source": [
    "(ds_dissic_g011pctbgcLR.dissic*ds_volcello_u05hosLR.sum(dim=\"time\").volcello*g_per_molC/1e15).isel(depth=np.arange(0,40)).sum(dim='depth').sum(dim='y').sum(dim='x').values.tofile(\n",
    "    '/work/uo1075/m300817/carbon_amoc/files/total_dissic_g011pctbgcLR.csv', sep=',')"
   ]
  },
  {
   "cell_type": "code",
   "execution_count": 8,
   "id": "5b97b9ff-ad09-4726-a562-7a35be5e9c2c",
   "metadata": {
    "execution": {
     "iopub.execute_input": "2024-03-22T10:03:44.354609Z",
     "iopub.status.busy": "2024-03-22T10:03:44.354154Z",
     "iopub.status.idle": "2024-03-22T10:03:46.904810Z",
     "shell.execute_reply": "2024-03-22T10:03:46.904069Z",
     "shell.execute_reply.started": "2024-03-22T10:03:44.354585Z"
    },
    "tags": []
   },
   "outputs": [],
   "source": [
    "(ds_dissic_g031pctbgcLR.dissic*ds_volcello_u05hosLR.sum(dim=\"time\").volcello*g_per_molC/1e15).isel(depth=np.arange(0,40)).sum(dim='depth').sum(dim='y').sum(dim='x').values.tofile(\n",
    "    '/work/uo1075/m300817/carbon_amoc/files/total_dissic_g031pctbgcLR.csv', sep=',')"
   ]
  },
  {
   "cell_type": "code",
   "execution_count": 70,
   "id": "11bf1917-c0ca-446a-b02e-4a6cb83903a8",
   "metadata": {
    "execution": {
     "iopub.execute_input": "2024-04-05T08:48:55.436771Z",
     "iopub.status.busy": "2024-04-05T08:48:55.436303Z",
     "iopub.status.idle": "2024-04-05T08:48:57.445603Z",
     "shell.execute_reply": "2024-04-05T08:48:57.444873Z",
     "shell.execute_reply.started": "2024-04-05T08:48:55.436750Z"
    },
    "tags": []
   },
   "outputs": [],
   "source": [
    "(ds_dissic_g051pctbgcLR.dissic*ds_volcello_u05hosLR.sum(dim=\"time\").volcello*g_per_molC/1e15).isel(depth=np.arange(0,40)).sum(dim='depth').sum(dim='y').sum(dim='x').values.tofile(\n",
    "    '/work/uo1075/m300817/carbon_amoc/files/total_dissic_g051pctbgcLR.csv', sep=',')"
   ]
  },
  {
   "cell_type": "code",
   "execution_count": 57,
   "id": "c465fced-e67a-4c28-92fe-a2d52ecfb945",
   "metadata": {
    "execution": {
     "iopub.execute_input": "2024-03-21T13:01:17.484637Z",
     "iopub.status.busy": "2024-03-21T13:01:17.484157Z",
     "iopub.status.idle": "2024-03-21T13:02:26.296093Z",
     "shell.execute_reply": "2024-03-21T13:02:26.295280Z",
     "shell.execute_reply.started": "2024-03-21T13:01:17.484614Z"
    },
    "tags": []
   },
   "outputs": [],
   "source": [
    "(ds_dissic_1pctbgc.groupby('time.year').mean().dissic*ds_volcello.volcello*g_per_molC/1e15).isel(lev=np.arange(0,40)).sum(dim='lev').sum(dim='i').sum(dim='j').values.tofile(\n",
    "    '/work/uo1075/m300817/carbon_amoc/files/total_dissic_1pctbgcLR.csv', sep=',')"
   ]
  },
  {
   "cell_type": "code",
   "execution_count": null,
   "id": "ef0604ee-1042-4cc1-afb4-8f5287a92651",
   "metadata": {},
   "outputs": [],
   "source": [
    "Dissic diff"
   ]
  },
  {
   "cell_type": "code",
   "execution_count": 121,
   "id": "9eea681c-f3fe-491f-ba0d-57a01b6e99eb",
   "metadata": {
    "execution": {
     "iopub.execute_input": "2024-03-12T16:25:24.940839Z",
     "iopub.status.busy": "2024-03-12T16:25:24.940271Z",
     "iopub.status.idle": "2024-03-12T16:25:24.946011Z",
     "shell.execute_reply": "2024-03-12T16:25:24.945271Z",
     "shell.execute_reply.started": "2024-03-12T16:25:24.940814Z"
    },
    "tags": []
   },
   "outputs": [],
   "source": [
    "np.array(diff_dissic_u051pctbgc_array).tofile(\n",
    "    '/work/uo1075/m300817/carbon_amoc/files/diff_dissic_u051pctbgcLR.csv', sep=',')"
   ]
  },
  {
   "cell_type": "code",
   "execution_count": 122,
   "id": "4f0fd2a4-2e52-40da-ac7b-492399ae6b7f",
   "metadata": {
    "execution": {
     "iopub.execute_input": "2024-03-12T16:25:25.260245Z",
     "iopub.status.busy": "2024-03-12T16:25:25.259525Z",
     "iopub.status.idle": "2024-03-12T16:25:25.264327Z",
     "shell.execute_reply": "2024-03-12T16:25:25.263669Z",
     "shell.execute_reply.started": "2024-03-12T16:25:25.260221Z"
    },
    "tags": []
   },
   "outputs": [],
   "source": [
    "np.array(diff_dissic_u031pctbgc_array).tofile(\n",
    "    '/work/uo1075/m300817/carbon_amoc/files/diff_dissic_u031pctbgcLR.csv', sep=',')"
   ]
  },
  {
   "cell_type": "code",
   "execution_count": 71,
   "id": "4ca97e57-097f-4502-8ecd-3c96067e1a98",
   "metadata": {
    "execution": {
     "iopub.execute_input": "2024-04-05T08:48:57.446733Z",
     "iopub.status.busy": "2024-04-05T08:48:57.446509Z",
     "iopub.status.idle": "2024-04-05T08:48:57.482153Z",
     "shell.execute_reply": "2024-04-05T08:48:57.481584Z",
     "shell.execute_reply.started": "2024-04-05T08:48:57.446712Z"
    },
    "tags": []
   },
   "outputs": [],
   "source": [
    "np.array(diff_dissic_u011pctbgc_array).tofile(\n",
    "    '/work/uo1075/m300817/carbon_amoc/files/diff_dissic_u011pctbgcLR.csv', sep=',')"
   ]
  },
  {
   "cell_type": "code",
   "execution_count": 123,
   "id": "ee12ca9b-6a22-4ebb-a70c-c1b16f10283b",
   "metadata": {
    "execution": {
     "iopub.execute_input": "2024-03-12T16:25:25.589217Z",
     "iopub.status.busy": "2024-03-12T16:25:25.588447Z",
     "iopub.status.idle": "2024-03-12T16:25:25.593249Z",
     "shell.execute_reply": "2024-03-12T16:25:25.592599Z",
     "shell.execute_reply.started": "2024-03-12T16:25:25.589194Z"
    },
    "tags": []
   },
   "outputs": [],
   "source": [
    "np.array(diff_dissic_g011pctbgc_array).tofile(\n",
    "    '/work/uo1075/m300817/carbon_amoc/files/diff_dissic_g011pctbgcLR.csv', sep=',')"
   ]
  },
  {
   "cell_type": "code",
   "execution_count": 15,
   "id": "f29fd69a-23a4-4bfc-ac54-95f074f97f25",
   "metadata": {
    "execution": {
     "iopub.execute_input": "2024-03-22T10:06:45.936332Z",
     "iopub.status.busy": "2024-03-22T10:06:45.935888Z",
     "iopub.status.idle": "2024-03-22T10:06:45.941898Z",
     "shell.execute_reply": "2024-03-22T10:06:45.941300Z",
     "shell.execute_reply.started": "2024-03-22T10:06:45.936308Z"
    },
    "tags": []
   },
   "outputs": [],
   "source": [
    "np.array(diff_dissic_g031pctbgc_array).tofile(\n",
    "    '/work/uo1075/m300817/carbon_amoc/files/diff_dissic_g031pctbgcLR.csv', sep=',')"
   ]
  },
  {
   "cell_type": "code",
   "execution_count": 72,
   "id": "e6b9d62a-a85e-4e76-985b-33216fb4eb2b",
   "metadata": {
    "execution": {
     "iopub.execute_input": "2024-04-05T08:48:57.483038Z",
     "iopub.status.busy": "2024-04-05T08:48:57.482838Z",
     "iopub.status.idle": "2024-04-05T08:48:57.503515Z",
     "shell.execute_reply": "2024-04-05T08:48:57.502960Z",
     "shell.execute_reply.started": "2024-04-05T08:48:57.483018Z"
    },
    "tags": []
   },
   "outputs": [],
   "source": [
    "np.array(diff_dissic_g051pctbgc_array).tofile(\n",
    "    '/work/uo1075/m300817/carbon_amoc/files/diff_dissic_g051pctbgcLR.csv', sep=',')"
   ]
  },
  {
   "cell_type": "code",
   "execution_count": 124,
   "id": "90c2841d-cdf3-4f63-bd73-be68ad293e96",
   "metadata": {
    "execution": {
     "iopub.execute_input": "2024-03-12T16:25:25.925502Z",
     "iopub.status.busy": "2024-03-12T16:25:25.924960Z",
     "iopub.status.idle": "2024-03-12T16:25:25.929514Z",
     "shell.execute_reply": "2024-03-12T16:25:25.928848Z",
     "shell.execute_reply.started": "2024-03-12T16:25:25.925480Z"
    },
    "tags": []
   },
   "outputs": [],
   "source": [
    "np.array(diff_dissic_1pctbgc_array).tofile(\n",
    "    '/work/uo1075/m300817/carbon_amoc/files/diff_dissic_1pctbgcLR.csv', sep=',')"
   ]
  },
  {
   "cell_type": "code",
   "execution_count": null,
   "id": "dccf6ef3-1a6b-485e-a320-53e918249763",
   "metadata": {},
   "outputs": [],
   "source": []
  },
  {
   "cell_type": "code",
   "execution_count": null,
   "id": "84428b4b-7773-4675-8f94-6970054ed168",
   "metadata": {},
   "outputs": [],
   "source": [
    "msftmz totals "
   ]
  },
  {
   "cell_type": "code",
   "execution_count": 117,
   "id": "e5a9c4d6-6b46-4870-942f-c7a6cae4501e",
   "metadata": {
    "execution": {
     "iopub.execute_input": "2024-03-12T16:25:06.903175Z",
     "iopub.status.busy": "2024-03-12T16:25:06.902637Z",
     "iopub.status.idle": "2024-03-12T16:25:08.131120Z",
     "shell.execute_reply": "2024-03-12T16:25:08.130266Z",
     "shell.execute_reply.started": "2024-03-12T16:25:06.903149Z"
    },
    "tags": []
   },
   "outputs": [],
   "source": [
    "(ds_msftmz_u051pctbgcLR.sel(lat=26.5).sel(depth_2=1020).sel(lon=0).groupby('time.year').mean('time').atlantic_moc/1e9).values.tofile(\n",
    "    '/work/uo1075/m300817/carbon_amoc/files/total_amoc26.5N_u051pctbgcLR.csv', sep=',')"
   ]
  },
  {
   "cell_type": "code",
   "execution_count": 118,
   "id": "9b7ab8be-1187-46bd-8dc2-b8efa88a39c9",
   "metadata": {
    "execution": {
     "iopub.execute_input": "2024-03-12T16:25:08.132898Z",
     "iopub.status.busy": "2024-03-12T16:25:08.132556Z",
     "iopub.status.idle": "2024-03-12T16:25:09.337503Z",
     "shell.execute_reply": "2024-03-12T16:25:09.336709Z",
     "shell.execute_reply.started": "2024-03-12T16:25:08.132877Z"
    },
    "tags": []
   },
   "outputs": [],
   "source": [
    "(ds_msftmz_u031pctbgcLR.sel(lat=26.5).sel(depth_2=1020).sel(lon=0).groupby('time.year').mean('time').atlantic_moc/1e9).values.tofile(\n",
    "    '/work/uo1075/m300817/carbon_amoc/files/total_amoc26.5N_u031pctbgcLR.csv', sep=',')"
   ]
  },
  {
   "cell_type": "code",
   "execution_count": 74,
   "id": "7d2855a6-2c2c-40c8-8a9c-fd6e87b6e6c2",
   "metadata": {
    "execution": {
     "iopub.execute_input": "2024-04-05T08:49:07.777949Z",
     "iopub.status.busy": "2024-04-05T08:49:07.777638Z",
     "iopub.status.idle": "2024-04-05T08:49:19.157724Z",
     "shell.execute_reply": "2024-04-05T08:49:19.156958Z",
     "shell.execute_reply.started": "2024-04-05T08:49:07.777927Z"
    },
    "tags": []
   },
   "outputs": [],
   "source": [
    "(ds_msftmz_u011pctbgcLR.sel(lat=26.5).sel(depth_2=1020).sel(lon=0).groupby('time.year').mean('time').atlantic_moc/1e9).values.tofile(\n",
    "    '/work/uo1075/m300817/carbon_amoc/files/total_amoc26.5N_u011pctbgcLR.csv', sep=',')"
   ]
  },
  {
   "cell_type": "code",
   "execution_count": 119,
   "id": "38f7a815-39c3-48ba-95ca-b822ab50e728",
   "metadata": {
    "execution": {
     "iopub.execute_input": "2024-03-12T16:25:09.338766Z",
     "iopub.status.busy": "2024-03-12T16:25:09.338552Z",
     "iopub.status.idle": "2024-03-12T16:25:10.545163Z",
     "shell.execute_reply": "2024-03-12T16:25:10.544378Z",
     "shell.execute_reply.started": "2024-03-12T16:25:09.338747Z"
    },
    "tags": []
   },
   "outputs": [],
   "source": [
    "(ds_msftmz_g011pctbgcLR.sel(lat=26.5).sel(depth_2=1020).sel(lon=0).groupby('time.year').mean('time').atlantic_moc/1e9).values.tofile(\n",
    "    '/work/uo1075/m300817/carbon_amoc/files/total_amoc26.5N_g011pctbgcLR.csv', sep=',')"
   ]
  },
  {
   "cell_type": "code",
   "execution_count": 22,
   "id": "8d60f38e-6a56-4b74-acf5-48e4820dc215",
   "metadata": {
    "execution": {
     "iopub.execute_input": "2024-03-22T10:12:17.601506Z",
     "iopub.status.busy": "2024-03-22T10:12:17.600854Z",
     "iopub.status.idle": "2024-03-22T10:12:18.859967Z",
     "shell.execute_reply": "2024-03-22T10:12:18.859078Z",
     "shell.execute_reply.started": "2024-03-22T10:12:17.601478Z"
    },
    "tags": []
   },
   "outputs": [],
   "source": [
    "(ds_msftmz_g031pctbgcLR.sel(lat=26.5).sel(depth_2=1020).sel(lon=0).groupby('time.year').mean('time').atlantic_moc/1e9).values.tofile(\n",
    "    '/work/uo1075/m300817/carbon_amoc/files/total_amoc26.5N_g031pctbgcLR.csv', sep=',')"
   ]
  },
  {
   "cell_type": "code",
   "execution_count": 73,
   "id": "c989757e-9c6f-43c9-b65e-aacd7d606e30",
   "metadata": {
    "execution": {
     "iopub.execute_input": "2024-04-05T08:48:57.504401Z",
     "iopub.status.busy": "2024-04-05T08:48:57.504204Z",
     "iopub.status.idle": "2024-04-05T08:49:07.776696Z",
     "shell.execute_reply": "2024-04-05T08:49:07.775913Z",
     "shell.execute_reply.started": "2024-04-05T08:48:57.504383Z"
    },
    "tags": []
   },
   "outputs": [],
   "source": [
    "(ds_msftmz_g051pctbgcLR.sel(lat=26.5).sel(depth_2=1020).sel(lon=0).groupby('time.year').mean('time').atlantic_moc/1e9).values.tofile(\n",
    "    '/work/uo1075/m300817/carbon_amoc/files/total_amoc26.5N_g051pctbgcLR.csv', sep=',')"
   ]
  },
  {
   "cell_type": "code",
   "execution_count": 120,
   "id": "a3610b35-57eb-4014-9df7-6f4944415865",
   "metadata": {
    "execution": {
     "iopub.execute_input": "2024-03-12T16:25:10.547157Z",
     "iopub.status.busy": "2024-03-12T16:25:10.546585Z",
     "iopub.status.idle": "2024-03-12T16:25:10.745169Z",
     "shell.execute_reply": "2024-03-12T16:25:10.744461Z",
     "shell.execute_reply.started": "2024-03-12T16:25:10.547134Z"
    },
    "tags": []
   },
   "outputs": [],
   "source": [
    "(ds_msftmz_1pctbgc.isel(basin=1).sel(lat=26.5).sel(lev=1020).groupby('time.year').mean('time').msftmz/1e9).values.tofile(\n",
    "    '/work/uo1075/m300817/carbon_amoc/files/total_amoc26.5N_1pctbgcLR.csv', sep=',')"
   ]
  },
  {
   "cell_type": "code",
   "execution_count": null,
   "id": "2399310a-87b4-40a4-8dbf-873cff7dd38c",
   "metadata": {},
   "outputs": [],
   "source": [
    "msftmz diff"
   ]
  },
  {
   "cell_type": "code",
   "execution_count": null,
   "id": "3cc03f16-e9e3-46b0-bd6e-4d84360d33e3",
   "metadata": {
    "execution": {
     "iopub.execute_input": "2024-04-05T08:50:16.746206Z",
     "iopub.status.busy": "2024-04-05T08:50:16.745707Z",
     "iopub.status.idle": "2024-04-05T08:51:03.867713Z",
     "shell.execute_reply": "2024-04-05T08:51:03.867005Z",
     "shell.execute_reply.started": "2024-04-05T08:50:16.746183Z"
    },
    "tags": []
   },
   "outputs": [],
   "source": [
    "ds_msftmz_u051pctbgcLR.load()\n",
    "ds_msftmz_u031pctbgcLR.load()\n",
    "ds_msftmz_u011pctbgcLR.load()\n",
    "ds_msftmz_g011pctbgcLR.load()\n",
    "ds_msftmz_g031pctbgcLR.load()\n",
    "ds_msftmz_g011pctbgcLR.load()\n",
    "ds_msftmz_1pctbgc.load()"
   ]
  },
  {
   "cell_type": "code",
   "execution_count": null,
   "id": "fbc6b31f-ad2f-4893-81d4-b298f7cd039f",
   "metadata": {
    "execution": {
     "iopub.execute_input": "2024-04-05T08:52:07.167699Z",
     "iopub.status.busy": "2024-04-05T08:52:07.167240Z",
     "iopub.status.idle": "2024-04-05T08:52:33.989465Z",
     "shell.execute_reply": "2024-04-05T08:52:33.988703Z",
     "shell.execute_reply.started": "2024-04-05T08:52:07.167665Z"
    },
    "tags": []
   },
   "outputs": [],
   "source": [
    "# not the same as msftmt_..._diff, which just calculate the total difference at the end of the period\n",
    "from tqdm import tqdm\n",
    "diff_msftmz_u051pctbgc = []\n",
    "diff_msftmz_u031pctbgc = []\n",
    "diff_msftmz_u011pctbgc = []\n",
    "diff_msftmz_g011pctbgc = []\n",
    "diff_msftmz_g031pctbgc = []\n",
    "diff_msftmz_g051pctbgc = []\n",
    "diff_msftmz_1pctbgc    = []\n",
    "amoc26_u051pctbgc_yearly = ds_msftmz_u051pctbgcLR.sel(lat=26.5).sel(depth_2=1020).sel(lon=0).groupby('time.year').mean('time')\n",
    "amoc26_u031pctbgc_yearly = ds_msftmz_u031pctbgcLR.sel(lat=26.5).sel(depth_2=1020).sel(lon=0).groupby('time.year').mean('time')\n",
    "amoc26_u011pctbgc_yearly = ds_msftmz_u011pctbgcLR.sel(lat=26.5).sel(depth_2=1020).sel(lon=0).groupby('time.year').mean('time')\n",
    "amoc26_g011pctbgc_yearly = ds_msftmz_g011pctbgcLR.sel(lat=26.5).sel(depth_2=1020).sel(lon=0).groupby('time.year').mean('time')\n",
    "amoc26_g031pctbgc_yearly = ds_msftmz_g031pctbgcLR.sel(lat=26.5).sel(depth_2=1020).sel(lon=0).groupby('time.year').mean('time')\n",
    "amoc26_g051pctbgc_yearly = ds_msftmz_g051pctbgcLR.sel(lat=26.5).sel(depth_2=1020).sel(lon=0).groupby('time.year').mean('time')\n",
    "amoc26_1pctbgc_yearly = ds_msftmz_1pctbgc.sel(lat=26.5).sel(lev=1020).isel(basin=1).groupby('time.year').mean('time')\n",
    "\n",
    "for year in tqdm(range(1,140)): \n",
    "    diff_msftmz_u051pctbgc.append(\n",
    "        ((amoc26_u051pctbgc_yearly.isel(year=np.arange(year,year+1)).atlantic_moc.values)/1e9)\n",
    "        -((amoc26_u051pctbgc_yearly.isel(year=0).atlantic_moc.values)/1e9))\n",
    "    \n",
    "    diff_msftmz_u031pctbgc.append(\n",
    "        ((amoc26_u031pctbgc_yearly.isel(year=np.arange(year,year+1)).atlantic_moc.values)/1e9)\n",
    "        -((amoc26_u031pctbgc_yearly.isel(year=0).atlantic_moc.values)/1e9))\n",
    "    \n",
    "    diff_msftmz_u011pctbgc.append(\n",
    "        ((amoc26_u011pctbgc_yearly.isel(year=np.arange(year,year+1)).atlantic_moc.values)/1e9)\n",
    "        -((amoc26_u011pctbgc_yearly.isel(year=0).atlantic_moc.values)/1e9))\n",
    "    \n",
    "    diff_msftmz_g011pctbgc.append(\n",
    "        ((amoc26_g011pctbgc_yearly.isel(year=np.arange(year,year+1)).atlantic_moc.values)/1e9)\n",
    "        -((amoc26_g011pctbgc_yearly.isel(year=0).atlantic_moc.values)/1e9))\n",
    "    \n",
    "    diff_msftmz_g031pctbgc.append(\n",
    "        ((amoc26_g031pctbgc_yearly.isel(year=np.arange(year,year+1)).atlantic_moc.values)/1e9)\n",
    "        -((amoc26_g031pctbgc_yearly.isel(year=0).atlantic_moc.values)/1e9))\n",
    "    \n",
    "    diff_msftmz_g051pctbgc.append(\n",
    "        ((amoc26_g051pctbgc_yearly.isel(year=np.arange(year,year+1)).atlantic_moc.values)/1e9)\n",
    "        -((amoc26_g051pctbgc_yearly.isel(year=0).atlantic_moc.values)/1e9))\n",
    "    \n",
    "    diff_msftmz_1pctbgc.append(\n",
    "        ((amoc26_1pctbgc_yearly.isel(year=np.arange(year,year+1)).msftmz.values)/1e9)\n",
    "        -((amoc26_1pctbgc_yearly.isel(year=0).msftmz.values)/1e9))"
   ]
  },
  {
   "cell_type": "code",
   "execution_count": 77,
   "id": "a7e20574-047c-43aa-9f36-83e4816c1481",
   "metadata": {
    "execution": {
     "iopub.execute_input": "2024-04-05T08:52:59.747699Z",
     "iopub.status.busy": "2024-04-05T08:52:59.747244Z",
     "iopub.status.idle": "2024-04-05T08:52:59.753501Z",
     "shell.execute_reply": "2024-04-05T08:52:59.752845Z",
     "shell.execute_reply.started": "2024-04-05T08:52:59.747669Z"
    },
    "tags": []
   },
   "outputs": [],
   "source": [
    "diff_amoc26_u051pctbgc_array=[]\n",
    "diff_amoc26_u031pctbgc_array=[]\n",
    "diff_amoc26_u011pctbgc_array=[]\n",
    "diff_amoc26_g011pctbgc_array=[]\n",
    "diff_amoc26_g031pctbgc_array=[]\n",
    "diff_amoc26_g051pctbgc_array=[]\n",
    "diff_amoc26_1pctbgc_array=[]\n",
    "for i in range(len(diff_msftmz_u051pctbgc)):\n",
    "    diff_amoc26_u051pctbgc_array.append(diff_msftmz_u051pctbgc[i].item())\n",
    "    diff_amoc26_u031pctbgc_array.append(diff_msftmz_u031pctbgc[i].item())\n",
    "    diff_amoc26_u011pctbgc_array.append(diff_msftmz_u011pctbgc[i].item())\n",
    "    diff_amoc26_g011pctbgc_array.append(diff_msftmz_g011pctbgc[i].item())\n",
    "    diff_amoc26_g031pctbgc_array.append(diff_msftmz_g031pctbgc[i].item())\n",
    "    diff_amoc26_g051pctbgc_array.append(diff_msftmz_g051pctbgc[i].item())\n",
    "    diff_amoc26_1pctbgc_array.append(diff_msftmz_1pctbgc[i].item())"
   ]
  },
  {
   "cell_type": "code",
   "execution_count": 134,
   "id": "05f4d550-306e-47da-926a-8f93f809521b",
   "metadata": {
    "execution": {
     "iopub.execute_input": "2024-03-12T16:29:20.048334Z",
     "iopub.status.busy": "2024-03-12T16:29:20.047819Z",
     "iopub.status.idle": "2024-03-12T16:29:20.052496Z",
     "shell.execute_reply": "2024-03-12T16:29:20.051821Z",
     "shell.execute_reply.started": "2024-03-12T16:29:20.048310Z"
    },
    "tags": []
   },
   "outputs": [],
   "source": [
    "np.array(diff_amoc26_u051pctbgc_array).tofile(\n",
    "    '/work/uo1075/m300817/carbon_amoc/files/diff_amoc26.5N_u051pctbgcLR.csv', sep=',')"
   ]
  },
  {
   "cell_type": "code",
   "execution_count": 135,
   "id": "77ab0f7e-e700-4453-ad15-b2f8c0a41b80",
   "metadata": {
    "execution": {
     "iopub.execute_input": "2024-03-12T16:29:20.571362Z",
     "iopub.status.busy": "2024-03-12T16:29:20.570727Z",
     "iopub.status.idle": "2024-03-12T16:29:20.575268Z",
     "shell.execute_reply": "2024-03-12T16:29:20.574598Z",
     "shell.execute_reply.started": "2024-03-12T16:29:20.571340Z"
    },
    "tags": []
   },
   "outputs": [],
   "source": [
    "np.array(diff_amoc26_u031pctbgc_array).tofile(\n",
    "    '/work/uo1075/m300817/carbon_amoc/files/diff_amoc26.5N_u031pctbgcLR.csv', sep=',')"
   ]
  },
  {
   "cell_type": "code",
   "execution_count": 78,
   "id": "3ac634a7-9463-4cfb-8381-cf6741206477",
   "metadata": {
    "execution": {
     "iopub.execute_input": "2024-04-05T08:53:09.608692Z",
     "iopub.status.busy": "2024-04-05T08:53:09.608280Z",
     "iopub.status.idle": "2024-04-05T08:53:09.628177Z",
     "shell.execute_reply": "2024-04-05T08:53:09.627523Z",
     "shell.execute_reply.started": "2024-04-05T08:53:09.608661Z"
    },
    "tags": []
   },
   "outputs": [],
   "source": [
    "np.array(diff_amoc26_u011pctbgc_array).tofile(\n",
    "    '/work/uo1075/m300817/carbon_amoc/files/diff_amoc26.5N_u011pctbgcLR.csv', sep=',')"
   ]
  },
  {
   "cell_type": "code",
   "execution_count": 136,
   "id": "1ada8f94-715a-40b3-b113-580d773eb842",
   "metadata": {
    "execution": {
     "iopub.execute_input": "2024-03-12T16:29:20.938275Z",
     "iopub.status.busy": "2024-03-12T16:29:20.937610Z",
     "iopub.status.idle": "2024-03-12T16:29:20.942093Z",
     "shell.execute_reply": "2024-03-12T16:29:20.941423Z",
     "shell.execute_reply.started": "2024-03-12T16:29:20.938252Z"
    },
    "tags": []
   },
   "outputs": [],
   "source": [
    "np.array(diff_amoc26_g011pctbgc_array).tofile(\n",
    "    '/work/uo1075/m300817/carbon_amoc/files/diff_amoc26.5N_g011pctbgcLR.csv', sep=',')"
   ]
  },
  {
   "cell_type": "code",
   "execution_count": 21,
   "id": "cf1e7144-70c8-45a8-b5d4-8abdb1a016fc",
   "metadata": {
    "execution": {
     "iopub.execute_input": "2024-03-22T10:10:17.544699Z",
     "iopub.status.busy": "2024-03-22T10:10:17.544149Z",
     "iopub.status.idle": "2024-03-22T10:10:17.550082Z",
     "shell.execute_reply": "2024-03-22T10:10:17.549314Z",
     "shell.execute_reply.started": "2024-03-22T10:10:17.544672Z"
    },
    "tags": []
   },
   "outputs": [],
   "source": [
    "np.array(diff_amoc26_g031pctbgc_array).tofile(\n",
    "    '/work/uo1075/m300817/carbon_amoc/files/diff_amoc26.5N_g031pctbgcLR.csv', sep=',')"
   ]
  },
  {
   "cell_type": "code",
   "execution_count": 79,
   "id": "1b104dfd-4dc8-4d94-8d41-965ad1614fa9",
   "metadata": {
    "execution": {
     "iopub.execute_input": "2024-04-05T08:53:20.550931Z",
     "iopub.status.busy": "2024-04-05T08:53:20.550510Z",
     "iopub.status.idle": "2024-04-05T08:53:20.555708Z",
     "shell.execute_reply": "2024-04-05T08:53:20.555057Z",
     "shell.execute_reply.started": "2024-04-05T08:53:20.550908Z"
    },
    "tags": []
   },
   "outputs": [],
   "source": [
    "np.array(diff_amoc26_g051pctbgc_array).tofile(\n",
    "    '/work/uo1075/m300817/carbon_amoc/files/diff_amoc26.5N_g051pctbgcLR.csv', sep=',')"
   ]
  },
  {
   "cell_type": "code",
   "execution_count": 137,
   "id": "e846caf9-faff-4fc5-aacf-9c0fbd2d1d78",
   "metadata": {
    "execution": {
     "iopub.execute_input": "2024-03-12T16:29:21.373990Z",
     "iopub.status.busy": "2024-03-12T16:29:21.373308Z",
     "iopub.status.idle": "2024-03-12T16:29:21.377882Z",
     "shell.execute_reply": "2024-03-12T16:29:21.377206Z",
     "shell.execute_reply.started": "2024-03-12T16:29:21.373966Z"
    },
    "tags": []
   },
   "outputs": [],
   "source": [
    "np.array(diff_amoc26_1pctbgc_array).tofile(\n",
    "    '/work/uo1075/m300817/carbon_amoc/files/diff_amoc26.5N_1pctbgcLR.csv', sep=',')"
   ]
  },
  {
   "cell_type": "code",
   "execution_count": 142,
   "id": "c3eb266c-6428-4256-b992-a69c93987aea",
   "metadata": {
    "execution": {
     "iopub.execute_input": "2024-03-12T16:30:44.018712Z",
     "iopub.status.busy": "2024-03-12T16:30:44.018153Z",
     "iopub.status.idle": "2024-03-12T16:30:44.024070Z",
     "shell.execute_reply": "2024-03-12T16:30:44.023293Z",
     "shell.execute_reply.started": "2024-03-12T16:30:44.018685Z"
    },
    "tags": []
   },
   "outputs": [],
   "source": [
    "amoc26_u051pctbgc_yearly.year.values.tofile(\n",
    "    '/work/uo1075/m300817/carbon_amoc/files/time.csv', sep=',')"
   ]
  },
  {
   "cell_type": "code",
   "execution_count": 138,
   "id": "205f7290-7c0f-4fb2-b2a3-df76a96ee032",
   "metadata": {
    "execution": {
     "iopub.execute_input": "2024-03-12T16:29:23.541257Z",
     "iopub.status.busy": "2024-03-12T16:29:23.540808Z",
     "iopub.status.idle": "2024-03-12T16:29:23.545880Z",
     "shell.execute_reply": "2024-03-12T16:29:23.545130Z",
     "shell.execute_reply.started": "2024-03-12T16:29:23.541233Z"
    },
    "tags": []
   },
   "outputs": [],
   "source": [
    "import csv\n",
    "with open('/work/uo1075/m300817/carbon_amoc/files/diff_amoc26.5N_1pctbgcLR.csv', 'r') as f:\n",
    "    reader = csv.reader(f)\n",
    "    data = list(reader)\n",
    "data_array = np.array(data)"
   ]
  },
  {
   "cell_type": "markdown",
   "id": "a58734aa-76f9-4bd2-b62e-65facd30635b",
   "metadata": {
    "execution": {
     "iopub.execute_input": "2024-08-20T16:12:05.015330Z",
     "iopub.status.busy": "2024-08-20T16:12:05.014819Z",
     "iopub.status.idle": "2024-08-20T16:12:05.034548Z",
     "shell.execute_reply": "2024-08-20T16:12:05.033360Z",
     "shell.execute_reply.started": "2024-08-20T16:12:05.015305Z"
    }
   },
   "source": [
    "## ssp245-bgc"
   ]
  },
  {
   "cell_type": "raw",
   "id": "d16b0ccf-6f39-42a7-801e-5b171682f80b",
   "metadata": {},
   "source": [
    "Dissic totals"
   ]
  },
  {
   "cell_type": "code",
   "execution_count": 25,
   "id": "43a0d1d7-b9be-4a53-97e9-6e88d0b5dcb9",
   "metadata": {
    "execution": {
     "iopub.execute_input": "2024-08-20T16:13:31.769506Z",
     "iopub.status.busy": "2024-08-20T16:13:31.768854Z",
     "iopub.status.idle": "2024-08-20T16:13:33.168726Z",
     "shell.execute_reply": "2024-08-20T16:13:33.167954Z",
     "shell.execute_reply.started": "2024-08-20T16:13:31.769480Z"
    },
    "tags": []
   },
   "outputs": [],
   "source": [
    "(ds_dissic_u05ssp245bgcLR.dissic*ds_volcello_u05hosLR.sum(dim=\"time\").volcello*g_per_molC/1e15).isel(depth=np.arange(0,40)).sum(dim='depth').sum(dim='y').sum(dim='x').values.tofile(\n",
    "    '/work/uo1075/m300817/carbon_amoc/files/total_dissic_u05ssp245bgcLR.csv', sep=',')"
   ]
  },
  {
   "cell_type": "code",
   "execution_count": 26,
   "id": "7164ce49-4160-43f4-8a8a-2a429143a0a8",
   "metadata": {
    "execution": {
     "iopub.execute_input": "2024-08-20T16:13:33.170571Z",
     "iopub.status.busy": "2024-08-20T16:13:33.169963Z",
     "iopub.status.idle": "2024-08-20T16:13:34.428389Z",
     "shell.execute_reply": "2024-08-20T16:13:34.427607Z",
     "shell.execute_reply.started": "2024-08-20T16:13:33.170547Z"
    },
    "tags": []
   },
   "outputs": [],
   "source": [
    "(ds_dissic_u03ssp245bgcLR.dissic*ds_volcello_u05hosLR.sum(dim=\"time\").volcello*g_per_molC/1e15).isel(depth=np.arange(0,40)).sum(dim='depth').sum(dim='y').sum(dim='x').values.tofile(\n",
    "    '/work/uo1075/m300817/carbon_amoc/files/total_dissic_u03ssp245bgcLR.csv', sep=',')"
   ]
  },
  {
   "cell_type": "code",
   "execution_count": 27,
   "id": "6bcaa2e8-5354-4ff2-8023-633ffecfcfb2",
   "metadata": {
    "execution": {
     "iopub.execute_input": "2024-08-20T16:13:34.429950Z",
     "iopub.status.busy": "2024-08-20T16:13:34.429718Z",
     "iopub.status.idle": "2024-08-20T16:13:35.671877Z",
     "shell.execute_reply": "2024-08-20T16:13:35.671104Z",
     "shell.execute_reply.started": "2024-08-20T16:13:34.429929Z"
    },
    "tags": []
   },
   "outputs": [],
   "source": [
    "(ds_dissic_u01ssp245bgcLR.dissic*ds_volcello_u05hosLR.sum(dim=\"time\").volcello*g_per_molC/1e15).isel(depth=np.arange(0,40)).sum(dim='depth').sum(dim='y').sum(dim='x').values.tofile(\n",
    "    '/work/uo1075/m300817/carbon_amoc/files/total_dissic_u01ssp245bgcLR.csv', sep=',')"
   ]
  },
  {
   "cell_type": "code",
   "execution_count": 28,
   "id": "fd896ff6-3091-4c52-9056-57939a847e8d",
   "metadata": {
    "execution": {
     "iopub.execute_input": "2024-08-20T16:13:35.673063Z",
     "iopub.status.busy": "2024-08-20T16:13:35.672833Z",
     "iopub.status.idle": "2024-08-20T16:13:36.935586Z",
     "shell.execute_reply": "2024-08-20T16:13:36.934854Z",
     "shell.execute_reply.started": "2024-08-20T16:13:35.673042Z"
    },
    "tags": []
   },
   "outputs": [],
   "source": [
    "(ds_dissic_g01ssp245bgcLR.dissic*ds_volcello_u05hosLR.sum(dim=\"time\").volcello*g_per_molC/1e15).isel(depth=np.arange(0,40)).sum(dim='depth').sum(dim='y').sum(dim='x').values.tofile(\n",
    "    '/work/uo1075/m300817/carbon_amoc/files/total_dissic_g01ssp245bgcLR.csv', sep=',')"
   ]
  },
  {
   "cell_type": "code",
   "execution_count": 29,
   "id": "8b167443-abba-4548-ac42-135a9b9c59f9",
   "metadata": {
    "execution": {
     "iopub.execute_input": "2024-08-20T16:13:36.937247Z",
     "iopub.status.busy": "2024-08-20T16:13:36.937027Z",
     "iopub.status.idle": "2024-08-20T16:13:38.175411Z",
     "shell.execute_reply": "2024-08-20T16:13:38.174667Z",
     "shell.execute_reply.started": "2024-08-20T16:13:36.937226Z"
    },
    "tags": []
   },
   "outputs": [],
   "source": [
    "(ds_dissic_g03ssp245bgcLR.dissic*ds_volcello_u05hosLR.sum(dim=\"time\").volcello*g_per_molC/1e15).isel(depth=np.arange(0,40)).sum(dim='depth').sum(dim='y').sum(dim='x').values.tofile(\n",
    "    '/work/uo1075/m300817/carbon_amoc/files/total_dissic_g03ssp245bgcLR.csv', sep=',')"
   ]
  },
  {
   "cell_type": "code",
   "execution_count": 30,
   "id": "ea57d75c-38ea-448b-9b30-1ae70c49df3c",
   "metadata": {
    "execution": {
     "iopub.execute_input": "2024-08-20T16:13:38.176481Z",
     "iopub.status.busy": "2024-08-20T16:13:38.176271Z",
     "iopub.status.idle": "2024-08-20T16:13:39.425970Z",
     "shell.execute_reply": "2024-08-20T16:13:39.425209Z",
     "shell.execute_reply.started": "2024-08-20T16:13:38.176462Z"
    },
    "tags": []
   },
   "outputs": [],
   "source": [
    "(ds_dissic_g05ssp245bgcLR.dissic*ds_volcello_u05hosLR.sum(dim=\"time\").volcello*g_per_molC/1e15).isel(depth=np.arange(0,40)).sum(dim='depth').sum(dim='y').sum(dim='x').values.tofile(\n",
    "    '/work/uo1075/m300817/carbon_amoc/files/total_dissic_g05ssp245bgcLR.csv', sep=',')"
   ]
  },
  {
   "cell_type": "code",
   "execution_count": 31,
   "id": "fa33be9d-fbd9-4204-ba28-2783d5e53421",
   "metadata": {
    "execution": {
     "iopub.execute_input": "2024-08-20T16:13:39.427408Z",
     "iopub.status.busy": "2024-08-20T16:13:39.426896Z",
     "iopub.status.idle": "2024-08-20T16:13:40.675865Z",
     "shell.execute_reply": "2024-08-20T16:13:40.675124Z",
     "shell.execute_reply.started": "2024-08-20T16:13:39.427386Z"
    },
    "tags": []
   },
   "outputs": [],
   "source": [
    "(ds_dissic_ssp245bgcLR.dissic*ds_volcello_u05hosLR.sum(dim=\"time\").volcello*g_per_molC/1e15).isel(depth=np.arange(0,40)).sum(dim='depth').sum(dim='y').sum(dim='x').values.tofile(\n",
    "    '/work/uo1075/m300817/carbon_amoc/files/total_dissic_ssp245bgcLR.csv', sep=',')"
   ]
  },
  {
   "cell_type": "code",
   "execution_count": null,
   "id": "9da9375d-e207-4bda-9c1c-cf5e65ec2c58",
   "metadata": {},
   "outputs": [],
   "source": [
    "Dissic diff"
   ]
  },
  {
   "cell_type": "code",
   "execution_count": 33,
   "id": "615c0daa-f446-4481-a8b4-1b8e6092f54e",
   "metadata": {
    "execution": {
     "iopub.execute_input": "2024-08-20T16:15:03.041317Z",
     "iopub.status.busy": "2024-08-20T16:15:03.040861Z",
     "iopub.status.idle": "2024-08-20T16:15:03.046124Z",
     "shell.execute_reply": "2024-08-20T16:15:03.045497Z",
     "shell.execute_reply.started": "2024-08-20T16:15:03.041295Z"
    },
    "tags": []
   },
   "outputs": [],
   "source": [
    "np.array(diff_dissic_u05ssp245bgc_array).tofile(\n",
    "    '/work/uo1075/m300817/carbon_amoc/files/diff_dissic_u05ssp245bgcLR.csv', sep=',')"
   ]
  },
  {
   "cell_type": "code",
   "execution_count": 34,
   "id": "338678dc-feb5-4343-81da-123b60ae2554",
   "metadata": {
    "execution": {
     "iopub.execute_input": "2024-08-20T16:15:03.626578Z",
     "iopub.status.busy": "2024-08-20T16:15:03.625818Z",
     "iopub.status.idle": "2024-08-20T16:15:03.630664Z",
     "shell.execute_reply": "2024-08-20T16:15:03.630054Z",
     "shell.execute_reply.started": "2024-08-20T16:15:03.626543Z"
    },
    "tags": []
   },
   "outputs": [],
   "source": [
    "np.array(diff_dissic_u03ssp245bgc_array).tofile(\n",
    "    '/work/uo1075/m300817/carbon_amoc/files/diff_dissic_u03ssp245bgcLR.csv', sep=',')"
   ]
  },
  {
   "cell_type": "code",
   "execution_count": 35,
   "id": "2afa1b85-dda0-4a67-b107-ba0ecc0ae7e0",
   "metadata": {
    "execution": {
     "iopub.execute_input": "2024-08-20T16:15:04.118236Z",
     "iopub.status.busy": "2024-08-20T16:15:04.117706Z",
     "iopub.status.idle": "2024-08-20T16:15:04.122379Z",
     "shell.execute_reply": "2024-08-20T16:15:04.121799Z",
     "shell.execute_reply.started": "2024-08-20T16:15:04.118215Z"
    },
    "tags": []
   },
   "outputs": [],
   "source": [
    "np.array(diff_dissic_u01ssp245bgc_array).tofile(\n",
    "    '/work/uo1075/m300817/carbon_amoc/files/diff_dissic_u01ssp245bgcLR.csv', sep=',')"
   ]
  },
  {
   "cell_type": "code",
   "execution_count": 36,
   "id": "948d8f3d-9977-48b5-ba72-f68e82aa1d79",
   "metadata": {
    "execution": {
     "iopub.execute_input": "2024-08-20T16:15:04.599244Z",
     "iopub.status.busy": "2024-08-20T16:15:04.598715Z",
     "iopub.status.idle": "2024-08-20T16:15:04.603331Z",
     "shell.execute_reply": "2024-08-20T16:15:04.602751Z",
     "shell.execute_reply.started": "2024-08-20T16:15:04.599222Z"
    },
    "tags": []
   },
   "outputs": [],
   "source": [
    "np.array(diff_dissic_g01ssp245bgc_array).tofile(\n",
    "    '/work/uo1075/m300817/carbon_amoc/files/diff_dissic_g01ssp245bgcLR.csv', sep=',')"
   ]
  },
  {
   "cell_type": "code",
   "execution_count": 37,
   "id": "964960eb-0720-422a-ae6b-39969a53b29d",
   "metadata": {
    "execution": {
     "iopub.execute_input": "2024-08-20T16:15:05.057895Z",
     "iopub.status.busy": "2024-08-20T16:15:05.057306Z",
     "iopub.status.idle": "2024-08-20T16:15:05.061852Z",
     "shell.execute_reply": "2024-08-20T16:15:05.061279Z",
     "shell.execute_reply.started": "2024-08-20T16:15:05.057873Z"
    },
    "tags": []
   },
   "outputs": [],
   "source": [
    "np.array(diff_dissic_g03ssp245bgc_array).tofile(\n",
    "    '/work/uo1075/m300817/carbon_amoc/files/diff_dissic_g03ssp245bgcLR.csv', sep=',')"
   ]
  },
  {
   "cell_type": "code",
   "execution_count": 38,
   "id": "99cc795d-6a47-4eff-9c1e-0d535f058496",
   "metadata": {
    "execution": {
     "iopub.execute_input": "2024-08-20T16:15:06.037167Z",
     "iopub.status.busy": "2024-08-20T16:15:06.036587Z",
     "iopub.status.idle": "2024-08-20T16:15:06.041299Z",
     "shell.execute_reply": "2024-08-20T16:15:06.040723Z",
     "shell.execute_reply.started": "2024-08-20T16:15:06.037145Z"
    },
    "tags": []
   },
   "outputs": [],
   "source": [
    "np.array(diff_dissic_g05ssp245bgc_array).tofile(\n",
    "    '/work/uo1075/m300817/carbon_amoc/files/diff_dissic_g05ssp245bgcLR.csv', sep=',')"
   ]
  },
  {
   "cell_type": "code",
   "execution_count": 39,
   "id": "1d3033ff-4761-4b87-a6e8-09ac81c4056d",
   "metadata": {
    "execution": {
     "iopub.execute_input": "2024-08-20T16:15:10.656797Z",
     "iopub.status.busy": "2024-08-20T16:15:10.656269Z",
     "iopub.status.idle": "2024-08-20T16:15:10.661250Z",
     "shell.execute_reply": "2024-08-20T16:15:10.660646Z",
     "shell.execute_reply.started": "2024-08-20T16:15:10.656773Z"
    },
    "tags": []
   },
   "outputs": [],
   "source": [
    "np.array(diff_dissic_ssp245bgc_array).tofile(\n",
    "    '/work/uo1075/m300817/carbon_amoc/files/diff_dissic_ssp245bgcLR.csv', sep=',')"
   ]
  },
  {
   "cell_type": "code",
   "execution_count": null,
   "id": "d0cb7680-bbbe-48d2-956b-329441326c6f",
   "metadata": {},
   "outputs": [],
   "source": []
  },
  {
   "cell_type": "code",
   "execution_count": null,
   "id": "760228a6-17b5-4ee3-ac5a-3a6e4ad35376",
   "metadata": {},
   "outputs": [],
   "source": [
    "msftmz totals "
   ]
  },
  {
   "cell_type": "code",
   "execution_count": 40,
   "id": "9c6d9b19-ea3e-46d0-8e43-5f1c0c277304",
   "metadata": {
    "execution": {
     "iopub.execute_input": "2024-08-20T16:18:23.038743Z",
     "iopub.status.busy": "2024-08-20T16:18:23.038267Z",
     "iopub.status.idle": "2024-08-20T16:18:27.744023Z",
     "shell.execute_reply": "2024-08-20T16:18:27.743257Z",
     "shell.execute_reply.started": "2024-08-20T16:18:23.038717Z"
    },
    "tags": []
   },
   "outputs": [],
   "source": [
    "(ds_msftmz_u05ssp245bgcLR.sel(lat=26.5).sel(depth_2=1020).sel(lon=0).groupby('time.year').mean('time').atlantic_moc/1e9).values.tofile(\n",
    "    '/work/uo1075/m300817/carbon_amoc/files/total_amoc26.5N_u05ssp245bgcLR.csv', sep=',')"
   ]
  },
  {
   "cell_type": "code",
   "execution_count": 41,
   "id": "849e0e61-4e57-447c-bc56-26b26d1577ea",
   "metadata": {
    "execution": {
     "iopub.execute_input": "2024-08-20T16:18:27.745660Z",
     "iopub.status.busy": "2024-08-20T16:18:27.745323Z",
     "iopub.status.idle": "2024-08-20T16:18:34.577064Z",
     "shell.execute_reply": "2024-08-20T16:18:34.576299Z",
     "shell.execute_reply.started": "2024-08-20T16:18:27.745637Z"
    },
    "tags": []
   },
   "outputs": [],
   "source": [
    "(ds_msftmz_u03ssp245bgcLR.sel(lat=26.5).sel(depth_2=1020).sel(lon=0).groupby('time.year').mean('time').atlantic_moc/1e9).values.tofile(\n",
    "    '/work/uo1075/m300817/carbon_amoc/files/total_amoc26.5N_u03ssp245bgcLR.csv', sep=',')"
   ]
  },
  {
   "cell_type": "code",
   "execution_count": 42,
   "id": "763d3250-1b2d-4b53-91c0-a56222329157",
   "metadata": {
    "execution": {
     "iopub.execute_input": "2024-08-20T16:18:34.578652Z",
     "iopub.status.busy": "2024-08-20T16:18:34.578030Z",
     "iopub.status.idle": "2024-08-20T16:18:41.293469Z",
     "shell.execute_reply": "2024-08-20T16:18:41.292716Z",
     "shell.execute_reply.started": "2024-08-20T16:18:34.578629Z"
    },
    "tags": []
   },
   "outputs": [],
   "source": [
    "(ds_msftmz_u01ssp245bgcLR.sel(lat=26.5).sel(depth_2=1020).sel(lon=0).groupby('time.year').mean('time').atlantic_moc/1e9).values.tofile(\n",
    "    '/work/uo1075/m300817/carbon_amoc/files/total_amoc26.5N_u01ssp245bgcLR.csv', sep=',')"
   ]
  },
  {
   "cell_type": "code",
   "execution_count": 43,
   "id": "f423cc56-4df1-4dcd-81b0-4b202ec89821",
   "metadata": {
    "execution": {
     "iopub.execute_input": "2024-08-20T16:18:41.295511Z",
     "iopub.status.busy": "2024-08-20T16:18:41.295160Z",
     "iopub.status.idle": "2024-08-20T16:18:47.449424Z",
     "shell.execute_reply": "2024-08-20T16:18:47.448653Z",
     "shell.execute_reply.started": "2024-08-20T16:18:41.295489Z"
    },
    "tags": []
   },
   "outputs": [],
   "source": [
    "(ds_msftmz_g01ssp245bgcLR.sel(lat=26.5).sel(depth_2=1020).sel(lon=0).groupby('time.year').mean('time').atlantic_moc/1e9).values.tofile(\n",
    "    '/work/uo1075/m300817/carbon_amoc/files/total_amoc26.5N_g01ssp245bgcLR.csv', sep=',')"
   ]
  },
  {
   "cell_type": "code",
   "execution_count": 44,
   "id": "9038b391-8249-4450-b723-81ddf09b0fb8",
   "metadata": {
    "execution": {
     "iopub.execute_input": "2024-08-20T16:18:47.450559Z",
     "iopub.status.busy": "2024-08-20T16:18:47.450345Z",
     "iopub.status.idle": "2024-08-20T16:18:53.750748Z",
     "shell.execute_reply": "2024-08-20T16:18:53.750002Z",
     "shell.execute_reply.started": "2024-08-20T16:18:47.450538Z"
    },
    "tags": []
   },
   "outputs": [],
   "source": [
    "(ds_msftmz_g03ssp245bgcLR.sel(lat=26.5).sel(depth_2=1020).sel(lon=0).groupby('time.year').mean('time').atlantic_moc/1e9).values.tofile(\n",
    "    '/work/uo1075/m300817/carbon_amoc/files/total_amoc26.5N_g03ssp245bgcLR.csv', sep=',')"
   ]
  },
  {
   "cell_type": "code",
   "execution_count": 45,
   "id": "a981bb8a-6f08-4b6e-88ef-9a5ae088d38e",
   "metadata": {
    "execution": {
     "iopub.execute_input": "2024-08-20T16:18:53.751965Z",
     "iopub.status.busy": "2024-08-20T16:18:53.751674Z",
     "iopub.status.idle": "2024-08-20T16:19:00.076046Z",
     "shell.execute_reply": "2024-08-20T16:19:00.075332Z",
     "shell.execute_reply.started": "2024-08-20T16:18:53.751943Z"
    },
    "tags": []
   },
   "outputs": [],
   "source": [
    "(ds_msftmz_g05ssp245bgcLR.sel(lat=26.5).sel(depth_2=1020).sel(lon=0).groupby('time.year').mean('time').atlantic_moc/1e9).values.tofile(\n",
    "    '/work/uo1075/m300817/carbon_amoc/files/total_amoc26.5N_g05ssp245bgcLR.csv', sep=',')"
   ]
  },
  {
   "cell_type": "code",
   "execution_count": 47,
   "id": "790c02cf-e3d4-413a-b479-0719ba6afd5b",
   "metadata": {
    "execution": {
     "iopub.execute_input": "2024-08-20T16:20:34.772071Z",
     "iopub.status.busy": "2024-08-20T16:20:34.771682Z",
     "iopub.status.idle": "2024-08-20T16:20:41.491655Z",
     "shell.execute_reply": "2024-08-20T16:20:41.490940Z",
     "shell.execute_reply.started": "2024-08-20T16:20:34.772049Z"
    },
    "tags": []
   },
   "outputs": [],
   "source": [
    "(ds_msftmz_ssp245bgcLR.sel(lat=26.5).sel(depth_2=1020).sel(lon=0).groupby('time.year').mean('time').atlantic_moc/1e9).values.tofile(\n",
    "    '/work/uo1075/m300817/carbon_amoc/files/total_amoc26.5N_ssp245bgcLR.csv', sep=',')"
   ]
  },
  {
   "cell_type": "markdown",
   "id": "a8f9c4f0-8290-497f-b9a9-7b534dad4d3b",
   "metadata": {
    "execution": {
     "iopub.execute_input": "2024-08-20T16:20:49.222029Z",
     "iopub.status.busy": "2024-08-20T16:20:49.221622Z",
     "iopub.status.idle": "2024-08-20T16:20:49.226219Z",
     "shell.execute_reply": "2024-08-20T16:20:49.225451Z",
     "shell.execute_reply.started": "2024-08-20T16:20:49.222001Z"
    }
   },
   "source": [
    "msftmz diff"
   ]
  },
  {
   "cell_type": "code",
   "execution_count": null,
   "id": "4ee0092d-9f57-4814-a5ff-3c29c56ebd8e",
   "metadata": {
    "collapsed": true,
    "execution": {
     "iopub.execute_input": "2024-08-20T16:21:46.029657Z",
     "iopub.status.busy": "2024-08-20T16:21:46.029117Z",
     "iopub.status.idle": "2024-08-20T16:21:50.850552Z",
     "shell.execute_reply": "2024-08-20T16:21:50.849865Z",
     "shell.execute_reply.started": "2024-08-20T16:21:46.029631Z"
    },
    "jupyter": {
     "outputs_hidden": true
    },
    "tags": []
   },
   "outputs": [],
   "source": [
    "ds_msftmz_u05ssp245bgcLR.load()\n",
    "ds_msftmz_u03ssp245bgcLR.load()\n",
    "ds_msftmz_u01ssp245bgcLR.load()\n",
    "ds_msftmz_g01ssp245bgcLR.load()\n",
    "ds_msftmz_g03ssp245bgcLR.load()\n",
    "ds_msftmz_g01ssp245bgcLR.load()\n",
    "ds_msftmz_ssp245bgcLR.load()"
   ]
  },
  {
   "cell_type": "code",
   "execution_count": null,
   "id": "e2411aed-14b8-4f89-b9b1-b37b14db5b09",
   "metadata": {
    "execution": {
     "iopub.execute_input": "2024-08-20T16:21:50.852152Z",
     "iopub.status.busy": "2024-08-20T16:21:50.851770Z",
     "iopub.status.idle": "2024-08-20T16:22:06.058294Z",
     "shell.execute_reply": "2024-08-20T16:22:06.057543Z",
     "shell.execute_reply.started": "2024-08-20T16:21:50.852133Z"
    },
    "tags": []
   },
   "outputs": [],
   "source": [
    "# not the same as msftmt_..._diff, which just calculate the total difference at the end of the period\n",
    "from tqdm import tqdm\n",
    "diff_msftmz_u05ssp245bgc = []\n",
    "diff_msftmz_u03ssp245bgc = []\n",
    "diff_msftmz_u01ssp245bgc = []\n",
    "diff_msftmz_g01ssp245bgc = []\n",
    "diff_msftmz_g03ssp245bgc = []\n",
    "diff_msftmz_g05ssp245bgc = []\n",
    "diff_msftmz_ssp245bgc    = []\n",
    "amoc26_u05ssp245bgc_yearly = ds_msftmz_u05ssp245bgcLR.sel(lat=26.5).sel(depth_2=1020).sel(lon=0).groupby('time.year').mean('time')\n",
    "amoc26_u03ssp245bgc_yearly = ds_msftmz_u03ssp245bgcLR.sel(lat=26.5).sel(depth_2=1020).sel(lon=0).groupby('time.year').mean('time')\n",
    "amoc26_u01ssp245bgc_yearly = ds_msftmz_u01ssp245bgcLR.sel(lat=26.5).sel(depth_2=1020).sel(lon=0).groupby('time.year').mean('time')\n",
    "amoc26_g01ssp245bgc_yearly = ds_msftmz_g01ssp245bgcLR.sel(lat=26.5).sel(depth_2=1020).sel(lon=0).groupby('time.year').mean('time')\n",
    "amoc26_g03ssp245bgc_yearly = ds_msftmz_g03ssp245bgcLR.sel(lat=26.5).sel(depth_2=1020).sel(lon=0).groupby('time.year').mean('time')\n",
    "amoc26_g05ssp245bgc_yearly = ds_msftmz_g05ssp245bgcLR.sel(lat=26.5).sel(depth_2=1020).sel(lon=0).groupby('time.year').mean('time')\n",
    "amoc26_ssp245bgc_yearly = ds_msftmz_ssp245bgcLR.sel(lat=26.5).sel(depth_2=1020).sel(lon=0).groupby('time.year').mean('time')\n",
    "for year in tqdm(range(1,85)): \n",
    "    diff_msftmz_u05ssp245bgc.append(\n",
    "        ((amoc26_u05ssp245bgc_yearly.isel(year=np.arange(year,year+1)).atlantic_moc.values)/1e9)\n",
    "        -((amoc26_u05ssp245bgc_yearly.isel(year=0).atlantic_moc.values)/1e9))\n",
    "    \n",
    "    diff_msftmz_u03ssp245bgc.append(\n",
    "        ((amoc26_u03ssp245bgc_yearly.isel(year=np.arange(year,year+1)).atlantic_moc.values)/1e9)\n",
    "        -((amoc26_u03ssp245bgc_yearly.isel(year=0).atlantic_moc.values)/1e9))\n",
    "    \n",
    "    diff_msftmz_u01ssp245bgc.append(\n",
    "        ((amoc26_u01ssp245bgc_yearly.isel(year=np.arange(year,year+1)).atlantic_moc.values)/1e9)\n",
    "        -((amoc26_u01ssp245bgc_yearly.isel(year=0).atlantic_moc.values)/1e9))\n",
    "    \n",
    "    diff_msftmz_g01ssp245bgc.append(\n",
    "        ((amoc26_g01ssp245bgc_yearly.isel(year=np.arange(year,year+1)).atlantic_moc.values)/1e9)\n",
    "        -((amoc26_g01ssp245bgc_yearly.isel(year=0).atlantic_moc.values)/1e9))\n",
    "    \n",
    "    diff_msftmz_g03ssp245bgc.append(\n",
    "        ((amoc26_g03ssp245bgc_yearly.isel(year=np.arange(year,year+1)).atlantic_moc.values)/1e9)\n",
    "        -((amoc26_g03ssp245bgc_yearly.isel(year=0).atlantic_moc.values)/1e9))\n",
    "    \n",
    "    diff_msftmz_g05ssp245bgc.append(\n",
    "        ((amoc26_g05ssp245bgc_yearly.isel(year=np.arange(year,year+1)).atlantic_moc.values)/1e9)\n",
    "        -((amoc26_g05ssp245bgc_yearly.isel(year=0).atlantic_moc.values)/1e9))\n",
    "    \n",
    "    diff_msftmz_ssp245bgc.append(\n",
    "        ((amoc26_ssp245bgc_yearly.isel(year=np.arange(year,year+1)).atlantic_moc.values)/1e9)\n",
    "        -((amoc26_ssp245bgc_yearly.isel(year=0).atlantic_moc.values)/1e9))\n",
    "    "
   ]
  },
  {
   "cell_type": "code",
   "execution_count": 52,
   "id": "33743ec2-fb94-408d-a382-bd2ad0c28296",
   "metadata": {
    "execution": {
     "iopub.execute_input": "2024-08-20T16:22:06.059516Z",
     "iopub.status.busy": "2024-08-20T16:22:06.059217Z",
     "iopub.status.idle": "2024-08-20T16:22:06.064631Z",
     "shell.execute_reply": "2024-08-20T16:22:06.064025Z",
     "shell.execute_reply.started": "2024-08-20T16:22:06.059496Z"
    },
    "tags": []
   },
   "outputs": [],
   "source": [
    "diff_amoc26_u05ssp245bgc_array=[]\n",
    "diff_amoc26_u03ssp245bgc_array=[]\n",
    "diff_amoc26_u01ssp245bgc_array=[]\n",
    "diff_amoc26_g01ssp245bgc_array=[]\n",
    "diff_amoc26_g03ssp245bgc_array=[]\n",
    "diff_amoc26_g05ssp245bgc_array=[]\n",
    "diff_amoc26_ssp245bgc_array=[]\n",
    "for i in range(len(diff_msftmz_u05ssp245bgc)):\n",
    "    diff_amoc26_u05ssp245bgc_array.append(diff_msftmz_u05ssp245bgc[i].item())\n",
    "    diff_amoc26_u03ssp245bgc_array.append(diff_msftmz_u03ssp245bgc[i].item())\n",
    "    diff_amoc26_u01ssp245bgc_array.append(diff_msftmz_u01ssp245bgc[i].item())\n",
    "    diff_amoc26_g01ssp245bgc_array.append(diff_msftmz_g01ssp245bgc[i].item())\n",
    "    diff_amoc26_g03ssp245bgc_array.append(diff_msftmz_g03ssp245bgc[i].item())\n",
    "    diff_amoc26_g05ssp245bgc_array.append(diff_msftmz_g05ssp245bgc[i].item())\n",
    "    diff_amoc26_ssp245bgc_array.append(diff_msftmz_ssp245bgc[i].item())"
   ]
  },
  {
   "cell_type": "code",
   "execution_count": 53,
   "id": "ccbe146f-900f-43ee-8503-042f51a9f160",
   "metadata": {
    "execution": {
     "iopub.execute_input": "2024-08-20T16:23:57.932035Z",
     "iopub.status.busy": "2024-08-20T16:23:57.931601Z",
     "iopub.status.idle": "2024-08-20T16:23:57.938515Z",
     "shell.execute_reply": "2024-08-20T16:23:57.937900Z",
     "shell.execute_reply.started": "2024-08-20T16:23:57.932012Z"
    },
    "tags": []
   },
   "outputs": [],
   "source": [
    "np.array(diff_amoc26_u05ssp245bgc_array).tofile(\n",
    "    '/work/uo1075/m300817/carbon_amoc/files/diff_amoc26.5N_u05ssp245bgcLR.csv', sep=',')"
   ]
  },
  {
   "cell_type": "code",
   "execution_count": 54,
   "id": "7da7955a-3afb-42a2-8954-7d7b7a648f7e",
   "metadata": {
    "execution": {
     "iopub.execute_input": "2024-08-20T16:23:58.619127Z",
     "iopub.status.busy": "2024-08-20T16:23:58.618750Z",
     "iopub.status.idle": "2024-08-20T16:23:58.623398Z",
     "shell.execute_reply": "2024-08-20T16:23:58.622836Z",
     "shell.execute_reply.started": "2024-08-20T16:23:58.619107Z"
    },
    "tags": []
   },
   "outputs": [],
   "source": [
    "np.array(diff_amoc26_u03ssp245bgc_array).tofile(\n",
    "    '/work/uo1075/m300817/carbon_amoc/files/diff_amoc26.5N_u03ssp245bgcLR.csv', sep=',')"
   ]
  },
  {
   "cell_type": "code",
   "execution_count": 55,
   "id": "6e89de42-38cc-465a-b54d-199753e6e83c",
   "metadata": {
    "execution": {
     "iopub.execute_input": "2024-08-20T16:23:59.011947Z",
     "iopub.status.busy": "2024-08-20T16:23:59.011443Z",
     "iopub.status.idle": "2024-08-20T16:23:59.017932Z",
     "shell.execute_reply": "2024-08-20T16:23:59.017369Z",
     "shell.execute_reply.started": "2024-08-20T16:23:59.011927Z"
    },
    "tags": []
   },
   "outputs": [],
   "source": [
    "np.array(diff_amoc26_u01ssp245bgc_array).tofile(\n",
    "    '/work/uo1075/m300817/carbon_amoc/files/diff_amoc26.5N_u01ssp245bgcLR.csv', sep=',')"
   ]
  },
  {
   "cell_type": "code",
   "execution_count": 56,
   "id": "5612ec5d-e961-4083-a849-5acbb7ae7a89",
   "metadata": {
    "execution": {
     "iopub.execute_input": "2024-08-20T16:23:59.480158Z",
     "iopub.status.busy": "2024-08-20T16:23:59.479689Z",
     "iopub.status.idle": "2024-08-20T16:23:59.484115Z",
     "shell.execute_reply": "2024-08-20T16:23:59.483547Z",
     "shell.execute_reply.started": "2024-08-20T16:23:59.480139Z"
    },
    "tags": []
   },
   "outputs": [],
   "source": [
    "np.array(diff_amoc26_g01ssp245bgc_array).tofile(\n",
    "    '/work/uo1075/m300817/carbon_amoc/files/diff_amoc26.5N_g01ssp245bgcLR.csv', sep=',')"
   ]
  },
  {
   "cell_type": "code",
   "execution_count": 57,
   "id": "65da1e3e-cb93-4eef-b672-5dd87f1dd73d",
   "metadata": {
    "execution": {
     "iopub.execute_input": "2024-08-20T16:23:59.944463Z",
     "iopub.status.busy": "2024-08-20T16:23:59.944116Z",
     "iopub.status.idle": "2024-08-20T16:23:59.949620Z",
     "shell.execute_reply": "2024-08-20T16:23:59.949074Z",
     "shell.execute_reply.started": "2024-08-20T16:23:59.944438Z"
    },
    "tags": []
   },
   "outputs": [],
   "source": [
    "np.array(diff_amoc26_g03ssp245bgc_array).tofile(\n",
    "    '/work/uo1075/m300817/carbon_amoc/files/diff_amoc26.5N_g03ssp245bgcLR.csv', sep=',')"
   ]
  },
  {
   "cell_type": "code",
   "execution_count": 58,
   "id": "bf3d49d0-b626-4385-83c7-bdc1aa1f871f",
   "metadata": {
    "execution": {
     "iopub.execute_input": "2024-08-20T16:24:00.772520Z",
     "iopub.status.busy": "2024-08-20T16:24:00.772250Z",
     "iopub.status.idle": "2024-08-20T16:24:00.778402Z",
     "shell.execute_reply": "2024-08-20T16:24:00.777832Z",
     "shell.execute_reply.started": "2024-08-20T16:24:00.772501Z"
    },
    "tags": []
   },
   "outputs": [],
   "source": [
    "np.array(diff_amoc26_g05ssp245bgc_array).tofile(\n",
    "    '/work/uo1075/m300817/carbon_amoc/files/diff_amoc26.5N_g05ssp245bgcLR.csv', sep=',')"
   ]
  },
  {
   "cell_type": "code",
   "execution_count": 59,
   "id": "109b6aa9-6089-4cc5-81c7-2958b64b481a",
   "metadata": {
    "execution": {
     "iopub.execute_input": "2024-08-20T16:24:01.912956Z",
     "iopub.status.busy": "2024-08-20T16:24:01.912434Z",
     "iopub.status.idle": "2024-08-20T16:24:01.917979Z",
     "shell.execute_reply": "2024-08-20T16:24:01.917394Z",
     "shell.execute_reply.started": "2024-08-20T16:24:01.912936Z"
    },
    "tags": []
   },
   "outputs": [],
   "source": [
    "np.array(diff_amoc26_ssp245bgc_array).tofile(\n",
    "    '/work/uo1075/m300817/carbon_amoc/files/diff_amoc26.5N_ssp245bgcLR.csv', sep=',')"
   ]
  },
  {
   "cell_type": "code",
   "execution_count": 60,
   "id": "cddfd1b6-4804-428b-b8e5-43a59634d200",
   "metadata": {
    "execution": {
     "iopub.execute_input": "2024-08-20T16:24:03.278996Z",
     "iopub.status.busy": "2024-08-20T16:24:03.278579Z",
     "iopub.status.idle": "2024-08-20T16:24:03.354447Z",
     "shell.execute_reply": "2024-08-20T16:24:03.353862Z",
     "shell.execute_reply.started": "2024-08-20T16:24:03.278974Z"
    },
    "tags": []
   },
   "outputs": [],
   "source": [
    "amoc26_u05ssp245bgc_yearly.year.values.tofile(\n",
    "    '/work/uo1075/m300817/carbon_amoc/files/time.csv', sep=',')"
   ]
  },
  {
   "cell_type": "markdown",
   "id": "28df0209-23af-4345-bcf0-dec4d16effac",
   "metadata": {},
   "source": [
    "# Country masks"
   ]
  },
  {
   "cell_type": "code",
   "execution_count": null,
   "id": "39bff61f-afa5-4ba1-9ead-1bbe78343d2e",
   "metadata": {},
   "outputs": [],
   "source": [
    "# Use kernel \"env_24\", as regionmask is not installed in the default environments"
   ]
  },
  {
   "cell_type": "code",
   "execution_count": 1,
   "id": "b6a9fe61-350d-4d27-8912-804c819e0dae",
   "metadata": {
    "execution": {
     "iopub.execute_input": "2024-06-20T16:14:54.907389Z",
     "iopub.status.busy": "2024-06-20T16:14:54.906975Z",
     "iopub.status.idle": "2024-06-20T16:15:50.122815Z",
     "shell.execute_reply": "2024-06-20T16:15:50.121967Z",
     "shell.execute_reply.started": "2024-06-20T16:14:54.907361Z"
    },
    "tags": []
   },
   "outputs": [],
   "source": [
    "import xarray as xr\n",
    "import numpy as np\n",
    "import dask\n",
    "import glob\n",
    "import matplotlib.pyplot as plt\n",
    "import matplotlib as mpl\n",
    "import cartopy.crs as ccrs\n",
    "import os; os.environ['PROJ_LIB'] = '/work/uo1075/m300817/phd/conda/share/proj'\n",
    "#import regionmask\n",
    "import cdo # Import Cdo-py\n",
    "cdo = cdo.Cdo(tempdir='/scratch/m/m300817/tmp/cdo-py') # change this to a directory in your scratch\n",
    "import zlib\n",
    "from tqdm import tqdm\n",
    "import regionmask\n",
    "import cf_xarray\n",
    "import pickle"
   ]
  },
  {
   "cell_type": "code",
   "execution_count": 2,
   "id": "5b863151-c8c5-421a-b3fc-2b477096b38b",
   "metadata": {
    "execution": {
     "iopub.execute_input": "2024-03-14T16:27:06.701561Z",
     "iopub.status.busy": "2024-03-14T16:27:06.700907Z",
     "iopub.status.idle": "2024-03-14T16:27:59.057458Z",
     "shell.execute_reply": "2024-03-14T16:27:59.056629Z",
     "shell.execute_reply.started": "2024-03-14T16:27:06.701535Z"
    },
    "tags": []
   },
   "outputs": [],
   "source": [
    "ds_tas_new = {}\n",
    "for exp in [\"hosing_naa03Sv_1pctbgc-LR\", \"hosing_naa05Sv_1pctbgc-LR\", \"hosing_grc01Sv_1pctbgc-LR\", \"hosing_naa03Sv_1pct-LR\", \"hosing_naa05Sv_1pct-LR\"]:\n",
    "    ifiles  = f\"/scratch/m/m300817/tmp/{exp}_echam6_echam_*.nc\"\n",
    "    ds_tas_new[exp] = xr.open_mfdataset(ifiles, use_cftime=True)\n",
    "    ds_tas_new[exp] = ds_tas_new[exp].assign_coords(time=xr.cftime_range(start=\"1850\", periods=1680, freq=\"M\", calendar=\"proleptic_gregorian\"))"
   ]
  },
  {
   "cell_type": "code",
   "execution_count": 3,
   "id": "7c3b9447-0c63-4c3f-ab55-b83740b674d0",
   "metadata": {
    "execution": {
     "iopub.execute_input": "2024-03-14T16:27:59.058847Z",
     "iopub.status.busy": "2024-03-14T16:27:59.058436Z",
     "iopub.status.idle": "2024-03-14T16:28:00.468966Z",
     "shell.execute_reply": "2024-03-14T16:28:00.468216Z",
     "shell.execute_reply.started": "2024-03-14T16:27:59.058824Z"
    },
    "tags": []
   },
   "outputs": [],
   "source": [
    "keys_countries={}\n",
    "for i in range(0, 177):\n",
    "    keys_countries[i]=regionmask.defined_regions.natural_earth_v5_0_0.countries_110.names[i]"
   ]
  },
  {
   "cell_type": "code",
   "execution_count": null,
   "id": "c0b4de0d-84fe-436b-8a0e-eced7054fdfe",
   "metadata": {
    "collapsed": true,
    "execution": {
     "iopub.execute_input": "2024-03-12T21:48:56.383488Z",
     "iopub.status.busy": "2024-03-12T21:48:56.383010Z",
     "iopub.status.idle": "2024-03-12T21:48:56.402263Z",
     "shell.execute_reply": "2024-03-12T21:48:56.401644Z",
     "shell.execute_reply.started": "2024-03-12T21:48:56.383462Z"
    },
    "jupyter": {
     "outputs_hidden": true
    },
    "tags": []
   },
   "outputs": [],
   "source": [
    "keys_countries "
   ]
  },
  {
   "cell_type": "code",
   "execution_count": 4,
   "id": "d4a45ecb-7850-466f-907b-9569ae479308",
   "metadata": {
    "execution": {
     "iopub.execute_input": "2024-03-14T16:28:00.470705Z",
     "iopub.status.busy": "2024-03-14T16:28:00.470482Z",
     "iopub.status.idle": "2024-03-14T16:28:02.584270Z",
     "shell.execute_reply": "2024-03-14T16:28:02.583438Z",
     "shell.execute_reply.started": "2024-03-14T16:28:00.470683Z"
    },
    "tags": []
   },
   "outputs": [],
   "source": [
    "ds_tas_new_yearly = {}\n",
    "for exp in [\"hosing_naa03Sv_1pctbgc-LR\", \"hosing_naa05Sv_1pctbgc-LR\", \"hosing_grc01Sv_1pctbgc-LR\", \"hosing_naa03Sv_1pct-LR\", \"hosing_naa05Sv_1pct-LR\"]:\n",
    "    ds_tas_new_yearly[exp] = ds_tas_new[exp].groupby('time.year').mean('time')"
   ]
  },
  {
   "cell_type": "code",
   "execution_count": 5,
   "id": "9d116388-7bd1-4dc5-9a10-1e0b798c5045",
   "metadata": {
    "execution": {
     "iopub.execute_input": "2024-03-14T16:28:02.585583Z",
     "iopub.status.busy": "2024-03-14T16:28:02.585354Z",
     "iopub.status.idle": "2024-03-14T16:28:14.163442Z",
     "shell.execute_reply": "2024-03-14T16:28:14.162461Z",
     "shell.execute_reply.started": "2024-03-14T16:28:02.585561Z"
    },
    "tags": []
   },
   "outputs": [],
   "source": [
    "for exp in [\"hosing_naa03Sv_1pctbgc-LR\", \"hosing_naa05Sv_1pctbgc-LR\", \"hosing_grc01Sv_1pctbgc-LR\", \"hosing_naa03Sv_1pct-LR\", \"hosing_naa05Sv_1pct-LR\"]:\n",
    "    ds_tas_new_yearly[exp].load()"
   ]
  },
  {
   "cell_type": "code",
   "execution_count": 6,
   "id": "8a60a4c4-ef2a-4271-8702-f202d51a1794",
   "metadata": {
    "execution": {
     "iopub.execute_input": "2024-03-14T16:28:14.165085Z",
     "iopub.status.busy": "2024-03-14T16:28:14.164639Z",
     "iopub.status.idle": "2024-03-14T16:28:28.278567Z",
     "shell.execute_reply": "2024-03-14T16:28:28.277628Z",
     "shell.execute_reply.started": "2024-03-14T16:28:14.165061Z"
    },
    "tags": []
   },
   "outputs": [],
   "source": [
    "tas_series_countries = {}\n",
    "for exp in ds_tas_new.keys():\n",
    "    mask = regionmask.defined_regions.natural_earth_v5_0_0.countries_110.mask(ds_tas_new[exp])\n",
    "    tas_series_countries[exp] = {}\n",
    "    for i in range(0, 177):\n",
    "        mask_country = mask == i\n",
    "        tas_series_countries[exp][i] = ds_tas_new_yearly[exp].where(mask_country).mean(dim='lon').mean(dim='lat').temp2"
   ]
  },
  {
   "cell_type": "code",
   "execution_count": 27,
   "id": "44e4a0ab-ae23-4b6c-800f-8ef5affae838",
   "metadata": {
    "execution": {
     "iopub.execute_input": "2024-03-13T12:11:10.110142Z",
     "iopub.status.busy": "2024-03-13T12:11:10.109584Z",
     "iopub.status.idle": "2024-03-13T12:11:10.185595Z",
     "shell.execute_reply": "2024-03-13T12:11:10.184795Z",
     "shell.execute_reply.started": "2024-03-13T12:11:10.110115Z"
    },
    "tags": []
   },
   "outputs": [],
   "source": [
    "with open('/work/uo1075/m300817/carbon_amoc/files/tas_series_countries.pkl', 'wb') as f:\n",
    "    pickle.dump(tas_series_countries, f)"
   ]
  },
  {
   "cell_type": "code",
   "execution_count": null,
   "id": "cfb58ac7-6c13-475f-a87e-dcfa32ca9198",
   "metadata": {
    "collapsed": true,
    "execution": {
     "iopub.execute_input": "2024-03-13T11:58:32.506457Z",
     "iopub.status.busy": "2024-03-13T11:58:32.505892Z",
     "iopub.status.idle": "2024-03-13T11:58:32.770228Z",
     "shell.execute_reply": "2024-03-13T11:58:32.769488Z",
     "shell.execute_reply.started": "2024-03-13T11:58:32.506429Z"
    },
    "jupyter": {
     "outputs_hidden": true
    },
    "tags": []
   },
   "outputs": [],
   "source": [
    "mask.plot()"
   ]
  },
  {
   "cell_type": "code",
   "execution_count": null,
   "id": "50be3f87-58f2-41e7-a8f3-0b9b417a3707",
   "metadata": {
    "collapsed": true,
    "execution": {
     "iopub.execute_input": "2024-03-12T22:28:27.381831Z",
     "iopub.status.busy": "2024-03-12T22:28:27.381245Z",
     "iopub.status.idle": "2024-03-12T22:28:38.879211Z",
     "shell.execute_reply": "2024-03-12T22:28:38.878376Z",
     "shell.execute_reply.started": "2024-03-12T22:28:27.381805Z"
    },
    "jupyter": {
     "outputs_hidden": true
    },
    "tags": []
   },
   "outputs": [],
   "source": [
    "for i in range(0, 177):\n",
    "    plt.plot(tas_series_countries['hosing_naa03Sv_1pctbgc-LR'][i].year,\n",
    "             tas_series_countries['hosing_naa03Sv_1pctbgc-LR'][i].values-273.15, label=keys_countries[i])\n",
    "    plt.ylabel(\"T(°C)\")\n",
    "    plt.xlabel(\"Year\")\n",
    "    plt.legend()"
   ]
  },
  {
   "cell_type": "code",
   "execution_count": null,
   "id": "ca40be73-1f1a-444a-865b-761b74cb1af6",
   "metadata": {
    "execution": {
     "iopub.execute_input": "2024-03-12T22:29:10.144721Z",
     "iopub.status.busy": "2024-03-12T22:29:10.144160Z",
     "iopub.status.idle": "2024-03-12T22:29:10.495478Z",
     "shell.execute_reply": "2024-03-12T22:29:10.494736Z",
     "shell.execute_reply.started": "2024-03-12T22:29:10.144695Z"
    },
    "tags": []
   },
   "outputs": [],
   "source": [
    "for i in range(0, 177):\n",
    "    plt.plot(tas_series_countries['hosing_naa03Sv_1pctbgc-LR'][i].year,\n",
    "             tas_series_countries['hosing_naa03Sv_1pctbgc-LR'][i].values-273.15, label=keys_countries[i])\n",
    "    plt.ylabel(\"T(°C)\")\n",
    "    plt.xlabel(\"Year\")\n",
    "    #plt.legend()"
   ]
  },
  {
   "cell_type": "code",
   "execution_count": null,
   "id": "0d10d6e8-4fa2-4857-b3fa-c43487712b8d",
   "metadata": {
    "execution": {
     "iopub.execute_input": "2024-03-12T22:29:40.565998Z",
     "iopub.status.busy": "2024-03-12T22:29:40.565504Z",
     "iopub.status.idle": "2024-03-12T22:29:41.192354Z",
     "shell.execute_reply": "2024-03-12T22:29:41.191690Z",
     "shell.execute_reply.started": "2024-03-12T22:29:40.565973Z"
    },
    "tags": []
   },
   "outputs": [],
   "source": [
    "for i in range(0, 177):\n",
    "    plt.plot(tas_series_countries['hosing_naa03Sv_1pct-LR'][i].year,\n",
    "             tas_series_countries['hosing_naa03Sv_1pct-LR'][i].values-273.15, label=keys_countries[i])\n",
    "    plt.ylabel(\"T(°C)\")\n",
    "    plt.xlabel(\"Year\")\n",
    "    #plt.legend()"
   ]
  },
  {
   "cell_type": "code",
   "execution_count": 9,
   "id": "4b7d892d-e953-45a4-ab17-9085abb23408",
   "metadata": {
    "execution": {
     "iopub.execute_input": "2024-03-14T16:39:21.178914Z",
     "iopub.status.busy": "2024-03-14T16:39:21.178353Z",
     "iopub.status.idle": "2024-03-14T16:39:28.672876Z",
     "shell.execute_reply": "2024-03-14T16:39:28.672008Z",
     "shell.execute_reply.started": "2024-03-14T16:39:21.178889Z"
    },
    "tags": []
   },
   "outputs": [],
   "source": [
    "tas_timemean_countries = {}\n",
    "for exp in ds_tas_new.keys():\n",
    "    mask = regionmask.defined_regions.natural_earth_v5_0_0.countries_110.mask(ds_tas_new[exp])\n",
    "    tas_timemean_countries[exp] = {}\n",
    "    for i in range(0, 177):\n",
    "        mask_country = mask == i\n",
    "        tas_timemean_countries[exp][i] = ds_tas_new_yearly[exp].where(mask_country).mean(dim='year').temp2"
   ]
  },
  {
   "cell_type": "code",
   "execution_count": null,
   "id": "37a1b41e-b733-479b-b1a6-629ac7f4cfd9",
   "metadata": {
    "collapsed": true,
    "execution": {
     "iopub.execute_input": "2024-03-13T06:27:53.624736Z",
     "iopub.status.busy": "2024-03-13T06:27:53.624119Z",
     "iopub.status.idle": "2024-03-13T06:28:27.194432Z",
     "shell.execute_reply": "2024-03-13T06:28:27.193595Z",
     "shell.execute_reply.started": "2024-03-13T06:27:53.624707Z"
    },
    "jupyter": {
     "outputs_hidden": true
    },
    "tags": []
   },
   "outputs": [],
   "source": [
    "for i in range(0, 177):\n",
    "    plt.figure(figsize=(9, 6))\n",
    "    ax = plt.axes(projection=ccrs.Robinson(central_longitude=-60))\n",
    "    ax.set_global()\n",
    "    tas_timemean_countries['hosing_naa03Sv_1pct-LR'][i].plot.pcolormesh(\n",
    "    ax=ax, transform=ccrs.PlateCarree(), x=\"lon\", y=\"lat\", cmap='RdBu_r', vmin=260,  vmax=305)\n",
    "ax.coastlines()\n",
    "#ax.set_title(\"\") "
   ]
  },
  {
   "cell_type": "code",
   "execution_count": null,
   "id": "00bebe50-f1c4-49fc-a93f-31c3262e0e9a",
   "metadata": {},
   "outputs": [],
   "source": []
  },
  {
   "cell_type": "markdown",
   "id": "d71a4f12-ae41-4669-a3a8-488893914738",
   "metadata": {},
   "source": [
    "now try to do in xarray and then to pandas"
   ]
  },
  {
   "cell_type": "code",
   "execution_count": 10,
   "id": "f0e67579-29c7-4831-b08e-33611a72a7f9",
   "metadata": {
    "execution": {
     "iopub.execute_input": "2024-03-14T16:39:42.753989Z",
     "iopub.status.busy": "2024-03-14T16:39:42.753451Z",
     "iopub.status.idle": "2024-03-14T16:39:50.765701Z",
     "shell.execute_reply": "2024-03-14T16:39:50.764807Z",
     "shell.execute_reply.started": "2024-03-14T16:39:42.753964Z"
    },
    "tags": []
   },
   "outputs": [],
   "source": [
    "tas_series_countries = {}\n",
    "for exp in ds_tas_new.keys():\n",
    "    mask = regionmask.defined_regions.natural_earth_v5_0_0.countries_110.mask(ds_tas_new[exp])\n",
    "    tas_series_countries[exp] = {}\n",
    "    for i in range(0, 177):\n",
    "        mask_country = mask == i\n",
    "        tas_series_countries[exp][keys_countries[i]] = ds_tas_new_yearly[exp].where(mask_country).mean(dim='lon').mean(dim='lat').temp2.values"
   ]
  },
  {
   "cell_type": "code",
   "execution_count": 7,
   "id": "e40c2d1e-8c6f-47a5-b047-acb9e8b23233",
   "metadata": {
    "execution": {
     "iopub.execute_input": "2024-03-14T16:38:02.745690Z",
     "iopub.status.busy": "2024-03-14T16:38:02.745132Z",
     "iopub.status.idle": "2024-03-14T16:38:02.749510Z",
     "shell.execute_reply": "2024-03-14T16:38:02.748767Z",
     "shell.execute_reply.started": "2024-03-14T16:38:02.745664Z"
    },
    "tags": []
   },
   "outputs": [],
   "source": [
    "import pandas as pd"
   ]
  },
  {
   "cell_type": "code",
   "execution_count": 13,
   "id": "49b876fd-c9c5-45c5-8953-7f3c0cd92c7f",
   "metadata": {
    "execution": {
     "iopub.execute_input": "2024-03-14T16:42:13.256382Z",
     "iopub.status.busy": "2024-03-14T16:42:13.255815Z",
     "iopub.status.idle": "2024-03-14T16:42:13.260991Z",
     "shell.execute_reply": "2024-03-14T16:42:13.260257Z",
     "shell.execute_reply.started": "2024-03-14T16:42:13.256356Z"
    },
    "tags": []
   },
   "outputs": [],
   "source": [
    "tas_countries_series_pandas_newexp = pd.DataFrame.from_dict(tas_series_countries)"
   ]
  },
  {
   "cell_type": "code",
   "execution_count": null,
   "id": "10a29d90-987e-4f1a-806a-637747474d1b",
   "metadata": {
    "execution": {
     "iopub.execute_input": "2024-03-14T16:45:27.912192Z",
     "iopub.status.busy": "2024-03-14T16:45:27.911841Z",
     "iopub.status.idle": "2024-03-14T16:45:27.954559Z",
     "shell.execute_reply": "2024-03-14T16:45:27.953690Z",
     "shell.execute_reply.started": "2024-03-14T16:45:27.912167Z"
    },
    "tags": []
   },
   "outputs": [],
   "source": [
    "tas_countries_series_pandas_newexp"
   ]
  },
  {
   "cell_type": "code",
   "execution_count": 14,
   "id": "880b0369-bac1-4ecc-aa67-7001d5c1b16d",
   "metadata": {
    "execution": {
     "iopub.execute_input": "2024-03-14T16:42:30.600681Z",
     "iopub.status.busy": "2024-03-14T16:42:30.600140Z",
     "iopub.status.idle": "2024-03-14T16:42:31.348868Z",
     "shell.execute_reply": "2024-03-14T16:42:31.348107Z",
     "shell.execute_reply.started": "2024-03-14T16:42:30.600655Z"
    }
   },
   "outputs": [],
   "source": [
    "tas_countries_series_pandas_newexp.to_csv('/work/uo1075/m300817/carbon_amoc/files/tas_countries_series_pandas_newexp.csv')"
   ]
  },
  {
   "cell_type": "markdown",
   "id": "f6f66e0b-639f-4ad3-b241-622bea34cbcd",
   "metadata": {},
   "source": [
    "Now for 1pctbgc (cmor)"
   ]
  },
  {
   "cell_type": "code",
   "execution_count": 15,
   "id": "8b58c906-b5bd-4b10-a20c-b0bddd4302ac",
   "metadata": {
    "execution": {
     "iopub.execute_input": "2024-03-14T16:42:42.203452Z",
     "iopub.status.busy": "2024-03-14T16:42:42.202915Z",
     "iopub.status.idle": "2024-03-14T16:42:45.808585Z",
     "shell.execute_reply": "2024-03-14T16:42:45.807740Z",
     "shell.execute_reply.started": "2024-03-14T16:42:42.203425Z"
    },
    "tags": []
   },
   "outputs": [],
   "source": [
    "# Load tas in 1pctCO2-bgc\n",
    "file_type = 'tas'\n",
    "infiles = glob.glob(f'/pool/data/CMIP6/data/C4MIP/MPI-M/MPI-ESM1-2-LR/1pctCO2-bgc/r1i1p1f1/Amon/{file_type}/gn/v20190710/*{file_type}*.nc')\n",
    "ds_tas_1pctbgc = xr.open_mfdataset(infiles, use_cftime=True, parallel=True)"
   ]
  },
  {
   "cell_type": "code",
   "execution_count": 16,
   "id": "50596796-3d38-4b18-82c4-cd129440348d",
   "metadata": {
    "execution": {
     "iopub.execute_input": "2024-03-14T16:42:45.810356Z",
     "iopub.status.busy": "2024-03-14T16:42:45.809942Z",
     "iopub.status.idle": "2024-03-14T16:42:46.058777Z",
     "shell.execute_reply": "2024-03-14T16:42:46.058039Z",
     "shell.execute_reply.started": "2024-03-14T16:42:45.810324Z"
    },
    "tags": []
   },
   "outputs": [],
   "source": [
    "ds_tas_1pctbgc_yearly = ds_tas_1pctbgc.groupby('time.year').mean('time')"
   ]
  },
  {
   "cell_type": "code",
   "execution_count": null,
   "id": "d877f574-142e-40a1-a573-1eec41600f00",
   "metadata": {
    "collapsed": true,
    "execution": {
     "iopub.execute_input": "2024-03-14T16:42:46.060216Z",
     "iopub.status.busy": "2024-03-14T16:42:46.059661Z",
     "iopub.status.idle": "2024-03-14T16:42:50.841280Z",
     "shell.execute_reply": "2024-03-14T16:42:50.840458Z",
     "shell.execute_reply.started": "2024-03-14T16:42:46.060192Z"
    },
    "jupyter": {
     "outputs_hidden": true
    },
    "tags": []
   },
   "outputs": [],
   "source": [
    "ds_tas_1pctbgc_yearly.load()"
   ]
  },
  {
   "cell_type": "code",
   "execution_count": 21,
   "id": "f8d0cc9c-f321-4b4f-aa5c-9ac32e8f98ce",
   "metadata": {
    "execution": {
     "iopub.execute_input": "2024-03-13T12:07:35.472769Z",
     "iopub.status.busy": "2024-03-13T12:07:35.472211Z",
     "iopub.status.idle": "2024-03-13T12:07:56.947510Z",
     "shell.execute_reply": "2024-03-13T12:07:56.946506Z",
     "shell.execute_reply.started": "2024-03-13T12:07:35.472740Z"
    },
    "tags": []
   },
   "outputs": [],
   "source": [
    "tas_series_countries_cmor = {}\n",
    "for exp in ['1pctbgc']:\n",
    "    mask = regionmask.defined_regions.natural_earth_v5_0_0.countries_110.mask(ds_tas_1pctbgc_yearly)\n",
    "    tas_series_countries_cmor[exp] = {}\n",
    "    for i in range(0, 177):\n",
    "        mask_country = mask == i\n",
    "        tas_series_countries_cmor[exp][i] = ds_tas_1pctbgc_yearly.where(mask_country).mean(dim='lon').mean(dim='lat').tas"
   ]
  },
  {
   "cell_type": "code",
   "execution_count": null,
   "id": "638a534a-3a25-4d68-9f8a-77fd17e824c7",
   "metadata": {
    "collapsed": true,
    "execution": {
     "iopub.execute_input": "2024-03-13T12:08:20.394448Z",
     "iopub.status.busy": "2024-03-13T12:08:20.393803Z",
     "iopub.status.idle": "2024-03-13T12:08:20.405142Z",
     "shell.execute_reply": "2024-03-13T12:08:20.404577Z",
     "shell.execute_reply.started": "2024-03-13T12:08:20.394422Z"
    },
    "jupyter": {
     "outputs_hidden": true
    },
    "tags": []
   },
   "outputs": [],
   "source": [
    "tas_series_countries_cmor['1pctbgc'][0]"
   ]
  },
  {
   "cell_type": "code",
   "execution_count": 26,
   "id": "cf2b38f4-8512-42ca-b117-15803d926fb6",
   "metadata": {
    "execution": {
     "iopub.execute_input": "2024-03-13T12:10:26.231647Z",
     "iopub.status.busy": "2024-03-13T12:10:26.231094Z",
     "iopub.status.idle": "2024-03-13T12:10:26.246267Z",
     "shell.execute_reply": "2024-03-13T12:10:26.245488Z",
     "shell.execute_reply.started": "2024-03-13T12:10:26.231618Z"
    },
    "tags": []
   },
   "outputs": [],
   "source": [
    "with open('/work/uo1075/m300817/carbon_amoc/files/tas_series_countries_cmor.pkl', 'wb') as f:\n",
    "    pickle.dump(tas_series_countries_cmor, f)"
   ]
  },
  {
   "cell_type": "code",
   "execution_count": 18,
   "id": "0077c904-41fb-40e4-b12d-cd9158247f33",
   "metadata": {
    "execution": {
     "iopub.execute_input": "2024-03-14T16:43:03.635915Z",
     "iopub.status.busy": "2024-03-14T16:43:03.635297Z",
     "iopub.status.idle": "2024-03-14T16:43:03.639451Z",
     "shell.execute_reply": "2024-03-14T16:43:03.638701Z",
     "shell.execute_reply.started": "2024-03-14T16:43:03.635888Z"
    },
    "tags": []
   },
   "outputs": [],
   "source": [
    "# now in pandas"
   ]
  },
  {
   "cell_type": "code",
   "execution_count": 19,
   "id": "c7c64e94-4ca6-4163-8885-4750a45447c7",
   "metadata": {
    "execution": {
     "iopub.execute_input": "2024-03-14T16:43:45.327998Z",
     "iopub.status.busy": "2024-03-14T16:43:45.327444Z",
     "iopub.status.idle": "2024-03-14T16:44:06.272135Z",
     "shell.execute_reply": "2024-03-14T16:44:06.271186Z",
     "shell.execute_reply.started": "2024-03-14T16:43:45.327972Z"
    },
    "tags": []
   },
   "outputs": [],
   "source": [
    "tas_series_countries_cmor = {}\n",
    "for exp in ['1pctbgc']:\n",
    "    mask = regionmask.defined_regions.natural_earth_v5_0_0.countries_110.mask(ds_tas_1pctbgc_yearly)\n",
    "    tas_series_countries_cmor[exp] = {}\n",
    "    for i in range(0, 177):\n",
    "        mask_country = mask == i\n",
    "        tas_series_countries_cmor[exp][keys_countries[i]] = ds_tas_1pctbgc_yearly.where(mask_country).mean(dim='lon').mean(dim='lat').tas.values"
   ]
  },
  {
   "cell_type": "code",
   "execution_count": 22,
   "id": "5baffc98-8876-4bba-9343-eb3edea58cba",
   "metadata": {
    "execution": {
     "iopub.execute_input": "2024-03-14T16:44:59.935824Z",
     "iopub.status.busy": "2024-03-14T16:44:59.935273Z",
     "iopub.status.idle": "2024-03-14T16:44:59.940103Z",
     "shell.execute_reply": "2024-03-14T16:44:59.939360Z",
     "shell.execute_reply.started": "2024-03-14T16:44:59.935797Z"
    },
    "tags": []
   },
   "outputs": [],
   "source": [
    "tas_countries_series_pandas_1pctbgc = pd.DataFrame.from_dict(tas_series_countries_cmor)"
   ]
  },
  {
   "cell_type": "code",
   "execution_count": 34,
   "id": "b7c9edcc-5649-43df-9cb5-7bb63df0b2c4",
   "metadata": {
    "execution": {
     "iopub.execute_input": "2024-03-14T16:48:43.624694Z",
     "iopub.status.busy": "2024-03-14T16:48:43.624139Z",
     "iopub.status.idle": "2024-03-14T16:48:43.763082Z",
     "shell.execute_reply": "2024-03-14T16:48:43.762319Z",
     "shell.execute_reply.started": "2024-03-14T16:48:43.624668Z"
    },
    "tags": []
   },
   "outputs": [],
   "source": [
    "tas_countries_series_pandas_1pctbgc.to_csv('/work/uo1075/m300817/carbon_amoc/files/tas_countries_series_pandas_1pctbgc.csv')"
   ]
  },
  {
   "cell_type": "markdown",
   "id": "d6302b5f-9eb4-403f-9560-939cc7a15b42",
   "metadata": {},
   "source": [
    "# SSPs in CMIP6 models"
   ]
  },
  {
   "cell_type": "markdown",
   "id": "1e6c431d-9411-435a-ab70-974ef2e5cc5a",
   "metadata": {},
   "source": [
    "## ssp245"
   ]
  },
  {
   "cell_type": "code",
   "execution_count": 36,
   "id": "39c472e5-674b-4ac0-b9e3-fe11bd0520fe",
   "metadata": {
    "execution": {
     "iopub.execute_input": "2024-08-30T09:54:04.791331Z",
     "iopub.status.busy": "2024-08-30T09:54:04.790801Z",
     "iopub.status.idle": "2024-08-30T09:54:04.795002Z",
     "shell.execute_reply": "2024-08-30T09:54:04.794248Z",
     "shell.execute_reply.started": "2024-08-30T09:54:04.791305Z"
    },
    "tags": []
   },
   "outputs": [],
   "source": [
    "# Paths for ssp245 scenario\n",
    "paths={'MPI-ESM1.2-LR':'/work/ik1017/CMIP6/data/CMIP6/ScenarioMIP/MPI-M/MPI-ESM1-2-LR/ssp245/',\n",
    "      }"
   ]
  },
  {
   "cell_type": "markdown",
   "id": "7f676d79-29d6-4136-8465-6a6f7198e21a",
   "metadata": {},
   "source": [
    "MPI-ESM1.2-LR"
   ]
  },
  {
   "cell_type": "code",
   "execution_count": 37,
   "id": "40e0f793-037c-4e7a-bf83-ab3b04289943",
   "metadata": {
    "execution": {
     "iopub.execute_input": "2024-08-30T09:54:07.785312Z",
     "iopub.status.busy": "2024-08-30T09:54:07.784869Z",
     "iopub.status.idle": "2024-08-30T09:54:25.007776Z",
     "shell.execute_reply": "2024-08-30T09:54:25.006778Z",
     "shell.execute_reply.started": "2024-08-30T09:54:07.785282Z"
    },
    "tags": []
   },
   "outputs": [],
   "source": [
    "array = []\n",
    "for i in range(1,51):\n",
    "    rea = \"r\"+str(i)+\"i1p1f1\"\n",
    "    infiles = glob.glob(f'{paths[\"MPI-ESM1.2-LR\"]}/{rea}/Omon/msftmz/gn/**/*.nc', recursive=True)\n",
    "    array.append(xr.open_mfdataset(infiles, use_cftime=True, data_vars=\"minimal\", coords=\"minimal\", compat=\"override\", parallel=True).assign_coords(realiz=rea))\n",
    "msftmz_mpiesmlr = xr.concat(array, dim='realiz')"
   ]
  },
  {
   "cell_type": "code",
   "execution_count": null,
   "id": "63a56d0e-7b2e-4bf8-9081-360e82c0ec48",
   "metadata": {
    "execution": {
     "iopub.execute_input": "2024-08-30T07:34:51.731313Z",
     "iopub.status.busy": "2024-08-30T07:34:51.730772Z",
     "iopub.status.idle": "2024-08-30T07:35:25.826848Z",
     "shell.execute_reply": "2024-08-30T07:35:25.826268Z",
     "shell.execute_reply.started": "2024-08-30T07:34:51.731278Z"
    }
   },
   "outputs": [],
   "source": [
    "year_amoc= weighted_mon_to_year_mean(msftmz_mpiesmlr.sel(lat=26.5).sel(lev=1020).isel(basin=1), 'msftmz')/(1025.0 * 10**6)\n",
    "for r in range(50):\n",
    "    year_amoc.isel(realiz=r).plot()"
   ]
  },
  {
   "cell_type": "code",
   "execution_count": 38,
   "id": "3940b074-811a-4a98-a20b-b52cd769fdd6",
   "metadata": {
    "execution": {
     "iopub.execute_input": "2024-08-30T09:54:25.009732Z",
     "iopub.status.busy": "2024-08-30T09:54:25.009384Z",
     "iopub.status.idle": "2024-08-30T09:54:27.499263Z",
     "shell.execute_reply": "2024-08-30T09:54:27.498348Z",
     "shell.execute_reply.started": "2024-08-30T09:54:25.009709Z"
    }
   },
   "outputs": [],
   "source": [
    "msftmz_mpiesmlr_mean = (weighted_mon_to_year_mean(msftmz_mpiesmlr.sel(lat=26.5).sel(lev=1020).isel(basin=1), 'msftmz').mean(dim=\"realiz\"))/(1025.0 * 10**6)\n",
    "msftmz_mpiesmlr_std = (weighted_mon_to_year_mean(msftmz_mpiesmlr.sel(lat=26.5).sel(lev=1020).isel(basin=1), 'msftmz').std(dim=\"realiz\"))/(1025.0 * 10**6)"
   ]
  },
  {
   "cell_type": "code",
   "execution_count": null,
   "id": "213ac7e0-04f0-422c-a2fd-50c68bfc6d6c",
   "metadata": {
    "execution": {
     "iopub.execute_input": "2024-08-30T08:55:27.215513Z",
     "iopub.status.busy": "2024-08-30T08:55:27.215159Z",
     "iopub.status.idle": "2024-08-30T08:59:53.844558Z",
     "shell.execute_reply": "2024-08-30T08:59:53.843821Z",
     "shell.execute_reply.started": "2024-08-30T08:55:27.215491Z"
    }
   },
   "outputs": [],
   "source": [
    "time = msftmz_mpiesmlr_mean['time'].dt.year.values\n",
    "mean = msftmz_mpiesmlr_mean\n",
    "std = msftmz_mpiesmlr_std\n",
    "\n",
    "plt.figure(figsize=(10, 6))\n",
    "plt.plot(time, mean, label='Ens. mean', color='blue', linestyle='-')\n",
    "plt.fill_between(time, mean - std, mean + std, color='blue', alpha=0.2, label='Ens. std')\n",
    "plt.xlabel('Time')\n",
    "plt.ylabel('AMOC strength 26°N')\n",
    "plt.show()"
   ]
  },
  {
   "cell_type": "code",
   "execution_count": 39,
   "id": "9137751c-c5bb-4235-b2de-90fab5ec94e5",
   "metadata": {
    "execution": {
     "iopub.execute_input": "2024-08-30T09:54:52.766543Z",
     "iopub.status.busy": "2024-08-30T09:54:52.765977Z",
     "iopub.status.idle": "2024-08-30T09:55:28.295093Z",
     "shell.execute_reply": "2024-08-30T09:55:28.294078Z",
     "shell.execute_reply.started": "2024-08-30T09:54:52.766516Z"
    }
   },
   "outputs": [],
   "source": [
    "# Save to .nc file\n",
    "ds = xr.Dataset({\n",
    "    'mean': msftmz_mpiesmlr_mean,\n",
    "    'std': msftmz_mpiesmlr_std\n",
    "})\n",
    "file_path = '/work/uo1075/m300817/carbon_amoc/amoc-carbon/data/CMIP6_amoc/MPI-ESM1.2-LR/msftmz_mpiesmlr_ssp245.nc'\n",
    "ds.to_netcdf(path=file_path)"
   ]
  },
  {
   "cell_type": "code",
   "execution_count": 44,
   "id": "8d3ddbae-4961-4b99-aeb6-929c4000a86f",
   "metadata": {
    "execution": {
     "iopub.execute_input": "2024-08-30T09:57:12.281996Z",
     "iopub.status.busy": "2024-08-30T09:57:12.281510Z",
     "iopub.status.idle": "2024-08-30T09:57:12.302879Z",
     "shell.execute_reply": "2024-08-30T09:57:12.302195Z",
     "shell.execute_reply.started": "2024-08-30T09:57:12.281973Z"
    }
   },
   "outputs": [],
   "source": [
    "loaded_ds = xr.open_dataset('/work/uo1075/m300817/carbon_amoc/amoc-carbon/data/CMIP6_amoc/MPI-ESM1.2-LR/msftmz_mpiesmlr_ssp245.nc')"
   ]
  },
  {
   "cell_type": "code",
   "execution_count": null,
   "id": "25ea71a4-1fcf-4a0b-9309-45c492fc3d0b",
   "metadata": {
    "execution": {
     "iopub.execute_input": "2024-08-30T09:57:14.346853Z",
     "iopub.status.busy": "2024-08-30T09:57:14.346492Z",
     "iopub.status.idle": "2024-08-30T09:57:14.846831Z",
     "shell.execute_reply": "2024-08-30T09:57:14.846018Z",
     "shell.execute_reply.started": "2024-08-30T09:57:14.346832Z"
    }
   },
   "outputs": [],
   "source": [
    "time = loaded_ds['mean']['time'].dt.year.values\n",
    "mean = loaded_ds['mean']\n",
    "std = loaded_ds['std']\n",
    "\n",
    "plt.figure(figsize=(10, 6))\n",
    "plt.plot(time, mean, label='Ens. mean', color='blue', linestyle='-')\n",
    "plt.fill_between(time, mean - std, mean + std, color='blue', alpha=0.2, label='Ens. std')\n",
    "plt.xlabel('Time')\n",
    "plt.ylabel('AMOC strength 26°N')\n",
    "plt.show()"
   ]
  },
  {
   "cell_type": "code",
   "execution_count": null,
   "id": "d1ab474d-30d5-426d-994e-496b06e1d4b8",
   "metadata": {},
   "outputs": [],
   "source": []
  },
  {
   "cell_type": "markdown",
   "id": "9ae91c9d-3bb2-4f3f-a934-03ed773c5dbd",
   "metadata": {},
   "source": [
    "## ssp126"
   ]
  },
  {
   "cell_type": "code",
   "execution_count": 40,
   "id": "4e03baa5-d48b-4bb6-b2b5-2e21a9bd1013",
   "metadata": {
    "execution": {
     "iopub.execute_input": "2024-08-30T09:55:28.297001Z",
     "iopub.status.busy": "2024-08-30T09:55:28.296667Z",
     "iopub.status.idle": "2024-08-30T09:55:28.300313Z",
     "shell.execute_reply": "2024-08-30T09:55:28.299641Z",
     "shell.execute_reply.started": "2024-08-30T09:55:28.296979Z"
    },
    "tags": []
   },
   "outputs": [],
   "source": [
    "# Paths for ssp245 scenario\n",
    "paths={'MPI-ESM1.2-LR':'/work/ik1017/CMIP6/data/CMIP6/ScenarioMIP/MPI-M/MPI-ESM1-2-LR/ssp126/',\n",
    "      }"
   ]
  },
  {
   "cell_type": "markdown",
   "id": "f0bbcce0-2bf6-4f41-bb7e-7914a6c55cb0",
   "metadata": {},
   "source": [
    "MPI-ESM1.2-LR"
   ]
  },
  {
   "cell_type": "code",
   "execution_count": 41,
   "id": "561e36e5-58b2-41aa-85a2-21fbd11d973c",
   "metadata": {
    "execution": {
     "iopub.execute_input": "2024-08-30T09:55:28.301358Z",
     "iopub.status.busy": "2024-08-30T09:55:28.301146Z",
     "iopub.status.idle": "2024-08-30T09:55:35.211475Z",
     "shell.execute_reply": "2024-08-30T09:55:35.210538Z",
     "shell.execute_reply.started": "2024-08-30T09:55:28.301340Z"
    },
    "tags": []
   },
   "outputs": [],
   "source": [
    "array = []\n",
    "for i in range(1,51):\n",
    "    rea = \"r\"+str(i)+\"i1p1f1\"\n",
    "    infiles = glob.glob(f'{paths[\"MPI-ESM1.2-LR\"]}/{rea}/Omon/msftmz/gn/**/*.nc', recursive=True)\n",
    "    array.append(xr.open_mfdataset(infiles, use_cftime=True, data_vars=\"minimal\", coords=\"minimal\", compat=\"override\", parallel=True).assign_coords(realiz=rea))\n",
    "msftmz_mpiesmlr = xr.concat(array, dim='realiz')"
   ]
  },
  {
   "cell_type": "code",
   "execution_count": null,
   "id": "43196345-e289-462e-9d28-76942e2fa7f7",
   "metadata": {
    "execution": {
     "iopub.execute_input": "2024-08-30T09:39:25.363664Z",
     "iopub.status.busy": "2024-08-30T09:39:25.363233Z",
     "iopub.status.idle": "2024-08-30T09:40:07.767450Z",
     "shell.execute_reply": "2024-08-30T09:40:07.766726Z",
     "shell.execute_reply.started": "2024-08-30T09:39:25.363641Z"
    }
   },
   "outputs": [],
   "source": [
    "year_amoc= weighted_mon_to_year_mean(msftmz_mpiesmlr.sel(lat=26.5).sel(lev=1020).isel(basin=1), 'msftmz')/(1025.0 * 10**6)\n",
    "for r in range(50):\n",
    "    year_amoc.isel(realiz=r).plot()"
   ]
  },
  {
   "cell_type": "code",
   "execution_count": 42,
   "id": "1441e03e-ed6d-43be-8443-6826e65555e4",
   "metadata": {
    "execution": {
     "iopub.execute_input": "2024-08-30T09:55:35.213595Z",
     "iopub.status.busy": "2024-08-30T09:55:35.213214Z",
     "iopub.status.idle": "2024-08-30T09:55:37.134245Z",
     "shell.execute_reply": "2024-08-30T09:55:37.133340Z",
     "shell.execute_reply.started": "2024-08-30T09:55:35.213571Z"
    }
   },
   "outputs": [],
   "source": [
    "msftmz_mpiesmlr_mean = (weighted_mon_to_year_mean(msftmz_mpiesmlr.sel(lat=26.5).sel(lev=1020).isel(basin=1), 'msftmz').mean(dim=\"realiz\"))/(1025.0 * 10**6)\n",
    "msftmz_mpiesmlr_std = (weighted_mon_to_year_mean(msftmz_mpiesmlr.sel(lat=26.5).sel(lev=1020).isel(basin=1), 'msftmz').std(dim=\"realiz\"))/(1025.0 * 10**6)"
   ]
  },
  {
   "cell_type": "code",
   "execution_count": null,
   "id": "fa0d1522-e9ab-4987-b929-9ce2e63d692b",
   "metadata": {
    "execution": {
     "iopub.execute_input": "2024-08-30T09:41:03.948687Z",
     "iopub.status.busy": "2024-08-30T09:41:03.948379Z",
     "iopub.status.idle": "2024-08-30T09:44:15.191210Z",
     "shell.execute_reply": "2024-08-30T09:44:15.190472Z",
     "shell.execute_reply.started": "2024-08-30T09:41:03.948666Z"
    }
   },
   "outputs": [],
   "source": [
    "time = msftmz_mpiesmlr_mean['time'].dt.year.values\n",
    "mean = msftmz_mpiesmlr_mean\n",
    "std = msftmz_mpiesmlr_std\n",
    "\n",
    "plt.figure(figsize=(10, 6))\n",
    "plt.plot(time, mean, label='Ens. mean', color='blue', linestyle='-')\n",
    "plt.fill_between(time, mean - std, mean + std, color='blue', alpha=0.2, label='Ens. std')\n",
    "plt.xlabel('Time')\n",
    "plt.ylabel('AMOC strength 26°N')\n",
    "plt.show()"
   ]
  },
  {
   "cell_type": "code",
   "execution_count": 43,
   "id": "8d10dc53-bcab-46b7-a96d-064c3df897cb",
   "metadata": {
    "execution": {
     "iopub.execute_input": "2024-08-30T09:55:37.135805Z",
     "iopub.status.busy": "2024-08-30T09:55:37.135318Z",
     "iopub.status.idle": "2024-08-30T09:56:05.050554Z",
     "shell.execute_reply": "2024-08-30T09:56:05.049717Z",
     "shell.execute_reply.started": "2024-08-30T09:55:37.135781Z"
    }
   },
   "outputs": [],
   "source": [
    "# Save to .nc file\n",
    "ds = xr.Dataset({\n",
    "    'mean': msftmz_mpiesmlr_mean,\n",
    "    'std': msftmz_mpiesmlr_std\n",
    "})\n",
    "file_path = '/work/uo1075/m300817/carbon_amoc/amoc-carbon/data/CMIP6_amoc/MPI-ESM1.2-LR/msftmz_mpiesmlr_ssp126.nc'\n",
    "ds.to_netcdf(path=file_path)"
   ]
  },
  {
   "cell_type": "markdown",
   "id": "e1de894c-97b9-4030-b54b-7926c470179b",
   "metadata": {},
   "source": [
    "## ssp585"
   ]
  },
  {
   "cell_type": "code",
   "execution_count": 29,
   "id": "c2c6e3b5-2e61-4ad0-b670-8aea7dc59166",
   "metadata": {
    "execution": {
     "iopub.execute_input": "2024-08-30T09:47:28.933814Z",
     "iopub.status.busy": "2024-08-30T09:47:28.928243Z",
     "iopub.status.idle": "2024-08-30T09:47:28.948782Z",
     "shell.execute_reply": "2024-08-30T09:47:28.948102Z",
     "shell.execute_reply.started": "2024-08-30T09:47:28.933788Z"
    },
    "tags": []
   },
   "outputs": [],
   "source": [
    "# Paths for ssp245 scenario\n",
    "paths={'MPI-ESM1.2-LR':'/work/ik1017/CMIP6/data/CMIP6/ScenarioMIP/MPI-M/MPI-ESM1-2-LR/ssp585/',\n",
    "      }"
   ]
  },
  {
   "cell_type": "markdown",
   "id": "f48a5ca0-8c10-4641-99e0-7b0ce6f02ed6",
   "metadata": {},
   "source": [
    "MPI-ESM1.2-LR"
   ]
  },
  {
   "cell_type": "code",
   "execution_count": 30,
   "id": "8307f848-3612-4ac7-9277-37d25af611a9",
   "metadata": {
    "execution": {
     "iopub.execute_input": "2024-08-30T09:47:40.293457Z",
     "iopub.status.busy": "2024-08-30T09:47:40.293022Z",
     "iopub.status.idle": "2024-08-30T09:48:01.945050Z",
     "shell.execute_reply": "2024-08-30T09:48:01.944227Z",
     "shell.execute_reply.started": "2024-08-30T09:47:40.293433Z"
    },
    "tags": []
   },
   "outputs": [],
   "source": [
    "array = []\n",
    "for i in range(1,51):\n",
    "    rea = \"r\"+str(i)+\"i1p1f1\"\n",
    "    infiles = glob.glob(f'{paths[\"MPI-ESM1.2-LR\"]}/{rea}/Omon/msftmz/gn/**/*.nc', recursive=True)\n",
    "    array.append(xr.open_mfdataset(infiles, use_cftime=True, data_vars=\"minimal\", coords=\"minimal\", compat=\"override\", parallel=True).assign_coords(realiz=rea))\n",
    "msftmz_mpiesmlr = xr.concat(array, dim='realiz')"
   ]
  },
  {
   "cell_type": "code",
   "execution_count": null,
   "id": "980163a8-9259-4428-a89d-b1cba99ef40b",
   "metadata": {
    "execution": {
     "iopub.execute_input": "2024-08-30T09:48:01.946724Z",
     "iopub.status.busy": "2024-08-30T09:48:01.946414Z",
     "iopub.status.idle": "2024-08-30T09:48:44.242936Z",
     "shell.execute_reply": "2024-08-30T09:48:44.242092Z",
     "shell.execute_reply.started": "2024-08-30T09:48:01.946703Z"
    }
   },
   "outputs": [],
   "source": [
    "year_amoc= weighted_mon_to_year_mean(msftmz_mpiesmlr.sel(lat=26.5).sel(lev=1020).isel(basin=1), 'msftmz')/(1025.0 * 10**6)\n",
    "for r in range(50):\n",
    "    year_amoc.isel(realiz=r).plot()"
   ]
  },
  {
   "cell_type": "code",
   "execution_count": 32,
   "id": "f7302c47-ce3e-4c2f-8d4c-d903e51aeb87",
   "metadata": {
    "execution": {
     "iopub.execute_input": "2024-08-30T09:48:44.244025Z",
     "iopub.status.busy": "2024-08-30T09:48:44.243816Z",
     "iopub.status.idle": "2024-08-30T09:48:46.613773Z",
     "shell.execute_reply": "2024-08-30T09:48:46.612984Z",
     "shell.execute_reply.started": "2024-08-30T09:48:44.244006Z"
    }
   },
   "outputs": [],
   "source": [
    "msftmz_mpiesmlr_mean = (weighted_mon_to_year_mean(msftmz_mpiesmlr.sel(lat=26.5).sel(lev=1020).isel(basin=1), 'msftmz').mean(dim=\"realiz\"))/(1025.0 * 10**6)\n",
    "msftmz_mpiesmlr_std = (weighted_mon_to_year_mean(msftmz_mpiesmlr.sel(lat=26.5).sel(lev=1020).isel(basin=1), 'msftmz').std(dim=\"realiz\"))/(1025.0 * 10**6)"
   ]
  },
  {
   "cell_type": "code",
   "execution_count": null,
   "id": "8655f2f6-6449-4931-aae4-188acc92e8c3",
   "metadata": {
    "execution": {
     "iopub.execute_input": "2024-08-30T09:49:13.884497Z",
     "iopub.status.busy": "2024-08-30T09:49:13.884170Z",
     "iopub.status.idle": "2024-08-30T09:52:16.550649Z",
     "shell.execute_reply": "2024-08-30T09:52:16.549773Z",
     "shell.execute_reply.started": "2024-08-30T09:49:13.884474Z"
    }
   },
   "outputs": [],
   "source": [
    "time = msftmz_mpiesmlr_mean['time'].dt.year.values\n",
    "mean = msftmz_mpiesmlr_mean\n",
    "std = msftmz_mpiesmlr_std\n",
    "\n",
    "plt.figure(figsize=(10, 6))\n",
    "plt.plot(time, mean, label='Ens. mean', color='blue', linestyle='-')\n",
    "plt.fill_between(time, mean - std, mean + std, color='blue', alpha=0.2, label='Ens. std')\n",
    "plt.xlabel('Time')\n",
    "plt.ylabel('AMOC strength 26°N')\n",
    "plt.show()"
   ]
  },
  {
   "cell_type": "code",
   "execution_count": 35,
   "id": "7f184abf-3179-45ed-a373-1c1941311779",
   "metadata": {
    "execution": {
     "iopub.execute_input": "2024-08-30T09:53:27.168976Z",
     "iopub.status.busy": "2024-08-30T09:53:27.168393Z",
     "iopub.status.idle": "2024-08-30T09:53:55.533677Z",
     "shell.execute_reply": "2024-08-30T09:53:55.532664Z",
     "shell.execute_reply.started": "2024-08-30T09:53:27.168950Z"
    }
   },
   "outputs": [],
   "source": [
    "# Save to .nc file\n",
    "ds = xr.Dataset({\n",
    "    'mean': msftmz_mpiesmlr_mean,\n",
    "    'std': msftmz_mpiesmlr_std\n",
    "})\n",
    "file_path = '/work/uo1075/m300817/carbon_amoc/amoc-carbon/data/CMIP6_amoc/MPI-ESM1.2-LR/msftmz_mpiesmlr_ssp585.nc'\n",
    "ds.to_netcdf(path=file_path)"
   ]
  },
  {
   "cell_type": "markdown",
   "id": "8331176f-b490-4bdc-a010-bb3d0ab1b079",
   "metadata": {
    "execution": {
     "iopub.execute_input": "2023-11-14T15:43:24.792866Z",
     "iopub.status.busy": "2023-11-14T15:43:24.789284Z",
     "iopub.status.idle": "2023-11-14T15:43:24.804768Z",
     "shell.execute_reply": "2023-11-14T15:43:24.804044Z",
     "shell.execute_reply.started": "2023-11-14T15:43:24.792841Z"
    },
    "tags": [],
    "toc-hr-collapsed": true
   },
   "source": [
    "# Extra stuff"
   ]
  },
  {
   "cell_type": "markdown",
   "id": "f6a8a9d4-e4d5-43a4-bc48-9c7f9d0eab7f",
   "metadata": {
    "jp-MarkdownHeadingCollapsed": true,
    "tags": []
   },
   "source": [
    "## Regridding"
   ]
  },
  {
   "cell_type": "markdown",
   "id": "62f62bc6-ad25-488c-b46e-6c18f4a4f543",
   "metadata": {},
   "source": [
    "Regridding might be necessary for next steps, such as lat-depth plots"
   ]
  },
  {
   "cell_type": "code",
   "execution_count": 6,
   "id": "6437a9e2-7c40-4a12-a318-5089392a2c97",
   "metadata": {
    "execution": {
     "iopub.execute_input": "2023-06-06T08:05:22.668416Z",
     "iopub.status.busy": "2023-06-06T08:05:22.667723Z",
     "iopub.status.idle": "2023-06-06T08:05:22.767440Z",
     "shell.execute_reply": "2023-06-06T08:05:22.766802Z",
     "shell.execute_reply.started": "2023-06-06T08:05:22.668385Z"
    },
    "tags": []
   },
   "outputs": [],
   "source": [
    "ds_dissic_pi = ds_dissic_pi.rename({\"longitude\": \"lon\", \"latitude\": \"lat\"})\n",
    "ds_dissic_hist = ds_dissic_hist.rename({\"longitude\": \"lon\", \"latitude\": \"lat\"})\n",
    "ds_dissic_ssp126 = ds_dissic_ssp126.rename({\"longitude\": \"lon\", \"latitude\": \"lat\"})\n",
    "ds_dissic_ssp585 = ds_dissic_ssp585.rename({\"longitude\": \"lon\", \"latitude\": \"lat\"})\n",
    "ds_dissic_1pct= ds_dissic_1pct.rename({\"longitude\": \"lon\", \"latitude\": \"lat\"})\n",
    "ds_dissic_1pctbgc = ds_dissic_1pctbgc.rename({\"longitude\": \"lon\", \"latitude\": \"lat\"})\n",
    "ds_dissic_1pctrad = ds_dissic_1pctrad.rename({\"longitude\": \"lon\", \"latitude\": \"lat\"})"
   ]
  },
  {
   "cell_type": "code",
   "execution_count": null,
   "id": "427528dd-44d3-490f-bada-bc6059e91ea2",
   "metadata": {
    "execution": {
     "iopub.execute_input": "2023-06-06T08:05:25.407026Z",
     "iopub.status.busy": "2023-06-06T08:05:25.406572Z",
     "iopub.status.idle": "2023-06-06T08:05:25.943630Z",
     "shell.execute_reply": "2023-06-06T08:05:25.943025Z",
     "shell.execute_reply.started": "2023-06-06T08:05:25.407003Z"
    },
    "tags": []
   },
   "outputs": [],
   "source": [
    "ds_out = xe.util.grid_global(1, 1)"
   ]
  },
  {
   "cell_type": "code",
   "execution_count": 8,
   "id": "66dc42d2-b51f-47ae-b852-9094f8f08820",
   "metadata": {
    "execution": {
     "iopub.execute_input": "2023-06-06T08:05:29.729232Z",
     "iopub.status.busy": "2023-06-06T08:05:29.728817Z",
     "iopub.status.idle": "2023-06-06T08:05:45.201789Z",
     "shell.execute_reply": "2023-06-06T08:05:45.181743Z",
     "shell.execute_reply.started": "2023-06-06T08:05:29.729209Z"
    },
    "tags": []
   },
   "outputs": [],
   "source": [
    "regridder = xe.Regridder(ds_dissic_hist, ds_out, \"bilinear\")\n",
    "ds_dissic_hist_out = regridder(ds_dissic_hist['dissic'])"
   ]
  },
  {
   "cell_type": "code",
   "execution_count": 9,
   "id": "fced6637-e8e6-4613-954e-e94a0d5ac6ae",
   "metadata": {
    "execution": {
     "iopub.execute_input": "2023-06-06T08:06:25.617154Z",
     "iopub.status.busy": "2023-06-06T08:06:25.616562Z",
     "iopub.status.idle": "2023-06-06T08:06:27.249173Z",
     "shell.execute_reply": "2023-06-06T08:06:27.248611Z",
     "shell.execute_reply.started": "2023-06-06T08:06:25.617130Z"
    },
    "tags": []
   },
   "outputs": [],
   "source": [
    "regridder = xe.Regridder(ds_dissic_1pctrad, ds_out, \"bilinear\")\n",
    "ds_dissic_1pctrad_out = regridder(ds_dissic_1pctrad['dissic'])"
   ]
  },
  {
   "cell_type": "code",
   "execution_count": null,
   "id": "3ec38412-526f-4bac-9610-0d260addcd56",
   "metadata": {
    "execution": {
     "iopub.execute_input": "2023-03-23T11:32:06.706709Z",
     "iopub.status.busy": "2023-03-23T11:32:06.706229Z",
     "iopub.status.idle": "2023-03-23T11:32:40.316761Z",
     "shell.execute_reply": "2023-03-23T11:32:40.315973Z",
     "shell.execute_reply.started": "2023-03-23T11:32:06.706684Z"
    },
    "tags": []
   },
   "outputs": [],
   "source": [
    "# Plot DIC below 1000m (1085-5720m) difference last 10 years 1pctrad & first 10 years hist\n",
    "plt.figure(figsize=(14, 6))\n",
    "ax = plt.axes(projection=ccrs.Robinson(central_longitude=-60))\n",
    "ax.set_global()\n",
    "(ds_dissic_1pctrad_out.isel(lev=np.arange(23,40)).sum(dim='lev').isel(time=np.arange(-120,-1)).mean(dim='time')-\n",
    " ds_dissic_hist_out.isel(lev=np.arange(23,40)).sum(dim='lev').isel(time=np.arange(0,120)).mean(dim='time')).plot.pcolormesh(\n",
    "    ax=ax, transform=ccrs.PlateCarree(), x=\"lon\", y=\"lat\")\n",
    "ax.coastlines()\n",
    "#ax.set_xlim([-100, 40])"
   ]
  },
  {
   "cell_type": "markdown",
   "id": "46761b03-a9ec-4da5-b22d-f99aa33b9ca6",
   "metadata": {
    "tags": []
   },
   "source": [
    "## Mask land"
   ]
  },
  {
   "cell_type": "code",
   "execution_count": null,
   "id": "2caa55ef-2a97-420c-ae0f-bd28d3e7859f",
   "metadata": {
    "execution": {
     "iopub.execute_input": "2023-11-21T17:02:41.988340Z",
     "iopub.status.busy": "2023-11-21T17:02:41.987828Z"
    },
    "tags": []
   },
   "outputs": [],
   "source": [
    "ds_tas_u03hosLR.where(ds_basin_hosLR_d.basin==0).mean(dim\"time\").tas.plot()"
   ]
  },
  {
   "cell_type": "code",
   "execution_count": null,
   "id": "0b0a0112-6e4f-4dec-9358-defd7018305d",
   "metadata": {
    "execution": {
     "iopub.execute_input": "2023-11-21T16:58:56.163296Z",
     "iopub.status.busy": "2023-11-21T16:58:56.162794Z",
     "iopub.status.idle": "2023-11-21T16:58:57.370407Z",
     "shell.execute_reply": "2023-11-21T16:58:57.369657Z",
     "shell.execute_reply.started": "2023-11-21T16:58:56.163269Z"
    },
    "tags": []
   },
   "outputs": [],
   "source": [
    "ds_tas_u03hosLR_year.where(ds_basin_hosLR.basin==0).mean(dim=\"time\").isel(depth=0).tas"
   ]
  },
  {
   "cell_type": "code",
   "execution_count": null,
   "id": "47a5ba86-7267-4720-af4a-199a96e02e96",
   "metadata": {
    "execution": {
     "iopub.execute_input": "2023-11-21T15:30:53.840732Z",
     "iopub.status.busy": "2023-11-21T15:30:53.840178Z",
     "iopub.status.idle": "2023-11-21T15:30:53.877478Z",
     "shell.execute_reply": "2023-11-21T15:30:53.876755Z",
     "shell.execute_reply.started": "2023-11-21T15:30:53.840703Z"
    },
    "tags": []
   },
   "outputs": [],
   "source": [
    "ds_basin.where(ds_basin.basin==0)"
   ]
  },
  {
   "cell_type": "code",
   "execution_count": 38,
   "id": "e86f0077-3172-41de-8515-40acfd04f311",
   "metadata": {
    "execution": {
     "iopub.execute_input": "2023-11-21T15:48:40.972320Z",
     "iopub.status.busy": "2023-11-21T15:48:40.966664Z",
     "iopub.status.idle": "2023-11-21T15:48:41.032944Z",
     "shell.execute_reply": "2023-11-21T15:48:41.031934Z",
     "shell.execute_reply.started": "2023-11-21T15:48:40.972288Z"
    },
    "tags": []
   },
   "outputs": [],
   "source": [
    "land=ds_basin.where(ds_basin.basin==0)"
   ]
  },
  {
   "cell_type": "code",
   "execution_count": null,
   "id": "ea0ab2a2-c827-4888-967e-618a88033c9a",
   "metadata": {
    "collapsed": true,
    "execution": {
     "iopub.execute_input": "2023-11-21T15:29:29.389155Z",
     "iopub.status.busy": "2023-11-21T15:29:29.388588Z",
     "iopub.status.idle": "2023-11-21T15:29:29.454339Z",
     "shell.execute_reply": "2023-11-21T15:29:29.453423Z",
     "shell.execute_reply.started": "2023-11-21T15:29:29.389116Z"
    },
    "jupyter": {
     "outputs_hidden": true
    },
    "tags": []
   },
   "outputs": [],
   "source": [
    "fig=plt.figure(figsize=(14, 9))\n",
    "\n",
    "ax1 = fig.add_subplot(211, projection=ccrs.Robinson(central_longitude=-60))\n",
    "land.basin.plot(ax=ax1, transform=ccrs.PlateCarree(), x=\"longitude\", y=\"latitude\")"
   ]
  },
  {
   "cell_type": "code",
   "execution_count": null,
   "id": "428ba7e3-47f3-43d8-9e89-44f24af3d01b",
   "metadata": {
    "collapsed": true,
    "execution": {
     "iopub.execute_input": "2023-11-21T15:26:34.674274Z",
     "iopub.status.busy": "2023-11-21T15:26:34.673723Z",
     "iopub.status.idle": "2023-11-21T15:26:36.760468Z",
     "shell.execute_reply": "2023-11-21T15:26:36.758892Z",
     "shell.execute_reply.started": "2023-11-21T15:26:34.674246Z"
    },
    "jupyter": {
     "outputs_hidden": true
    },
    "tags": []
   },
   "outputs": [],
   "source": [
    "land=ds_basin.basin.where(ds_basin.basin==0, drop=True)"
   ]
  },
  {
   "cell_type": "code",
   "execution_count": null,
   "id": "e5407d63-1e92-4602-a37a-16ece5ed2ba6",
   "metadata": {
    "execution": {
     "iopub.execute_input": "2023-11-21T13:32:29.110554Z",
     "iopub.status.busy": "2023-11-21T13:32:29.110064Z",
     "iopub.status.idle": "2023-11-21T13:32:31.458961Z",
     "shell.execute_reply": "2023-11-21T13:32:31.458204Z",
     "shell.execute_reply.started": "2023-11-21T13:32:29.110528Z"
    },
    "tags": []
   },
   "outputs": [],
   "source": [
    "fig=plt.figure(figsize=(14, 9))\n",
    "\n",
    "ax1 = fig.add_subplot(211, projection=ccrs.Robinson(central_longitude=-60))\n",
    "ds_basin.basin.where(ds_basin.basin==0).plot(ax=ax1, transform=ccrs.PlateCarree(), x=\"longitude\", y=\"latitude\")"
   ]
  },
  {
   "cell_type": "code",
   "execution_count": 57,
   "id": "dd74d8f3-942a-475c-85bd-5dc0e92c743a",
   "metadata": {
    "execution": {
     "iopub.execute_input": "2023-11-21T16:30:15.246755Z",
     "iopub.status.busy": "2023-11-21T16:30:15.246250Z",
     "iopub.status.idle": "2023-11-21T16:30:15.323773Z",
     "shell.execute_reply": "2023-11-21T16:30:15.323074Z",
     "shell.execute_reply.started": "2023-11-21T16:30:15.246729Z"
    },
    "tags": []
   },
   "outputs": [],
   "source": [
    "infiles = glob.glob('/work/mh0033/from_Mistral/mh0033/m300817/mpiesm-1.2.01p6-passivesalt_update/experiments/hosing_naa05Sv_FcSV-LR/outdata/mpiom/*fx*.nc')\n",
    "ds_fx = xr.open_mfdataset(infiles, use_cftime=True, parallel=True)"
   ]
  },
  {
   "cell_type": "code",
   "execution_count": null,
   "id": "03d8a799-c466-40fb-bb75-e96ef4932cbc",
   "metadata": {
    "execution": {
     "iopub.execute_input": "2023-11-21T16:32:12.371059Z",
     "iopub.status.busy": "2023-11-21T16:32:12.370519Z",
     "iopub.status.idle": "2023-11-21T16:32:14.713913Z",
     "shell.execute_reply": "2023-11-21T16:32:14.713157Z",
     "shell.execute_reply.started": "2023-11-21T16:32:12.371034Z"
    },
    "tags": []
   },
   "outputs": [],
   "source": [
    "fig=plt.figure(figsize=(14, 9))\n",
    "ax1 = fig.add_subplot(211, projection=ccrs.Robinson(central_longitude=-60))\n",
    "ds_fx.weto.isel(depth_2=0).plot(ax=ax1, transform=ccrs.PlateCarree(), x=\"lon_2\", y=\"lat_2\")"
   ]
  },
  {
   "cell_type": "markdown",
   "id": "7ad66ff0-ddfd-428c-a736-55df36208628",
   "metadata": {
    "execution": {
     "iopub.execute_input": "2023-11-14T15:43:24.792866Z",
     "iopub.status.busy": "2023-11-14T15:43:24.789284Z",
     "iopub.status.idle": "2023-11-14T15:43:24.804768Z",
     "shell.execute_reply": "2023-11-14T15:43:24.804044Z",
     "shell.execute_reply.started": "2023-11-14T15:43:24.792841Z"
    },
    "tags": [],
    "toc-hr-collapsed": true
   },
   "source": [
    "## Basin means"
   ]
  },
  {
   "cell_type": "code",
   "execution_count": null,
   "id": "46ab5848-3b45-4eb6-a156-46cf9e6d58e7",
   "metadata": {
    "execution": {
     "iopub.execute_input": "2024-06-20T16:16:17.369361Z",
     "iopub.status.busy": "2024-06-20T16:16:17.368616Z",
     "iopub.status.idle": "2024-06-20T16:16:18.044987Z",
     "shell.execute_reply": "2024-06-20T16:16:18.044418Z",
     "shell.execute_reply.started": "2024-06-20T16:16:17.369336Z"
    }
   },
   "outputs": [],
   "source": [
    "regionmask.defined_regions.natural_earth_v5_0_0.ocean_basins_50"
   ]
  },
  {
   "cell_type": "markdown",
   "id": "180a626a-7dd7-45d0-afe7-c38c819cd424",
   "metadata": {},
   "source": [
    "## Scratch"
   ]
  },
  {
   "cell_type": "code",
   "execution_count": null,
   "id": "d51780a8-312d-48cf-b9cc-e841f11fff68",
   "metadata": {
    "execution": {
     "iopub.execute_input": "2024-08-05T09:47:32.047594Z",
     "iopub.status.busy": "2024-08-05T09:47:32.046964Z",
     "iopub.status.idle": "2024-08-05T09:47:38.955680Z",
     "shell.execute_reply": "2024-08-05T09:47:38.955025Z",
     "shell.execute_reply.started": "2024-08-05T09:47:32.047572Z"
    }
   },
   "outputs": [],
   "source": [
    "#weighted_mon_to_year_mean(his.sel(depth_2=1020).sel(lat=26.5)/(1025.0 * 10**6), \"atlantic_moc\").plot(label='hist')\n",
    "weighted_mon_to_year_mean(s26.sel(depth_2=1020).sel(lat=26.5)/(1025.0 * 10**6), \"atlantic_moc\").plot(label='ssp126')\n",
    "weighted_mon_to_year_mean(s45.sel(depth_2=1020).sel(lat=26.5)/(1025.0 * 10**6), \"atlantic_moc\").plot(label='ssp245')\n",
    "weighted_mon_to_year_mean(s58.sel(depth_2=1020).sel(lat=26.5)/(1025.0 * 10**6), \"atlantic_moc\").plot(label='ssp585')\n",
    "plt.ylim(0,25)\n",
    "plt.legend()"
   ]
  },
  {
   "cell_type": "code",
   "execution_count": 26,
   "id": "13536af4-ff4d-45b8-86c7-e6843eafee9f",
   "metadata": {
    "execution": {
     "iopub.execute_input": "2024-08-01T13:07:11.789991Z",
     "iopub.status.busy": "2024-08-01T13:07:11.789542Z",
     "iopub.status.idle": "2024-08-01T13:07:11.806137Z",
     "shell.execute_reply": "2024-08-01T13:07:11.805500Z",
     "shell.execute_reply.started": "2024-08-01T13:07:11.789961Z"
    }
   },
   "outputs": [],
   "source": [
    "ds= xr.open_mfdataset(\"/pool/data/ECHAM6/input/r0008/greenhouse_ssp245.nc\", use_cftime=True, compat='override')"
   ]
  }
 ],
 "metadata": {
  "jupytext": {
   "formats": "ipynb,md"
  },
  "kernelspec": {
   "display_name": "1 Python 3 (based on the module python3/2023.01)",
   "language": "python",
   "name": "python3_2023_01"
  },
  "language_info": {
   "codemirror_mode": {
    "name": "ipython",
    "version": 3
   },
   "file_extension": ".py",
   "mimetype": "text/x-python",
   "name": "python",
   "nbconvert_exporter": "python",
   "pygments_lexer": "ipython3",
   "version": "3.10.10"
  },
  "toc-autonumbering": true
 },
 "nbformat": 4,
 "nbformat_minor": 5
}
