{
 "cells": [
  {
   "cell_type": "markdown",
   "id": "e80b6a38-cd81-46c7-bbf0-a15e7b5d3367",
   "metadata": {
    "execution": {
     "iopub.execute_input": "2023-11-14T13:02:00.469786Z",
     "iopub.status.busy": "2023-11-14T13:02:00.469452Z",
     "iopub.status.idle": "2023-11-14T13:02:00.473517Z",
     "shell.execute_reply": "2023-11-14T13:02:00.472871Z",
     "shell.execute_reply.started": "2023-11-14T13:02:00.469766Z"
    },
    "tags": []
   },
   "source": [
    "<b><i> ESM_processing&analysis </i></b>\n",
    "\n",
    "- Purpose: Process ESM data \n",
    "- Methods: Analyse ocean bgc data (e.g., dissic), AMOC, and SAT in MPI-ESM simulations\n",
    "- Comments: Works with DKRZ's Jupyterhub kernel python3/2023.1 on Levante\n",
    "- Other resources:\n"
   ]
  },
  {
   "cell_type": "markdown",
   "id": "dbfed128-dcc5-4757-9f59-784e64ee776d",
   "metadata": {
    "tags": []
   },
   "source": [
    "# Load modules, variables, and functions"
   ]
  },
  {
   "cell_type": "code",
   "execution_count": null,
   "id": "d481ecaf-c29a-4348-a2b1-67c2aec53c77",
   "metadata": {
    "execution": {
     "iopub.execute_input": "2024-10-15T23:42:46.366482Z",
     "iopub.status.busy": "2024-10-15T23:42:46.366050Z",
     "iopub.status.idle": "2024-10-15T23:42:50.256429Z",
     "shell.execute_reply": "2024-10-15T23:42:50.255778Z",
     "shell.execute_reply.started": "2024-10-15T23:42:46.366458Z"
    },
    "tags": []
   },
   "outputs": [],
   "source": [
    "import xarray as xr\n",
    "import numpy as np\n",
    "import dask\n",
    "import glob\n",
    "import matplotlib.pyplot as plt\n",
    "import matplotlib as mpl\n",
    "import cartopy.crs as ccrs\n",
    "import os\n",
    "import cdo # Import Cdo-py\n",
    "cdo = cdo.Cdo(tempdir='/scratch/m/m300817/tmp/cdo-py') # change this to a directory in your scratch\n",
    "import eccodes\n",
    "import cfgrib\n",
    "import zlib\n",
    "from tqdm import tqdm"
   ]
  },
  {
   "cell_type": "code",
   "execution_count": null,
   "id": "0d5798c5-5e9b-4d1e-8aca-e6b90be572b5",
   "metadata": {
    "execution": {
     "iopub.execute_input": "2024-10-15T23:42:50.258125Z",
     "iopub.status.busy": "2024-10-15T23:42:50.257706Z",
     "iopub.status.idle": "2024-10-15T23:42:50.260902Z",
     "shell.execute_reply": "2024-10-15T23:42:50.260362Z",
     "shell.execute_reply.started": "2024-10-15T23:42:50.258103Z"
    },
    "tags": []
   },
   "outputs": [],
   "source": [
    "g_per_molC = 12.0107  # to convert units to g, as dissic units are given in mol m-3"
   ]
  },
  {
   "cell_type": "code",
   "execution_count": null,
   "id": "244c1b9d-4517-4139-9054-1f94593e6e19",
   "metadata": {
    "execution": {
     "iopub.execute_input": "2024-10-15T23:42:50.261751Z",
     "iopub.status.busy": "2024-10-15T23:42:50.261565Z",
     "iopub.status.idle": "2024-10-15T23:42:50.342329Z",
     "shell.execute_reply": "2024-10-15T23:42:50.341793Z",
     "shell.execute_reply.started": "2024-10-15T23:42:50.261733Z"
    },
    "tags": []
   },
   "outputs": [],
   "source": [
    "def weighted_area_lat(ds):\n",
    "    \"\"\"\n",
    "    Calculate the area-weighted temperature over its domain. \n",
    "    In a regular latitude/ longitude grid the grid cell area decreases towards the pole.\n",
    "    We can use the cosine of the latitude as proxy for the grid cell area.\n",
    "    Taken from https://docs.xarray.dev/en/stable/examples/area_weighted_temperature.html\n",
    "    \"\"\"\n",
    "    weights = np.cos(np.deg2rad(ds.lat))\n",
    "    weights.name = \"weights\"\n",
    "\n",
    "    return ds.weighted(weights)"
   ]
  },
  {
   "cell_type": "code",
   "execution_count": null,
   "id": "c2961103-8939-4f84-bf5c-4191823ac3ee",
   "metadata": {
    "execution": {
     "iopub.execute_input": "2024-10-15T23:42:50.343889Z",
     "iopub.status.busy": "2024-10-15T23:42:50.343465Z",
     "iopub.status.idle": "2024-10-15T23:42:50.349356Z",
     "shell.execute_reply": "2024-10-15T23:42:50.348794Z",
     "shell.execute_reply.started": "2024-10-15T23:42:50.343870Z"
    },
    "tags": []
   },
   "outputs": [],
   "source": [
    "def weighted_mon_to_year_mean(ds, var):\n",
    "    \"\"\"\n",
    "    weight by days in each month when doing annual mean from monthly values in xarray\n",
    "    taken from https://ncar.github.io/esds/posts/2021/yearly-averages-xarray/\n",
    "    \"\"\"\n",
    "    month_length = ds.time.dt.days_in_month # Determine the month length\n",
    "    wgts = month_length.groupby(\"time.year\") / month_length.groupby(\"time.year\").sum()  # Calculate the weights\n",
    "    np.testing.assert_allclose(wgts.groupby(\"time.year\").sum(xr.ALL_DIMS), 1.0)  # Make sure the weights in each year add up to 1\n",
    "    obs = ds[var]  # Subset our dataset for our variable\n",
    "    cond = obs.isnull() # Setup our masking for nan values\n",
    "    ones = xr.where(cond, 0.0, 1.0)   \n",
    "    obs_sum = (obs * wgts).resample(time=\"AS\").sum(dim=\"time\")  # Calculate the numerator\n",
    "    ones_out = (ones * wgts).resample(time=\"AS\").sum(dim=\"time\") # Calculate the denominator\n",
    "    return obs_sum / ones_out # Return the weighted average"
   ]
  },
  {
   "cell_type": "markdown",
   "id": "a24cbe43-5566-4c08-9634-75b4864e0340",
   "metadata": {
    "tags": [],
    "toc-hr-collapsed": true
   },
   "source": [
    "# Load data (MPI-ESM1.2-LR)"
   ]
  },
  {
   "cell_type": "markdown",
   "id": "82d6ed1f-37c4-43f0-b976-786d76c8dca5",
   "metadata": {
    "execution": {
     "iopub.execute_input": "2023-11-14T15:09:21.996724Z",
     "iopub.status.busy": "2023-11-14T15:09:21.996185Z",
     "iopub.status.idle": "2023-11-14T15:09:22.000159Z",
     "shell.execute_reply": "2023-11-14T15:09:21.999500Z",
     "shell.execute_reply.started": "2023-11-14T15:09:21.996697Z"
    },
    "tags": [],
    "toc-hr-collapsed": true
   },
   "source": [
    "## Dissolved inorganic Carbon (dissic)"
   ]
  },
  {
   "cell_type": "markdown",
   "id": "764dc280-0ccb-4b6a-a979-5a9b7d9f27e8",
   "metadata": {},
   "source": [
    "### 1pctCO2"
   ]
  },
  {
   "cell_type": "code",
   "execution_count": null,
   "id": "5afaf27f-8a2c-430a-87d3-9ff3fbfc6274",
   "metadata": {
    "execution": {
     "iopub.execute_input": "2024-08-06T07:09:51.878822Z",
     "iopub.status.busy": "2024-08-06T07:09:51.878360Z",
     "iopub.status.idle": "2024-08-06T07:09:56.955854Z",
     "shell.execute_reply": "2024-08-06T07:09:56.955123Z",
     "shell.execute_reply.started": "2024-08-06T07:09:51.878789Z"
    },
    "tags": []
   },
   "outputs": [],
   "source": [
    "# Load DIC in 1pctCO2-bgc\n",
    "file_type = 'dissic'\n",
    "infiles = glob.glob(f'/pool/data/CMIP6/data/C4MIP/MPI-M/MPI-ESM1-2-LR/1pctCO2-bgc/r1i1p1f1/Omon/{file_type}/gn/v20190710/*{file_type}*.nc')\n",
    "ds_dissic_1pctbgc = xr.open_mfdataset(infiles, use_cftime=True, parallel=True, chunks={\"time\": 10})"
   ]
  },
  {
   "cell_type": "markdown",
   "id": "00c39e2e-6d7e-4bce-962d-2037a6612933",
   "metadata": {},
   "source": [
    "### New hosing 1pct & scenarios"
   ]
  },
  {
   "cell_type": "markdown",
   "id": "7ad4452c-571b-47c7-a88f-a4453cf88a5b",
   "metadata": {},
   "source": [
    "1pctbgc"
   ]
  },
  {
   "cell_type": "code",
   "execution_count": null,
   "id": "00084811-3301-4f96-9654-b40952c97788",
   "metadata": {
    "execution": {
     "iopub.execute_input": "2024-06-27T07:00:32.400447Z",
     "iopub.status.busy": "2024-06-27T07:00:32.399993Z",
     "iopub.status.idle": "2024-06-27T07:00:32.702183Z",
     "shell.execute_reply": "2024-06-27T07:00:32.701571Z",
     "shell.execute_reply.started": "2024-06-27T07:00:32.400421Z"
    },
    "tags": []
   },
   "outputs": [],
   "source": [
    "# Pre-process (select and merge) dissic yearly\n",
    "wildcard = \"*hamocc_data_3d_ym_*\"\n",
    "for exp in [\"hosing_naa01Sv_1pctbgc-LR\",\"hosing_naa03Sv_1pctbgc-LR\", \"hosing_naa05Sv_1pctbgc-LR\",\n",
    "            \"hosing_grc01Sv_1pctbgc-LR\", \"hosing_grc03Sv_1pctbgc-LR\", \"hosing_grc05Sv_1pctbgc-LR\",\n",
    "            \"hosing_naa03Sv_1pct-LR\", \"hosing_naa05Sv_1pct-LR\"]:\n",
    "    in_path  = f'/work/uo1075/m300817/hosing/mpiesm-1.2.01p7-passivesalt-hosing/experiments/{exp}/outdata/hamocc/'\n",
    "    ifiles   = in_path+wildcard\n",
    "    outpath = \"/work/uo1075/m300817/hosing/post/data/dissic/\"\n",
    "    outfile = f\"{exp}_dissic.nc\"\n",
    "    if not glob.glob(outpath):\n",
    "        os.mkdir(outpath)\n",
    "    if not os.path.isfile(outpath+outfile):\n",
    "        cdo.mergetime(input = \"-select,name=dissic \"+ifiles, output = outpath+outfile)"
   ]
  },
  {
   "cell_type": "code",
   "execution_count": null,
   "id": "c381d12c-b00c-4e79-aa42-b431059b9c26",
   "metadata": {
    "execution": {
     "iopub.execute_input": "2024-08-06T07:09:59.032187Z",
     "iopub.status.busy": "2024-08-06T07:09:59.031759Z",
     "iopub.status.idle": "2024-08-06T07:09:59.926308Z",
     "shell.execute_reply": "2024-08-06T07:09:59.925684Z",
     "shell.execute_reply.started": "2024-08-06T07:09:59.032162Z"
    },
    "tags": []
   },
   "outputs": [],
   "source": [
    "# Load resulting file. NOTE: HERE IS DIRECTLY YEARLY MEANS\n",
    "ds_dissic_u011pctbgcLR = xr.open_mfdataset(\"/work/uo1075/m300817/hosing/post/data/dissic/hosing_naa01Sv_1pctbgc-LR_dissic.nc\"\n",
    "                                       , use_cftime=True, parallel=True, chunks={\"time\": 10})\n",
    "ds_dissic_u031pctbgcLR = xr.open_mfdataset(\"/work/uo1075/m300817/hosing/post/data/dissic/hosing_naa03Sv_1pctbgc-LR_dissic.nc\"\n",
    "                                       , use_cftime=True, parallel=True, chunks={\"time\": 10})\n",
    "ds_dissic_u051pctbgcLR = xr.open_mfdataset(\"/work/uo1075/m300817/hosing/post/data/dissic/hosing_naa05Sv_1pctbgc-LR_dissic.nc\"\n",
    "                                       , use_cftime=True, parallel=True, chunks={\"time\": 10})\n",
    "ds_dissic_g011pctbgcLR = xr.open_mfdataset(\"/work/uo1075/m300817/hosing/post/data/dissic/hosing_grc01Sv_1pctbgc-LR_dissic.nc\"\n",
    "                                       , use_cftime=True, parallel=True, chunks={\"time\": 10})\n",
    "ds_dissic_g031pctbgcLR = xr.open_mfdataset(\"/work/uo1075/m300817/hosing/post/data/dissic/hosing_grc03Sv_1pctbgc-LR_dissic.nc\"\n",
    "                                       , use_cftime=True, parallel=True, chunks={\"time\": 10})\n",
    "ds_dissic_g051pctbgcLR = xr.open_mfdataset(\"/work/uo1075/m300817/hosing/post/data/dissic/hosing_grc05Sv_1pctbgc-LR_dissic.nc\"\n",
    "                                       , use_cftime=True, parallel=True, chunks={\"time\": 10})\n",
    "ds_dissic_u031pctLR = xr.open_mfdataset(\"/work/uo1075/m300817/hosing/post/data/dissic/hosing_naa03Sv_1pct-LR_dissic.nc\"\n",
    "                                       , use_cftime=True, parallel=True, chunks={\"time\": 10})\n",
    "ds_dissic_u051pctLR = xr.open_mfdataset(\"/work/uo1075/m300817/hosing/post/data/dissic/hosing_naa05Sv_1pct-LR_dissic.nc\"\n",
    "                                       , use_cftime=True, parallel=True, chunks={\"time\": 10})"
   ]
  },
  {
   "cell_type": "markdown",
   "id": "b29dda69-559c-4e04-8eac-487f2f90da73",
   "metadata": {},
   "source": [
    "hist-bgc and u03 bgc-scenarios"
   ]
  },
  {
   "cell_type": "code",
   "execution_count": null,
   "id": "5e3a806f-c6b8-4ef3-a3cb-c024efeed860",
   "metadata": {
    "execution": {
     "iopub.execute_input": "2024-08-05T09:50:51.634328Z",
     "iopub.status.busy": "2024-08-05T09:50:51.633971Z",
     "iopub.status.idle": "2024-08-05T09:53:06.068438Z",
     "shell.execute_reply": "2024-08-05T09:53:06.067672Z",
     "shell.execute_reply.started": "2024-08-05T09:50:51.634306Z"
    },
    "tags": []
   },
   "outputs": [],
   "source": [
    "# Pre-process (select and merge) dissic yearly\n",
    "wildcard = \"*hamocc_data_3d_ym_*\"\n",
    "for exp in [\"histbgc-LR\",\"hosing_naa03Sv_ssp126bgc-LR\", \"hosing_naa03Sv_ssp245bgc-LR\",\n",
    "            \"hosing_naa03Sv_ssp585bgc-LR\"]:\n",
    "    in_path  = f'/work/uo1075/m300817/hosing/mpiesm-1.2.01p7-passivesalt-hosing/experiments/{exp}/outdata/hamocc/'\n",
    "    ifiles   = in_path+wildcard\n",
    "    outpath = \"/work/uo1075/m300817/hosing/post/data/dissic/\"\n",
    "    outfile = f\"{exp}_dissic.nc\"\n",
    "    if not glob.glob(outpath):\n",
    "        os.mkdir(outpath)\n",
    "    if not os.path.isfile(outpath+outfile):\n",
    "        cdo.mergetime(input = \"-select,name=dissic \"+ifiles, output = outpath+outfile)"
   ]
  },
  {
   "cell_type": "code",
   "execution_count": null,
   "id": "4ad59431-5880-4552-acc3-9421693ac988",
   "metadata": {
    "execution": {
     "iopub.execute_input": "2024-08-06T07:10:01.551421Z",
     "iopub.status.busy": "2024-08-06T07:10:01.551030Z",
     "iopub.status.idle": "2024-08-06T07:10:02.263353Z",
     "shell.execute_reply": "2024-08-06T07:10:02.262714Z",
     "shell.execute_reply.started": "2024-08-06T07:10:01.551400Z"
    },
    "tags": []
   },
   "outputs": [],
   "source": [
    "# Load resulting file. NOTE: HERE IS DIRECTLY YEARLY MEANS\n",
    "ds_dissic_histbgcLR = xr.open_mfdataset(\"/work/uo1075/m300817/hosing/post/data/dissic/histbgc-LR_dissic.nc\"\n",
    "                                       , use_cftime=True, parallel=True, chunks={\"time\": 10})\n",
    "ds_dissic_u03ssp126bgcLR = xr.open_mfdataset(\"/work/uo1075/m300817/hosing/post/data/dissic/hosing_naa03Sv_ssp126bgc-LR_dissic.nc\"\n",
    "                                       , use_cftime=True, parallel=True, chunks={\"time\": 10})\n",
    "ds_dissic_u03ssp245bgcLR = xr.open_mfdataset(\"/work/uo1075/m300817/hosing/post/data/dissic/hosing_naa03Sv_ssp245bgc-LR_dissic.nc\"\n",
    "                                       , use_cftime=True, parallel=True, chunks={\"time\": 10})\n",
    "ds_dissic_u03ssp585bgcLR = xr.open_mfdataset(\"/work/uo1075/m300817/hosing/post/data/dissic/hosing_naa03Sv_ssp585bgc-LR_dissic.nc\"\n",
    "                                       , use_cftime=True, parallel=True, chunks={\"time\": 10})"
   ]
  },
  {
   "cell_type": "markdown",
   "id": "bbaf5475-6360-4803-9ebd-7d154ec2aeed",
   "metadata": {},
   "source": [
    "ssp245bgc"
   ]
  },
  {
   "cell_type": "code",
   "execution_count": null,
   "id": "b04e2af9-020c-4f50-ba94-951b5fcdc95b",
   "metadata": {
    "execution": {
     "iopub.execute_input": "2024-08-20T15:57:27.540286Z",
     "iopub.status.busy": "2024-08-20T15:57:27.539778Z",
     "iopub.status.idle": "2024-08-20T15:57:27.544749Z",
     "shell.execute_reply": "2024-08-20T15:57:27.544230Z",
     "shell.execute_reply.started": "2024-08-20T15:57:27.540264Z"
    },
    "tags": []
   },
   "outputs": [],
   "source": [
    "# Pre-process (select and merge) dissic yearly\n",
    "wildcard = \"*hamocc_data_3d_ym_*\"\n",
    "for exp in [\"hosing_naa01Sv_ssp245bgc-LR\",\"hosing_naa03Sv_ssp245bgc-LR\", \"hosing_naa05Sv_ssp245bgc-LR\",\n",
    "            \"hosing_grc01Sv_ssp245bgc-LR\", \"hosing_grc03Sv_ssp245bgc-LR\", \"hosing_grc05Sv_ssp245bgc-LR\",\n",
    "            \"ssp245bgc-LR\"]:\n",
    "    in_path  = f'/work/uo1075/m300817/hosing/mpiesm-1.2.01p7-passivesalt-hosing/experiments/{exp}/outdata/hamocc/'\n",
    "    ifiles   = in_path+wildcard\n",
    "    outpath = \"/work/uo1075/m300817/hosing/post/data/dissic/\"\n",
    "    outfile = f\"{exp}_dissic.nc\"\n",
    "    if not glob.glob(outpath):\n",
    "        os.mkdir(outpath)\n",
    "    if not os.path.isfile(outpath+outfile):\n",
    "        cdo.mergetime(input = \"-select,name=dissic \"+ifiles, output = outpath+outfile)"
   ]
  },
  {
   "cell_type": "code",
   "execution_count": null,
   "id": "97bdfa92-61b4-4019-aa12-52ebf1a57270",
   "metadata": {
    "execution": {
     "iopub.execute_input": "2024-08-20T15:57:28.060415Z",
     "iopub.status.busy": "2024-08-20T15:57:28.059724Z",
     "iopub.status.idle": "2024-08-20T15:57:29.365788Z",
     "shell.execute_reply": "2024-08-20T15:57:29.365220Z",
     "shell.execute_reply.started": "2024-08-20T15:57:28.060395Z"
    },
    "tags": []
   },
   "outputs": [],
   "source": [
    "# Load resulting file. NOTE: HERE IS DIRECTLY YEARLY MEANS\n",
    "ds_dissic_u01ssp245bgcLR = xr.open_mfdataset(\"/work/uo1075/m300817/hosing/post/data/dissic/hosing_naa01Sv_ssp245bgc-LR_dissic.nc\"\n",
    "                                       , use_cftime=True, parallel=True, chunks={\"time\": 10})\n",
    "ds_dissic_u03ssp245bgcLR = xr.open_mfdataset(\"/work/uo1075/m300817/hosing/post/data/dissic/hosing_naa03Sv_ssp245bgc-LR_dissic.nc\"\n",
    "                                       , use_cftime=True, parallel=True, chunks={\"time\": 10})\n",
    "ds_dissic_u05ssp245bgcLR = xr.open_mfdataset(\"/work/uo1075/m300817/hosing/post/data/dissic/hosing_naa05Sv_ssp245bgc-LR_dissic.nc\"\n",
    "                                       , use_cftime=True, parallel=True, chunks={\"time\": 10})\n",
    "ds_dissic_g01ssp245bgcLR = xr.open_mfdataset(\"/work/uo1075/m300817/hosing/post/data/dissic/hosing_grc01Sv_ssp245bgc-LR_dissic.nc\"\n",
    "                                       , use_cftime=True, parallel=True, chunks={\"time\": 10})\n",
    "ds_dissic_g03ssp245bgcLR = xr.open_mfdataset(\"/work/uo1075/m300817/hosing/post/data/dissic/hosing_grc03Sv_ssp245bgc-LR_dissic.nc\"\n",
    "                                       , use_cftime=True, parallel=True, chunks={\"time\": 10})\n",
    "ds_dissic_g05ssp245bgcLR = xr.open_mfdataset(\"/work/uo1075/m300817/hosing/post/data/dissic/hosing_grc05Sv_ssp245bgc-LR_dissic.nc\"\n",
    "                                       , use_cftime=True, parallel=True, chunks={\"time\": 10})\n",
    "ds_dissic_ssp245bgcLR = xr.open_mfdataset(\"/work/uo1075/m300817/hosing/post/data/dissic/ssp245bgc-LR_dissic.nc\"\n",
    "                                       , use_cftime=True, parallel=True, chunks={\"time\": 10})"
   ]
  },
  {
   "cell_type": "markdown",
   "id": "042de186-cf96-4b78-b1bb-1c8d149f138d",
   "metadata": {
    "tags": [],
    "toc-hr-collapsed": true
   },
   "source": [
    "## AMOC (msftmz)"
   ]
  },
  {
   "cell_type": "markdown",
   "id": "a5ab78d7-481d-4988-a00e-acd3cb4c0927",
   "metadata": {},
   "source": [
    "### 1pctCO2"
   ]
  },
  {
   "cell_type": "code",
   "execution_count": null,
   "id": "a0f9e5d6-c8aa-4846-b88f-db86ec266a85",
   "metadata": {
    "execution": {
     "iopub.execute_input": "2024-08-06T07:20:58.575861Z",
     "iopub.status.busy": "2024-08-06T07:20:58.575318Z",
     "iopub.status.idle": "2024-08-06T07:20:59.271939Z",
     "shell.execute_reply": "2024-08-06T07:20:59.271218Z",
     "shell.execute_reply.started": "2024-08-06T07:20:58.575835Z"
    },
    "tags": []
   },
   "outputs": [],
   "source": [
    "# Load amoc in 1pctCO2-bgc\n",
    "file_type = 'msftmz'\n",
    "infiles = glob.glob(f'/pool/data/CMIP6/data/C4MIP/MPI-M/MPI-ESM1-2-LR/1pctCO2-bgc/r1i1p1f1/Omon/{file_type}/gn/v20190710/*{file_type}*.nc')\n",
    "ds_msftmz_1pctbgc = xr.open_mfdataset(infiles, use_cftime=True, parallel=True)"
   ]
  },
  {
   "cell_type": "markdown",
   "id": "94ff220b-db2f-47e1-b5af-51a8ec59140f",
   "metadata": {},
   "source": [
    "### New hosing 1pct & scenario"
   ]
  },
  {
   "cell_type": "markdown",
   "id": "111cfb14-89b2-4d0b-9c08-0f4081cd42ae",
   "metadata": {},
   "source": [
    "1pct-bgc"
   ]
  },
  {
   "cell_type": "code",
   "execution_count": null,
   "id": "deff87eb-7bb4-4239-924b-5e10ae8cefa2",
   "metadata": {
    "execution": {
     "iopub.execute_input": "2024-08-06T07:21:09.339710Z",
     "iopub.status.busy": "2024-08-06T07:21:09.339184Z",
     "iopub.status.idle": "2024-08-06T07:22:59.144329Z",
     "shell.execute_reply": "2024-08-06T07:22:59.143430Z",
     "shell.execute_reply.started": "2024-08-06T07:21:09.339685Z"
    },
    "tags": []
   },
   "outputs": [],
   "source": [
    "ds_msftmz_u011pctbgcLR = xr.open_mfdataset(\"/work/uo1075/m300817/hosing/mpiesm-1.2.01p7-passivesalt-hosing/experiments/hosing_naa01Sv_1pctbgc-LR/outdata/mpiom/*moc_mm*\",\n",
    "                                       use_cftime=True)\n",
    "ds_msftmz_u031pctbgcLR = xr.open_mfdataset(\"/work/uo1075/m300817/hosing/mpiesm-1.2.01p7-passivesalt-hosing/experiments/hosing_naa03Sv_1pctbgc-LR/outdata/mpiom/*moc_mm*\",\n",
    "                                       use_cftime=True)\n",
    "ds_msftmz_u031pctLR = xr.open_mfdataset(\"/work/uo1075/m300817/hosing/mpiesm-1.2.01p7-passivesalt-hosing/experiments/hosing_naa03Sv_1pct-LR/outdata/mpiom/*moc_mm*\",\n",
    "                                       use_cftime=True)\n",
    "ds_msftmz_u051pctbgcLR = xr.open_mfdataset(\"/work/uo1075/m300817/hosing/mpiesm-1.2.01p7-passivesalt-hosing/experiments/hosing_naa05Sv_1pctbgc-LR/outdata/mpiom/*moc_mm*\",\n",
    "                                       use_cftime=True)\n",
    "ds_msftmz_u051pctLR = xr.open_mfdataset(\"/work/uo1075/m300817/hosing/mpiesm-1.2.01p7-passivesalt-hosing/experiments/hosing_naa05Sv_1pct-LR/outdata/mpiom/*moc_mm*\",\n",
    "                                       use_cftime=True)\n",
    "ds_msftmz_g011pctbgcLR = xr.open_mfdataset(\"/work/uo1075/m300817/hosing/mpiesm-1.2.01p7-passivesalt-hosing/experiments/hosing_grc01Sv_1pctbgc-LR/outdata/mpiom/*moc_mm*\",\n",
    "                                       use_cftime=True)\n",
    "ds_msftmz_g031pctbgcLR = xr.open_mfdataset(\"/work/uo1075/m300817/hosing/mpiesm-1.2.01p7-passivesalt-hosing/experiments/hosing_grc03Sv_1pctbgc-LR/outdata/mpiom/*moc_mm*\",\n",
    "                                       use_cftime=True)\n",
    "ds_msftmz_g051pctbgcLR = xr.open_mfdataset(\"/work/uo1075/m300817/hosing/mpiesm-1.2.01p7-passivesalt-hosing/experiments/hosing_grc05Sv_1pctbgc-LR/outdata/mpiom/*moc_mm*\",\n",
    "                                       use_cftime=True)"
   ]
  },
  {
   "cell_type": "markdown",
   "id": "c607bf3d-eed9-4e8b-977c-8cfb7f872f98",
   "metadata": {},
   "source": [
    "hist-bgc and u03 bgc-scenarios"
   ]
  },
  {
   "cell_type": "code",
   "execution_count": null,
   "id": "5f456248-d488-4e60-bdb6-412b27d06ee6",
   "metadata": {
    "execution": {
     "iopub.execute_input": "2024-08-06T07:22:59.147695Z",
     "iopub.status.busy": "2024-08-06T07:22:59.147141Z",
     "iopub.status.idle": "2024-08-06T07:23:40.712782Z",
     "shell.execute_reply": "2024-08-06T07:23:40.711945Z",
     "shell.execute_reply.started": "2024-08-06T07:22:59.147670Z"
    }
   },
   "outputs": [],
   "source": [
    "ds_msftmz_histbgcLR = xr.open_mfdataset(\"/work/uo1075/m300817/hosing/mpiesm-1.2.01p7-passivesalt-hosing/experiments/histbgc-LR/outdata/mpiom/*moc_mm*\",\n",
    "                                        use_cftime=True)\n",
    "ds_msftmz_u03ssp126bgcLR = xr.open_mfdataset(\"/work/uo1075/m300817/hosing/mpiesm-1.2.01p7-passivesalt-hosing/experiments/hosing_naa03Sv_ssp126bgc-LR/outdata/mpiom/*moc_mm*\",\n",
    "                                             use_cftime=True)\n",
    "ds_msftmz_u03ssp245bgcLR = xr.open_mfdataset(\"/work/uo1075/m300817/hosing/mpiesm-1.2.01p7-passivesalt-hosing/experiments/hosing_naa03Sv_ssp245bgc-LR/outdata/mpiom/*moc_mm*\",\n",
    "                                             use_cftime=True)\n",
    "ds_msftmz_u03ssp585bgcLR = xr.open_mfdataset(\"/work/uo1075/m300817/hosing/mpiesm-1.2.01p7-passivesalt-hosing/experiments/hosing_naa03Sv_ssp585bgc-LR/outdata/mpiom/*moc_mm*\", \n",
    "                                             use_cftime=True)"
   ]
  },
  {
   "cell_type": "markdown",
   "id": "a0b999ae-e1a8-4fd7-92e8-4321be3c0980",
   "metadata": {},
   "source": [
    "ssp245bgc"
   ]
  },
  {
   "cell_type": "code",
   "execution_count": null,
   "id": "8f798751-e3b3-48c3-8b15-83a38b86577c",
   "metadata": {
    "execution": {
     "iopub.execute_input": "2024-08-20T15:57:56.804885Z",
     "iopub.status.busy": "2024-08-20T15:57:56.804538Z",
     "iopub.status.idle": "2024-08-20T15:58:24.495907Z",
     "shell.execute_reply": "2024-08-20T15:58:24.494479Z",
     "shell.execute_reply.started": "2024-08-20T15:57:56.804864Z"
    }
   },
   "outputs": [],
   "source": [
    "ds_msftmz_ssp245bgcLR = xr.open_mfdataset(\"/work/uo1075/m300817/hosing/mpiesm-1.2.01p7-passivesalt-hosing/experiments/ssp245bgc-LR/outdata/mpiom/*moc_mm*\",\n",
    "                                        use_cftime=True)\n",
    "ds_msftmz_u05ssp245bgcLR = xr.open_mfdataset(\"/work/uo1075/m300817/hosing/mpiesm-1.2.01p7-passivesalt-hosing/experiments/hosing_naa05Sv_ssp245bgc-LR/outdata/mpiom/*moc_mm*\",\n",
    "                                             use_cftime=True)\n",
    "ds_msftmz_u03ssp245bgcLR = xr.open_mfdataset(\"/work/uo1075/m300817/hosing/mpiesm-1.2.01p7-passivesalt-hosing/experiments/hosing_naa03Sv_ssp245bgc-LR/outdata/mpiom/*moc_mm*\",\n",
    "                                             use_cftime=True)\n",
    "ds_msftmz_u01ssp245bgcLR = xr.open_mfdataset(\"/work/uo1075/m300817/hosing/mpiesm-1.2.01p7-passivesalt-hosing/experiments/hosing_naa01Sv_ssp245bgc-LR/outdata/mpiom/*moc_mm*\",\n",
    "                                             use_cftime=True)\n",
    "ds_msftmz_g05ssp245bgcLR = xr.open_mfdataset(\"/work/uo1075/m300817/hosing/mpiesm-1.2.01p7-passivesalt-hosing/experiments/hosing_grc05Sv_ssp245bgc-LR/outdata/mpiom/*moc_mm*\",\n",
    "                                             use_cftime=True)\n",
    "ds_msftmz_g03ssp245bgcLR = xr.open_mfdataset(\"/work/uo1075/m300817/hosing/mpiesm-1.2.01p7-passivesalt-hosing/experiments/hosing_grc03Sv_ssp245bgc-LR/outdata/mpiom/*moc_mm*\",\n",
    "                                             use_cftime=True)\n",
    "ds_msftmz_g01ssp245bgcLR = xr.open_mfdataset(\"/work/uo1075/m300817/hosing/mpiesm-1.2.01p7-passivesalt-hosing/experiments/hosing_grc01Sv_ssp245bgc-LR/outdata/mpiom/*moc_mm*\",\n",
    "                                             use_cftime=True)"
   ]
  },
  {
   "cell_type": "markdown",
   "id": "de6fb94b-3618-446e-83f5-e7cdbd0d862b",
   "metadata": {
    "toc-hr-collapsed": true
   },
   "source": [
    "## volcello "
   ]
  },
  {
   "cell_type": "markdown",
   "id": "8ee560ae-5063-4d76-a034-fd077a2cdc2a",
   "metadata": {
    "execution": {
     "iopub.execute_input": "2023-10-19T08:29:34.275034Z",
     "iopub.status.busy": "2023-10-19T08:29:34.271182Z",
     "iopub.status.idle": "2023-10-19T08:29:34.287748Z",
     "shell.execute_reply": "2023-10-19T08:29:34.286989Z",
     "shell.execute_reply.started": "2023-10-19T08:29:34.275008Z"
    },
    "tags": []
   },
   "source": [
    "### cmorised output"
   ]
  },
  {
   "cell_type": "code",
   "execution_count": null,
   "id": "a399cedd-9eea-4fd3-be4d-455649a4eeec",
   "metadata": {
    "execution": {
     "iopub.execute_input": "2024-08-20T13:22:58.462452Z",
     "iopub.status.busy": "2024-08-20T13:22:58.461978Z",
     "iopub.status.idle": "2024-08-20T13:22:58.598641Z",
     "shell.execute_reply": "2024-08-20T13:22:58.597900Z",
     "shell.execute_reply.started": "2024-08-20T13:22:58.462430Z"
    },
    "tags": []
   },
   "outputs": [],
   "source": [
    "infiles = glob.glob('/pool/data/CMIP6/data/CMIP/MPI-M/MPI-ESM1-2-LR/historical/r1i1p1f1/Ofx/volcello/gn/v20190710/*.nc')\n",
    "ds_volcello = xr.open_mfdataset(infiles, use_cftime=True, parallel=True)"
   ]
  },
  {
   "cell_type": "markdown",
   "id": "9e019513-14f4-44a1-ae35-c4c7f48c70ca",
   "metadata": {},
   "source": [
    "### mpi-esm direct output"
   ]
  },
  {
   "cell_type": "code",
   "execution_count": null,
   "id": "5049f310-f09b-4461-855d-566a8dbba0b4",
   "metadata": {},
   "outputs": [],
   "source": [
    "# Pre-process volcello mpi output\n",
    "in_path  = '/work/mh0033/from_Mistral/mh0033/m300817/mpiesm-1.2.01p6-passivesalt_update/experiments/hosing_naa05Sv_FcSV-LR/outdata/mpiom/'\n",
    "filefx = \"hosing_naa05Sv_FcSV-LR_mpiom_fx_18500101_18501231.nc\n",
    "ifiles   = in_path+filefx\n",
    "outpath = \"/work/uo0122/m300817/hosing/post/data/fx/\"\n",
    "outfile = \"hosing_naa05Sv_FcSV-LR_volcello.nc\"\n",
    "if not glob.glob(outpath):\n",
    "    os.mkdir(outpath)\n",
    "if not os.path.isfile(outpath+outfile):\n",
    "    #cdo(input = \"expr,’volcello=areacello*thkcello’ \"+ifiles, output = outpath+outfile)\n",
    "    cdo(input = \" -expr,'volcello=areacello*thkcello' \"+ifiles, output = outpath+outfile)"
   ]
  },
  {
   "cell_type": "code",
   "execution_count": null,
   "id": "d0e12c9d-fa1c-43ad-a2c4-76d34636ee79",
   "metadata": {
    "execution": {
     "iopub.execute_input": "2024-08-20T15:58:24.497015Z",
     "iopub.status.busy": "2024-08-20T15:58:24.496778Z",
     "iopub.status.idle": "2024-08-20T15:58:24.566513Z",
     "shell.execute_reply": "2024-08-20T15:58:24.565936Z",
     "shell.execute_reply.started": "2024-08-20T15:58:24.496993Z"
    },
    "tags": []
   },
   "outputs": [],
   "source": [
    "# Load resulting file, same for both hosing configurations (note: now in new location)\n",
    "ds_volcello_u05hosLR = xr.open_mfdataset(\"/work/uo1075/m300817/hosing/post/data/fx/hosing_naa05Sv_FcSV-LR_volcello.nc\"\n",
    "                                       , use_cftime=True, parallel=True)"
   ]
  },
  {
   "cell_type": "code",
   "execution_count": null,
   "id": "d7ace6c5-ebdc-4680-9c6f-9c3ccce8557f",
   "metadata": {
    "execution": {
     "iopub.execute_input": "2024-08-20T15:58:24.568326Z",
     "iopub.status.busy": "2024-08-20T15:58:24.567927Z",
     "iopub.status.idle": "2024-08-20T15:58:24.571455Z",
     "shell.execute_reply": "2024-08-20T15:58:24.570904Z",
     "shell.execute_reply.started": "2024-08-20T15:58:24.568306Z"
    },
    "tags": []
   },
   "outputs": [],
   "source": [
    "ds_volcello_u05hosLR = ds_volcello_u05hosLR.rename({'x_2':'x', 'y_2':'y', 'lat_2': 'lat','lon_2': 'lon', 'depth_2': 'depth'})"
   ]
  },
  {
   "cell_type": "code",
   "execution_count": null,
   "id": "ee52eb07-ccfb-45b2-8ce9-bb5a34b132b4",
   "metadata": {
    "execution": {
     "iopub.execute_input": "2024-03-10T15:57:29.405514Z",
     "iopub.status.busy": "2024-03-10T15:57:29.404982Z",
     "iopub.status.idle": "2024-03-10T15:57:32.921301Z",
     "shell.execute_reply": "2024-03-10T15:57:32.920449Z",
     "shell.execute_reply.started": "2024-03-10T15:57:29.405489Z"
    },
    "tags": []
   },
   "outputs": [],
   "source": [
    "# Total DIC full depth (0-5720m) u03hosLR last vs first 10 years\n",
    "u03_total_full = ((ds_dissic_u03hosLR.dissic.isel(time=np.arange(-120,-0)).mean(dim=\"time\")*ds_volcello_u05hosLR.mean(dim=\"time\").volcello*g_per_molC/1e15).isel(depth=np.arange(0,40)).sum(dim='depth')\n",
    "-(ds_dissic_u03hosLR.dissic.isel(time=np.arange(0,120)).mean(dim=\"time\")*ds_volcello_u05hosLR.mean(dim=\"time\").volcello*g_per_molC/1e15).isel(depth=np.arange(0,40)).sum(dim='depth')\n",
    ").sum(dim='y').sum(dim='x').values"
   ]
  },
  {
   "cell_type": "code",
   "execution_count": null,
   "id": "c0b9e7c1-0a75-436d-b11c-6bc41bc384ec",
   "metadata": {
    "execution": {
     "iopub.execute_input": "2024-03-10T15:57:34.325539Z",
     "iopub.status.busy": "2024-03-10T15:57:34.325105Z",
     "iopub.status.idle": "2024-03-10T15:57:37.820254Z",
     "shell.execute_reply": "2024-03-10T15:57:37.819272Z",
     "shell.execute_reply.started": "2024-03-10T15:57:34.325516Z"
    },
    "tags": []
   },
   "outputs": [],
   "source": [
    "# Total DIC below 1000m (1085-5720m) u03hosLR last vs first 10 years\n",
    "u03_total_deep =  ((ds_dissic_u03hosLR.dissic.isel(time=np.arange(-120,-0)).mean(dim=\"time\")*ds_volcello_u05hosLR.mean(dim=\"time\").volcello*g_per_molC/1e15).isel(depth=np.arange(23,40)).sum(dim='depth')\n",
    "-(ds_dissic_u03hosLR.dissic.isel(time=np.arange(0,120)).mean(dim=\"time\")*ds_volcello_u05hosLR.mean(dim=\"time\").volcello*g_per_molC/1e15).isel(depth=np.arange(23,40)).sum(dim='depth')\n",
    ").sum(dim='y').sum(dim='x').values"
   ]
  },
  {
   "cell_type": "code",
   "execution_count": null,
   "id": "289b83e8-a463-4674-9529-850160fa2697",
   "metadata": {
    "execution": {
     "iopub.execute_input": "2024-03-10T15:57:37.822170Z",
     "iopub.status.busy": "2024-03-10T15:57:37.821834Z",
     "iopub.status.idle": "2024-03-10T15:57:41.313055Z",
     "shell.execute_reply": "2024-03-10T15:57:41.312099Z",
     "shell.execute_reply.started": "2024-03-10T15:57:37.822147Z"
    },
    "tags": []
   },
   "outputs": [],
   "source": [
    "# Total DIC above 1000m (0-1085m) u03hosLR last vs first 10 years\n",
    "u03_total_surf = ((ds_dissic_u03hosLR.dissic.isel(time=np.arange(-120,-0)).mean(dim=\"time\")*ds_volcello_u05hosLR.mean(dim=\"time\").volcello*g_per_molC/1e15).isel(depth=np.arange(0,23)).sum(dim='depth')\n",
    "-(ds_dissic_u03hosLR.dissic.isel(time=np.arange(0,120)).mean(dim=\"time\")*ds_volcello_u05hosLR.mean(dim=\"time\").volcello*g_per_molC/1e15).isel(depth=np.arange(0,23)).sum(dim='depth')\n",
    ").sum(dim='y').sum(dim='x').values"
   ]
  },
  {
   "cell_type": "code",
   "execution_count": null,
   "id": "484261fe-753f-4225-a22f-715fbd5cca9d",
   "metadata": {
    "execution": {
     "iopub.execute_input": "2024-03-10T15:57:52.037782Z",
     "iopub.status.busy": "2024-03-10T15:57:52.037246Z",
     "iopub.status.idle": "2024-03-10T15:58:09.491733Z",
     "shell.execute_reply": "2024-03-10T15:58:09.490956Z",
     "shell.execute_reply.started": "2024-03-10T15:57:52.037755Z"
    },
    "tags": []
   },
   "outputs": [],
   "source": [
    "fig=plt.figure(figsize=(14, 9))\n",
    "\n",
    "ax1 = fig.add_subplot(211, projection=ccrs.Robinson(central_longitude=-60))\n",
    "ax1.set_global()\n",
    "((ds_dissic_u03hosLR.dissic.isel(time=np.arange(-120,0)).mean(dim=\"time\")*ds_volcello_u05hosLR.mean(dim=\"time\").volcello*g_per_molC/1e15).isel(depth=np.arange(0,40)).sum(dim='depth')\n",
    "-(ds_dissic_u03hosLR.dissic.isel(time=np.arange(0,120)).mean(dim=\"time\")*ds_volcello_u05hosLR.mean(dim=\"time\").volcello*g_per_molC/1e15).isel(depth=np.arange(0,40)).sum(dim='depth')\n",
    ").plot.pcolormesh(\n",
    "    ax=ax1, transform=ccrs.PlateCarree(), x=\"lon\", y=\"lat\", vmin=-0.040, vmax=0.040, cmap='RdBu_r', cbar_kwargs={'label': 'PgC, column integrated'})\n",
    "ax1.coastlines()\n",
    "ax1.set_title(\"Full depth (0-5720m)\") \n",
    "ax1.text(-0.08, 1, str(round(u03_total_full.item(), 3))+\" PgC\", transform=ax1.transAxes, fontsize=14,\n",
    "        verticalalignment='top' , fontweight='bold')\n",
    "\n",
    "ax2 = fig.add_subplot(223, projection=ccrs.Robinson(central_longitude=-60))\n",
    "ax2.set_global()\n",
    "((ds_dissic_u03hosLR.dissic.isel(time=np.arange(-120,0)).mean(dim=\"time\")*ds_volcello_u05hosLR.mean(dim=\"time\").volcello*g_per_molC/1e15).isel(depth=np.arange(0,23)).sum(dim='depth')\n",
    "-(ds_dissic_u03hosLR.dissic.isel(time=np.arange(0,120)).mean(dim=\"time\")*ds_volcello_u05hosLR.mean(dim=\"time\").volcello*g_per_molC/1e15).isel(depth=np.arange(0,23)).sum(dim='depth')\n",
    ").plot.pcolormesh(\n",
    "    ax=ax2, transform=ccrs.PlateCarree(), x=\"lon\", y=\"lat\", cmap='RdBu_r', vmin=-0.040, vmax=0.040, add_colorbar=False)\n",
    "ax2.coastlines()\n",
    "ax2.set_title(\"Upper ocean (0-1085m)\") \n",
    "ax2.text(-0.08, 1, str(round(u03_total_surf.item(), 3))+\" PgC\", transform=ax2.transAxes, fontsize=14,\n",
    "        verticalalignment='top', fontweight='bold')\n",
    "\n",
    "ax3 = fig.add_subplot(224, projection=ccrs.Robinson(central_longitude=-60))\n",
    "ax3.set_global()\n",
    "((ds_dissic_u03hosLR.dissic.isel(time=np.arange(-120,0)).mean(dim=\"time\")*ds_volcello_u05hosLR.mean(dim=\"time\").volcello*g_per_molC/1e15).isel(depth=np.arange(23,40)).sum(dim='depth')\n",
    "-(ds_dissic_u03hosLR.dissic.isel(time=np.arange(0,120)).mean(dim=\"time\")*ds_volcello_u05hosLR.mean(dim=\"time\").volcello*g_per_molC/1e15).isel(depth=np.arange(23,40)).sum(dim='depth')\n",
    ").plot.pcolormesh(\n",
    "   ax=ax3, transform=ccrs.PlateCarree(), x=\"lon\", y=\"lat\", cmap='RdBu_r', vmin=-0.040, vmax=0.040, add_colorbar=False)\n",
    "ax3.coastlines()\n",
    "ax3.set_title(\"Deep ocean (1085-5720m)\") \n",
    "\n",
    "ax3.text(-0.08, 1, str(round(u03_total_deep.item(), 3))+\" PgC\", transform=ax3.transAxes, fontsize=14,\n",
    "        verticalalignment='top', fontweight='bold')"
   ]
  },
  {
   "cell_type": "code",
   "execution_count": null,
   "id": "e29b8600-52c2-4582-98fb-528448fff444",
   "metadata": {
    "collapsed": true,
    "execution": {
     "iopub.execute_input": "2024-03-10T15:58:57.214717Z",
     "iopub.status.busy": "2024-03-10T15:58:57.214162Z",
     "iopub.status.idle": "2024-03-10T16:00:04.498530Z",
     "shell.execute_reply": "2024-03-10T16:00:04.496932Z",
     "shell.execute_reply.started": "2024-03-10T15:58:57.214691Z"
    },
    "jupyter": {
     "outputs_hidden": true
    },
    "tags": []
   },
   "outputs": [],
   "source": [
    "ds_dissic_u05hosLR.load()"
   ]
  },
  {
   "cell_type": "code",
   "execution_count": null,
   "id": "7306b143-5a22-4dab-bc68-386615e1769f",
   "metadata": {
    "execution": {
     "iopub.execute_input": "2024-03-10T16:00:04.506389Z",
     "iopub.status.busy": "2024-03-10T16:00:04.505834Z",
     "iopub.status.idle": "2024-03-10T16:00:08.041909Z",
     "shell.execute_reply": "2024-03-10T16:00:08.040989Z",
     "shell.execute_reply.started": "2024-03-10T16:00:04.506365Z"
    },
    "tags": []
   },
   "outputs": [],
   "source": [
    "# Total DIC full depth (0-5720m) u05hosLR last vs first 10 years\n",
    "u05_total_full = ((ds_dissic_u05hosLR.dissic.isel(time=np.arange(-120,-0)).mean(dim=\"time\")*ds_volcello_u05hosLR.mean(dim=\"time\").volcello*g_per_molC/1e15).isel(depth=np.arange(0,40)).sum(dim='depth')\n",
    "-(ds_dissic_u05hosLR.dissic.isel(time=np.arange(0,120)).mean(dim=\"time\")*ds_volcello_u05hosLR.mean(dim=\"time\").volcello*g_per_molC/1e15).isel(depth=np.arange(0,40)).sum(dim='depth')\n",
    ").sum(dim='y').sum(dim='x').values"
   ]
  },
  {
   "cell_type": "code",
   "execution_count": null,
   "id": "43f3c4ef-2c40-4def-aa20-1cb5cc0f9335",
   "metadata": {
    "execution": {
     "iopub.execute_input": "2024-03-10T16:00:08.043399Z",
     "iopub.status.busy": "2024-03-10T16:00:08.043066Z",
     "iopub.status.idle": "2024-03-10T16:00:11.519680Z",
     "shell.execute_reply": "2024-03-10T16:00:11.518818Z",
     "shell.execute_reply.started": "2024-03-10T16:00:08.043376Z"
    },
    "tags": []
   },
   "outputs": [],
   "source": [
    "# Total DIC below 1000m (1085-5720m) u05hosLR last vs first 10 years\n",
    "u05_total_deep = ((ds_dissic_u05hosLR.dissic.isel(time=np.arange(-120,-0)).mean(dim=\"time\")*ds_volcello_u05hosLR.mean(dim=\"time\").volcello*g_per_molC/1e15).isel(depth=np.arange(23,40)).sum(dim='depth')\n",
    "-(ds_dissic_u05hosLR.dissic.isel(time=np.arange(0,120)).mean(dim=\"time\")*ds_volcello_u05hosLR.mean(dim=\"time\").volcello*g_per_molC/1e15).isel(depth=np.arange(23,40)).sum(dim='depth')\n",
    ").sum(dim='y').sum(dim='x').values"
   ]
  },
  {
   "cell_type": "code",
   "execution_count": null,
   "id": "5f30fc36-6bb0-4147-8fd7-344e743e23a6",
   "metadata": {
    "execution": {
     "iopub.execute_input": "2024-03-10T16:00:11.521933Z",
     "iopub.status.busy": "2024-03-10T16:00:11.521581Z",
     "iopub.status.idle": "2024-03-10T16:00:14.980312Z",
     "shell.execute_reply": "2024-03-10T16:00:14.979417Z",
     "shell.execute_reply.started": "2024-03-10T16:00:11.521898Z"
    },
    "tags": []
   },
   "outputs": [],
   "source": [
    "# Total DIC above 1000m (0-1085m) u05hosLR last vs first 10 years\n",
    "u05_total_surf = ((ds_dissic_u05hosLR.dissic.isel(time=np.arange(-120,-0)).mean(dim=\"time\")*ds_volcello_u05hosLR.mean(dim=\"time\").volcello*g_per_molC/1e15).isel(depth=np.arange(0,23)).sum(dim='depth')\n",
    "-(ds_dissic_u05hosLR.dissic.isel(time=np.arange(0,120)).mean(dim=\"time\")*ds_volcello_u05hosLR.mean(dim=\"time\").volcello*g_per_molC/1e15).isel(depth=np.arange(0,23)).sum(dim='depth')\n",
    ").sum(dim='y').sum(dim='x').values"
   ]
  },
  {
   "cell_type": "code",
   "execution_count": null,
   "id": "f05941be-5091-4439-8fb7-1cf87b3825be",
   "metadata": {
    "execution": {
     "iopub.execute_input": "2024-03-10T16:00:14.981803Z",
     "iopub.status.busy": "2024-03-10T16:00:14.981458Z",
     "iopub.status.idle": "2024-03-10T16:00:32.232038Z",
     "shell.execute_reply": "2024-03-10T16:00:32.231225Z",
     "shell.execute_reply.started": "2024-03-10T16:00:14.981780Z"
    },
    "tags": []
   },
   "outputs": [],
   "source": [
    "fig=plt.figure(figsize=(14, 9))\n",
    "\n",
    "ax1 = fig.add_subplot(211, projection=ccrs.Robinson(central_longitude=-60))\n",
    "ax1.set_global()\n",
    "((ds_dissic_u05hosLR.dissic.isel(time=np.arange(-120,0)).mean(dim=\"time\")*ds_volcello_u05hosLR.mean(dim=\"time\").volcello*g_per_molC/1e15).isel(depth=np.arange(0,40)).sum(dim='depth')\n",
    "-(ds_dissic_u05hosLR.dissic.isel(time=np.arange(0,120)).mean(dim=\"time\")*ds_volcello_u05hosLR.mean(dim=\"time\").volcello*g_per_molC/1e15).isel(depth=np.arange(0,40)).sum(dim='depth')\n",
    ").plot.pcolormesh(\n",
    "    ax=ax1, transform=ccrs.PlateCarree(), x=\"lon\", y=\"lat\", vmin=-0.040, vmax=0.040, cmap='RdBu_r', cbar_kwargs={'label': 'PgC, column integrated'})\n",
    "ax1.coastlines()\n",
    "ax1.set_title(\"Full depth (0-5720m)\") \n",
    "ax1.text(-0.08, 1.1, str(round(u05_total_full.item(), 3))+\" PgC\", transform=ax1.transAxes, fontsize=14,\n",
    "        verticalalignment='top', fontweight='bold')\n",
    "\n",
    "ax2 = fig.add_subplot(223, projection=ccrs.Robinson(central_longitude=-60))\n",
    "ax2.set_global()\n",
    "((ds_dissic_u05hosLR.dissic.isel(time=np.arange(-120,0)).mean(dim=\"time\")*ds_volcello_u05hosLR.mean(dim=\"time\").volcello*g_per_molC/1e15).isel(depth=np.arange(0,23)).sum(dim='depth')\n",
    "-(ds_dissic_u05hosLR.dissic.isel(time=np.arange(0,120)).mean(dim=\"time\")*ds_volcello_u05hosLR.mean(dim=\"time\").volcello*g_per_molC/1e15).isel(depth=np.arange(0,23)).sum(dim='depth')\n",
    ").plot.pcolormesh(\n",
    "    ax=ax2, transform=ccrs.PlateCarree(), x=\"lon\", y=\"lat\", cmap='RdBu_r', vmin=-0.040, vmax=0.040, add_colorbar=False)\n",
    "ax2.coastlines()\n",
    "ax2.set_title(\"Upper ocean (0-1085m)\") \n",
    "ax2.text(-0.08, 1.1, str(round(u05_total_surf.item(), 3))+\" PgC\", transform=ax2.transAxes, fontsize=14,\n",
    "        verticalalignment='top', fontweight='bold')\n",
    "\n",
    "ax3 = fig.add_subplot(224, projection=ccrs.Robinson(central_longitude=-60))\n",
    "ax3.set_global()\n",
    "((ds_dissic_u05hosLR.dissic.isel(time=np.arange(-120,0)).mean(dim=\"time\")*ds_volcello_u05hosLR.mean(dim=\"time\").volcello*g_per_molC/1e15).isel(depth=np.arange(23,40)).sum(dim='depth')\n",
    "-(ds_dissic_u05hosLR.dissic.isel(time=np.arange(0,120)).mean(dim=\"time\")*ds_volcello_u05hosLR.mean(dim=\"time\").volcello*g_per_molC/1e15).isel(depth=np.arange(23,40)).sum(dim='depth')\n",
    ").plot.pcolormesh(\n",
    "   ax=ax3, transform=ccrs.PlateCarree(), x=\"lon\", y=\"lat\", cmap='RdBu_r', vmin=-0.040, vmax=0.040, add_colorbar=False)\n",
    "ax3.coastlines()\n",
    "ax3.set_title(\"Deep ocean (1085-5720m)\") \n",
    "ax3.text(-0.08, 1.1, str(round(u05_total_deep.item(), 3))+\" PgC\", transform=ax3.transAxes, fontsize=14,\n",
    "        verticalalignment='top', fontweight='bold')"
   ]
  },
  {
   "cell_type": "code",
   "execution_count": null,
   "id": "a496a88b-66e1-48e2-a241-8f9da9925af0",
   "metadata": {
    "collapsed": true,
    "execution": {
     "iopub.execute_input": "2024-03-10T16:00:32.233476Z",
     "iopub.status.busy": "2024-03-10T16:00:32.233148Z",
     "iopub.status.idle": "2024-03-10T16:01:30.905159Z",
     "shell.execute_reply": "2024-03-10T16:01:30.903608Z",
     "shell.execute_reply.started": "2024-03-10T16:00:32.233453Z"
    },
    "jupyter": {
     "outputs_hidden": true
    },
    "tags": []
   },
   "outputs": [],
   "source": [
    "ds_dissic_g03hosLR.load()"
   ]
  },
  {
   "cell_type": "code",
   "execution_count": null,
   "id": "6584289f-1114-4896-b7d5-5d165cca8457",
   "metadata": {
    "execution": {
     "iopub.execute_input": "2024-03-10T16:01:30.911502Z",
     "iopub.status.busy": "2024-03-10T16:01:30.910977Z",
     "iopub.status.idle": "2024-03-10T16:01:34.530876Z",
     "shell.execute_reply": "2024-03-10T16:01:34.529967Z",
     "shell.execute_reply.started": "2024-03-10T16:01:30.911479Z"
    },
    "tags": []
   },
   "outputs": [],
   "source": [
    "# Total DIC full depth (0-5720m) u05hosLR last vs first 10 years\n",
    "g03_total_full = ((ds_dissic_g03hosLR.dissic.isel(time=np.arange(-120,-0)).mean(dim=\"time\")*ds_volcello_u05hosLR.mean(dim=\"time\").volcello*g_per_molC/1e15).isel(depth=np.arange(0,40)).sum(dim='depth')\n",
    "-(ds_dissic_g03hosLR.dissic.isel(time=np.arange(0,120)).mean(dim=\"time\")*ds_volcello_u05hosLR.mean(dim=\"time\").volcello*g_per_molC/1e15).isel(depth=np.arange(0,40)).sum(dim='depth')\n",
    ").sum(dim='y').sum(dim='x').values"
   ]
  },
  {
   "cell_type": "code",
   "execution_count": null,
   "id": "0de3b51c-4243-4e9e-8d79-e6b2775aa40e",
   "metadata": {
    "execution": {
     "iopub.execute_input": "2024-03-10T16:01:34.532243Z",
     "iopub.status.busy": "2024-03-10T16:01:34.531994Z",
     "iopub.status.idle": "2024-03-10T16:01:38.044208Z",
     "shell.execute_reply": "2024-03-10T16:01:38.043267Z",
     "shell.execute_reply.started": "2024-03-10T16:01:34.532219Z"
    },
    "tags": []
   },
   "outputs": [],
   "source": [
    "# Total DIC below 1000m (1085-5720m) u05hosLR last vs first 10 years\n",
    "g03_total_deep = ((ds_dissic_g03hosLR.dissic.isel(time=np.arange(-120,-0)).mean(dim=\"time\")*ds_volcello_u05hosLR.mean(dim=\"time\").volcello*g_per_molC/1e15).isel(depth=np.arange(23,40)).sum(dim='depth')\n",
    "-(ds_dissic_g03hosLR.dissic.isel(time=np.arange(0,120)).mean(dim=\"time\")*ds_volcello_u05hosLR.mean(dim=\"time\").volcello*g_per_molC/1e15).isel(depth=np.arange(23,40)).sum(dim='depth')\n",
    ").sum(dim='y').sum(dim='x').values"
   ]
  },
  {
   "cell_type": "code",
   "execution_count": null,
   "id": "0c534bc1-229b-4f8e-8400-3ff96243f15e",
   "metadata": {
    "execution": {
     "iopub.execute_input": "2024-03-10T16:01:38.045938Z",
     "iopub.status.busy": "2024-03-10T16:01:38.045403Z",
     "iopub.status.idle": "2024-03-10T16:01:41.560670Z",
     "shell.execute_reply": "2024-03-10T16:01:41.559812Z",
     "shell.execute_reply.started": "2024-03-10T16:01:38.045902Z"
    },
    "tags": []
   },
   "outputs": [],
   "source": [
    "# Total DIC above 1000m (0-1085m) u05hosLR last vs first 10 years\n",
    "g03_total_surf = ((ds_dissic_g03hosLR.dissic.isel(time=np.arange(-120,-0)).mean(dim=\"time\")*ds_volcello_u05hosLR.mean(dim=\"time\").volcello*g_per_molC/1e15).isel(depth=np.arange(0,23)).sum(dim='depth')\n",
    "-(ds_dissic_g03hosLR.dissic.isel(time=np.arange(0,120)).mean(dim=\"time\")*ds_volcello_u05hosLR.mean(dim=\"time\").volcello*g_per_molC/1e15).isel(depth=np.arange(0,23)).sum(dim='depth')\n",
    ").sum(dim='y').sum(dim='x').values"
   ]
  },
  {
   "cell_type": "code",
   "execution_count": null,
   "id": "a6142449-4f1b-45bd-b29a-4846791b0b66",
   "metadata": {
    "execution": {
     "iopub.execute_input": "2024-03-10T16:01:41.563380Z",
     "iopub.status.busy": "2024-03-10T16:01:41.563033Z",
     "iopub.status.idle": "2024-03-10T16:01:59.018640Z",
     "shell.execute_reply": "2024-03-10T16:01:59.017825Z",
     "shell.execute_reply.started": "2024-03-10T16:01:41.563355Z"
    },
    "tags": []
   },
   "outputs": [],
   "source": [
    "fig=plt.figure(figsize=(14, 9))\n",
    "\n",
    "ax1 = fig.add_subplot(211, projection=ccrs.Robinson(central_longitude=-60))\n",
    "ax1.set_global()\n",
    "((ds_dissic_g03hosLR.dissic.isel(time=np.arange(-120,0)).mean(dim=\"time\")*ds_volcello_u05hosLR.mean(dim=\"time\").volcello*g_per_molC/1e15).isel(depth=np.arange(0,40)).sum(dim='depth')\n",
    "-(ds_dissic_g03hosLR.dissic.isel(time=np.arange(0,120)).mean(dim=\"time\")*ds_volcello_u05hosLR.mean(dim=\"time\").volcello*g_per_molC/1e15).isel(depth=np.arange(0,40)).sum(dim='depth')\n",
    ").plot.pcolormesh(\n",
    "    ax=ax1, transform=ccrs.PlateCarree(), x=\"lon\", y=\"lat\", vmin=-0.040, vmax=0.040, cmap='RdBu_r', cbar_kwargs={'label': 'PgC, column integrated'})\n",
    "ax1.coastlines()\n",
    "ax1.set_title(\"Full depth (0-5720m)\") \n",
    "ax1.text(-0.08, 1, str(round(g03_total_full.item(), 3))+\" PgC\", transform=ax1.transAxes, fontsize=14,\n",
    "        verticalalignment='top', fontweight='bold')\n",
    "\n",
    "ax2 = fig.add_subplot(223, projection=ccrs.Robinson(central_longitude=-60))\n",
    "ax2.set_global()\n",
    "((ds_dissic_g03hosLR.dissic.isel(time=np.arange(-120,0)).mean(dim=\"time\")*ds_volcello_u05hosLR.mean(dim=\"time\").volcello*g_per_molC/1e15).isel(depth=np.arange(0,23)).sum(dim='depth')\n",
    "-(ds_dissic_g03hosLR.dissic.isel(time=np.arange(0,120)).mean(dim=\"time\")*ds_volcello_u05hosLR.mean(dim=\"time\").volcello*g_per_molC/1e15).isel(depth=np.arange(0,23)).sum(dim='depth')\n",
    ").plot.pcolormesh(\n",
    "    ax=ax2, transform=ccrs.PlateCarree(), x=\"lon\", y=\"lat\", cmap='RdBu_r', vmin=-0.040, vmax=0.040, add_colorbar=False)\n",
    "ax2.coastlines()\n",
    "ax2.set_title(\"Upper ocean (0-1085m)\") \n",
    "ax2.text(-0.08, 1, str(round(g03_total_surf.item(), 3))+\" PgC\", transform=ax2.transAxes, fontsize=14,\n",
    "        verticalalignment='top', fontweight='bold')\n",
    "\n",
    "\n",
    "ax3 = fig.add_subplot(224, projection=ccrs.Robinson(central_longitude=-60))\n",
    "ax3.set_global()\n",
    "((ds_dissic_g03hosLR.dissic.isel(time=np.arange(-120,0)).mean(dim=\"time\")*ds_volcello_u05hosLR.mean(dim=\"time\").volcello*g_per_molC/1e15).isel(depth=np.arange(23,40)).sum(dim='depth')\n",
    "-(ds_dissic_g03hosLR.dissic.isel(time=np.arange(0,120)).mean(dim=\"time\")*ds_volcello_u05hosLR.mean(dim=\"time\").volcello*g_per_molC/1e15).isel(depth=np.arange(23,40)).sum(dim='depth')\n",
    ").plot.pcolormesh(\n",
    "   ax=ax3, transform=ccrs.PlateCarree(), x=\"lon\", y=\"lat\", cmap='RdBu_r', vmin=-0.040, vmax=0.040, add_colorbar=False)\n",
    "ax3.coastlines()\n",
    "ax3.set_title(\"Deep ocean (1085-5720m)\")\n",
    "ax3.text(-0.08, 1, str(round(g03_total_deep.item(), 3))+\" PgC\", transform=ax3.transAxes, fontsize=14,\n",
    "        verticalalignment='top', fontweight='bold')"
   ]
  },
  {
   "cell_type": "code",
   "execution_count": null,
   "id": "a9ddeb9a-b973-4b4b-bedd-529e9d62ce52",
   "metadata": {
    "collapsed": true,
    "execution": {
     "iopub.execute_input": "2024-03-10T16:01:59.020103Z",
     "iopub.status.busy": "2024-03-10T16:01:59.019756Z",
     "iopub.status.idle": "2024-03-10T16:02:03.970158Z",
     "shell.execute_reply": "2024-03-10T16:02:03.969402Z",
     "shell.execute_reply.started": "2024-03-10T16:01:59.020079Z"
    },
    "jupyter": {
     "outputs_hidden": true
    },
    "tags": []
   },
   "outputs": [],
   "source": [
    "ds_dissic_g01hosLR.load()"
   ]
  },
  {
   "cell_type": "code",
   "execution_count": null,
   "id": "e1d606bc-482b-4fce-b313-6ff14e3110e8",
   "metadata": {
    "execution": {
     "iopub.execute_input": "2024-03-10T16:02:03.971481Z",
     "iopub.status.busy": "2024-03-10T16:02:03.971165Z",
     "iopub.status.idle": "2024-03-10T16:02:04.425596Z",
     "shell.execute_reply": "2024-03-10T16:02:04.424641Z",
     "shell.execute_reply.started": "2024-03-10T16:02:03.971461Z"
    },
    "tags": []
   },
   "outputs": [],
   "source": [
    "# Total DIC full depth (0-5720m) u05hosLR last vs first 10 years\n",
    "g01_total_full = ((ds_dissic_g01hosLR.dissic.isel(time=np.arange(-10,0)).mean(dim=\"time\")*ds_volcello_u05hosLR.mean(dim=\"time\").volcello*g_per_molC/1e15).isel(depth=np.arange(0,40)).sum(dim='depth')\n",
    "-(ds_dissic_g01hosLR.dissic.isel(time=np.arange(0,10)).mean(dim=\"time\")*ds_volcello_u05hosLR.mean(dim=\"time\").volcello*g_per_molC/1e15).isel(depth=np.arange(0,40)).sum(dim='depth')\n",
    ").sum(dim='y').sum(dim='x').values"
   ]
  },
  {
   "cell_type": "code",
   "execution_count": null,
   "id": "568451b8-184a-4480-b12a-dc7fccea1dd3",
   "metadata": {
    "execution": {
     "iopub.execute_input": "2024-03-10T16:02:04.427394Z",
     "iopub.status.busy": "2024-03-10T16:02:04.426798Z",
     "iopub.status.idle": "2024-03-10T16:02:04.851209Z",
     "shell.execute_reply": "2024-03-10T16:02:04.850250Z",
     "shell.execute_reply.started": "2024-03-10T16:02:04.427366Z"
    },
    "tags": []
   },
   "outputs": [],
   "source": [
    "# Total DIC below 1000m (1085-5720m) u05hosLR last vs first 10 years\n",
    "g01_total_deep = ((ds_dissic_g01hosLR.dissic.isel(time=np.arange(-10,-0)).mean(dim=\"time\")*ds_volcello_u05hosLR.mean(dim=\"time\").volcello*g_per_molC/1e15).isel(depth=np.arange(23,40)).sum(dim='depth')\n",
    "-(ds_dissic_g01hosLR.dissic.isel(time=np.arange(0,10)).mean(dim=\"time\")*ds_volcello_u05hosLR.mean(dim=\"time\").volcello*g_per_molC/1e15).isel(depth=np.arange(23,40)).sum(dim='depth')\n",
    ").sum(dim='y').sum(dim='x').values"
   ]
  },
  {
   "cell_type": "code",
   "execution_count": null,
   "id": "2c3f42c6-c7d3-48bf-b9c4-a58eebb1d0c4",
   "metadata": {
    "execution": {
     "iopub.execute_input": "2024-03-10T16:02:04.853040Z",
     "iopub.status.busy": "2024-03-10T16:02:04.852415Z",
     "iopub.status.idle": "2024-03-10T16:02:05.287229Z",
     "shell.execute_reply": "2024-03-10T16:02:05.286347Z",
     "shell.execute_reply.started": "2024-03-10T16:02:04.853014Z"
    },
    "tags": []
   },
   "outputs": [],
   "source": [
    "# Total DIC above 1000m (0-1085m) u05hosLR last vs first 10 years\n",
    "g01_total_surf = ((ds_dissic_g01hosLR.dissic.isel(time=np.arange(-10,-0)).mean(dim=\"time\")*ds_volcello_u05hosLR.mean(dim=\"time\").volcello*g_per_molC/1e15).isel(depth=np.arange(0,23)).sum(dim='depth')\n",
    "-(ds_dissic_g01hosLR.dissic.isel(time=np.arange(0,10)).mean(dim=\"time\")*ds_volcello_u05hosLR.mean(dim=\"time\").volcello*g_per_molC/1e15).isel(depth=np.arange(0,23)).sum(dim='depth')\n",
    ").sum(dim='y').sum(dim='x').values"
   ]
  },
  {
   "cell_type": "code",
   "execution_count": null,
   "id": "39f6ebb0-9533-489f-bcc8-d2d8af16af64",
   "metadata": {
    "execution": {
     "iopub.execute_input": "2024-03-10T16:02:05.288844Z",
     "iopub.status.busy": "2024-03-10T16:02:05.288374Z",
     "iopub.status.idle": "2024-03-10T16:02:13.498010Z",
     "shell.execute_reply": "2024-03-10T16:02:13.497199Z",
     "shell.execute_reply.started": "2024-03-10T16:02:05.288819Z"
    },
    "tags": []
   },
   "outputs": [],
   "source": [
    "fig=plt.figure(figsize=(14, 9))\n",
    "\n",
    "ax1 = fig.add_subplot(211, projection=ccrs.Robinson(central_longitude=-60))\n",
    "ax1.set_global()\n",
    "((ds_dissic_g01hosLR.dissic.isel(time=np.arange(-10,0)).mean(dim=\"time\")*ds_volcello_u05hosLR.mean(dim=\"time\").volcello*g_per_molC/1e15).isel(depth=np.arange(0,40)).sum(dim='depth')\n",
    "-(ds_dissic_g01hosLR.dissic.isel(time=np.arange(0,10)).mean(dim=\"time\")*ds_volcello_u05hosLR.mean(dim=\"time\").volcello*g_per_molC/1e15).isel(depth=np.arange(0,40)).sum(dim='depth')\n",
    ").plot.pcolormesh(\n",
    "    ax=ax1, transform=ccrs.PlateCarree(), x=\"lon\", y=\"lat\", vmin=-0.040, vmax=0.040, cmap='RdBu_r', cbar_kwargs={'label': 'PgC, column integrated'})\n",
    "ax1.coastlines()\n",
    "ax1.set_title(\"Full depth (0-5720m)\") \n",
    "ax1.text(-0.08, 1, str(round(g01_total_full.item(), 3))+\" PgC\", transform=ax1.transAxes, fontsize=14,\n",
    "        verticalalignment='top', fontweight='bold')\n",
    "\n",
    "ax2 = fig.add_subplot(223, projection=ccrs.Robinson(central_longitude=-60))\n",
    "ax2.set_global()\n",
    "((ds_dissic_g01hosLR.dissic.isel(time=np.arange(-10,0)).mean(dim=\"time\")*ds_volcello_u05hosLR.mean(dim=\"time\").volcello*g_per_molC/1e15).isel(depth=np.arange(0,23)).sum(dim='depth')\n",
    "-(ds_dissic_g01hosLR.dissic.isel(time=np.arange(0,10)).mean(dim=\"time\")*ds_volcello_u05hosLR.mean(dim=\"time\").volcello*g_per_molC/1e15).isel(depth=np.arange(0,23)).sum(dim='depth')\n",
    ").plot.pcolormesh(\n",
    "    ax=ax2, transform=ccrs.PlateCarree(), x=\"lon\", y=\"lat\", cmap='RdBu_r', vmin=-0.040, vmax=0.040, add_colorbar=False)\n",
    "ax2.coastlines()\n",
    "ax2.set_title(\"Upper ocean (0-1085m)\") \n",
    "ax2.text(-0.08, 1, str(round(g01_total_surf.item(), 3))+\" PgC\", transform=ax2.transAxes, fontsize=14,\n",
    "        verticalalignment='top', fontweight='bold')\n",
    "\n",
    "ax3 = fig.add_subplot(224, projection=ccrs.Robinson(central_longitude=-60))\n",
    "ax3.set_global()\n",
    "((ds_dissic_g01hosLR.dissic.isel(time=np.arange(-10,0)).mean(dim=\"time\")*ds_volcello_u05hosLR.mean(dim=\"time\").volcello*g_per_molC/1e15).isel(depth=np.arange(23,40)).sum(dim='depth')\n",
    "-(ds_dissic_g01hosLR.dissic.isel(time=np.arange(0,10)).mean(dim=\"time\")*ds_volcello_u05hosLR.mean(dim=\"time\").volcello*g_per_molC/1e15).isel(depth=np.arange(23,40)).sum(dim='depth')\n",
    ").plot.pcolormesh(\n",
    "   ax=ax3, transform=ccrs.PlateCarree(), x=\"lon\", y=\"lat\", cmap='RdBu_r', vmin=-0.040, vmax=0.040, add_colorbar=False)\n",
    "ax3.coastlines()\n",
    "ax3.set_title(\"Deep ocean (1085-5720m)\")\n",
    "ax3.text(-0.08, 1, str(round(g01_total_deep.item(), 3))+\" PgC\", transform=ax3.transAxes, fontsize=14,\n",
    "        verticalalignment='top', fontweight='bold')"
   ]
  },
  {
   "cell_type": "code",
   "execution_count": null,
   "id": "6526b6fb-a491-4588-bdbf-f46826093f41",
   "metadata": {
    "execution": {
     "iopub.execute_input": "2024-03-10T16:02:13.499498Z",
     "iopub.status.busy": "2024-03-10T16:02:13.499172Z",
     "iopub.status.idle": "2024-03-10T16:02:33.972575Z",
     "shell.execute_reply": "2024-03-10T16:02:33.971745Z",
     "shell.execute_reply.started": "2024-03-10T16:02:13.499476Z"
    },
    "tags": []
   },
   "outputs": [],
   "source": [
    "fig=plt.figure(figsize=(14, 6))\n",
    "\n",
    "ax1 = fig.add_subplot(221, projection=ccrs.Robinson(central_longitude=-60))\n",
    "ax1.set_global()\n",
    "((ds_dissic_u03hosLR.dissic.isel(time=np.arange(-120,0)).mean(dim=\"time\")*ds_volcello_u05hosLR.mean(dim=\"time\").volcello*g_per_molC/1e15).isel(depth=np.arange(0,40)).sum(dim='depth')\n",
    "-(ds_dissic_u03hosLR.dissic.isel(time=np.arange(0,120)).mean(dim=\"time\")*ds_volcello_u05hosLR.mean(dim=\"time\").volcello*g_per_molC/1e15).isel(depth=np.arange(0,40)).sum(dim='depth')\n",
    ").plot.pcolormesh(\n",
    "    ax=ax1, transform=ccrs.PlateCarree(), x=\"lon\", y=\"lat\", vmin=-0.040, vmax=0.040, cmap='RdBu_r', cbar_kwargs={'label': 'PgC, column integrated'})\n",
    "ax1.coastlines()\n",
    "ax1.set_title(\"u03\")\n",
    "ax1.text(-0.1, 1.1, str(round(u03_total_full.item(), 3))+\" PgC\", transform=ax1.transAxes, fontsize=14,\n",
    "        verticalalignment='top', fontweight='bold')\n",
    "\n",
    "ax2 = fig.add_subplot(222, projection=ccrs.Robinson(central_longitude=-60))\n",
    "ax2.set_global()\n",
    "((ds_dissic_u05hosLR.dissic.isel(time=np.arange(-120,0)).mean(dim=\"time\")*ds_volcello_u05hosLR.mean(dim=\"time\").volcello*g_per_molC/1e15).isel(depth=np.arange(0,40)).sum(dim='depth')\n",
    "-(ds_dissic_u05hosLR.dissic.isel(time=np.arange(0,120)).mean(dim=\"time\")*ds_volcello_u05hosLR.mean(dim=\"time\").volcello*g_per_molC/1e15).isel(depth=np.arange(0,40)).sum(dim='depth')\n",
    ").plot.pcolormesh(\n",
    "    ax=ax2, transform=ccrs.PlateCarree(), x=\"lon\", y=\"lat\", vmin=-0.040, vmax=0.040, cmap='RdBu_r', cbar_kwargs={'label': 'PgC, column integrated'})\n",
    "ax2.coastlines()\n",
    "ax2.set_title(\"u05\")\n",
    "ax2.text(-0.1, 1.1, str(round(u05_total_full.item(), 3))+\" PgC\", transform=ax2.transAxes, fontsize=14,\n",
    "        verticalalignment='top', fontweight='bold')\n",
    "\n",
    "\n",
    "ax3 = fig.add_subplot(223, projection=ccrs.Robinson(central_longitude=-60))\n",
    "ax3.set_global()\n",
    "((ds_dissic_g03hosLR.dissic.isel(time=np.arange(-120,0)).mean(dim=\"time\")*ds_volcello_u05hosLR.mean(dim=\"time\").volcello*g_per_molC/1e15).isel(depth=np.arange(0,40)).sum(dim='depth')\n",
    "-(ds_dissic_g03hosLR.dissic.isel(time=np.arange(0,120)).mean(dim=\"time\")*ds_volcello_u05hosLR.mean(dim=\"time\").volcello*g_per_molC/1e15).isel(depth=np.arange(0,40)).sum(dim='depth')\n",
    ").plot.pcolormesh(\n",
    "    ax=ax3, transform=ccrs.PlateCarree(), x=\"lon\", y=\"lat\", vmin=-0.040, vmax=0.040, cmap='RdBu_r', cbar_kwargs={'label': 'PgC, column integrated'})\n",
    "ax3.coastlines()\n",
    "ax3.set_title(\"g03\")\n",
    "ax3.text(-0.1, 1.1, str(round(g03_total_full.item(), 3))+\" PgC\", transform=ax3.transAxes, fontsize=14,\n",
    "        verticalalignment='top', fontweight='bold')\n",
    "\n",
    "\n",
    "ax4 = fig.add_subplot(224, projection=ccrs.Robinson(central_longitude=-60))\n",
    "ax4.set_global()\n",
    "((ds_dissic_g01hosLR.dissic.isel(time=np.arange(-10,0)).mean(dim=\"time\")*ds_volcello_u05hosLR.mean(dim=\"time\").volcello*g_per_molC/1e15).isel(depth=np.arange(0,40)).sum(dim='depth')\n",
    "-(ds_dissic_g01hosLR.dissic.isel(time=np.arange(0,10)).mean(dim=\"time\")*ds_volcello_u05hosLR.mean(dim=\"time\").volcello*g_per_molC/1e15).isel(depth=np.arange(0,40)).sum(dim='depth')\n",
    ").plot.pcolormesh(\n",
    "    ax=ax4, transform=ccrs.PlateCarree(), x=\"lon\", y=\"lat\", vmin=-0.040, vmax=0.040, cmap='RdBu_r', cbar_kwargs={'label': 'PgC, column integrated'})\n",
    "ax4.coastlines()\n",
    "ax4.set_title(\"g01\")\n",
    "ax4.text(-0.1, 1.1, str(round(g01_total_full.item(), 3))+\" PgC\", transform=ax4.transAxes, fontsize=14,\n",
    "        verticalalignment='top', fontweight='bold')"
   ]
  },
  {
   "cell_type": "code",
   "execution_count": null,
   "id": "525a6103-06b0-4684-8aeb-24eadcd80d46",
   "metadata": {
    "execution": {
     "iopub.execute_input": "2024-06-24T08:58:58.818575Z",
     "iopub.status.busy": "2024-06-24T08:58:58.818120Z",
     "iopub.status.idle": "2024-06-24T08:59:24.200581Z",
     "shell.execute_reply": "2024-06-24T08:59:24.199759Z",
     "shell.execute_reply.started": "2024-06-24T08:58:58.818549Z"
    },
    "tags": []
   },
   "outputs": [],
   "source": [
    "ds_dissic_1pctbgc_year = ds_dissic_1pctbgc.dissic.groupby('time.year').mean('time')"
   ]
  },
  {
   "cell_type": "code",
   "execution_count": null,
   "id": "ea15e00c-fa40-43e7-bfd0-d7d3357cec9b",
   "metadata": {
    "collapsed": true,
    "execution": {
     "iopub.execute_input": "2024-06-24T08:59:24.270456Z",
     "iopub.status.busy": "2024-06-24T08:59:24.270009Z",
     "iopub.status.idle": "2024-06-24T08:59:43.157848Z",
     "shell.execute_reply": "2024-06-24T08:59:43.156316Z",
     "shell.execute_reply.started": "2024-06-24T08:59:24.270437Z"
    },
    "jupyter": {
     "outputs_hidden": true
    },
    "scrolled": true,
    "tags": []
   },
   "outputs": [],
   "source": [
    "ds_dissic_1pctbgc_year.load()\n",
    "ds_dissic_u051pctbgcLR.load()\n",
    "ds_dissic_u031pctbgcLR.load()\n",
    "ds_dissic_u011pctbgcLR.load()\n",
    "ds_dissic_g011pctbgcLR.load()\n",
    "ds_dissic_g031pctbgcLR.load()\n",
    "ds_dissic_g051pctbgcLR.load()"
   ]
  },
  {
   "cell_type": "code",
   "execution_count": null,
   "id": "3479d031-4fe7-41d3-b766-d4e6dc6dcb3a",
   "metadata": {
    "execution": {
     "iopub.execute_input": "2024-06-24T08:59:43.166272Z",
     "iopub.status.busy": "2024-06-24T08:59:43.165668Z",
     "iopub.status.idle": "2024-06-24T09:01:14.970719Z",
     "shell.execute_reply": "2024-06-24T09:01:14.969912Z",
     "shell.execute_reply.started": "2024-06-24T08:59:43.166250Z"
    },
    "tags": []
   },
   "outputs": [],
   "source": [
    "diff_dissic_u051pctbgc = []\n",
    "diff_dissic_u031pctbgc = []\n",
    "diff_dissic_u011pctbgc = []\n",
    "diff_dissic_g011pctbgc = []\n",
    "diff_dissic_g031pctbgc = []\n",
    "diff_dissic_g051pctbgc = []\n",
    "diff_dissic_1pctbgc    = []\n",
    "for year in tqdm(range(1,140)):\n",
    "    diff_dissic_u051pctbgc.append(\n",
    "        ((ds_dissic_u051pctbgcLR.dissic.isel(time=np.arange(year,year+1))*ds_volcello_u05hosLR.sum(dim=\"time\").volcello*g_per_molC/1e15).isel(depth=np.arange(0,40)).sum(dim='depth')\n",
    "        -(ds_dissic_u051pctbgcLR.dissic.isel(time=0)*ds_volcello_u05hosLR.sum(dim=\"time\").volcello*g_per_molC/1e15).isel(depth=np.arange(0,40)).sum(dim='depth')\n",
    "        ).sum(dim='y').sum(dim='x').values)\n",
    "    diff_dissic_u031pctbgc.append(\n",
    "        ((ds_dissic_u031pctbgcLR.dissic.isel(time=np.arange(year,year+1))*ds_volcello_u05hosLR.sum(dim=\"time\").volcello*g_per_molC/1e15).isel(depth=np.arange(0,40)).sum(dim='depth')\n",
    "        -(ds_dissic_u031pctbgcLR.dissic.isel(time=0)*ds_volcello_u05hosLR.sum(dim=\"time\").volcello*g_per_molC/1e15).isel(depth=np.arange(0,40)).sum(dim='depth')\n",
    "        ).sum(dim='y').sum(dim='x').values)\n",
    "    diff_dissic_u011pctbgc.append(\n",
    "        ((ds_dissic_u011pctbgcLR.dissic.isel(time=np.arange(year,year+1))*ds_volcello_u05hosLR.sum(dim=\"time\").volcello*g_per_molC/1e15).isel(depth=np.arange(0,40)).sum(dim='depth')\n",
    "        -(ds_dissic_u011pctbgcLR.dissic.isel(time=0)*ds_volcello_u05hosLR.sum(dim=\"time\").volcello*g_per_molC/1e15).isel(depth=np.arange(0,40)).sum(dim='depth')\n",
    "        ).sum(dim='y').sum(dim='x').values)\n",
    "    diff_dissic_g011pctbgc.append(\n",
    "        ((ds_dissic_g011pctbgcLR.dissic.isel(time=np.arange(year,year+1))*ds_volcello_u05hosLR.sum(dim=\"time\").volcello*g_per_molC/1e15).isel(depth=np.arange(0,40)).sum(dim='depth')\n",
    "        -(ds_dissic_g011pctbgcLR.dissic.isel(time=0)*ds_volcello_u05hosLR.sum(dim=\"time\").volcello*g_per_molC/1e15).isel(depth=np.arange(0,40)).sum(dim='depth')\n",
    "        ).sum(dim='y').sum(dim='x').values)\n",
    "    diff_dissic_g031pctbgc.append(\n",
    "        ((ds_dissic_g031pctbgcLR.dissic.isel(time=np.arange(year,year+1))*ds_volcello_u05hosLR.sum(dim=\"time\").volcello*g_per_molC/1e15).isel(depth=np.arange(0,40)).sum(dim='depth')\n",
    "        -(ds_dissic_g031pctbgcLR.dissic.isel(time=0)*ds_volcello_u05hosLR.sum(dim=\"time\").volcello*g_per_molC/1e15).isel(depth=np.arange(0,40)).sum(dim='depth')\n",
    "        ).sum(dim='y').sum(dim='x').values)\n",
    "    diff_dissic_g051pctbgc.append(\n",
    "        ((ds_dissic_g051pctbgcLR.dissic.isel(time=np.arange(year,year+1))*ds_volcello_u05hosLR.sum(dim=\"time\").volcello*g_per_molC/1e15).isel(depth=np.arange(0,40)).sum(dim='depth')\n",
    "        -(ds_dissic_g051pctbgcLR.dissic.isel(time=0)*ds_volcello_u05hosLR.sum(dim=\"time\").volcello*g_per_molC/1e15).isel(depth=np.arange(0,40)).sum(dim='depth')\n",
    "        ).sum(dim='y').sum(dim='x').values)\n",
    "    diff_dissic_1pctbgc.append(\n",
    "        ((ds_dissic_1pctbgc_year.isel(year=np.arange(year,year+1))*ds_volcello.volcello*g_per_molC/1e15).isel(lev=np.arange(0,40)).sum(dim='lev')\n",
    "        -(ds_dissic_1pctbgc_year.isel(year=0)*ds_volcello.volcello*g_per_molC/1e15).isel(lev=np.arange(0,40)).sum(dim='lev')\n",
    "        ).sum(dim='j').sum(dim='i').values)"
   ]
  },
  {
   "cell_type": "code",
   "execution_count": null,
   "id": "b61c77e5-125c-48b0-83b2-f750990ee868",
   "metadata": {
    "collapsed": true,
    "execution": {
     "iopub.execute_input": "2024-08-06T07:45:35.927303Z",
     "iopub.status.busy": "2024-08-06T07:45:35.926834Z",
     "iopub.status.idle": "2024-08-06T07:45:41.823736Z",
     "shell.execute_reply": "2024-08-06T07:45:41.823159Z",
     "shell.execute_reply.started": "2024-08-06T07:45:35.927280Z"
    },
    "jupyter": {
     "outputs_hidden": true
    }
   },
   "outputs": [],
   "source": [
    "ds_dissic_u03ssp126bgcLR.load()\n",
    "ds_dissic_u03ssp245bgcLR.load()\n",
    "ds_dissic_u03ssp585bgcLR.load()"
   ]
  },
  {
   "cell_type": "code",
   "execution_count": null,
   "id": "8afdd73c-415e-48a1-9d03-19bde31ead72",
   "metadata": {
    "execution": {
     "iopub.execute_input": "2024-08-06T07:48:34.062396Z",
     "iopub.status.busy": "2024-08-06T07:48:34.061942Z",
     "iopub.status.idle": "2024-08-06T07:48:58.935279Z",
     "shell.execute_reply": "2024-08-06T07:48:58.934668Z",
     "shell.execute_reply.started": "2024-08-06T07:48:34.062370Z"
    },
    "tags": []
   },
   "outputs": [],
   "source": [
    "diff_dissic_ = []\n",
    "diff_dissic_u03ssp126bgc = []\n",
    "diff_dissic_u03ssp245bgc = []\n",
    "diff_dissic_u03ssp585bgc = []\n",
    "\n",
    "for year in tqdm(range(1,85)):\n",
    "    diff_dissic_u03ssp126bgc.append(\n",
    "        ((ds_dissic_u03ssp126bgcLR.dissic.isel(time=np.arange(year,year+1))*ds_volcello_u05hosLR.sum(dim=\"time\").volcello*g_per_molC/1e15).isel(depth=np.arange(0,40)).sum(dim='depth')\n",
    "        -(ds_dissic_u03ssp126bgcLR.dissic.isel(time=0)*ds_volcello_u05hosLR.sum(dim=\"time\").volcello*g_per_molC/1e15).isel(depth=np.arange(0,40)).sum(dim='depth')\n",
    "        ).sum(dim='y').sum(dim='x').values)\n",
    "    diff_dissic_u03ssp245bgc.append(\n",
    "        ((ds_dissic_u03ssp245bgcLR.dissic.isel(time=np.arange(year,year+1))*ds_volcello_u05hosLR.sum(dim=\"time\").volcello*g_per_molC/1e15).isel(depth=np.arange(0,40)).sum(dim='depth')\n",
    "        -(ds_dissic_u03ssp245bgcLR.dissic.isel(time=0)*ds_volcello_u05hosLR.sum(dim=\"time\").volcello*g_per_molC/1e15).isel(depth=np.arange(0,40)).sum(dim='depth')\n",
    "        ).sum(dim='y').sum(dim='x').values)\n",
    "    diff_dissic_u03ssp585bgc.append(\n",
    "        ((ds_dissic_u03ssp585bgcLR.dissic.isel(time=np.arange(year,year+1))*ds_volcello_u05hosLR.sum(dim=\"time\").volcello*g_per_molC/1e15).isel(depth=np.arange(0,40)).sum(dim='depth')\n",
    "        -(ds_dissic_u03ssp585bgcLR.dissic.isel(time=0)*ds_volcello_u05hosLR.sum(dim=\"time\").volcello*g_per_molC/1e15).isel(depth=np.arange(0,40)).sum(dim='depth')\n",
    "        ).sum(dim='y').sum(dim='x').values)"
   ]
  },
  {
   "cell_type": "code",
   "execution_count": null,
   "id": "19f42565-eaf8-473f-a45e-2874b272c87a",
   "metadata": {
    "execution": {
     "iopub.execute_input": "2024-08-20T15:59:24.853482Z",
     "iopub.status.busy": "2024-08-20T15:59:24.853047Z",
     "iopub.status.idle": "2024-08-20T15:59:36.578370Z",
     "shell.execute_reply": "2024-08-20T15:59:36.577724Z",
     "shell.execute_reply.started": "2024-08-20T15:59:24.853460Z"
    },
    "scrolled": true,
    "tags": []
   },
   "outputs": [],
   "source": [
    "ds_dissic_u05ssp245bgcLR.load()\n",
    "ds_dissic_u03ssp245bgcLR.load()\n",
    "ds_dissic_u01ssp245bgcLR.load()\n",
    "ds_dissic_g01ssp245bgcLR.load()\n",
    "ds_dissic_g03ssp245bgcLR.load()\n",
    "ds_dissic_g05ssp245bgcLR.load()\n",
    "ds_dissic_ssp245bgcLR.load()"
   ]
  },
  {
   "cell_type": "code",
   "execution_count": null,
   "id": "1aedfa69-4932-4edf-a869-eb0b34c8216c",
   "metadata": {
    "execution": {
     "iopub.execute_input": "2024-08-20T15:59:36.579879Z",
     "iopub.status.busy": "2024-08-20T15:59:36.579526Z",
     "iopub.status.idle": "2024-08-20T16:00:26.553262Z",
     "shell.execute_reply": "2024-08-20T16:00:26.552535Z",
     "shell.execute_reply.started": "2024-08-20T15:59:36.579858Z"
    },
    "tags": []
   },
   "outputs": [],
   "source": [
    "diff_dissic_u05ssp245bgc = []\n",
    "diff_dissic_u03ssp245bgc = []\n",
    "diff_dissic_u01ssp245bgc = []\n",
    "diff_dissic_g01ssp245bgc = []\n",
    "diff_dissic_g03ssp245bgc = []\n",
    "diff_dissic_g05ssp245bgc = []\n",
    "diff_dissic_ssp245bgc    = []\n",
    "for year in tqdm(range(1,85)):\n",
    "    diff_dissic_u05ssp245bgc.append(\n",
    "        ((ds_dissic_u05ssp245bgcLR.dissic.isel(time=np.arange(year,year+1))*ds_volcello_u05hosLR.sum(dim=\"time\").volcello*g_per_molC/1e15).isel(depth=np.arange(0,40)).sum(dim='depth')\n",
    "        -(ds_dissic_u05ssp245bgcLR.dissic.isel(time=0)*ds_volcello_u05hosLR.sum(dim=\"time\").volcello*g_per_molC/1e15).isel(depth=np.arange(0,40)).sum(dim='depth')\n",
    "        ).sum(dim='y').sum(dim='x').values)\n",
    "    diff_dissic_u03ssp245bgc.append(\n",
    "        ((ds_dissic_u03ssp245bgcLR.dissic.isel(time=np.arange(year,year+1))*ds_volcello_u05hosLR.sum(dim=\"time\").volcello*g_per_molC/1e15).isel(depth=np.arange(0,40)).sum(dim='depth')\n",
    "        -(ds_dissic_u03ssp245bgcLR.dissic.isel(time=0)*ds_volcello_u05hosLR.sum(dim=\"time\").volcello*g_per_molC/1e15).isel(depth=np.arange(0,40)).sum(dim='depth')\n",
    "        ).sum(dim='y').sum(dim='x').values)\n",
    "    diff_dissic_u01ssp245bgc.append(\n",
    "        ((ds_dissic_u01ssp245bgcLR.dissic.isel(time=np.arange(year,year+1))*ds_volcello_u05hosLR.sum(dim=\"time\").volcello*g_per_molC/1e15).isel(depth=np.arange(0,40)).sum(dim='depth')\n",
    "        -(ds_dissic_u01ssp245bgcLR.dissic.isel(time=0)*ds_volcello_u05hosLR.sum(dim=\"time\").volcello*g_per_molC/1e15).isel(depth=np.arange(0,40)).sum(dim='depth')\n",
    "        ).sum(dim='y').sum(dim='x').values)\n",
    "    diff_dissic_g01ssp245bgc.append(\n",
    "        ((ds_dissic_g01ssp245bgcLR.dissic.isel(time=np.arange(year,year+1))*ds_volcello_u05hosLR.sum(dim=\"time\").volcello*g_per_molC/1e15).isel(depth=np.arange(0,40)).sum(dim='depth')\n",
    "        -(ds_dissic_g01ssp245bgcLR.dissic.isel(time=0)*ds_volcello_u05hosLR.sum(dim=\"time\").volcello*g_per_molC/1e15).isel(depth=np.arange(0,40)).sum(dim='depth')\n",
    "        ).sum(dim='y').sum(dim='x').values)\n",
    "    diff_dissic_g03ssp245bgc.append(\n",
    "        ((ds_dissic_g03ssp245bgcLR.dissic.isel(time=np.arange(year,year+1))*ds_volcello_u05hosLR.sum(dim=\"time\").volcello*g_per_molC/1e15).isel(depth=np.arange(0,40)).sum(dim='depth')\n",
    "        -(ds_dissic_g03ssp245bgcLR.dissic.isel(time=0)*ds_volcello_u05hosLR.sum(dim=\"time\").volcello*g_per_molC/1e15).isel(depth=np.arange(0,40)).sum(dim='depth')\n",
    "        ).sum(dim='y').sum(dim='x').values)\n",
    "    diff_dissic_g05ssp245bgc.append(\n",
    "        ((ds_dissic_g05ssp245bgcLR.dissic.isel(time=np.arange(year,year+1))*ds_volcello_u05hosLR.sum(dim=\"time\").volcello*g_per_molC/1e15).isel(depth=np.arange(0,40)).sum(dim='depth')\n",
    "        -(ds_dissic_g05ssp245bgcLR.dissic.isel(time=0)*ds_volcello_u05hosLR.sum(dim=\"time\").volcello*g_per_molC/1e15).isel(depth=np.arange(0,40)).sum(dim='depth')\n",
    "        ).sum(dim='y').sum(dim='x').values)\n",
    "    diff_dissic_ssp245bgc.append(\n",
    "        ((ds_dissic_ssp245bgcLR.dissic.isel(time=np.arange(year,year+1))*ds_volcello_u05hosLR.sum(dim=\"time\").volcello*g_per_molC/1e15).isel(depth=np.arange(0,40)).sum(dim='depth')\n",
    "        -(ds_dissic_ssp245bgcLR.dissic.isel(time=0)*ds_volcello_u05hosLR.sum(dim=\"time\").volcello*g_per_molC/1e15).isel(depth=np.arange(0,40)).sum(dim='depth')\n",
    "        ).sum(dim='y').sum(dim='x').values)"
   ]
  },
  {
   "cell_type": "code",
   "execution_count": null,
   "id": "c6432fc6-8734-4d7c-b567-7c8cf4f3e0b5",
   "metadata": {
    "execution": {
     "iopub.execute_input": "2024-06-24T10:39:04.438110Z",
     "iopub.status.busy": "2024-06-24T10:39:04.437384Z",
     "iopub.status.idle": "2024-06-24T10:39:04.442970Z",
     "shell.execute_reply": "2024-06-24T10:39:04.442322Z",
     "shell.execute_reply.started": "2024-06-24T10:39:04.438086Z"
    },
    "tags": []
   },
   "outputs": [],
   "source": [
    "diff_dissic_1pctbgc = np.array(diff_dissic_1pctbgc)\n",
    "diff_dissic_g011pctbgc = np.array(diff_dissic_g011pctbgc)\n",
    "diff_dissic_g031pctbgc = np.array(diff_dissic_g031pctbgc)\n",
    "diff_dissic_g051pctbgc = np.array(diff_dissic_g051pctbgc)\n",
    "diff_dissic_u011pctbgc = np.array(diff_dissic_u011pctbgc)\n",
    "diff_dissic_u031pctbgc = np.array(diff_dissic_u031pctbgc)\n",
    "diff_dissic_u051pctbgc = np.array(diff_dissic_u051pctbgc)"
   ]
  },
  {
   "cell_type": "code",
   "execution_count": null,
   "id": "3f1fd45a-3fe5-4a3e-b95a-1927f9f34876",
   "metadata": {
    "execution": {
     "iopub.execute_input": "2024-08-06T07:49:24.382060Z",
     "iopub.status.busy": "2024-08-06T07:49:24.381584Z",
     "iopub.status.idle": "2024-08-06T07:49:24.385996Z",
     "shell.execute_reply": "2024-08-06T07:49:24.385407Z",
     "shell.execute_reply.started": "2024-08-06T07:49:24.382036Z"
    }
   },
   "outputs": [],
   "source": [
    "diff_dissic_u03ssp126bgc = np.array(diff_dissic_u03ssp126bgc)\n",
    "diff_dissic_u03ssp245bgc = np.array(diff_dissic_u03ssp245bgc)\n",
    "diff_dissic_u03ssp585bgc = np.array(diff_dissic_u03ssp585bgc)"
   ]
  },
  {
   "cell_type": "code",
   "execution_count": null,
   "id": "fdbbddf4-ae26-4ddc-927b-06dfbb28af96",
   "metadata": {
    "execution": {
     "iopub.execute_input": "2024-08-20T16:00:51.017481Z",
     "iopub.status.busy": "2024-08-20T16:00:51.017061Z",
     "iopub.status.idle": "2024-08-20T16:00:51.022001Z",
     "shell.execute_reply": "2024-08-20T16:00:51.021512Z",
     "shell.execute_reply.started": "2024-08-20T16:00:51.017459Z"
    },
    "tags": []
   },
   "outputs": [],
   "source": [
    "diff_dissic_ssp245bgc = np.array(diff_dissic_ssp245bgc)\n",
    "diff_dissic_g01ssp245bgc = np.array(diff_dissic_g01ssp245bgc)\n",
    "diff_dissic_g03ssp245bgc = np.array(diff_dissic_g03ssp245bgc)\n",
    "diff_dissic_g05ssp245bgc = np.array(diff_dissic_g05ssp245bgc)\n",
    "diff_dissic_u01ssp245bgc = np.array(diff_dissic_u01ssp245bgc)\n",
    "diff_dissic_u03ssp245bgc = np.array(diff_dissic_u03ssp245bgc)\n",
    "diff_dissic_u05ssp245bgc = np.array(diff_dissic_u05ssp245bgc)"
   ]
  },
  {
   "cell_type": "code",
   "execution_count": null,
   "id": "594daa2b-8040-4110-a84d-378f4e30f61d",
   "metadata": {
    "execution": {
     "iopub.execute_input": "2024-04-09T17:53:04.119862Z",
     "iopub.status.busy": "2024-04-09T17:53:04.119396Z",
     "iopub.status.idle": "2024-04-09T17:53:55.718814Z",
     "shell.execute_reply": "2024-04-09T17:53:55.718374Z",
     "shell.execute_reply.started": "2024-04-09T17:53:04.119843Z"
    },
    "tags": []
   },
   "outputs": [],
   "source": [
    "fig, axs = plt.subplots(2, 1, figsize=(7,7), sharex=True)\n",
    "fig.subplots_adjust(hspace=0)\n",
    "plt.rcParams['font.size'] = 13\n",
    "\n",
    "axs[0].plot(np.arange(1851, 1990), -(diff_dissic_1pctbgc-diff_dissic_1pctbgc), label ='1pct-bgc', color='dimgrey')\n",
    "axs[0].plot(np.arange(1851, 1990), -(diff_dissic_1pctbgc-diff_dissic_g011pctbgc), label ='g01-1pct-bgc', color='lightblue')\n",
    "axs[0].plot(np.arange(1851, 1990), -(diff_dissic_1pctbgc-diff_dissic_g031pctbgc), label ='g03-1pct-bgc', color='dodgerblue')\n",
    "axs[0].plot(np.arange(1851, 1990), -(diff_dissic_1pctbgc-diff_dissic_g051pctbgc), label ='g05-1pct-bgc', color='darkblue')\n",
    "axs[0].plot(np.arange(1851, 1990), -(diff_dissic_1pctbgc-diff_dissic_u011pctbgc), label ='u01-1pct-bgc', color='peachpuff')\n",
    "axs[0].plot(np.arange(1851, 1990), -(diff_dissic_1pctbgc-diff_dissic_u031pctbgc), label ='u03-1pct-bgc', color='salmon')\n",
    "axs[0].plot(np.arange(1851, 1990), -(diff_dissic_1pctbgc-diff_dissic_u051pctbgc), label ='u05-1pct-bgc', color='darkred')\n",
    "axs[0].set_ylabel('$\\Delta$C in ocean w.r.t. 1pct-bgc [PgC]')\n",
    "axs[0].set_title(\"\")\n",
    "axs[0].set_xlabel(\"\")\n",
    "axs[0].tick_params(axis='y')\n",
    "axs[0].spines['bottom'].set_visible(False)\n",
    "axs[0].spines['top'].set_visible(False)\n",
    "axs[0].spines['right'].set_visible(False)\n",
    "axs[0].set_xticks([])\n",
    "axs[0].get_xaxis().set_visible(False)\n",
    "axs[0].legend(loc=3)\n",
    "\n",
    "(ds_msftmz_1pctbgc.isel(basin=1).sel(lat=26.5).sel(lev=1020).groupby('time.year').mean('time').msftmz/1e9).plot(ax=axs[1], color='dimgrey', label ='1pct-bgc')\n",
    "(ds_msftmz_g011pctbgcLR.sel(lat=26.5).sel(depth_2=1020).sel(lon=0).groupby('time.year').mean('time').atlantic_moc/1e9).plot(ax=axs[1], color='lightblue', label ='g01-1pct-bgc')\n",
    "(ds_msftmz_g031pctbgcLR.sel(lat=26.5).sel(depth_2=1020).sel(lon=0).groupby('time.year').mean('time').atlantic_moc/1e9).plot(ax=axs[1], color='dodgerblue', label ='g03-1pct-bgc')\n",
    "(ds_msftmz_g051pctbgcLR.sel(lat=26.5).sel(depth_2=1020).sel(lon=0).groupby('time.year').mean('time').atlantic_moc/1e9).plot(ax=axs[1], color='darkblue', label ='g05-1pct-bgc')\n",
    "(ds_msftmz_u011pctbgcLR.sel(lat=26.5).sel(depth_2=1020).sel(lon=0).groupby('time.year').mean('time').atlantic_moc/1e9).plot(ax=axs[1], color='peachpuff', label ='u01-1pct-bgc')\n",
    "(ds_msftmz_u031pctbgcLR.sel(lat=26.5).sel(depth_2=1020).sel(lon=0).groupby('time.year').mean('time').atlantic_moc/1e9).plot(ax=axs[1], color='salmon', label ='u03-1pct-bgc')\n",
    "(ds_msftmz_u051pctbgcLR.sel(lat=26.5).sel(depth_2=1020).sel(lon=0).groupby('time.year').mean('time').atlantic_moc/1e9).plot(ax=axs[1], color='darkred', label ='u05-1pct-bgc')\n",
    "axs[1].set_ylabel(\"AMOC strength [Sv]\")\n",
    "axs[1].tick_params(axis='y')\n",
    "axs[1].spines['left'].set_visible(False)\n",
    "axs[1].spines['top'].set_visible(False)\n",
    "axs[1].set_xlabel(\"Time [year]\")\n",
    "axs[1].yaxis.set_label_position(\"right\")\n",
    "axs[1].yaxis.tick_right()\n",
    "axs[1].set_title(\"\")\n",
    "axs[1].set_xticks([1850, 1875, 1900, 1925, 1950, 1975, 2000], [0, 25, 50, 75, 100, 125, 150])\n",
    "fig.tight_layout()  # otherwise the right y-label is slightly clipped\n",
    "#plt.show()\n",
    "#plt.savefig('../plots/hosing_amoc_carbon_timeseries.png', transparent=True)"
   ]
  },
  {
   "cell_type": "code",
   "execution_count": null,
   "id": "ac8b86ed-26f5-4acf-b37e-31bd184ba9ae",
   "metadata": {
    "execution": {
     "iopub.execute_input": "2024-08-20T16:04:26.216616Z",
     "iopub.status.busy": "2024-08-20T16:04:26.216073Z",
     "iopub.status.idle": "2024-08-20T16:05:10.515829Z",
     "shell.execute_reply": "2024-08-20T16:05:10.515154Z",
     "shell.execute_reply.started": "2024-08-20T16:04:26.216591Z"
    },
    "tags": []
   },
   "outputs": [],
   "source": [
    "fig, axs = plt.subplots(2, 1, figsize=(7,7), sharex=True)\n",
    "fig.subplots_adjust(hspace=0)\n",
    "plt.rcParams['font.size'] = 13\n",
    "\n",
    "axs[0].plot(np.arange(2015, 2099), -(diff_dissic_ssp245bgc-diff_dissic_ssp245bgc), label ='ssp245-bgc', color='dimgrey')\n",
    "axs[0].plot(np.arange(2015, 2099), -(diff_dissic_ssp245bgc-diff_dissic_g01ssp245bgc), label ='g01-ssp245-bgc', color='lightblue')\n",
    "axs[0].plot(np.arange(2015, 2099), -(diff_dissic_ssp245bgc-diff_dissic_g03ssp245bgc), label ='g03-ssp245-bgc', color='dodgerblue')\n",
    "axs[0].plot(np.arange(2015, 2099), -(diff_dissic_ssp245bgc-diff_dissic_g05ssp245bgc), label ='g05-ssp245-bgc', color='darkblue')\n",
    "axs[0].plot(np.arange(2015, 2099), -(diff_dissic_ssp245bgc-diff_dissic_u01ssp245bgc), label ='u01-ssp245-bgc', color='peachpuff')\n",
    "axs[0].plot(np.arange(2015, 2099), -(diff_dissic_ssp245bgc-diff_dissic_u03ssp245bgc), label ='u03-ssp245-bgc', color='salmon')\n",
    "axs[0].plot(np.arange(2015, 2099), -(diff_dissic_ssp245bgc-diff_dissic_u05ssp245bgc), label ='u05-ssp245-bgc', color='darkred')\n",
    "axs[0].set_ylabel('$\\Delta$C in ocean w.r.t. ssp245-bgc [PgC]')\n",
    "axs[0].set_title(\"\")\n",
    "axs[0].set_xlabel(\"\")\n",
    "axs[0].tick_params(axis='y')\n",
    "axs[0].spines['bottom'].set_visible(False)\n",
    "axs[0].spines['top'].set_visible(False)\n",
    "axs[0].spines['right'].set_visible(False)\n",
    "axs[0].set_xticks([])\n",
    "axs[0].get_xaxis().set_visible(False)\n",
    "axs[0].legend(loc=3)\n",
    "\n",
    "(ds_msftmz_ssp245bgcLR.sel(lat=26.5).sel(depth_2=1020).sel(lon=0).groupby('time.year').mean('time').atlantic_moc/1e9).plot(ax=axs[1], color='dimgrey', label ='ssp245-bgc')\n",
    "(ds_msftmz_g01ssp245bgcLR.sel(lat=26.5).sel(depth_2=1020).sel(lon=0).groupby('time.year').mean('time').atlantic_moc/1e9).plot(ax=axs[1], color='lightblue', label ='g01-ssp245-bgc')\n",
    "(ds_msftmz_g03ssp245bgcLR.sel(lat=26.5).sel(depth_2=1020).sel(lon=0).groupby('time.year').mean('time').atlantic_moc/1e9).plot(ax=axs[1], color='dodgerblue', label ='g03-ssp245-bgc')\n",
    "(ds_msftmz_g05ssp245bgcLR.sel(lat=26.5).sel(depth_2=1020).sel(lon=0).groupby('time.year').mean('time').atlantic_moc/1e9).plot(ax=axs[1], color='darkblue', label ='g05-ssp245-bgc')\n",
    "(ds_msftmz_u01ssp245bgcLR.sel(lat=26.5).sel(depth_2=1020).sel(lon=0).groupby('time.year').mean('time').atlantic_moc/1e9).plot(ax=axs[1], color='peachpuff', label ='u01-ssp245-bgc')\n",
    "(ds_msftmz_u03ssp245bgcLR.sel(lat=26.5).sel(depth_2=1020).sel(lon=0).groupby('time.year').mean('time').atlantic_moc/1e9).plot(ax=axs[1], color='salmon', label ='u03-ssp245-bgc')\n",
    "(ds_msftmz_u05ssp245bgcLR.sel(lat=26.5).sel(depth_2=1020).sel(lon=0).groupby('time.year').mean('time').atlantic_moc/1e9).plot(ax=axs[1], color='darkred', label ='u05-ssp245-bgc')\n",
    "axs[1].set_ylabel(\"AMOC strength [Sv]\")\n",
    "axs[1].tick_params(axis='y')\n",
    "axs[1].spines['left'].set_visible(False)\n",
    "axs[1].spines['top'].set_visible(False)\n",
    "axs[1].set_xlabel(\"Time [year]\")\n",
    "axs[1].yaxis.set_label_position(\"right\")\n",
    "axs[1].yaxis.tick_right()\n",
    "axs[1].set_title(\"\")\n",
    "axs[1].set_xticks([2020, 2040, 2060, 2080, 2100], [2020, 2040, 2060, 2080, 2100])\n",
    "fig.tight_layout()  # otherwise the right y-label is slightly clipped\n",
    "#plt.show()\n",
    "#plt.savefig('../plots/hosing_amoc_carbon_timeseries.png', transparent=True)"
   ]
  },
  {
   "cell_type": "code",
   "execution_count": null,
   "id": "57b56306-0427-4236-8ad0-7d61e10e507d",
   "metadata": {
    "execution": {
     "iopub.execute_input": "2024-04-05T08:46:36.324177Z",
     "iopub.status.busy": "2024-04-05T08:46:36.323673Z",
     "iopub.status.idle": "2024-04-05T08:47:44.922063Z",
     "shell.execute_reply": "2024-04-05T08:47:44.921328Z",
     "shell.execute_reply.started": "2024-04-05T08:46:36.324152Z"
    },
    "tags": []
   },
   "outputs": [],
   "source": [
    "fig, axs = plt.subplots(2, 1, figsize=(7,7), sharex=True)\n",
    "fig.subplots_adjust(hspace=0)\n",
    "\n",
    "(ds_msftmz_1pctbgc.isel(basin=1).sel(lat=26.5).sel(lev=1020).groupby('time.year').mean('time').msftmz/1e9).plot(ax=axs[0], color='dimgrey', label ='1pct-bgc')\n",
    "(ds_msftmz_g011pctbgcLR.sel(lat=26.5).sel(depth_2=1020).sel(lon=0).groupby('time.year').mean('time').atlantic_moc/1e9).plot(ax=axs[0], color='darkblue', label ='g01-1pct-bgc')\n",
    "(ds_msftmz_g031pctbgcLR.sel(lat=26.5).sel(depth_2=1020).sel(lon=0).groupby('time.year').mean('time').atlantic_moc/1e9).plot(ax=axs[0], color='dodgerblue', label ='g03-1pct-bgc')\n",
    "(ds_msftmz_g051pctbgcLR.sel(lat=26.5).sel(depth_2=1020).sel(lon=0).groupby('time.year').mean('time').atlantic_moc/1e9).plot(ax=axs[0], color='lightblue', label ='g05-1pct-bgc')\n",
    "(ds_msftmz_u011pctbgcLR.sel(lat=26.5).sel(depth_2=1020).sel(lon=0).groupby('time.year').mean('time').atlantic_moc/1e9).plot(ax=axs[0], color='peachpuff', label ='u01-1pct-bgc')\n",
    "(ds_msftmz_u031pctbgcLR.sel(lat=26.5).sel(depth_2=1020).sel(lon=0).groupby('time.year').mean('time').atlantic_moc/1e9).plot(ax=axs[0], color='salmon', label ='u03-1pct-bgc')\n",
    "(ds_msftmz_u051pctbgcLR.sel(lat=26.5).sel(depth_2=1020).sel(lon=0).groupby('time.year').mean('time').atlantic_moc/1e9).plot(ax=axs[0], color='darkred', label ='u05-1pct-bgc')\n",
    "#axs[0].legend(loc='lower center')\n",
    "axs[0].set_title(\"\")\n",
    "axs[0].set_xlabel(\"\")\n",
    "axs[0].set_ylabel(\"AMOC strength [Sv]\")\n",
    "axs[0].tick_params(axis='y')\n",
    "axs[0].spines['bottom'].set_visible(False)\n",
    "axs[0].spines['top'].set_visible(False)\n",
    "axs[0].spines['right'].set_visible(False)\n",
    "axs[0].set_xticks([])\n",
    "axs[0].get_xaxis().set_visible(False)\n",
    "\n",
    "axs[1].plot(np.arange(1851, 1990), diff_dissic_1pctbgc-diff_dissic_1pctbgc, label ='1pct-bgc', color='dimgrey')\n",
    "axs[1].plot(np.arange(1851, 1990), diff_dissic_1pctbgc-diff_dissic_g011pctbgc, label ='g01-1pct-bgc', color='darkblue')\n",
    "axs[1].plot(np.arange(1851, 1990), diff_dissic_1pctbgc-diff_dissic_g031pctbgc, label ='g03-1pct-bgc', color='dodgerblue')\n",
    "axs[1].plot(np.arange(1851, 1990), diff_dissic_1pctbgc-diff_dissic_g051pctbgc, label ='g05-1pct-bgc', color='lightblue')\n",
    "axs[1].plot(np.arange(1851, 1990), diff_dissic_1pctbgc-diff_dissic_u011pctbgc, label ='u01-1pct-bgc', color='peachpuff')\n",
    "axs[1].plot(np.arange(1851, 1990), diff_dissic_1pctbgc-diff_dissic_u031pctbgc, label ='u03-1pct-bgc', color='salmon')\n",
    "axs[1].plot(np.arange(1851, 1990), diff_dissic_1pctbgc-diff_dissic_u051pctbgc, label ='u05-1pct-bgc', color='darkred')\n",
    "axs[1].tick_params(axis='y')\n",
    "axs[1].set_ylabel('$\\Delta$C w.r.t. 1pct-bgc [PgC]')\n",
    "axs[1].spines['left'].set_visible(False)\n",
    "axs[1].spines['top'].set_visible(False)\n",
    "axs[1].set_xlabel(\"Time [year]\")\n",
    "axs[1].yaxis.set_label_position(\"right\")\n",
    "axs[1].yaxis.tick_right()\n",
    "axs[1].set_title(\"\")\n",
    "axs[1].legend(loc='upper center')\n",
    "axs[1].set_xticks([1850, 1875, 1900, 1925, 1950, 1975, 2000], [0, 25, 50, 75, 100, 125, 150])\n",
    "fig.tight_layout()  # otherwise the right y-label is slightly clipped\n",
    "#plt.show()\n",
    "#plt.savefig('../plots/hosing_amoc_carbon_timeseries.png', transparent=True)"
   ]
  },
  {
   "cell_type": "code",
   "execution_count": null,
   "id": "d1c2fc6f-b589-4998-aeb9-c37326a76b8a",
   "metadata": {
    "execution": {
     "iopub.execute_input": "2024-04-05T08:42:55.228516Z",
     "iopub.status.busy": "2024-04-05T08:42:55.228050Z",
     "iopub.status.idle": "2024-04-05T08:42:55.233922Z",
     "shell.execute_reply": "2024-04-05T08:42:55.233266Z",
     "shell.execute_reply.started": "2024-04-05T08:42:55.228493Z"
    },
    "tags": []
   },
   "outputs": [],
   "source": [
    "diff_dissic_u051pctbgc_array=[]\n",
    "diff_dissic_u031pctbgc_array=[]\n",
    "diff_dissic_u011pctbgc_array=[]\n",
    "diff_dissic_g051pctbgc_array=[]\n",
    "diff_dissic_g031pctbgc_array=[]\n",
    "diff_dissic_g011pctbgc_array=[]\n",
    "diff_dissic_1pctbgc_array=[]\n",
    "for i in range(len(diff_dissic_u051pctbgc)):\n",
    "    diff_dissic_u051pctbgc_array.append(diff_dissic_u051pctbgc[i].item())\n",
    "    diff_dissic_u031pctbgc_array.append(diff_dissic_u031pctbgc[i].item())\n",
    "    diff_dissic_u011pctbgc_array.append(diff_dissic_u011pctbgc[i].item())\n",
    "    diff_dissic_g011pctbgc_array.append(diff_dissic_g011pctbgc[i].item())\n",
    "    diff_dissic_g031pctbgc_array.append(diff_dissic_g031pctbgc[i].item())\n",
    "    diff_dissic_g051pctbgc_array.append(diff_dissic_g051pctbgc[i].item())\n",
    "    diff_dissic_1pctbgc_array.append(diff_dissic_1pctbgc[i].item())"
   ]
  },
  {
   "cell_type": "code",
   "execution_count": null,
   "id": "2b46b361-d2b3-4912-bb4d-f4e19722d806",
   "metadata": {
    "execution": {
     "iopub.execute_input": "2024-08-20T16:14:52.719667Z",
     "iopub.status.busy": "2024-08-20T16:14:52.719173Z",
     "iopub.status.idle": "2024-08-20T16:14:52.725604Z",
     "shell.execute_reply": "2024-08-20T16:14:52.724995Z",
     "shell.execute_reply.started": "2024-08-20T16:14:52.719644Z"
    },
    "tags": []
   },
   "outputs": [],
   "source": [
    "diff_dissic_u05ssp245bgc_array=[]\n",
    "diff_dissic_u03ssp245bgc_array=[]\n",
    "diff_dissic_u01ssp245bgc_array=[]\n",
    "diff_dissic_g05ssp245bgc_array=[]\n",
    "diff_dissic_g03ssp245bgc_array=[]\n",
    "diff_dissic_g01ssp245bgc_array=[]\n",
    "diff_dissic_ssp245bgc_array=[]\n",
    "for i in range(len(diff_dissic_u05ssp245bgc)):\n",
    "    diff_dissic_u05ssp245bgc_array.append(diff_dissic_u05ssp245bgc[i].item())\n",
    "    diff_dissic_u03ssp245bgc_array.append(diff_dissic_u03ssp245bgc[i].item())\n",
    "    diff_dissic_u01ssp245bgc_array.append(diff_dissic_u01ssp245bgc[i].item())\n",
    "    diff_dissic_g01ssp245bgc_array.append(diff_dissic_g01ssp245bgc[i].item())\n",
    "    diff_dissic_g03ssp245bgc_array.append(diff_dissic_g03ssp245bgc[i].item())\n",
    "    diff_dissic_g05ssp245bgc_array.append(diff_dissic_g05ssp245bgc[i].item())\n",
    "    diff_dissic_ssp245bgc_array.append(diff_dissic_ssp245bgc[i].item())"
   ]
  },
  {
   "cell_type": "code",
   "execution_count": null,
   "id": "8ba0bcec-a333-4ad5-b326-a04b454d6b10",
   "metadata": {
    "execution": {
     "iopub.execute_input": "2024-04-05T08:47:44.938812Z",
     "iopub.status.busy": "2024-04-05T08:47:44.938489Z",
     "iopub.status.idle": "2024-04-05T08:48:53.361679Z",
     "shell.execute_reply": "2024-04-05T08:48:53.360998Z",
     "shell.execute_reply.started": "2024-04-05T08:47:44.938790Z"
    },
    "scrolled": true,
    "tags": []
   },
   "outputs": [],
   "source": [
    "fig, axs = plt.subplots(figsize=(14, 6))\n",
    "axs.plot(np.arange(1851, 1990), diff_dissic_u051pctbgc_array/(ds_msftmz_u051pctbgcLR.sel(lat=26.5).sel(depth_2=1020).sel(lon=0).groupby('time.year').mean('time').isel(year=np.arange(0,139)).atlantic_moc.values/1e9), color='darkred')\n",
    "axs.plot(np.arange(1851, 1990), diff_dissic_u031pctbgc_array/(ds_msftmz_u031pctbgcLR.sel(lat=26.5).sel(depth_2=1020).sel(lon=0).groupby('time.year').mean('time').isel(year=np.arange(0,139)).atlantic_moc.values/1e9), color='salmon')\n",
    "axs.plot(np.arange(1851, 1990), diff_dissic_u011pctbgc_array/(ds_msftmz_u011pctbgcLR.sel(lat=26.5).sel(depth_2=1020).sel(lon=0).groupby('time.year').mean('time').isel(year=np.arange(0,139)).atlantic_moc.values/1e9), color='peachpuff')\n",
    "axs.plot(np.arange(1851, 1990), diff_dissic_g011pctbgc_array/(ds_msftmz_g011pctbgcLR.sel(lat=26.5).sel(depth_2=1020).sel(lon=0).groupby('time.year').mean('time').isel(year=np.arange(0,139)).atlantic_moc.values/1e9), color='lightblue')\n",
    "axs.plot(np.arange(1851, 1990), diff_dissic_g031pctbgc_array/(ds_msftmz_g031pctbgcLR.sel(lat=26.5).sel(depth_2=1020).sel(lon=0).groupby('time.year').mean('time').isel(year=np.arange(0,139)).atlantic_moc.values/1e9), color='dodgerblue')\n",
    "axs.plot(np.arange(1851, 1990), diff_dissic_g051pctbgc_array/(ds_msftmz_g051pctbgcLR.sel(lat=26.5).sel(depth_2=1020).sel(lon=0).groupby('time.year').mean('time').isel(year=np.arange(0,139)).atlantic_moc.values/1e9), color='darkblue')\n",
    "axs.plot(np.arange(1851, 1990), diff_dissic_1pctbgc_array/(ds_msftmz_1pctbgc.sel(lat=26.5).sel(lev=1020).isel(basin=1).groupby('time.year').mean('time').isel(year=np.arange(0,139)).msftmz.values/1e9), color='dimgrey')\n",
    "axs.legend(loc='lower center')\n",
    "axs.set_ylabel('Difference Ocean Carbon/AMOC strength [PgC/Sv]', color='k')\n",
    "axs.spines['top'].set_visible(False)\n",
    "axs.spines['right'].set_visible(False)\n",
    "axs.set_xlabel(\"Time [year]\")\n",
    "plt.show()"
   ]
  },
  {
   "cell_type": "markdown",
   "id": "91a06e4f-b881-4614-913b-461f7461a4e5",
   "metadata": {
    "tags": []
   },
   "source": [
    "# Export data to csv"
   ]
  },
  {
   "cell_type": "markdown",
   "id": "89e46c2c-d823-424f-9bdc-1667887dd14a",
   "metadata": {
    "execution": {
     "iopub.execute_input": "2024-08-20T16:12:24.151048Z",
     "iopub.status.busy": "2024-08-20T16:12:24.150576Z",
     "iopub.status.idle": "2024-08-20T16:12:24.154271Z",
     "shell.execute_reply": "2024-08-20T16:12:24.153647Z",
     "shell.execute_reply.started": "2024-08-20T16:12:24.151025Z"
    },
    "jp-MarkdownHeadingCollapsed": true
   },
   "source": [
    "## 1pct-bgc"
   ]
  },
  {
   "cell_type": "raw",
   "id": "e0690ffa-de31-4b4e-b350-87c1f38ecfef",
   "metadata": {},
   "source": [
    "Dissic totals"
   ]
  },
  {
   "cell_type": "code",
   "execution_count": null,
   "id": "6643f5c1-f2f7-4786-9d66-2aab2ca2e686",
   "metadata": {
    "execution": {
     "iopub.execute_input": "2024-03-12T16:25:36.947351Z",
     "iopub.status.busy": "2024-03-12T16:25:36.946817Z",
     "iopub.status.idle": "2024-03-12T16:25:39.240246Z",
     "shell.execute_reply": "2024-03-12T16:25:39.239262Z",
     "shell.execute_reply.started": "2024-03-12T16:25:36.947326Z"
    },
    "tags": []
   },
   "outputs": [],
   "source": [
    "(ds_dissic_u051pctbgcLR.dissic*ds_volcello_u05hosLR.sum(dim=\"time\").volcello*g_per_molC/1e15).isel(depth=np.arange(0,40)).sum(dim='depth').sum(dim='y').sum(dim='x').values.tofile(\n",
    "    '/work/uo1075/m300817/carbon_amoc/files/total_dissic_u051pctbgcLR.csv', sep=',')"
   ]
  },
  {
   "cell_type": "code",
   "execution_count": null,
   "id": "75fd6f67-bf43-4109-bd31-e8192e2c814a",
   "metadata": {
    "execution": {
     "iopub.execute_input": "2024-03-12T16:25:39.242217Z",
     "iopub.status.busy": "2024-03-12T16:25:39.241814Z",
     "iopub.status.idle": "2024-03-12T16:25:41.321080Z",
     "shell.execute_reply": "2024-03-12T16:25:41.320137Z",
     "shell.execute_reply.started": "2024-03-12T16:25:39.242195Z"
    },
    "tags": []
   },
   "outputs": [],
   "source": [
    "(ds_dissic_u031pctbgcLR.dissic*ds_volcello_u05hosLR.sum(dim=\"time\").volcello*g_per_molC/1e15).isel(depth=np.arange(0,40)).sum(dim='depth').sum(dim='y').sum(dim='x').values.tofile(\n",
    "    '/work/uo1075/m300817/carbon_amoc/files/total_dissic_u031pctbgcLR.csv', sep=',')"
   ]
  },
  {
   "cell_type": "code",
   "execution_count": null,
   "id": "58a77e12-26e9-4f0f-b219-9badee172673",
   "metadata": {
    "execution": {
     "iopub.execute_input": "2024-04-05T08:48:53.364709Z",
     "iopub.status.busy": "2024-04-05T08:48:53.364385Z",
     "iopub.status.idle": "2024-04-05T08:48:55.434702Z",
     "shell.execute_reply": "2024-04-05T08:48:55.433934Z",
     "shell.execute_reply.started": "2024-04-05T08:48:53.364679Z"
    },
    "tags": []
   },
   "outputs": [],
   "source": [
    "(ds_dissic_u011pctbgcLR.dissic*ds_volcello_u05hosLR.sum(dim=\"time\").volcello*g_per_molC/1e15).isel(depth=np.arange(0,40)).sum(dim='depth').sum(dim='y').sum(dim='x').values.tofile(\n",
    "    '/work/uo1075/m300817/carbon_amoc/files/total_dissic_u011pctbgcLR.csv', sep=',')"
   ]
  },
  {
   "cell_type": "code",
   "execution_count": null,
   "id": "e3d1575d-3caa-4b15-a8f6-a145a075465e",
   "metadata": {
    "execution": {
     "iopub.execute_input": "2024-03-12T16:25:41.322579Z",
     "iopub.status.busy": "2024-03-12T16:25:41.322200Z",
     "iopub.status.idle": "2024-03-12T16:25:43.448472Z",
     "shell.execute_reply": "2024-03-12T16:25:43.447539Z",
     "shell.execute_reply.started": "2024-03-12T16:25:41.322547Z"
    },
    "tags": []
   },
   "outputs": [],
   "source": [
    "(ds_dissic_g011pctbgcLR.dissic*ds_volcello_u05hosLR.sum(dim=\"time\").volcello*g_per_molC/1e15).isel(depth=np.arange(0,40)).sum(dim='depth').sum(dim='y').sum(dim='x').values.tofile(\n",
    "    '/work/uo1075/m300817/carbon_amoc/files/total_dissic_g011pctbgcLR.csv', sep=',')"
   ]
  },
  {
   "cell_type": "code",
   "execution_count": null,
   "id": "5b97b9ff-ad09-4726-a562-7a35be5e9c2c",
   "metadata": {
    "execution": {
     "iopub.execute_input": "2024-03-22T10:03:44.354609Z",
     "iopub.status.busy": "2024-03-22T10:03:44.354154Z",
     "iopub.status.idle": "2024-03-22T10:03:46.904810Z",
     "shell.execute_reply": "2024-03-22T10:03:46.904069Z",
     "shell.execute_reply.started": "2024-03-22T10:03:44.354585Z"
    },
    "tags": []
   },
   "outputs": [],
   "source": [
    "(ds_dissic_g031pctbgcLR.dissic*ds_volcello_u05hosLR.sum(dim=\"time\").volcello*g_per_molC/1e15).isel(depth=np.arange(0,40)).sum(dim='depth').sum(dim='y').sum(dim='x').values.tofile(\n",
    "    '/work/uo1075/m300817/carbon_amoc/files/total_dissic_g031pctbgcLR.csv', sep=',')"
   ]
  },
  {
   "cell_type": "code",
   "execution_count": null,
   "id": "11bf1917-c0ca-446a-b02e-4a6cb83903a8",
   "metadata": {
    "execution": {
     "iopub.execute_input": "2024-04-05T08:48:55.436771Z",
     "iopub.status.busy": "2024-04-05T08:48:55.436303Z",
     "iopub.status.idle": "2024-04-05T08:48:57.445603Z",
     "shell.execute_reply": "2024-04-05T08:48:57.444873Z",
     "shell.execute_reply.started": "2024-04-05T08:48:55.436750Z"
    },
    "tags": []
   },
   "outputs": [],
   "source": [
    "(ds_dissic_g051pctbgcLR.dissic*ds_volcello_u05hosLR.sum(dim=\"time\").volcello*g_per_molC/1e15).isel(depth=np.arange(0,40)).sum(dim='depth').sum(dim='y').sum(dim='x').values.tofile(\n",
    "    '/work/uo1075/m300817/carbon_amoc/files/total_dissic_g051pctbgcLR.csv', sep=',')"
   ]
  },
  {
   "cell_type": "code",
   "execution_count": null,
   "id": "c465fced-e67a-4c28-92fe-a2d52ecfb945",
   "metadata": {
    "execution": {
     "iopub.execute_input": "2024-03-21T13:01:17.484637Z",
     "iopub.status.busy": "2024-03-21T13:01:17.484157Z",
     "iopub.status.idle": "2024-03-21T13:02:26.296093Z",
     "shell.execute_reply": "2024-03-21T13:02:26.295280Z",
     "shell.execute_reply.started": "2024-03-21T13:01:17.484614Z"
    },
    "tags": []
   },
   "outputs": [],
   "source": [
    "(ds_dissic_1pctbgc.groupby('time.year').mean().dissic*ds_volcello.volcello*g_per_molC/1e15).isel(lev=np.arange(0,40)).sum(dim='lev').sum(dim='i').sum(dim='j').values.tofile(\n",
    "    '/work/uo1075/m300817/carbon_amoc/files/total_dissic_1pctbgcLR.csv', sep=',')"
   ]
  },
  {
   "cell_type": "code",
   "execution_count": null,
   "id": "ef0604ee-1042-4cc1-afb4-8f5287a92651",
   "metadata": {},
   "outputs": [],
   "source": [
    "Dissic diff"
   ]
  },
  {
   "cell_type": "code",
   "execution_count": null,
   "id": "9eea681c-f3fe-491f-ba0d-57a01b6e99eb",
   "metadata": {
    "execution": {
     "iopub.execute_input": "2024-03-12T16:25:24.940839Z",
     "iopub.status.busy": "2024-03-12T16:25:24.940271Z",
     "iopub.status.idle": "2024-03-12T16:25:24.946011Z",
     "shell.execute_reply": "2024-03-12T16:25:24.945271Z",
     "shell.execute_reply.started": "2024-03-12T16:25:24.940814Z"
    },
    "tags": []
   },
   "outputs": [],
   "source": [
    "np.array(diff_dissic_u051pctbgc_array).tofile(\n",
    "    '/work/uo1075/m300817/carbon_amoc/files/diff_dissic_u051pctbgcLR.csv', sep=',')"
   ]
  },
  {
   "cell_type": "code",
   "execution_count": null,
   "id": "4f0fd2a4-2e52-40da-ac7b-492399ae6b7f",
   "metadata": {
    "execution": {
     "iopub.execute_input": "2024-03-12T16:25:25.260245Z",
     "iopub.status.busy": "2024-03-12T16:25:25.259525Z",
     "iopub.status.idle": "2024-03-12T16:25:25.264327Z",
     "shell.execute_reply": "2024-03-12T16:25:25.263669Z",
     "shell.execute_reply.started": "2024-03-12T16:25:25.260221Z"
    },
    "tags": []
   },
   "outputs": [],
   "source": [
    "np.array(diff_dissic_u031pctbgc_array).tofile(\n",
    "    '/work/uo1075/m300817/carbon_amoc/files/diff_dissic_u031pctbgcLR.csv', sep=',')"
   ]
  },
  {
   "cell_type": "code",
   "execution_count": null,
   "id": "4ca97e57-097f-4502-8ecd-3c96067e1a98",
   "metadata": {
    "execution": {
     "iopub.execute_input": "2024-04-05T08:48:57.446733Z",
     "iopub.status.busy": "2024-04-05T08:48:57.446509Z",
     "iopub.status.idle": "2024-04-05T08:48:57.482153Z",
     "shell.execute_reply": "2024-04-05T08:48:57.481584Z",
     "shell.execute_reply.started": "2024-04-05T08:48:57.446712Z"
    },
    "tags": []
   },
   "outputs": [],
   "source": [
    "np.array(diff_dissic_u011pctbgc_array).tofile(\n",
    "    '/work/uo1075/m300817/carbon_amoc/files/diff_dissic_u011pctbgcLR.csv', sep=',')"
   ]
  },
  {
   "cell_type": "code",
   "execution_count": null,
   "id": "ee12ca9b-6a22-4ebb-a70c-c1b16f10283b",
   "metadata": {
    "execution": {
     "iopub.execute_input": "2024-03-12T16:25:25.589217Z",
     "iopub.status.busy": "2024-03-12T16:25:25.588447Z",
     "iopub.status.idle": "2024-03-12T16:25:25.593249Z",
     "shell.execute_reply": "2024-03-12T16:25:25.592599Z",
     "shell.execute_reply.started": "2024-03-12T16:25:25.589194Z"
    },
    "tags": []
   },
   "outputs": [],
   "source": [
    "np.array(diff_dissic_g011pctbgc_array).tofile(\n",
    "    '/work/uo1075/m300817/carbon_amoc/files/diff_dissic_g011pctbgcLR.csv', sep=',')"
   ]
  },
  {
   "cell_type": "code",
   "execution_count": null,
   "id": "f29fd69a-23a4-4bfc-ac54-95f074f97f25",
   "metadata": {
    "execution": {
     "iopub.execute_input": "2024-03-22T10:06:45.936332Z",
     "iopub.status.busy": "2024-03-22T10:06:45.935888Z",
     "iopub.status.idle": "2024-03-22T10:06:45.941898Z",
     "shell.execute_reply": "2024-03-22T10:06:45.941300Z",
     "shell.execute_reply.started": "2024-03-22T10:06:45.936308Z"
    },
    "tags": []
   },
   "outputs": [],
   "source": [
    "np.array(diff_dissic_g031pctbgc_array).tofile(\n",
    "    '/work/uo1075/m300817/carbon_amoc/files/diff_dissic_g031pctbgcLR.csv', sep=',')"
   ]
  },
  {
   "cell_type": "code",
   "execution_count": null,
   "id": "e6b9d62a-a85e-4e76-985b-33216fb4eb2b",
   "metadata": {
    "execution": {
     "iopub.execute_input": "2024-04-05T08:48:57.483038Z",
     "iopub.status.busy": "2024-04-05T08:48:57.482838Z",
     "iopub.status.idle": "2024-04-05T08:48:57.503515Z",
     "shell.execute_reply": "2024-04-05T08:48:57.502960Z",
     "shell.execute_reply.started": "2024-04-05T08:48:57.483018Z"
    },
    "tags": []
   },
   "outputs": [],
   "source": [
    "np.array(diff_dissic_g051pctbgc_array).tofile(\n",
    "    '/work/uo1075/m300817/carbon_amoc/files/diff_dissic_g051pctbgcLR.csv', sep=',')"
   ]
  },
  {
   "cell_type": "code",
   "execution_count": null,
   "id": "90c2841d-cdf3-4f63-bd73-be68ad293e96",
   "metadata": {
    "execution": {
     "iopub.execute_input": "2024-03-12T16:25:25.925502Z",
     "iopub.status.busy": "2024-03-12T16:25:25.924960Z",
     "iopub.status.idle": "2024-03-12T16:25:25.929514Z",
     "shell.execute_reply": "2024-03-12T16:25:25.928848Z",
     "shell.execute_reply.started": "2024-03-12T16:25:25.925480Z"
    },
    "tags": []
   },
   "outputs": [],
   "source": [
    "np.array(diff_dissic_1pctbgc_array).tofile(\n",
    "    '/work/uo1075/m300817/carbon_amoc/files/diff_dissic_1pctbgcLR.csv', sep=',')"
   ]
  },
  {
   "cell_type": "code",
   "execution_count": null,
   "id": "dccf6ef3-1a6b-485e-a320-53e918249763",
   "metadata": {},
   "outputs": [],
   "source": []
  },
  {
   "cell_type": "code",
   "execution_count": null,
   "id": "84428b4b-7773-4675-8f94-6970054ed168",
   "metadata": {},
   "outputs": [],
   "source": [
    "msftmz totals "
   ]
  },
  {
   "cell_type": "code",
   "execution_count": null,
   "id": "e5a9c4d6-6b46-4870-942f-c7a6cae4501e",
   "metadata": {
    "execution": {
     "iopub.execute_input": "2024-03-12T16:25:06.903175Z",
     "iopub.status.busy": "2024-03-12T16:25:06.902637Z",
     "iopub.status.idle": "2024-03-12T16:25:08.131120Z",
     "shell.execute_reply": "2024-03-12T16:25:08.130266Z",
     "shell.execute_reply.started": "2024-03-12T16:25:06.903149Z"
    },
    "tags": []
   },
   "outputs": [],
   "source": [
    "(ds_msftmz_u051pctbgcLR.sel(lat=26.5).sel(depth_2=1020).sel(lon=0).groupby('time.year').mean('time').atlantic_moc/1e9).values.tofile(\n",
    "    '/work/uo1075/m300817/carbon_amoc/files/total_amoc26.5N_u051pctbgcLR.csv', sep=',')"
   ]
  },
  {
   "cell_type": "code",
   "execution_count": null,
   "id": "9b7ab8be-1187-46bd-8dc2-b8efa88a39c9",
   "metadata": {
    "execution": {
     "iopub.execute_input": "2024-03-12T16:25:08.132898Z",
     "iopub.status.busy": "2024-03-12T16:25:08.132556Z",
     "iopub.status.idle": "2024-03-12T16:25:09.337503Z",
     "shell.execute_reply": "2024-03-12T16:25:09.336709Z",
     "shell.execute_reply.started": "2024-03-12T16:25:08.132877Z"
    },
    "tags": []
   },
   "outputs": [],
   "source": [
    "(ds_msftmz_u031pctbgcLR.sel(lat=26.5).sel(depth_2=1020).sel(lon=0).groupby('time.year').mean('time').atlantic_moc/1e9).values.tofile(\n",
    "    '/work/uo1075/m300817/carbon_amoc/files/total_amoc26.5N_u031pctbgcLR.csv', sep=',')"
   ]
  },
  {
   "cell_type": "code",
   "execution_count": null,
   "id": "7d2855a6-2c2c-40c8-8a9c-fd6e87b6e6c2",
   "metadata": {
    "execution": {
     "iopub.execute_input": "2024-04-05T08:49:07.777949Z",
     "iopub.status.busy": "2024-04-05T08:49:07.777638Z",
     "iopub.status.idle": "2024-04-05T08:49:19.157724Z",
     "shell.execute_reply": "2024-04-05T08:49:19.156958Z",
     "shell.execute_reply.started": "2024-04-05T08:49:07.777927Z"
    },
    "tags": []
   },
   "outputs": [],
   "source": [
    "(ds_msftmz_u011pctbgcLR.sel(lat=26.5).sel(depth_2=1020).sel(lon=0).groupby('time.year').mean('time').atlantic_moc/1e9).values.tofile(\n",
    "    '/work/uo1075/m300817/carbon_amoc/files/total_amoc26.5N_u011pctbgcLR.csv', sep=',')"
   ]
  },
  {
   "cell_type": "code",
   "execution_count": null,
   "id": "38f7a815-39c3-48ba-95ca-b822ab50e728",
   "metadata": {
    "execution": {
     "iopub.execute_input": "2024-03-12T16:25:09.338766Z",
     "iopub.status.busy": "2024-03-12T16:25:09.338552Z",
     "iopub.status.idle": "2024-03-12T16:25:10.545163Z",
     "shell.execute_reply": "2024-03-12T16:25:10.544378Z",
     "shell.execute_reply.started": "2024-03-12T16:25:09.338747Z"
    },
    "tags": []
   },
   "outputs": [],
   "source": [
    "(ds_msftmz_g011pctbgcLR.sel(lat=26.5).sel(depth_2=1020).sel(lon=0).groupby('time.year').mean('time').atlantic_moc/1e9).values.tofile(\n",
    "    '/work/uo1075/m300817/carbon_amoc/files/total_amoc26.5N_g011pctbgcLR.csv', sep=',')"
   ]
  },
  {
   "cell_type": "code",
   "execution_count": null,
   "id": "8d60f38e-6a56-4b74-acf5-48e4820dc215",
   "metadata": {
    "execution": {
     "iopub.execute_input": "2024-03-22T10:12:17.601506Z",
     "iopub.status.busy": "2024-03-22T10:12:17.600854Z",
     "iopub.status.idle": "2024-03-22T10:12:18.859967Z",
     "shell.execute_reply": "2024-03-22T10:12:18.859078Z",
     "shell.execute_reply.started": "2024-03-22T10:12:17.601478Z"
    },
    "tags": []
   },
   "outputs": [],
   "source": [
    "(ds_msftmz_g031pctbgcLR.sel(lat=26.5).sel(depth_2=1020).sel(lon=0).groupby('time.year').mean('time').atlantic_moc/1e9).values.tofile(\n",
    "    '/work/uo1075/m300817/carbon_amoc/files/total_amoc26.5N_g031pctbgcLR.csv', sep=',')"
   ]
  },
  {
   "cell_type": "code",
   "execution_count": null,
   "id": "c989757e-9c6f-43c9-b65e-aacd7d606e30",
   "metadata": {
    "execution": {
     "iopub.execute_input": "2024-04-05T08:48:57.504401Z",
     "iopub.status.busy": "2024-04-05T08:48:57.504204Z",
     "iopub.status.idle": "2024-04-05T08:49:07.776696Z",
     "shell.execute_reply": "2024-04-05T08:49:07.775913Z",
     "shell.execute_reply.started": "2024-04-05T08:48:57.504383Z"
    },
    "tags": []
   },
   "outputs": [],
   "source": [
    "(ds_msftmz_g051pctbgcLR.sel(lat=26.5).sel(depth_2=1020).sel(lon=0).groupby('time.year').mean('time').atlantic_moc/1e9).values.tofile(\n",
    "    '/work/uo1075/m300817/carbon_amoc/files/total_amoc26.5N_g051pctbgcLR.csv', sep=',')"
   ]
  },
  {
   "cell_type": "code",
   "execution_count": null,
   "id": "a3610b35-57eb-4014-9df7-6f4944415865",
   "metadata": {
    "execution": {
     "iopub.execute_input": "2024-03-12T16:25:10.547157Z",
     "iopub.status.busy": "2024-03-12T16:25:10.546585Z",
     "iopub.status.idle": "2024-03-12T16:25:10.745169Z",
     "shell.execute_reply": "2024-03-12T16:25:10.744461Z",
     "shell.execute_reply.started": "2024-03-12T16:25:10.547134Z"
    },
    "tags": []
   },
   "outputs": [],
   "source": [
    "(ds_msftmz_1pctbgc.isel(basin=1).sel(lat=26.5).sel(lev=1020).groupby('time.year').mean('time').msftmz/1e9).values.tofile(\n",
    "    '/work/uo1075/m300817/carbon_amoc/files/total_amoc26.5N_1pctbgcLR.csv', sep=',')"
   ]
  },
  {
   "cell_type": "code",
   "execution_count": null,
   "id": "2399310a-87b4-40a4-8dbf-873cff7dd38c",
   "metadata": {},
   "outputs": [],
   "source": [
    "msftmz diff"
   ]
  },
  {
   "cell_type": "code",
   "execution_count": null,
   "id": "3cc03f16-e9e3-46b0-bd6e-4d84360d33e3",
   "metadata": {
    "execution": {
     "iopub.execute_input": "2024-04-05T08:50:16.746206Z",
     "iopub.status.busy": "2024-04-05T08:50:16.745707Z",
     "iopub.status.idle": "2024-04-05T08:51:03.867713Z",
     "shell.execute_reply": "2024-04-05T08:51:03.867005Z",
     "shell.execute_reply.started": "2024-04-05T08:50:16.746183Z"
    },
    "tags": []
   },
   "outputs": [],
   "source": [
    "ds_msftmz_u051pctbgcLR.load()\n",
    "ds_msftmz_u031pctbgcLR.load()\n",
    "ds_msftmz_u011pctbgcLR.load()\n",
    "ds_msftmz_g011pctbgcLR.load()\n",
    "ds_msftmz_g031pctbgcLR.load()\n",
    "ds_msftmz_g011pctbgcLR.load()\n",
    "ds_msftmz_1pctbgc.load()"
   ]
  },
  {
   "cell_type": "code",
   "execution_count": null,
   "id": "fbc6b31f-ad2f-4893-81d4-b298f7cd039f",
   "metadata": {
    "execution": {
     "iopub.execute_input": "2024-04-05T08:52:07.167699Z",
     "iopub.status.busy": "2024-04-05T08:52:07.167240Z",
     "iopub.status.idle": "2024-04-05T08:52:33.989465Z",
     "shell.execute_reply": "2024-04-05T08:52:33.988703Z",
     "shell.execute_reply.started": "2024-04-05T08:52:07.167665Z"
    },
    "tags": []
   },
   "outputs": [],
   "source": [
    "# not the same as msftmt_..._diff, which just calculate the total difference at the end of the period\n",
    "from tqdm import tqdm\n",
    "diff_msftmz_u051pctbgc = []\n",
    "diff_msftmz_u031pctbgc = []\n",
    "diff_msftmz_u011pctbgc = []\n",
    "diff_msftmz_g011pctbgc = []\n",
    "diff_msftmz_g031pctbgc = []\n",
    "diff_msftmz_g051pctbgc = []\n",
    "diff_msftmz_1pctbgc    = []\n",
    "amoc26_u051pctbgc_yearly = ds_msftmz_u051pctbgcLR.sel(lat=26.5).sel(depth_2=1020).sel(lon=0).groupby('time.year').mean('time')\n",
    "amoc26_u031pctbgc_yearly = ds_msftmz_u031pctbgcLR.sel(lat=26.5).sel(depth_2=1020).sel(lon=0).groupby('time.year').mean('time')\n",
    "amoc26_u011pctbgc_yearly = ds_msftmz_u011pctbgcLR.sel(lat=26.5).sel(depth_2=1020).sel(lon=0).groupby('time.year').mean('time')\n",
    "amoc26_g011pctbgc_yearly = ds_msftmz_g011pctbgcLR.sel(lat=26.5).sel(depth_2=1020).sel(lon=0).groupby('time.year').mean('time')\n",
    "amoc26_g031pctbgc_yearly = ds_msftmz_g031pctbgcLR.sel(lat=26.5).sel(depth_2=1020).sel(lon=0).groupby('time.year').mean('time')\n",
    "amoc26_g051pctbgc_yearly = ds_msftmz_g051pctbgcLR.sel(lat=26.5).sel(depth_2=1020).sel(lon=0).groupby('time.year').mean('time')\n",
    "amoc26_1pctbgc_yearly = ds_msftmz_1pctbgc.sel(lat=26.5).sel(lev=1020).isel(basin=1).groupby('time.year').mean('time')\n",
    "\n",
    "for year in tqdm(range(1,140)): \n",
    "    diff_msftmz_u051pctbgc.append(\n",
    "        ((amoc26_u051pctbgc_yearly.isel(year=np.arange(year,year+1)).atlantic_moc.values)/1e9)\n",
    "        -((amoc26_u051pctbgc_yearly.isel(year=0).atlantic_moc.values)/1e9))\n",
    "    \n",
    "    diff_msftmz_u031pctbgc.append(\n",
    "        ((amoc26_u031pctbgc_yearly.isel(year=np.arange(year,year+1)).atlantic_moc.values)/1e9)\n",
    "        -((amoc26_u031pctbgc_yearly.isel(year=0).atlantic_moc.values)/1e9))\n",
    "    \n",
    "    diff_msftmz_u011pctbgc.append(\n",
    "        ((amoc26_u011pctbgc_yearly.isel(year=np.arange(year,year+1)).atlantic_moc.values)/1e9)\n",
    "        -((amoc26_u011pctbgc_yearly.isel(year=0).atlantic_moc.values)/1e9))\n",
    "    \n",
    "    diff_msftmz_g011pctbgc.append(\n",
    "        ((amoc26_g011pctbgc_yearly.isel(year=np.arange(year,year+1)).atlantic_moc.values)/1e9)\n",
    "        -((amoc26_g011pctbgc_yearly.isel(year=0).atlantic_moc.values)/1e9))\n",
    "    \n",
    "    diff_msftmz_g031pctbgc.append(\n",
    "        ((amoc26_g031pctbgc_yearly.isel(year=np.arange(year,year+1)).atlantic_moc.values)/1e9)\n",
    "        -((amoc26_g031pctbgc_yearly.isel(year=0).atlantic_moc.values)/1e9))\n",
    "    \n",
    "    diff_msftmz_g051pctbgc.append(\n",
    "        ((amoc26_g051pctbgc_yearly.isel(year=np.arange(year,year+1)).atlantic_moc.values)/1e9)\n",
    "        -((amoc26_g051pctbgc_yearly.isel(year=0).atlantic_moc.values)/1e9))\n",
    "    \n",
    "    diff_msftmz_1pctbgc.append(\n",
    "        ((amoc26_1pctbgc_yearly.isel(year=np.arange(year,year+1)).msftmz.values)/1e9)\n",
    "        -((amoc26_1pctbgc_yearly.isel(year=0).msftmz.values)/1e9))"
   ]
  },
  {
   "cell_type": "code",
   "execution_count": null,
   "id": "a7e20574-047c-43aa-9f36-83e4816c1481",
   "metadata": {
    "execution": {
     "iopub.execute_input": "2024-04-05T08:52:59.747699Z",
     "iopub.status.busy": "2024-04-05T08:52:59.747244Z",
     "iopub.status.idle": "2024-04-05T08:52:59.753501Z",
     "shell.execute_reply": "2024-04-05T08:52:59.752845Z",
     "shell.execute_reply.started": "2024-04-05T08:52:59.747669Z"
    },
    "tags": []
   },
   "outputs": [],
   "source": [
    "diff_amoc26_u051pctbgc_array=[]\n",
    "diff_amoc26_u031pctbgc_array=[]\n",
    "diff_amoc26_u011pctbgc_array=[]\n",
    "diff_amoc26_g011pctbgc_array=[]\n",
    "diff_amoc26_g031pctbgc_array=[]\n",
    "diff_amoc26_g051pctbgc_array=[]\n",
    "diff_amoc26_1pctbgc_array=[]\n",
    "for i in range(len(diff_msftmz_u051pctbgc)):\n",
    "    diff_amoc26_u051pctbgc_array.append(diff_msftmz_u051pctbgc[i].item())\n",
    "    diff_amoc26_u031pctbgc_array.append(diff_msftmz_u031pctbgc[i].item())\n",
    "    diff_amoc26_u011pctbgc_array.append(diff_msftmz_u011pctbgc[i].item())\n",
    "    diff_amoc26_g011pctbgc_array.append(diff_msftmz_g011pctbgc[i].item())\n",
    "    diff_amoc26_g031pctbgc_array.append(diff_msftmz_g031pctbgc[i].item())\n",
    "    diff_amoc26_g051pctbgc_array.append(diff_msftmz_g051pctbgc[i].item())\n",
    "    diff_amoc26_1pctbgc_array.append(diff_msftmz_1pctbgc[i].item())"
   ]
  },
  {
   "cell_type": "code",
   "execution_count": null,
   "id": "05f4d550-306e-47da-926a-8f93f809521b",
   "metadata": {
    "execution": {
     "iopub.execute_input": "2024-03-12T16:29:20.048334Z",
     "iopub.status.busy": "2024-03-12T16:29:20.047819Z",
     "iopub.status.idle": "2024-03-12T16:29:20.052496Z",
     "shell.execute_reply": "2024-03-12T16:29:20.051821Z",
     "shell.execute_reply.started": "2024-03-12T16:29:20.048310Z"
    },
    "tags": []
   },
   "outputs": [],
   "source": [
    "np.array(diff_amoc26_u051pctbgc_array).tofile(\n",
    "    '/work/uo1075/m300817/carbon_amoc/files/diff_amoc26.5N_u051pctbgcLR.csv', sep=',')"
   ]
  },
  {
   "cell_type": "code",
   "execution_count": null,
   "id": "77ab0f7e-e700-4453-ad15-b2f8c0a41b80",
   "metadata": {
    "execution": {
     "iopub.execute_input": "2024-03-12T16:29:20.571362Z",
     "iopub.status.busy": "2024-03-12T16:29:20.570727Z",
     "iopub.status.idle": "2024-03-12T16:29:20.575268Z",
     "shell.execute_reply": "2024-03-12T16:29:20.574598Z",
     "shell.execute_reply.started": "2024-03-12T16:29:20.571340Z"
    },
    "tags": []
   },
   "outputs": [],
   "source": [
    "np.array(diff_amoc26_u031pctbgc_array).tofile(\n",
    "    '/work/uo1075/m300817/carbon_amoc/files/diff_amoc26.5N_u031pctbgcLR.csv', sep=',')"
   ]
  },
  {
   "cell_type": "code",
   "execution_count": null,
   "id": "3ac634a7-9463-4cfb-8381-cf6741206477",
   "metadata": {
    "execution": {
     "iopub.execute_input": "2024-04-05T08:53:09.608692Z",
     "iopub.status.busy": "2024-04-05T08:53:09.608280Z",
     "iopub.status.idle": "2024-04-05T08:53:09.628177Z",
     "shell.execute_reply": "2024-04-05T08:53:09.627523Z",
     "shell.execute_reply.started": "2024-04-05T08:53:09.608661Z"
    },
    "tags": []
   },
   "outputs": [],
   "source": [
    "np.array(diff_amoc26_u011pctbgc_array).tofile(\n",
    "    '/work/uo1075/m300817/carbon_amoc/files/diff_amoc26.5N_u011pctbgcLR.csv', sep=',')"
   ]
  },
  {
   "cell_type": "code",
   "execution_count": null,
   "id": "1ada8f94-715a-40b3-b113-580d773eb842",
   "metadata": {
    "execution": {
     "iopub.execute_input": "2024-03-12T16:29:20.938275Z",
     "iopub.status.busy": "2024-03-12T16:29:20.937610Z",
     "iopub.status.idle": "2024-03-12T16:29:20.942093Z",
     "shell.execute_reply": "2024-03-12T16:29:20.941423Z",
     "shell.execute_reply.started": "2024-03-12T16:29:20.938252Z"
    },
    "tags": []
   },
   "outputs": [],
   "source": [
    "np.array(diff_amoc26_g011pctbgc_array).tofile(\n",
    "    '/work/uo1075/m300817/carbon_amoc/files/diff_amoc26.5N_g011pctbgcLR.csv', sep=',')"
   ]
  },
  {
   "cell_type": "code",
   "execution_count": null,
   "id": "cf1e7144-70c8-45a8-b5d4-8abdb1a016fc",
   "metadata": {
    "execution": {
     "iopub.execute_input": "2024-03-22T10:10:17.544699Z",
     "iopub.status.busy": "2024-03-22T10:10:17.544149Z",
     "iopub.status.idle": "2024-03-22T10:10:17.550082Z",
     "shell.execute_reply": "2024-03-22T10:10:17.549314Z",
     "shell.execute_reply.started": "2024-03-22T10:10:17.544672Z"
    },
    "tags": []
   },
   "outputs": [],
   "source": [
    "np.array(diff_amoc26_g031pctbgc_array).tofile(\n",
    "    '/work/uo1075/m300817/carbon_amoc/files/diff_amoc26.5N_g031pctbgcLR.csv', sep=',')"
   ]
  },
  {
   "cell_type": "code",
   "execution_count": null,
   "id": "1b104dfd-4dc8-4d94-8d41-965ad1614fa9",
   "metadata": {
    "execution": {
     "iopub.execute_input": "2024-04-05T08:53:20.550931Z",
     "iopub.status.busy": "2024-04-05T08:53:20.550510Z",
     "iopub.status.idle": "2024-04-05T08:53:20.555708Z",
     "shell.execute_reply": "2024-04-05T08:53:20.555057Z",
     "shell.execute_reply.started": "2024-04-05T08:53:20.550908Z"
    },
    "tags": []
   },
   "outputs": [],
   "source": [
    "np.array(diff_amoc26_g051pctbgc_array).tofile(\n",
    "    '/work/uo1075/m300817/carbon_amoc/files/diff_amoc26.5N_g051pctbgcLR.csv', sep=',')"
   ]
  },
  {
   "cell_type": "code",
   "execution_count": null,
   "id": "e846caf9-faff-4fc5-aacf-9c0fbd2d1d78",
   "metadata": {
    "execution": {
     "iopub.execute_input": "2024-03-12T16:29:21.373990Z",
     "iopub.status.busy": "2024-03-12T16:29:21.373308Z",
     "iopub.status.idle": "2024-03-12T16:29:21.377882Z",
     "shell.execute_reply": "2024-03-12T16:29:21.377206Z",
     "shell.execute_reply.started": "2024-03-12T16:29:21.373966Z"
    },
    "tags": []
   },
   "outputs": [],
   "source": [
    "np.array(diff_amoc26_1pctbgc_array).tofile(\n",
    "    '/work/uo1075/m300817/carbon_amoc/files/diff_amoc26.5N_1pctbgcLR.csv', sep=',')"
   ]
  },
  {
   "cell_type": "code",
   "execution_count": null,
   "id": "c3eb266c-6428-4256-b992-a69c93987aea",
   "metadata": {
    "execution": {
     "iopub.execute_input": "2024-03-12T16:30:44.018712Z",
     "iopub.status.busy": "2024-03-12T16:30:44.018153Z",
     "iopub.status.idle": "2024-03-12T16:30:44.024070Z",
     "shell.execute_reply": "2024-03-12T16:30:44.023293Z",
     "shell.execute_reply.started": "2024-03-12T16:30:44.018685Z"
    },
    "tags": []
   },
   "outputs": [],
   "source": [
    "amoc26_u051pctbgc_yearly.year.values.tofile(\n",
    "    '/work/uo1075/m300817/carbon_amoc/files/time.csv', sep=',')"
   ]
  },
  {
   "cell_type": "code",
   "execution_count": null,
   "id": "205f7290-7c0f-4fb2-b2a3-df76a96ee032",
   "metadata": {
    "execution": {
     "iopub.execute_input": "2024-03-12T16:29:23.541257Z",
     "iopub.status.busy": "2024-03-12T16:29:23.540808Z",
     "iopub.status.idle": "2024-03-12T16:29:23.545880Z",
     "shell.execute_reply": "2024-03-12T16:29:23.545130Z",
     "shell.execute_reply.started": "2024-03-12T16:29:23.541233Z"
    },
    "tags": []
   },
   "outputs": [],
   "source": [
    "import csv\n",
    "with open('/work/uo1075/m300817/carbon_amoc/files/diff_amoc26.5N_1pctbgcLR.csv', 'r') as f:\n",
    "    reader = csv.reader(f)\n",
    "    data = list(reader)\n",
    "data_array = np.array(data)"
   ]
  },
  {
   "cell_type": "markdown",
   "id": "a58734aa-76f9-4bd2-b62e-65facd30635b",
   "metadata": {
    "execution": {
     "iopub.execute_input": "2024-08-20T16:12:05.015330Z",
     "iopub.status.busy": "2024-08-20T16:12:05.014819Z",
     "iopub.status.idle": "2024-08-20T16:12:05.034548Z",
     "shell.execute_reply": "2024-08-20T16:12:05.033360Z",
     "shell.execute_reply.started": "2024-08-20T16:12:05.015305Z"
    }
   },
   "source": [
    "## ssp245-bgc"
   ]
  },
  {
   "cell_type": "markdown",
   "id": "5cb843cc-7218-4657-8410-153697c4c3a9",
   "metadata": {},
   "source": [
    "Dissic totals"
   ]
  },
  {
   "cell_type": "code",
   "execution_count": null,
   "id": "a17ec135-954f-41b1-a941-6a184944df39",
   "metadata": {
    "execution": {
     "iopub.execute_input": "2024-08-20T16:13:31.769506Z",
     "iopub.status.busy": "2024-08-20T16:13:31.768854Z",
     "iopub.status.idle": "2024-08-20T16:13:33.168726Z",
     "shell.execute_reply": "2024-08-20T16:13:33.167954Z",
     "shell.execute_reply.started": "2024-08-20T16:13:31.769480Z"
    },
    "tags": []
   },
   "outputs": [],
   "source": [
    "(ds_dissic_u05ssp245bgcLR.dissic*ds_volcello_u05hosLR.sum(dim=\"time\").volcello*g_per_molC/1e15).isel(depth=np.arange(0,40)).sum(dim='depth').sum(dim='y').sum(dim='x').values.tofile(\n",
    "    '/work/uo1075/m300817/carbon_amoc/files/total_dissic_u05ssp245bgcLR.csv', sep=',')\n",
    "\n",
    "(ds_dissic_u03ssp245bgcLR.dissic*ds_volcello_u05hosLR.sum(dim=\"time\").volcello*g_per_molC/1e15).isel(depth=np.arange(0,40)).sum(dim='depth').sum(dim='y').sum(dim='x').values.tofile(\n",
    "    '/work/uo1075/m300817/carbon_amoc/files/total_dissic_u03ssp245bgcLR.csv', sep=',')\n",
    "\n",
    "(ds_dissic_u01ssp245bgcLR.dissic*ds_volcello_u05hosLR.sum(dim=\"time\").volcello*g_per_molC/1e15).isel(depth=np.arange(0,40)).sum(dim='depth').sum(dim='y').sum(dim='x').values.tofile(\n",
    "    '/work/uo1075/m300817/carbon_amoc/files/total_dissic_u01ssp245bgcLR.csv', sep=',')\n",
    "\n",
    "(ds_dissic_g01ssp245bgcLR.dissic*ds_volcello_u05hosLR.sum(dim=\"time\").volcello*g_per_molC/1e15).isel(depth=np.arange(0,40)).sum(dim='depth').sum(dim='y').sum(dim='x').values.tofile(\n",
    "    '/work/uo1075/m300817/carbon_amoc/files/total_dissic_g01ssp245bgcLR.csv', sep=',')\n",
    "\n",
    "(ds_dissic_g03ssp245bgcLR.dissic*ds_volcello_u05hosLR.sum(dim=\"time\").volcello*g_per_molC/1e15).isel(depth=np.arange(0,40)).sum(dim='depth').sum(dim='y').sum(dim='x').values.tofile(\n",
    "    '/work/uo1075/m300817/carbon_amoc/files/total_dissic_g03ssp245bgcLR.csv', sep=',')\n",
    "\n",
    "(ds_dissic_g05ssp245bgcLR.dissic*ds_volcello_u05hosLR.sum(dim=\"time\").volcello*g_per_molC/1e15).isel(depth=np.arange(0,40)).sum(dim='depth').sum(dim='y').sum(dim='x').values.tofile(\n",
    "    '/work/uo1075/m300817/carbon_amoc/files/total_dissic_g05ssp245bgcLR.csv', sep=',')\n",
    "\n",
    "(ds_dissic_ssp245bgcLR.dissic*ds_volcello_u05hosLR.sum(dim=\"time\").volcello*g_per_molC/1e15).isel(depth=np.arange(0,40)).sum(dim='depth').sum(dim='y').sum(dim='x').values.tofile(\n",
    "    '/work/uo1075/m300817/carbon_amoc/files/total_dissic_ssp245bgcLR.csv', sep=',')"
   ]
  },
  {
   "cell_type": "markdown",
   "id": "03742108-61df-43a9-a1dd-7ec2c6cf04e2",
   "metadata": {},
   "source": [
    "Dissic diff"
   ]
  },
  {
   "cell_type": "code",
   "execution_count": null,
   "id": "f26985ae-2fe9-4152-97b4-383c3806c587",
   "metadata": {
    "execution": {
     "iopub.execute_input": "2024-08-20T16:15:03.041317Z",
     "iopub.status.busy": "2024-08-20T16:15:03.040861Z",
     "iopub.status.idle": "2024-08-20T16:15:03.046124Z",
     "shell.execute_reply": "2024-08-20T16:15:03.045497Z",
     "shell.execute_reply.started": "2024-08-20T16:15:03.041295Z"
    },
    "tags": []
   },
   "outputs": [],
   "source": [
    "np.array(diff_dissic_u05ssp245bgc_array).tofile(\n",
    "    '/work/uo1075/m300817/carbon_amoc/files/diff_dissic_u05ssp245bgcLR.csv', sep=',')\n",
    "\n",
    "np.array(diff_dissic_u03ssp245bgc_array).tofile(\n",
    "    '/work/uo1075/m300817/carbon_amoc/files/diff_dissic_u03ssp245bgcLR.csv', sep=',')\n",
    "\n",
    "np.array(diff_dissic_u01ssp245bgc_array).tofile(\n",
    "    '/work/uo1075/m300817/carbon_amoc/files/diff_dissic_u01ssp245bgcLR.csv', sep=',')\n",
    "\n",
    "np.array(diff_dissic_g01ssp245bgc_array).tofile(\n",
    "    '/work/uo1075/m300817/carbon_amoc/files/diff_dissic_g01ssp245bgcLR.csv', sep=',')\n",
    "\n",
    "np.array(diff_dissic_g03ssp245bgc_array).tofile(\n",
    "    '/work/uo1075/m300817/carbon_amoc/files/diff_dissic_g03ssp245bgcLR.csv', sep=',')\n",
    "\n",
    "np.array(diff_dissic_g05ssp245bgc_array).tofile(\n",
    "    '/work/uo1075/m300817/carbon_amoc/files/diff_dissic_g05ssp245bgcLR.csv', sep=',')\n",
    "\n",
    "np.array(diff_dissic_ssp245bgc_array).tofile(\n",
    "    '/work/uo1075/m300817/carbon_amoc/files/diff_dissic_ssp245bgcLR.csv', sep=',')"
   ]
  },
  {
   "cell_type": "markdown",
   "id": "fc70b642-8ca6-4851-879d-d076bcaa12c1",
   "metadata": {},
   "source": [
    "msftmz totals "
   ]
  },
  {
   "cell_type": "code",
   "execution_count": null,
   "id": "331d3721-4366-4448-81a9-ab24d84fae47",
   "metadata": {
    "execution": {
     "iopub.execute_input": "2024-08-20T16:18:23.038743Z",
     "iopub.status.busy": "2024-08-20T16:18:23.038267Z",
     "iopub.status.idle": "2024-08-20T16:18:27.744023Z",
     "shell.execute_reply": "2024-08-20T16:18:27.743257Z",
     "shell.execute_reply.started": "2024-08-20T16:18:23.038717Z"
    },
    "tags": []
   },
   "outputs": [],
   "source": [
    "(ds_msftmz_u05ssp245bgcLR.sel(lat=26.5).sel(depth_2=1020).sel(lon=0).groupby('time.year').mean('time').atlantic_moc/1e9).values.tofile(\n",
    "    '/work/uo1075/m300817/carbon_amoc/files/total_amoc26.5N_u05ssp245bgcLR.csv', sep=',')\n",
    "\n",
    "(ds_msftmz_u03ssp245bgcLR.sel(lat=26.5).sel(depth_2=1020).sel(lon=0).groupby('time.year').mean('time').atlantic_moc/1e9).values.tofile(\n",
    "    '/work/uo1075/m300817/carbon_amoc/files/total_amoc26.5N_u03ssp245bgcLR.csv', sep=',')\n",
    "\n",
    "(ds_msftmz_u01ssp245bgcLR.sel(lat=26.5).sel(depth_2=1020).sel(lon=0).groupby('time.year').mean('time').atlantic_moc/1e9).values.tofile(\n",
    "    '/work/uo1075/m300817/carbon_amoc/files/total_amoc26.5N_u01ssp245bgcLR.csv', sep=',')(ds_msftmz_g01ssp245bgcLR.sel(lat=26.5).sel(depth_2=1020).sel(lon=0).groupby('time.year').mean('time').atlantic_moc/1e9).values.tofile(\n",
    "    '/work/uo1075/m300817/carbon_amoc/files/total_amoc26.5N_g01ssp245bgcLR.csv', sep=',')\n",
    "\n",
    "(ds_msftmz_g03ssp245bgcLR.sel(lat=26.5).sel(depth_2=1020).sel(lon=0).groupby('time.year').mean('time').atlantic_moc/1e9).values.tofile(\n",
    "    '/work/uo1075/m300817/carbon_amoc/files/total_amoc26.5N_g03ssp245bgcLR.csv', sep=',')\n",
    "\n",
    "(ds_msftmz_g05ssp245bgcLR.sel(lat=26.5).sel(depth_2=1020).sel(lon=0).groupby('time.year').mean('time').atlantic_moc/1e9).values.tofile(\n",
    "    '/work/uo1075/m300817/carbon_amoc/files/total_amoc26.5N_g05ssp245bgcLR.csv', sep=',')\n",
    "\n",
    "(ds_msftmz_ssp245bgcLR.sel(lat=26.5).sel(depth_2=1020).sel(lon=0).groupby('time.year').mean('time').atlantic_moc/1e9).values.tofile(\n",
    "    '/work/uo1075/m300817/carbon_amoc/files/total_amoc26.5N_ssp245bgcLR.csv', sep=',')"
   ]
  },
  {
   "cell_type": "markdown",
   "id": "a8f9c4f0-8290-497f-b9a9-7b534dad4d3b",
   "metadata": {
    "execution": {
     "iopub.execute_input": "2024-08-20T16:20:49.222029Z",
     "iopub.status.busy": "2024-08-20T16:20:49.221622Z",
     "iopub.status.idle": "2024-08-20T16:20:49.226219Z",
     "shell.execute_reply": "2024-08-20T16:20:49.225451Z",
     "shell.execute_reply.started": "2024-08-20T16:20:49.222001Z"
    }
   },
   "source": [
    "msftmz diff"
   ]
  },
  {
   "cell_type": "code",
   "execution_count": null,
   "id": "4ee0092d-9f57-4814-a5ff-3c29c56ebd8e",
   "metadata": {
    "collapsed": true,
    "execution": {
     "iopub.execute_input": "2024-08-20T16:21:46.029657Z",
     "iopub.status.busy": "2024-08-20T16:21:46.029117Z",
     "iopub.status.idle": "2024-08-20T16:21:50.850552Z",
     "shell.execute_reply": "2024-08-20T16:21:50.849865Z",
     "shell.execute_reply.started": "2024-08-20T16:21:46.029631Z"
    },
    "jupyter": {
     "outputs_hidden": true
    },
    "tags": []
   },
   "outputs": [],
   "source": [
    "ds_msftmz_u05ssp245bgcLR.load()\n",
    "ds_msftmz_u03ssp245bgcLR.load()\n",
    "ds_msftmz_u01ssp245bgcLR.load()\n",
    "ds_msftmz_g01ssp245bgcLR.load()\n",
    "ds_msftmz_g03ssp245bgcLR.load()\n",
    "ds_msftmz_g01ssp245bgcLR.load()\n",
    "ds_msftmz_ssp245bgcLR.load()"
   ]
  },
  {
   "cell_type": "code",
   "execution_count": null,
   "id": "e2411aed-14b8-4f89-b9b1-b37b14db5b09",
   "metadata": {
    "execution": {
     "iopub.execute_input": "2024-08-20T16:21:50.852152Z",
     "iopub.status.busy": "2024-08-20T16:21:50.851770Z",
     "iopub.status.idle": "2024-08-20T16:22:06.058294Z",
     "shell.execute_reply": "2024-08-20T16:22:06.057543Z",
     "shell.execute_reply.started": "2024-08-20T16:21:50.852133Z"
    },
    "tags": []
   },
   "outputs": [],
   "source": [
    "# not the same as msftmt_..._diff, which just calculate the total difference at the end of the period\n",
    "from tqdm import tqdm\n",
    "diff_msftmz_u05ssp245bgc = []\n",
    "diff_msftmz_u03ssp245bgc = []\n",
    "diff_msftmz_u01ssp245bgc = []\n",
    "diff_msftmz_g01ssp245bgc = []\n",
    "diff_msftmz_g03ssp245bgc = []\n",
    "diff_msftmz_g05ssp245bgc = []\n",
    "diff_msftmz_ssp245bgc    = []\n",
    "amoc26_u05ssp245bgc_yearly = ds_msftmz_u05ssp245bgcLR.sel(lat=26.5).sel(depth_2=1020).sel(lon=0).groupby('time.year').mean('time')\n",
    "amoc26_u03ssp245bgc_yearly = ds_msftmz_u03ssp245bgcLR.sel(lat=26.5).sel(depth_2=1020).sel(lon=0).groupby('time.year').mean('time')\n",
    "amoc26_u01ssp245bgc_yearly = ds_msftmz_u01ssp245bgcLR.sel(lat=26.5).sel(depth_2=1020).sel(lon=0).groupby('time.year').mean('time')\n",
    "amoc26_g01ssp245bgc_yearly = ds_msftmz_g01ssp245bgcLR.sel(lat=26.5).sel(depth_2=1020).sel(lon=0).groupby('time.year').mean('time')\n",
    "amoc26_g03ssp245bgc_yearly = ds_msftmz_g03ssp245bgcLR.sel(lat=26.5).sel(depth_2=1020).sel(lon=0).groupby('time.year').mean('time')\n",
    "amoc26_g05ssp245bgc_yearly = ds_msftmz_g05ssp245bgcLR.sel(lat=26.5).sel(depth_2=1020).sel(lon=0).groupby('time.year').mean('time')\n",
    "amoc26_ssp245bgc_yearly = ds_msftmz_ssp245bgcLR.sel(lat=26.5).sel(depth_2=1020).sel(lon=0).groupby('time.year').mean('time')\n",
    "for year in tqdm(range(1,85)): \n",
    "    diff_msftmz_u05ssp245bgc.append(\n",
    "        ((amoc26_u05ssp245bgc_yearly.isel(year=np.arange(year,year+1)).atlantic_moc.values)/1e9)\n",
    "        -((amoc26_u05ssp245bgc_yearly.isel(year=0).atlantic_moc.values)/1e9))\n",
    "    \n",
    "    diff_msftmz_u03ssp245bgc.append(\n",
    "        ((amoc26_u03ssp245bgc_yearly.isel(year=np.arange(year,year+1)).atlantic_moc.values)/1e9)\n",
    "        -((amoc26_u03ssp245bgc_yearly.isel(year=0).atlantic_moc.values)/1e9))\n",
    "    \n",
    "    diff_msftmz_u01ssp245bgc.append(\n",
    "        ((amoc26_u01ssp245bgc_yearly.isel(year=np.arange(year,year+1)).atlantic_moc.values)/1e9)\n",
    "        -((amoc26_u01ssp245bgc_yearly.isel(year=0).atlantic_moc.values)/1e9))\n",
    "    \n",
    "    diff_msftmz_g01ssp245bgc.append(\n",
    "        ((amoc26_g01ssp245bgc_yearly.isel(year=np.arange(year,year+1)).atlantic_moc.values)/1e9)\n",
    "        -((amoc26_g01ssp245bgc_yearly.isel(year=0).atlantic_moc.values)/1e9))\n",
    "    \n",
    "    diff_msftmz_g03ssp245bgc.append(\n",
    "        ((amoc26_g03ssp245bgc_yearly.isel(year=np.arange(year,year+1)).atlantic_moc.values)/1e9)\n",
    "        -((amoc26_g03ssp245bgc_yearly.isel(year=0).atlantic_moc.values)/1e9))\n",
    "    \n",
    "    diff_msftmz_g05ssp245bgc.append(\n",
    "        ((amoc26_g05ssp245bgc_yearly.isel(year=np.arange(year,year+1)).atlantic_moc.values)/1e9)\n",
    "        -((amoc26_g05ssp245bgc_yearly.isel(year=0).atlantic_moc.values)/1e9))\n",
    "    \n",
    "    diff_msftmz_ssp245bgc.append(\n",
    "        ((amoc26_ssp245bgc_yearly.isel(year=np.arange(year,year+1)).atlantic_moc.values)/1e9)\n",
    "        -((amoc26_ssp245bgc_yearly.isel(year=0).atlantic_moc.values)/1e9))\n",
    "    "
   ]
  },
  {
   "cell_type": "code",
   "execution_count": null,
   "id": "33743ec2-fb94-408d-a382-bd2ad0c28296",
   "metadata": {
    "execution": {
     "iopub.execute_input": "2024-08-20T16:22:06.059516Z",
     "iopub.status.busy": "2024-08-20T16:22:06.059217Z",
     "iopub.status.idle": "2024-08-20T16:22:06.064631Z",
     "shell.execute_reply": "2024-08-20T16:22:06.064025Z",
     "shell.execute_reply.started": "2024-08-20T16:22:06.059496Z"
    },
    "tags": []
   },
   "outputs": [],
   "source": [
    "diff_amoc26_u05ssp245bgc_array=[]\n",
    "diff_amoc26_u03ssp245bgc_array=[]\n",
    "diff_amoc26_u01ssp245bgc_array=[]\n",
    "diff_amoc26_g01ssp245bgc_array=[]\n",
    "diff_amoc26_g03ssp245bgc_array=[]\n",
    "diff_amoc26_g05ssp245bgc_array=[]\n",
    "diff_amoc26_ssp245bgc_array=[]\n",
    "for i in range(len(diff_msftmz_u05ssp245bgc)):\n",
    "    diff_amoc26_u05ssp245bgc_array.append(diff_msftmz_u05ssp245bgc[i].item())\n",
    "    diff_amoc26_u03ssp245bgc_array.append(diff_msftmz_u03ssp245bgc[i].item())\n",
    "    diff_amoc26_u01ssp245bgc_array.append(diff_msftmz_u01ssp245bgc[i].item())\n",
    "    diff_amoc26_g01ssp245bgc_array.append(diff_msftmz_g01ssp245bgc[i].item())\n",
    "    diff_amoc26_g03ssp245bgc_array.append(diff_msftmz_g03ssp245bgc[i].item())\n",
    "    diff_amoc26_g05ssp245bgc_array.append(diff_msftmz_g05ssp245bgc[i].item())\n",
    "    diff_amoc26_ssp245bgc_array.append(diff_msftmz_ssp245bgc[i].item())"
   ]
  },
  {
   "cell_type": "code",
   "execution_count": null,
   "id": "c93f0664-76a7-4a0a-89d1-3c9f160cdf45",
   "metadata": {
    "execution": {
     "iopub.execute_input": "2024-08-20T16:23:57.932035Z",
     "iopub.status.busy": "2024-08-20T16:23:57.931601Z",
     "iopub.status.idle": "2024-08-20T16:23:57.938515Z",
     "shell.execute_reply": "2024-08-20T16:23:57.937900Z",
     "shell.execute_reply.started": "2024-08-20T16:23:57.932012Z"
    },
    "tags": []
   },
   "outputs": [],
   "source": [
    "np.array(diff_amoc26_u05ssp245bgc_array).tofile(\n",
    "    '/work/uo1075/m300817/carbon_amoc/files/diff_amoc26.5N_u05ssp245bgcLR.csv', sep=',')\n",
    "\n",
    "np.array(diff_amoc26_u03ssp245bgc_array).tofile(\n",
    "    '/work/uo1075/m300817/carbon_amoc/files/diff_amoc26.5N_u03ssp245bgcLR.csv', sep=',')\n",
    "\n",
    "np.array(diff_amoc26_u01ssp245bgc_array).tofile(\n",
    "    '/work/uo1075/m300817/carbon_amoc/files/diff_amoc26.5N_u01ssp245bgcLR.csv', sep=',')\n",
    "\n",
    "np.array(diff_amoc26_g01ssp245bgc_array).tofile(\n",
    "    '/work/uo1075/m300817/carbon_amoc/files/diff_amoc26.5N_g01ssp245bgcLR.csv', sep=',')\n",
    "\n",
    "np.array(diff_amoc26_g03ssp245bgc_array).tofile(\n",
    "    '/work/uo1075/m300817/carbon_amoc/files/diff_amoc26.5N_g03ssp245bgcLR.csv', sep=',')\n",
    "\n",
    "np.array(diff_amoc26_g05ssp245bgc_array).tofile(\n",
    "    '/work/uo1075/m300817/carbon_amoc/files/diff_amoc26.5N_g05ssp245bgcLR.csv', sep=',')\n",
    "\n",
    "np.array(diff_amoc26_ssp245bgc_array).tofile(\n",
    "    '/work/uo1075/m300817/carbon_amoc/files/diff_amoc26.5N_ssp245bgcLR.csv', sep=',')\n",
    "\n",
    "amoc26_u05ssp245bgc_yearly.year.values.tofile(\n",
    "    '/work/uo1075/m300817/carbon_amoc/files/time.csv', sep=',')"
   ]
  },
  {
   "cell_type": "markdown",
   "id": "d6302b5f-9eb4-403f-9560-939cc7a15b42",
   "metadata": {},
   "source": [
    "# SSPs and piC in CMIP6 models"
   ]
  },
  {
   "cell_type": "markdown",
   "id": "1e6c431d-9411-435a-ab70-974ef2e5cc5a",
   "metadata": {},
   "source": [
    "## ssp245"
   ]
  },
  {
   "cell_type": "code",
   "execution_count": null,
   "id": "39c472e5-674b-4ac0-b9e3-fe11bd0520fe",
   "metadata": {
    "execution": {
     "iopub.execute_input": "2024-08-31T18:04:56.721681Z",
     "iopub.status.busy": "2024-08-31T18:04:56.717314Z",
     "iopub.status.idle": "2024-08-31T18:04:56.738502Z",
     "shell.execute_reply": "2024-08-31T18:04:56.737852Z",
     "shell.execute_reply.started": "2024-08-31T18:04:56.721646Z"
    },
    "tags": []
   },
   "outputs": [],
   "source": [
    "# Paths for ssp245 scenario\n",
    "paths={'MPI-ESM1.2-LR':'/work/ik1017/CMIP6/data/CMIP6/ScenarioMIP/MPI-M/MPI-ESM1-2-LR/ssp245/',\n",
    "       'CanESM5':'/work/ik1017/CMIP6/data/CMIP6/ScenarioMIP/CCCma/CanESM5/ssp245',\n",
    "       'CESM2':'/work/ik1017/CMIP6/data/CMIP6/ScenarioMIP/NCAR/CESM2/ssp245',\n",
    "       'NorESM2-LM':'/work/ik1017/CMIP6/data/CMIP6/ScenarioMIP/NCC/NorESM2-LM/ssp245',\n",
    "       'ACCESS-ESM1-5':'/work/ik1017/CMIP6/data/CMIP6/ScenarioMIP/CSIRO/ACCESS-ESM1-5/ssp245',\n",
    "       'MIROC-ES2L': '/work/ik1017/CMIP6/data/CMIP6/ScenarioMIP/MIROC/MIROC-ES2L/ssp245', \n",
    "       'GISS-E2-1-G': '/work/ik1017/CMIP6/data/CMIP6/ScenarioMIP/NASA-GISS/GISS-E2-1-G//ssp245/'\n",
    "      }"
   ]
  },
  {
   "cell_type": "markdown",
   "id": "7f676d79-29d6-4136-8465-6a6f7198e21a",
   "metadata": {},
   "source": [
    "### MPI-ESM1.2-LR"
   ]
  },
  {
   "cell_type": "code",
   "execution_count": null,
   "id": "40e0f793-037c-4e7a-bf83-ab3b04289943",
   "metadata": {
    "execution": {
     "iopub.execute_input": "2024-08-31T18:16:04.964194Z",
     "iopub.status.busy": "2024-08-31T18:16:04.963673Z",
     "iopub.status.idle": "2024-08-31T18:16:25.332852Z",
     "shell.execute_reply": "2024-08-31T18:16:25.332041Z",
     "shell.execute_reply.started": "2024-08-31T18:16:04.964171Z"
    },
    "tags": []
   },
   "outputs": [],
   "source": [
    "array = []\n",
    "for i in range(1,51):\n",
    "    rea = \"r\"+str(i)+\"i1p1f1\"\n",
    "    infiles = glob.glob(f'{paths[\"MPI-ESM1.2-LR\"]}/{rea}/Omon/msftmz/gn/**/*.nc', recursive=True)\n",
    "    array.append(xr.open_mfdataset(infiles, use_cftime=True, data_vars=\"minimal\", coords=\"minimal\", compat=\"override\", parallel=True).assign_coords(realiz=rea))\n",
    "msftmz_mpiesmlr = xr.concat(array, dim='realiz')"
   ]
  },
  {
   "cell_type": "code",
   "execution_count": null,
   "id": "3940b074-811a-4a98-a20b-b52cd769fdd6",
   "metadata": {
    "execution": {
     "iopub.execute_input": "2024-08-30T09:54:25.009732Z",
     "iopub.status.busy": "2024-08-30T09:54:25.009384Z",
     "iopub.status.idle": "2024-08-30T09:54:27.499263Z",
     "shell.execute_reply": "2024-08-30T09:54:27.498348Z",
     "shell.execute_reply.started": "2024-08-30T09:54:25.009709Z"
    }
   },
   "outputs": [],
   "source": [
    "msftmz_mpiesmlr_mean = (weighted_mon_to_year_mean(msftmz_mpiesmlr.sel(lat=26.5).sel(lev=1020).isel(basin=1), 'msftmz').mean(dim=\"realiz\"))/(1025.0 * 10**6)\n",
    "msftmz_mpiesmlr_std = (weighted_mon_to_year_mean(msftmz_mpiesmlr.sel(lat=26.5).sel(lev=1020).isel(basin=1), 'msftmz').std(dim=\"realiz\"))/(1025.0 * 10**6)"
   ]
  },
  {
   "cell_type": "code",
   "execution_count": null,
   "id": "9137751c-c5bb-4235-b2de-90fab5ec94e5",
   "metadata": {
    "execution": {
     "iopub.execute_input": "2024-08-30T09:54:52.766543Z",
     "iopub.status.busy": "2024-08-30T09:54:52.765977Z",
     "iopub.status.idle": "2024-08-30T09:55:28.295093Z",
     "shell.execute_reply": "2024-08-30T09:55:28.294078Z",
     "shell.execute_reply.started": "2024-08-30T09:54:52.766516Z"
    }
   },
   "outputs": [],
   "source": [
    "# Save to .nc file\n",
    "ds = xr.Dataset({\n",
    "    'mean': msftmz_mpiesmlr_mean,\n",
    "    'std': msftmz_mpiesmlr_std\n",
    "})\n",
    "file_path = '/work/uo1075/m300817/carbon_amoc/amoc-carbon/data/CMIP6_amoc/MPI-ESM1.2-LR/msftmz_mpiesmlr_ssp245.nc'\n",
    "ds.to_netcdf(path=file_path)"
   ]
  },
  {
   "cell_type": "markdown",
   "id": "b37e560d-52d4-4af3-80b0-eb2590dc33a1",
   "metadata": {},
   "source": [
    "3 ens members only"
   ]
  },
  {
   "cell_type": "code",
   "execution_count": null,
   "id": "1f79f443-2f26-46b9-bbf7-5527b4b846c3",
   "metadata": {
    "execution": {
     "iopub.execute_input": "2024-08-31T18:17:36.415737Z",
     "iopub.status.busy": "2024-08-31T18:17:36.415259Z",
     "iopub.status.idle": "2024-08-31T18:17:38.368564Z",
     "shell.execute_reply": "2024-08-31T18:17:38.367790Z",
     "shell.execute_reply.started": "2024-08-31T18:17:36.415711Z"
    }
   },
   "outputs": [],
   "source": [
    "msftmz_mpiesmlr_mean = (weighted_mon_to_year_mean(msftmz_mpiesmlr.sel(lat=26.5).sel(lev=1020).isel(basin=1), 'msftmz').isel(realiz=slice(0, 3)).mean(dim=\"realiz\"))/(1025.0 * 10**6)\n",
    "msftmz_mpiesmlr_std = (weighted_mon_to_year_mean(msftmz_mpiesmlr.sel(lat=26.5).sel(lev=1020).isel(basin=1), 'msftmz').isel(realiz=slice(0, 3)).std(dim=\"realiz\"))/(1025.0 * 10**6)"
   ]
  },
  {
   "cell_type": "code",
   "execution_count": null,
   "id": "412776bf-a800-44d4-ac4e-f64641a92690",
   "metadata": {
    "execution": {
     "iopub.execute_input": "2024-08-31T18:18:38.266109Z",
     "iopub.status.busy": "2024-08-31T18:18:38.265644Z",
     "iopub.status.idle": "2024-08-31T18:18:39.928036Z",
     "shell.execute_reply": "2024-08-31T18:18:39.927236Z",
     "shell.execute_reply.started": "2024-08-31T18:18:38.266085Z"
    }
   },
   "outputs": [],
   "source": [
    "# Save to .nc file\n",
    "ds = xr.Dataset({\n",
    "    'mean': msftmz_mpiesmlr_mean,\n",
    "    'std': msftmz_mpiesmlr_std\n",
    "})\n",
    "file_path = '/work/uo1075/m300817/carbon_amoc/amoc-carbon/data/CMIP6_amoc/MPI-ESM1.2-LR/msftmz_mpiesmlr_ssp245_r1-3i1p2f1.nc'\n",
    "ds.to_netcdf(path=file_path)"
   ]
  },
  {
   "cell_type": "markdown",
   "id": "887f78b0-5d3b-41f8-ae7f-61f8599d1491",
   "metadata": {
    "execution": {
     "iopub.execute_input": "2024-08-31T13:10:27.325244Z",
     "iopub.status.busy": "2024-08-31T13:10:27.321368Z",
     "iopub.status.idle": "2024-08-31T13:10:28.495012Z",
     "shell.execute_reply": "2024-08-31T13:10:28.494007Z",
     "shell.execute_reply.started": "2024-08-31T13:10:27.325217Z"
    }
   },
   "source": [
    "### CanESM5"
   ]
  },
  {
   "cell_type": "code",
   "execution_count": null,
   "id": "b9d7656d-e573-49de-afa3-f7df2ab1937a",
   "metadata": {
    "execution": {
     "iopub.execute_input": "2024-08-31T14:32:37.011181Z",
     "iopub.status.busy": "2024-08-31T14:32:37.010779Z",
     "iopub.status.idle": "2024-08-31T14:32:38.222343Z",
     "shell.execute_reply": "2024-08-31T14:32:38.221613Z",
     "shell.execute_reply.started": "2024-08-31T14:32:37.011158Z"
    },
    "tags": []
   },
   "outputs": [],
   "source": [
    "array = []\n",
    "for i in range(1,26):\n",
    "    rea = \"r\"+str(i)+\"i1p2f1\"\n",
    "    infiles = glob.glob(f'{paths[\"CanESM5\"]}/{rea}/Omon/msftmz/gn/**/*.nc', recursive=True)\n",
    "    array.append(xr.open_mfdataset(infiles, use_cftime=True, data_vars=\"minimal\", coords=\"minimal\", compat=\"override\", parallel=True).assign_coords(realiz=rea))\n",
    "ssp245_msftmz_canesm5 = xr.concat(array, dim='realiz')"
   ]
  },
  {
   "cell_type": "code",
   "execution_count": null,
   "id": "7edf1b07-44e8-423d-87c3-f9591e7c64af",
   "metadata": {
    "execution": {
     "iopub.execute_input": "2024-08-31T16:27:02.213975Z",
     "iopub.status.busy": "2024-08-31T16:27:02.213469Z",
     "iopub.status.idle": "2024-08-31T16:27:23.582202Z",
     "shell.execute_reply": "2024-08-31T16:27:23.581399Z",
     "shell.execute_reply.started": "2024-08-31T16:27:02.213949Z"
    }
   },
   "outputs": [],
   "source": [
    "year_amoc_levs= weighted_mon_to_year_mean(ssp245_msftmz_canesm5.sel(lat=26.5, method='nearest').isel(basin=0), 'msftmz').load()/(1025.0 * 10**6)\n",
    "max_lev_indices=year_amoc_levs.idxmax(dim='lev')\n",
    "year_amoc = year_amoc_levs.sel(lev=max_lev_indices)\n",
    "ssp245_msftmz_canesm5_mean = year_amoc.mean(dim=\"realiz\")\n",
    "ssp245_msftmz_canesm5_std = year_amoc.std(dim=\"realiz\")"
   ]
  },
  {
   "cell_type": "code",
   "execution_count": null,
   "id": "05769b10-35dc-43b5-a0e6-fc3332721883",
   "metadata": {
    "execution": {
     "iopub.execute_input": "2024-08-31T16:24:53.265846Z",
     "iopub.status.busy": "2024-08-31T16:24:53.265372Z",
     "iopub.status.idle": "2024-08-31T16:24:53.314726Z",
     "shell.execute_reply": "2024-08-31T16:24:53.314017Z",
     "shell.execute_reply.started": "2024-08-31T16:24:53.265820Z"
    }
   },
   "outputs": [],
   "source": [
    "# Save to .nc file\n",
    "ds = xr.Dataset({\n",
    "    'mean': ssp245_msftmz_canesm5_mean,\n",
    "    'std': ssp245_msftmz_canesm5_std\n",
    "})\n",
    "file_path = '/work/uo1075/m300817/carbon_amoc/amoc-carbon/data/CMIP6_amoc/CanESM5/msftmz_canesm5_ssp245_r1-25i1p2f1.nc'\n",
    "ds.to_netcdf(path=file_path)"
   ]
  },
  {
   "cell_type": "markdown",
   "id": "4e1c4e7e-442a-4cff-93e1-ca5e18231488",
   "metadata": {},
   "source": [
    "3 ens members only"
   ]
  },
  {
   "cell_type": "code",
   "execution_count": null,
   "id": "1be501ac-b165-4c1c-981f-0781edd029f3",
   "metadata": {
    "execution": {
     "iopub.execute_input": "2024-08-31T16:35:36.580960Z",
     "iopub.status.busy": "2024-08-31T16:35:36.576433Z",
     "iopub.status.idle": "2024-08-31T16:35:36.600118Z",
     "shell.execute_reply": "2024-08-31T16:35:36.599452Z",
     "shell.execute_reply.started": "2024-08-31T16:35:36.580933Z"
    }
   },
   "outputs": [],
   "source": [
    "ssp245_msftmz_canesm5_mean = year_amoc.isel(realiz=slice(0, 3)).mean(dim=\"realiz\")\n",
    "ssp245_msftmz_canesm5_std = year_amoc.isel(realiz=slice(0, 3)).std(dim=\"realiz\")"
   ]
  },
  {
   "cell_type": "code",
   "execution_count": null,
   "id": "830b9173-f426-440c-8385-b3242b2dfc72",
   "metadata": {
    "execution": {
     "iopub.execute_input": "2024-08-31T16:36:17.779195Z",
     "iopub.status.busy": "2024-08-31T16:36:17.778763Z",
     "iopub.status.idle": "2024-08-31T16:36:17.844609Z",
     "shell.execute_reply": "2024-08-31T16:36:17.843946Z",
     "shell.execute_reply.started": "2024-08-31T16:36:17.779172Z"
    }
   },
   "outputs": [],
   "source": [
    "# Save to .nc file\n",
    "ds = xr.Dataset({\n",
    "    'mean': ssp245_msftmz_canesm5_mean,\n",
    "    'std': ssp245_msftmz_canesm5_std\n",
    "})\n",
    "file_path = '/work/uo1075/m300817/carbon_amoc/amoc-carbon/data/CMIP6_amoc/CanESM5/msftmz_canesm5_ssp245_r1-3i1p2f1.nc'\n",
    "ds.to_netcdf(path=file_path)"
   ]
  },
  {
   "cell_type": "markdown",
   "id": "f9424e1a-c99e-408e-ab42-4e3da33de304",
   "metadata": {
    "execution": {
     "iopub.execute_input": "2024-08-31T13:10:27.325244Z",
     "iopub.status.busy": "2024-08-31T13:10:27.321368Z",
     "iopub.status.idle": "2024-08-31T13:10:28.495012Z",
     "shell.execute_reply": "2024-08-31T13:10:28.494007Z",
     "shell.execute_reply.started": "2024-08-31T13:10:27.325217Z"
    }
   },
   "source": [
    "### CESM2"
   ]
  },
  {
   "cell_type": "code",
   "execution_count": null,
   "id": "42370679-e560-40d7-911c-4d6bf11225ae",
   "metadata": {
    "collapsed": true,
    "execution": {
     "iopub.execute_input": "2024-08-31T16:38:30.075095Z",
     "iopub.status.busy": "2024-08-31T16:38:30.070804Z",
     "iopub.status.idle": "2024-08-31T16:38:30.940499Z",
     "shell.execute_reply": "2024-08-31T16:38:30.939789Z",
     "shell.execute_reply.started": "2024-08-31T16:38:30.075067Z"
    },
    "jupyter": {
     "outputs_hidden": true
    },
    "tags": []
   },
   "outputs": [],
   "source": [
    "array = []\n",
    "for i in [4, 10, 11]:\n",
    "    rea = \"r\"+str(i)+\"i1p1f1\"\n",
    "    infiles = glob.glob(f'{paths[\"CESM2\"]}/{rea}/Omon/msftmz/gn/**/*.nc', recursive=True)\n",
    "    array.append(xr.open_mfdataset(infiles, use_cftime=True, data_vars=\"minimal\", coords=\"minimal\", compat=\"override\", parallel=True).assign_coords(realiz=rea))\n",
    "ssp245_msftmz_cesm2 = xr.concat(array, dim='realiz')"
   ]
  },
  {
   "cell_type": "code",
   "execution_count": null,
   "id": "caf4e668-f4b5-420c-982e-902ddbb7b6bf",
   "metadata": {
    "execution": {
     "iopub.execute_input": "2024-08-31T16:38:44.428618Z",
     "iopub.status.busy": "2024-08-31T16:38:44.428201Z",
     "iopub.status.idle": "2024-08-31T16:38:50.897472Z",
     "shell.execute_reply": "2024-08-31T16:38:50.896695Z",
     "shell.execute_reply.started": "2024-08-31T16:38:44.428595Z"
    }
   },
   "outputs": [],
   "source": [
    "year_amoc_levs= weighted_mon_to_year_mean(ssp245_msftmz_cesm2.sel(lat=26.5, method='nearest').isel(basin=0), 'msftmz').load()/(1025.0 * 10**6)\n",
    "max_lev_indices=year_amoc_levs.idxmax(dim='lev')\n",
    "year_amoc = year_amoc_levs.sel(lev=max_lev_indices)\n",
    "ssp245_msftmz_cesm2_mean = year_amoc.mean(dim=\"realiz\")\n",
    "ssp245_msftmz_cesm2_std = year_amoc.std(dim=\"realiz\")"
   ]
  },
  {
   "cell_type": "code",
   "execution_count": null,
   "id": "e9b28b37-54a6-4f14-90af-b2ad259a9950",
   "metadata": {
    "execution": {
     "iopub.execute_input": "2024-08-31T16:40:37.770476Z",
     "iopub.status.busy": "2024-08-31T16:40:37.770011Z",
     "iopub.status.idle": "2024-08-31T16:40:37.788120Z",
     "shell.execute_reply": "2024-08-31T16:40:37.787451Z",
     "shell.execute_reply.started": "2024-08-31T16:40:37.770452Z"
    }
   },
   "outputs": [],
   "source": [
    "# Save to .nc file\n",
    "ds = xr.Dataset({\n",
    "    'mean': ssp245_msftmz_cesm2_mean,\n",
    "    'std': ssp245_msftmz_cesm2_std\n",
    "})\n",
    "file_path = '/work/uo1075/m300817/carbon_amoc/amoc-carbon/data/CMIP6_amoc/CESM2/msftmz_cesm2_ssp245_r4_r10_r11i1p1f1.nc'\n",
    "ds.to_netcdf(path=file_path)"
   ]
  },
  {
   "cell_type": "markdown",
   "id": "046582a2-7fa4-495b-97db-f77a01464283",
   "metadata": {},
   "source": [
    "### NorESM2-LM"
   ]
  },
  {
   "cell_type": "code",
   "execution_count": null,
   "id": "d4ae4548-efe3-41dc-bec1-3cb58089e67e",
   "metadata": {
    "execution": {
     "iopub.execute_input": "2024-08-31T16:48:04.920013Z",
     "iopub.status.busy": "2024-08-31T16:48:04.919537Z",
     "iopub.status.idle": "2024-08-31T16:48:06.936275Z",
     "shell.execute_reply": "2024-08-31T16:48:06.935519Z",
     "shell.execute_reply.started": "2024-08-31T16:48:04.919989Z"
    },
    "tags": []
   },
   "outputs": [],
   "source": [
    "array = []\n",
    "for i in [1, 2, 3]:\n",
    "    rea = \"r\"+str(i)+\"i1p1f1\"\n",
    "    infiles = glob.glob(f'{paths[\"NorESM2-LM\"]}/{rea}/Omon/msftmz/grz/**/*.nc', recursive=True)\n",
    "    array.append(xr.open_mfdataset(infiles, use_cftime=True, data_vars=\"minimal\", coords=\"minimal\", compat=\"override\", parallel=True).assign_coords(realiz=rea))\n",
    "ssp245_msftmz_noresm2lm = xr.concat(array, dim='realiz')"
   ]
  },
  {
   "cell_type": "code",
   "execution_count": null,
   "id": "c9b7c716-aeb0-4ca9-90ed-5fa9c47a01f5",
   "metadata": {
    "execution": {
     "iopub.execute_input": "2024-08-31T16:48:54.876832Z",
     "iopub.status.busy": "2024-08-31T16:48:54.876365Z",
     "iopub.status.idle": "2024-08-31T16:48:59.853216Z",
     "shell.execute_reply": "2024-08-31T16:48:59.852440Z",
     "shell.execute_reply.started": "2024-08-31T16:48:54.876808Z"
    }
   },
   "outputs": [],
   "source": [
    "year_amoc_levs= weighted_mon_to_year_mean(ssp245_msftmz_noresm2lm.sel(lat=26.5, method='nearest').isel(basin=0), 'msftmz').load()/(1025.0 * 10**6)\n",
    "max_lev_indices=year_amoc_levs.idxmax(dim='lev')\n",
    "year_amoc = year_amoc_levs.sel(lev=max_lev_indices)\n",
    "ssp245_msftmz_noresm2lm_mean = year_amoc.mean(dim=\"realiz\")\n",
    "ssp245_msftmz_noresm2lm_std = year_amoc.std(dim=\"realiz\")"
   ]
  },
  {
   "cell_type": "code",
   "execution_count": null,
   "id": "d8cfb552-8a5a-4ab7-819a-5a35af546d96",
   "metadata": {
    "execution": {
     "iopub.execute_input": "2024-08-31T16:50:04.414070Z",
     "iopub.status.busy": "2024-08-31T16:50:04.413617Z",
     "iopub.status.idle": "2024-08-31T16:50:04.443634Z",
     "shell.execute_reply": "2024-08-31T16:50:04.442970Z",
     "shell.execute_reply.started": "2024-08-31T16:50:04.414047Z"
    }
   },
   "outputs": [],
   "source": [
    "# Save to .nc file\n",
    "ds = xr.Dataset({\n",
    "    'mean': ssp245_msftmz_noresm2lm_mean,\n",
    "    'std': ssp245_msftmz_noresm2lm_std\n",
    "})\n",
    "file_path = '/work/uo1075/m300817/carbon_amoc/amoc-carbon/data/CMIP6_amoc/NorESM2-LM/msftmz_noresm2lm_ssp245_r1-3i1p1f1.nc'\n",
    "ds.to_netcdf(path=file_path)"
   ]
  },
  {
   "cell_type": "markdown",
   "id": "ae3a55e3-4287-48eb-aa4f-ea20a182536b",
   "metadata": {},
   "source": [
    "### ACCESS-ESM1-5"
   ]
  },
  {
   "cell_type": "code",
   "execution_count": null,
   "id": "6408fc39-74a8-4f7d-9b49-25d9c18683ae",
   "metadata": {
    "execution": {
     "iopub.execute_input": "2024-08-31T17:19:24.446044Z",
     "iopub.status.busy": "2024-08-31T17:19:24.441901Z",
     "iopub.status.idle": "2024-08-31T17:19:28.659489Z",
     "shell.execute_reply": "2024-08-31T17:19:28.658707Z",
     "shell.execute_reply.started": "2024-08-31T17:19:24.446016Z"
    },
    "tags": []
   },
   "outputs": [],
   "source": [
    "array = []\n",
    "for i in [1,2,3,4,6,7,8]:\n",
    "    rea = \"r\"+str(i)+\"i1p1f1\"\n",
    "    infiles = glob.glob(f'{paths[\"ACCESS-ESM1-5\"]}/{rea}/Omon/msftmz/gn/**/*.nc', recursive=True)\n",
    "    array.append(xr.open_mfdataset(infiles, use_cftime=True, data_vars=\"minimal\", coords=\"minimal\", compat=\"override\", parallel=True).assign_coords(realiz=rea))\n",
    "ssp245_msftmz_accessesm15 = xr.concat(array, dim='realiz')"
   ]
  },
  {
   "cell_type": "code",
   "execution_count": null,
   "id": "9208e46f-e73a-42e0-8825-ef8dc286a2f4",
   "metadata": {
    "execution": {
     "iopub.execute_input": "2024-08-31T17:24:19.108498Z",
     "iopub.status.busy": "2024-08-31T17:24:19.108025Z",
     "iopub.status.idle": "2024-08-31T17:24:26.169928Z",
     "shell.execute_reply": "2024-08-31T17:24:26.169125Z",
     "shell.execute_reply.started": "2024-08-31T17:24:19.108474Z"
    }
   },
   "outputs": [],
   "source": [
    "year_amoc_levs= weighted_mon_to_year_mean(ssp245_msftmz_accessesm15.sel(lat=26.5, method='nearest').isel(basin=0), 'msftmz').load()/(1025.0 * 10**6)\n",
    "max_lev_indices=year_amoc_levs.idxmax(dim='lev')\n",
    "year_amoc = year_amoc_levs.sel(lev=max_lev_indices)\n",
    "ssp245_msftmz_accessesm15_mean = year_amoc.mean(dim=\"realiz\")\n",
    "ssp245_msftmz_accessesm15_std = year_amoc.std(dim=\"realiz\")"
   ]
  },
  {
   "cell_type": "code",
   "execution_count": null,
   "id": "05e2b518-046a-4777-a6cf-2d9745fd3c01",
   "metadata": {
    "execution": {
     "iopub.execute_input": "2024-08-31T17:24:29.918433Z",
     "iopub.status.busy": "2024-08-31T17:24:29.917978Z",
     "iopub.status.idle": "2024-08-31T17:24:29.931996Z",
     "shell.execute_reply": "2024-08-31T17:24:29.931336Z",
     "shell.execute_reply.started": "2024-08-31T17:24:29.918403Z"
    }
   },
   "outputs": [],
   "source": [
    "# Save to .nc file\n",
    "ds = xr.Dataset({\n",
    "    'mean': ssp245_msftmz_accessesm15_mean,\n",
    "    'std': ssp245_msftmz_accessesm15_std\n",
    "})\n",
    "file_path = '/work/uo1075/m300817/carbon_amoc/amoc-carbon/data/CMIP6_amoc/ACCESS-ESM1-5/msftmz_accessesm15_ssp245_r1-4_6-8i1p1f1.nc'\n",
    "ds.to_netcdf(path=file_path)"
   ]
  },
  {
   "cell_type": "markdown",
   "id": "84625b1a-d079-4f6d-a89e-77effaaf33a8",
   "metadata": {},
   "source": [
    "3 ens members only"
   ]
  },
  {
   "cell_type": "code",
   "execution_count": null,
   "id": "80bf2082-59ad-497d-9f34-1be862783d3a",
   "metadata": {
    "execution": {
     "iopub.execute_input": "2024-08-31T17:24:47.322000Z",
     "iopub.status.busy": "2024-08-31T17:24:47.321553Z",
     "iopub.status.idle": "2024-08-31T17:24:47.326762Z",
     "shell.execute_reply": "2024-08-31T17:24:47.326104Z",
     "shell.execute_reply.started": "2024-08-31T17:24:47.321977Z"
    }
   },
   "outputs": [],
   "source": [
    "ssp245_msftmz_accessesm15_mean = year_amoc.isel(realiz=slice(0, 3)).mean(dim=\"realiz\")\n",
    "ssp245_msftmz_accessesm15_std = year_amoc.isel(realiz=slice(0, 3)).std(dim=\"realiz\")"
   ]
  },
  {
   "cell_type": "code",
   "execution_count": null,
   "id": "c2c295a1-f272-4c13-96cf-96c65b1fecc8",
   "metadata": {
    "execution": {
     "iopub.execute_input": "2024-08-31T17:25:28.406438Z",
     "iopub.status.busy": "2024-08-31T17:25:28.405957Z",
     "iopub.status.idle": "2024-08-31T17:25:28.420350Z",
     "shell.execute_reply": "2024-08-31T17:25:28.419689Z",
     "shell.execute_reply.started": "2024-08-31T17:25:28.406413Z"
    }
   },
   "outputs": [],
   "source": [
    "# Save to .nc file\n",
    "ds = xr.Dataset({\n",
    "    'mean': ssp245_msftmz_accessesm15_mean,\n",
    "    'std': ssp245_msftmz_accessesm15_std\n",
    "})\n",
    "file_path = '/work/uo1075/m300817/carbon_amoc/amoc-carbon/data/CMIP6_amoc/ACCESS-ESM1-5/msftmz_accessesm15_ssp245_r1-3i1p1f1.nc'\n",
    "ds.to_netcdf(path=file_path)"
   ]
  },
  {
   "cell_type": "markdown",
   "id": "dd33191e-a253-4f54-8f12-16421e8bcadf",
   "metadata": {},
   "source": [
    "### MIROC-ES2L"
   ]
  },
  {
   "cell_type": "code",
   "execution_count": null,
   "id": "1e7c09d7-e560-4fd1-85d4-e8af1f84d21a",
   "metadata": {
    "execution": {
     "iopub.execute_input": "2024-08-31T18:09:03.848308Z",
     "iopub.status.busy": "2024-08-31T18:09:03.847891Z",
     "iopub.status.idle": "2024-08-31T18:09:05.759414Z",
     "shell.execute_reply": "2024-08-31T18:09:05.758645Z",
     "shell.execute_reply.started": "2024-08-31T18:09:03.848286Z"
    },
    "tags": []
   },
   "outputs": [],
   "source": [
    "array = []\n",
    "for i in range(1,31):\n",
    "    rea = \"r\"+str(i)+\"i1p1f2\"\n",
    "    infiles = glob.glob(f'{paths[\"MIROC-ES2L\"]}/{rea}/Omon/msftmz/gr/**/*.nc', recursive=True)\n",
    "    array.append(xr.open_mfdataset(infiles, use_cftime=True, data_vars=\"minimal\", coords=\"minimal\", compat=\"override\", parallel=True).assign_coords(realiz=rea))\n",
    "ssp245_msftmz_miroces2l = xr.concat(array, dim='realiz')"
   ]
  },
  {
   "cell_type": "code",
   "execution_count": null,
   "id": "646482f9-d284-42be-bc24-7f46d682de48",
   "metadata": {
    "execution": {
     "iopub.execute_input": "2024-08-31T18:09:07.677865Z",
     "iopub.status.busy": "2024-08-31T18:09:07.677428Z",
     "iopub.status.idle": "2024-08-31T18:09:31.229037Z",
     "shell.execute_reply": "2024-08-31T18:09:31.228190Z",
     "shell.execute_reply.started": "2024-08-31T18:09:07.677840Z"
    }
   },
   "outputs": [],
   "source": [
    "year_amoc_levs= weighted_mon_to_year_mean(ssp245_msftmz_miroces2l.sel(lat=26.5, method='nearest').isel(basin=0), 'msftmz').load()/(1025.0 * 10**6)\n",
    "max_lev_indices=year_amoc_levs.idxmax(dim='lev')\n",
    "year_amoc = year_amoc_levs.sel(lev=max_lev_indices)\n",
    "ssp245_msftmz_miroces2l_mean = year_amoc.mean(dim=\"realiz\")\n",
    "ssp245_msftmz_miroces2l_std = year_amoc.std(dim=\"realiz\")"
   ]
  },
  {
   "cell_type": "code",
   "execution_count": null,
   "id": "1746e582-12c6-488f-8ec8-31ab109eece1",
   "metadata": {
    "execution": {
     "iopub.execute_input": "2024-08-31T17:33:36.513300Z",
     "iopub.status.busy": "2024-08-31T17:33:36.512825Z",
     "iopub.status.idle": "2024-08-31T17:33:36.531619Z",
     "shell.execute_reply": "2024-08-31T17:33:36.530950Z",
     "shell.execute_reply.started": "2024-08-31T17:33:36.513276Z"
    }
   },
   "outputs": [],
   "source": [
    "# Save to .nc file\n",
    "ds = xr.Dataset({\n",
    "    'mean': ssp245_msftmz_miroces2l_mean,\n",
    "    'std': ssp245_msftmz_miroces2l_std\n",
    "})\n",
    "file_path = '/work/uo1075/m300817/carbon_amoc/amoc-carbon/data/CMIP6_amoc/MIROC-ES2L/msftmz_miroces2l_ssp245_r1-30i1p1f2.nc'\n",
    "ds.to_netcdf(path=file_path)"
   ]
  },
  {
   "cell_type": "markdown",
   "id": "2db78c54-43fd-4f4d-8042-828384dc238d",
   "metadata": {},
   "source": [
    "3 ens members only"
   ]
  },
  {
   "cell_type": "code",
   "execution_count": null,
   "id": "4ba4e14c-ba58-4dd5-b17c-569fb56972ff",
   "metadata": {
    "execution": {
     "iopub.execute_input": "2024-08-31T17:34:27.035111Z",
     "iopub.status.busy": "2024-08-31T17:34:27.034691Z",
     "iopub.status.idle": "2024-08-31T17:34:27.040015Z",
     "shell.execute_reply": "2024-08-31T17:34:27.039350Z",
     "shell.execute_reply.started": "2024-08-31T17:34:27.035087Z"
    }
   },
   "outputs": [],
   "source": [
    "ssp245_msftmz_miroces2l_mean = year_amoc.isel(realiz=slice(0, 3)).mean(dim=\"realiz\")\n",
    "ssp245_msftmz_miroces2l_std = year_amoc.isel(realiz=slice(0, 3)).std(dim=\"realiz\")"
   ]
  },
  {
   "cell_type": "code",
   "execution_count": null,
   "id": "2ae84b9f-aa89-4e4a-bed8-859e1c428558",
   "metadata": {
    "execution": {
     "iopub.execute_input": "2024-08-31T17:35:00.298306Z",
     "iopub.status.busy": "2024-08-31T17:35:00.297853Z",
     "iopub.status.idle": "2024-08-31T17:35:00.311861Z",
     "shell.execute_reply": "2024-08-31T17:35:00.311179Z",
     "shell.execute_reply.started": "2024-08-31T17:35:00.298283Z"
    }
   },
   "outputs": [],
   "source": [
    "# Save to .nc file\n",
    "ds = xr.Dataset({\n",
    "    'mean': ssp245_msftmz_miroces2l_mean,\n",
    "    'std': ssp245_msftmz_miroces2l_std\n",
    "})\n",
    "file_path = '/work/uo1075/m300817/carbon_amoc/amoc-carbon/data/CMIP6_amoc/MIROC-ES2L/msftmz_miroces2l_ssp245_r1-3i1p1f2.nc'\n",
    "ds.to_netcdf(path=file_path)"
   ]
  },
  {
   "cell_type": "markdown",
   "id": "aa346beb-c3df-41e1-bc34-0cb612f0f541",
   "metadata": {},
   "source": [
    "### GISS-E2-1-G"
   ]
  },
  {
   "cell_type": "code",
   "execution_count": null,
   "id": "ccb4891a-7f64-4f56-b338-454b3999a1ee",
   "metadata": {
    "execution": {
     "iopub.execute_input": "2024-08-31T18:09:50.042272Z",
     "iopub.status.busy": "2024-08-31T18:09:50.041826Z",
     "iopub.status.idle": "2024-08-31T18:09:50.460455Z",
     "shell.execute_reply": "2024-08-31T18:09:50.459747Z",
     "shell.execute_reply.started": "2024-08-31T18:09:50.042247Z"
    },
    "tags": []
   },
   "outputs": [],
   "source": [
    "array = []\n",
    "for i in range(2,11):\n",
    "    rea = \"r\"+str(i)+\"i1p1f2\"\n",
    "    infiles = glob.glob(f'{paths[\"GISS-E2-1-G\"]}/{rea}/Omon/msftmz/gn/**/*.nc', recursive=True)\n",
    "    array.append(xr.open_mfdataset(infiles, use_cftime=True, data_vars=\"minimal\", coords=\"minimal\", compat=\"override\", parallel=True).assign_coords(realiz=rea))\n",
    "ssp245_msftmz_gisse21g = xr.concat(array, dim='realiz')"
   ]
  },
  {
   "cell_type": "code",
   "execution_count": null,
   "id": "3510d043-eadf-4cdb-9172-3f99b9d3dedc",
   "metadata": {
    "execution": {
     "iopub.execute_input": "2024-08-31T18:09:56.217832Z",
     "iopub.status.busy": "2024-08-31T18:09:56.217430Z",
     "iopub.status.idle": "2024-08-31T18:09:58.099951Z",
     "shell.execute_reply": "2024-08-31T18:09:58.099134Z",
     "shell.execute_reply.started": "2024-08-31T18:09:56.217809Z"
    }
   },
   "outputs": [],
   "source": [
    "year_amoc_levs= weighted_mon_to_year_mean(ssp245_msftmz_gisse21g.sel(lat=26.5, method='nearest').isel(basin=0), 'msftmz').load()/(1025.0 * 10**6)\n",
    "max_lev_indices=year_amoc_levs.idxmax(dim='lev')\n",
    "year_amoc = year_amoc_levs.sel(lev=max_lev_indices)\n",
    "ssp245_msftmz_gisse21g_mean = year_amoc.mean(dim=\"realiz\")\n",
    "ssp245_msftmz_gisse21g_std = year_amoc.std(dim=\"realiz\")"
   ]
  },
  {
   "cell_type": "code",
   "execution_count": null,
   "id": "c5f420d2-d0e3-4e9e-87eb-c71b6a87a3b4",
   "metadata": {
    "execution": {
     "iopub.execute_input": "2024-08-31T18:11:47.290398Z",
     "iopub.status.busy": "2024-08-31T18:11:47.289945Z",
     "iopub.status.idle": "2024-08-31T18:11:47.307681Z",
     "shell.execute_reply": "2024-08-31T18:11:47.307008Z",
     "shell.execute_reply.started": "2024-08-31T18:11:47.290375Z"
    }
   },
   "outputs": [],
   "source": [
    "# Save to .nc file\n",
    "ds = xr.Dataset({\n",
    "    'mean': ssp245_msftmz_gisse21g_mean,\n",
    "    'std': ssp245_msftmz_gisse21g_std\n",
    "})\n",
    "file_path = '/work/uo1075/m300817/carbon_amoc/amoc-carbon/data/CMIP6_amoc/GISS-E2-1-G/msftmz_gisse21g_ssp245_r2-10i1p1f2.nc'\n",
    "ds.to_netcdf(path=file_path)"
   ]
  },
  {
   "cell_type": "markdown",
   "id": "8ed1f360-1893-464e-a30c-825f9b99c948",
   "metadata": {},
   "source": [
    "3 ens members only"
   ]
  },
  {
   "cell_type": "code",
   "execution_count": null,
   "id": "44a2db93-3ba6-45f5-a6e9-2c161768bb04",
   "metadata": {
    "execution": {
     "iopub.execute_input": "2024-08-31T18:13:19.211049Z",
     "iopub.status.busy": "2024-08-31T18:13:19.209825Z",
     "iopub.status.idle": "2024-08-31T18:13:19.217526Z",
     "shell.execute_reply": "2024-08-31T18:13:19.216853Z",
     "shell.execute_reply.started": "2024-08-31T18:13:19.211022Z"
    }
   },
   "outputs": [],
   "source": [
    "ssp245_msftmz_gisse21g_mean = year_amoc.isel(realiz=slice(0, 3)).mean(dim=\"realiz\")\n",
    "ssp245_msftmz_gisse21g_std = year_amoc.isel(realiz=slice(0, 3)).std(dim=\"realiz\")"
   ]
  },
  {
   "cell_type": "code",
   "execution_count": null,
   "id": "f0999343-bc94-4561-98e0-b624e0a7e385",
   "metadata": {
    "execution": {
     "iopub.execute_input": "2024-08-31T18:14:13.201849Z",
     "iopub.status.busy": "2024-08-31T18:14:13.201336Z",
     "iopub.status.idle": "2024-08-31T18:14:13.217930Z",
     "shell.execute_reply": "2024-08-31T18:14:13.217256Z",
     "shell.execute_reply.started": "2024-08-31T18:14:13.201824Z"
    }
   },
   "outputs": [],
   "source": [
    "# Save to .nc file\n",
    "ds = xr.Dataset({\n",
    "    'mean': ssp245_msftmz_gisse21g_mean,\n",
    "    'std': ssp245_msftmz_gisse21g_std\n",
    "})\n",
    "file_path = '/work/uo1075/m300817/carbon_amoc/amoc-carbon/data/CMIP6_amoc/GISS-E2-1-G/msftmz_gisse21g_ssp245_r2-4i1p1f2.nc'\n",
    "ds.to_netcdf(path=file_path)"
   ]
  },
  {
   "cell_type": "markdown",
   "id": "9ae91c9d-3bb2-4f3f-a934-03ed773c5dbd",
   "metadata": {},
   "source": [
    "## ssp126"
   ]
  },
  {
   "cell_type": "code",
   "execution_count": null,
   "id": "4e03baa5-d48b-4bb6-b2b5-2e21a9bd1013",
   "metadata": {
    "execution": {
     "iopub.execute_input": "2024-09-04T05:41:28.507686Z",
     "iopub.status.busy": "2024-09-04T05:41:28.507246Z",
     "iopub.status.idle": "2024-09-04T05:41:28.511020Z",
     "shell.execute_reply": "2024-09-04T05:41:28.510419Z",
     "shell.execute_reply.started": "2024-09-04T05:41:28.507663Z"
    },
    "tags": []
   },
   "outputs": [],
   "source": [
    "# Paths for ssp245 scenario\n",
    "paths={'MPI-ESM1.2-LR':'/work/ik1017/CMIP6/data/CMIP6/ScenarioMIP/MPI-M/MPI-ESM1-2-LR/ssp126/',\n",
    "      'NorESM2-LM':'/work/ik1017/CMIP6/data/CMIP6/ScenarioMIP/NCC/NorESM2-LM/ssp126',\n",
    "      }"
   ]
  },
  {
   "cell_type": "markdown",
   "id": "f0bbcce0-2bf6-4f41-bb7e-7914a6c55cb0",
   "metadata": {},
   "source": [
    "### MPI-ESM1.2-LR"
   ]
  },
  {
   "cell_type": "code",
   "execution_count": null,
   "id": "561e36e5-58b2-41aa-85a2-21fbd11d973c",
   "metadata": {
    "execution": {
     "iopub.execute_input": "2024-08-30T09:55:28.301358Z",
     "iopub.status.busy": "2024-08-30T09:55:28.301146Z",
     "iopub.status.idle": "2024-08-30T09:55:35.211475Z",
     "shell.execute_reply": "2024-08-30T09:55:35.210538Z",
     "shell.execute_reply.started": "2024-08-30T09:55:28.301340Z"
    },
    "tags": []
   },
   "outputs": [],
   "source": [
    "array = []\n",
    "for i in range(1,51):\n",
    "    rea = \"r\"+str(i)+\"i1p1f1\"\n",
    "    infiles = glob.glob(f'{paths[\"MPI-ESM1.2-LR\"]}/{rea}/Omon/msftmz/gn/**/*.nc', recursive=True)\n",
    "    array.append(xr.open_mfdataset(infiles, use_cftime=True, data_vars=\"minimal\", coords=\"minimal\", compat=\"override\", parallel=True).assign_coords(realiz=rea))\n",
    "msftmz_mpiesmlr = xr.concat(array, dim='realiz')"
   ]
  },
  {
   "cell_type": "code",
   "execution_count": null,
   "id": "1441e03e-ed6d-43be-8443-6826e65555e4",
   "metadata": {
    "execution": {
     "iopub.execute_input": "2024-08-30T09:55:35.213595Z",
     "iopub.status.busy": "2024-08-30T09:55:35.213214Z",
     "iopub.status.idle": "2024-08-30T09:55:37.134245Z",
     "shell.execute_reply": "2024-08-30T09:55:37.133340Z",
     "shell.execute_reply.started": "2024-08-30T09:55:35.213571Z"
    }
   },
   "outputs": [],
   "source": [
    "msftmz_mpiesmlr_mean = (weighted_mon_to_year_mean(msftmz_mpiesmlr.sel(lat=26.5).sel(lev=1020).isel(basin=1), 'msftmz').mean(dim=\"realiz\"))/(1025.0 * 10**6)\n",
    "msftmz_mpiesmlr_std = (weighted_mon_to_year_mean(msftmz_mpiesmlr.sel(lat=26.5).sel(lev=1020).isel(basin=1), 'msftmz').std(dim=\"realiz\"))/(1025.0 * 10**6)"
   ]
  },
  {
   "cell_type": "code",
   "execution_count": null,
   "id": "8d10dc53-bcab-46b7-a96d-064c3df897cb",
   "metadata": {
    "execution": {
     "iopub.execute_input": "2024-08-30T09:55:37.135805Z",
     "iopub.status.busy": "2024-08-30T09:55:37.135318Z",
     "iopub.status.idle": "2024-08-30T09:56:05.050554Z",
     "shell.execute_reply": "2024-08-30T09:56:05.049717Z",
     "shell.execute_reply.started": "2024-08-30T09:55:37.135781Z"
    }
   },
   "outputs": [],
   "source": [
    "# Save to .nc file\n",
    "ds = xr.Dataset({\n",
    "    'mean': msftmz_mpiesmlr_mean,\n",
    "    'std': msftmz_mpiesmlr_std\n",
    "})\n",
    "file_path = '/work/uo1075/m300817/carbon_amoc/amoc-carbon/data/CMIP6_amoc/MPI-ESM1.2-LR/msftmz_mpiesmlr_ssp126.nc'\n",
    "ds.to_netcdf(path=file_path)"
   ]
  },
  {
   "cell_type": "markdown",
   "id": "8f94391e-80f7-46ad-8af2-312bd5ca95f0",
   "metadata": {},
   "source": [
    "### NorESM2-LM"
   ]
  },
  {
   "cell_type": "code",
   "execution_count": null,
   "id": "feb973c6-495f-485b-a243-614125b9808a",
   "metadata": {
    "execution": {
     "iopub.execute_input": "2024-09-04T05:42:14.116477Z",
     "iopub.status.busy": "2024-09-04T05:42:14.116045Z",
     "iopub.status.idle": "2024-09-04T05:42:14.698345Z",
     "shell.execute_reply": "2024-09-04T05:42:14.697660Z",
     "shell.execute_reply.started": "2024-09-04T05:42:14.116453Z"
    },
    "tags": []
   },
   "outputs": [],
   "source": [
    "array = []\n",
    "for i in [1]:\n",
    "    rea = \"r\"+str(i)+\"i1p1f1\"\n",
    "    infiles = glob.glob(f'{paths[\"NorESM2-LM\"]}/{rea}/Omon/msftmz/**/**/*.nc', recursive=True)\n",
    "    array.append(xr.open_mfdataset(infiles, use_cftime=True, data_vars=\"minimal\", coords=\"minimal\", compat=\"override\", parallel=True).assign_coords(realiz=rea))\n",
    "ssp126_msftmz_noresm2lm = xr.concat(array, dim='realiz')"
   ]
  },
  {
   "cell_type": "code",
   "execution_count": null,
   "id": "d37396d5-4a7a-4711-a4f9-1aefc5b773dc",
   "metadata": {
    "collapsed": true,
    "execution": {
     "iopub.execute_input": "2024-09-04T05:43:12.059360Z",
     "iopub.status.busy": "2024-09-04T05:43:12.058929Z",
     "iopub.status.idle": "2024-09-04T05:43:14.267958Z",
     "shell.execute_reply": "2024-09-04T05:43:14.267234Z",
     "shell.execute_reply.started": "2024-09-04T05:43:12.059336Z"
    },
    "jupyter": {
     "outputs_hidden": true
    }
   },
   "outputs": [],
   "source": [
    "year_amoc_levs= weighted_mon_to_year_mean(ssp126_msftmz_noresm2lm.sel(lat=26.5, method='nearest').isel(basin=0), 'msftmz').load()/(1025.0 * 10**6)\n",
    "max_lev_indices=year_amoc_levs.idxmax(dim='lev')\n",
    "year_amoc = year_amoc_levs.sel(lev=max_lev_indices)\n",
    "ssp126_msftmz_noresm2lm_mean = year_amoc.mean(dim=\"realiz\")"
   ]
  },
  {
   "cell_type": "code",
   "execution_count": null,
   "id": "bda2dc08-51dd-4670-ba6d-1ad8150b0f0c",
   "metadata": {
    "execution": {
     "iopub.execute_input": "2024-09-04T05:47:33.929524Z",
     "iopub.status.busy": "2024-09-04T05:47:33.928915Z",
     "iopub.status.idle": "2024-09-04T05:47:33.965256Z",
     "shell.execute_reply": "2024-09-04T05:47:33.964509Z",
     "shell.execute_reply.started": "2024-09-04T05:47:33.929495Z"
    }
   },
   "outputs": [],
   "source": [
    "# Save to .nc file\n",
    "ds = xr.Dataset({\n",
    "    'r1i1p1f1': ssp126_msftmz_noresm2lm_mean,\n",
    "})\n",
    "file_path = '/work/uo1075/m300817/carbon_amoc/amoc-carbon/data/CMIP6_amoc/NorESM2-LM/msftmz_noresm2lm_ssp126_r1i1p1f1.nc'\n",
    "ds.to_netcdf(path=file_path)"
   ]
  },
  {
   "cell_type": "markdown",
   "id": "e1de894c-97b9-4030-b54b-7926c470179b",
   "metadata": {},
   "source": [
    "## ssp585"
   ]
  },
  {
   "cell_type": "code",
   "execution_count": null,
   "id": "c2c6e3b5-2e61-4ad0-b670-8aea7dc59166",
   "metadata": {
    "execution": {
     "iopub.execute_input": "2024-09-04T05:49:12.642002Z",
     "iopub.status.busy": "2024-09-04T05:49:12.641393Z",
     "iopub.status.idle": "2024-09-04T05:49:12.646141Z",
     "shell.execute_reply": "2024-09-04T05:49:12.645411Z",
     "shell.execute_reply.started": "2024-09-04T05:49:12.641975Z"
    },
    "tags": []
   },
   "outputs": [],
   "source": [
    "# Paths for ssp245 scenario\n",
    "paths={'MPI-ESM1.2-LR':'/work/ik1017/CMIP6/data/CMIP6/ScenarioMIP/MPI-M/MPI-ESM1-2-LR/ssp585/',\n",
    "       'NorESM2-LM':'/work/ik1017/CMIP6/data/CMIP6/ScenarioMIP/NCC/NorESM2-LM/ssp585',\n",
    "      }"
   ]
  },
  {
   "cell_type": "markdown",
   "id": "f48a5ca0-8c10-4641-99e0-7b0ce6f02ed6",
   "metadata": {},
   "source": [
    "### MPI-ESM1.2-LR"
   ]
  },
  {
   "cell_type": "code",
   "execution_count": null,
   "id": "8307f848-3612-4ac7-9277-37d25af611a9",
   "metadata": {
    "execution": {
     "iopub.execute_input": "2024-08-30T09:47:40.293457Z",
     "iopub.status.busy": "2024-08-30T09:47:40.293022Z",
     "iopub.status.idle": "2024-08-30T09:48:01.945050Z",
     "shell.execute_reply": "2024-08-30T09:48:01.944227Z",
     "shell.execute_reply.started": "2024-08-30T09:47:40.293433Z"
    },
    "tags": []
   },
   "outputs": [],
   "source": [
    "array = []\n",
    "for i in range(1,51):\n",
    "    rea = \"r\"+str(i)+\"i1p1f1\"\n",
    "    infiles = glob.glob(f'{paths[\"MPI-ESM1.2-LR\"]}/{rea}/Omon/msftmz/gn/**/*.nc', recursive=True)\n",
    "    array.append(xr.open_mfdataset(infiles, use_cftime=True, data_vars=\"minimal\", coords=\"minimal\", compat=\"override\", parallel=True).assign_coords(realiz=rea))\n",
    "msftmz_mpiesmlr = xr.concat(array, dim='realiz')"
   ]
  },
  {
   "cell_type": "code",
   "execution_count": null,
   "id": "f7302c47-ce3e-4c2f-8d4c-d903e51aeb87",
   "metadata": {
    "execution": {
     "iopub.execute_input": "2024-08-30T09:48:44.244025Z",
     "iopub.status.busy": "2024-08-30T09:48:44.243816Z",
     "iopub.status.idle": "2024-08-30T09:48:46.613773Z",
     "shell.execute_reply": "2024-08-30T09:48:46.612984Z",
     "shell.execute_reply.started": "2024-08-30T09:48:44.244006Z"
    }
   },
   "outputs": [],
   "source": [
    "msftmz_mpiesmlr_mean = (weighted_mon_to_year_mean(msftmz_mpiesmlr.sel(lat=26.5).sel(lev=1020).isel(basin=1), 'msftmz').mean(dim=\"realiz\"))/(1025.0 * 10**6)\n",
    "msftmz_mpiesmlr_std = (weighted_mon_to_year_mean(msftmz_mpiesmlr.sel(lat=26.5).sel(lev=1020).isel(basin=1), 'msftmz').std(dim=\"realiz\"))/(1025.0 * 10**6)"
   ]
  },
  {
   "cell_type": "code",
   "execution_count": null,
   "id": "7f184abf-3179-45ed-a373-1c1941311779",
   "metadata": {
    "execution": {
     "iopub.execute_input": "2024-08-30T09:53:27.168976Z",
     "iopub.status.busy": "2024-08-30T09:53:27.168393Z",
     "iopub.status.idle": "2024-08-30T09:53:55.533677Z",
     "shell.execute_reply": "2024-08-30T09:53:55.532664Z",
     "shell.execute_reply.started": "2024-08-30T09:53:27.168950Z"
    }
   },
   "outputs": [],
   "source": [
    "# Save to .nc file\n",
    "ds = xr.Dataset({\n",
    "    'mean': msftmz_mpiesmlr_mean,\n",
    "    'std': msftmz_mpiesmlr_std\n",
    "})\n",
    "file_path = '/work/uo1075/m300817/carbon_amoc/amoc-carbon/data/CMIP6_amoc/MPI-ESM1.2-LR/msftmz_mpiesmlr_ssp585.nc'\n",
    "ds.to_netcdf(path=file_path)"
   ]
  },
  {
   "cell_type": "markdown",
   "id": "b34d8788-a731-4e1c-b604-94004943fbb7",
   "metadata": {},
   "source": [
    "### NorESM2-LM"
   ]
  },
  {
   "cell_type": "code",
   "execution_count": null,
   "id": "c8c98980-d520-4f1c-8876-06dc69c5645e",
   "metadata": {
    "execution": {
     "iopub.execute_input": "2024-09-04T05:49:28.739731Z",
     "iopub.status.busy": "2024-09-04T05:49:28.739068Z",
     "iopub.status.idle": "2024-09-04T05:49:29.630201Z",
     "shell.execute_reply": "2024-09-04T05:49:29.629455Z",
     "shell.execute_reply.started": "2024-09-04T05:49:28.739703Z"
    },
    "tags": []
   },
   "outputs": [],
   "source": [
    "array = []\n",
    "for i in [1]:\n",
    "    rea = \"r\"+str(i)+\"i1p1f1\"\n",
    "    infiles = glob.glob(f'{paths[\"NorESM2-LM\"]}/{rea}/Omon/msftmz/**/**/*.nc', recursive=True)\n",
    "    array.append(xr.open_mfdataset(infiles, use_cftime=True, data_vars=\"minimal\", coords=\"minimal\", compat=\"override\", parallel=True).assign_coords(realiz=rea))\n",
    "ssp585_msftmz_noresm2lm = xr.concat(array, dim='realiz')"
   ]
  },
  {
   "cell_type": "code",
   "execution_count": null,
   "id": "69ca84bb-1c0f-4078-a44a-d999f604c9c3",
   "metadata": {
    "collapsed": true,
    "execution": {
     "iopub.execute_input": "2024-09-04T05:49:44.332374Z",
     "iopub.status.busy": "2024-09-04T05:49:44.331772Z",
     "iopub.status.idle": "2024-09-04T05:49:46.530823Z",
     "shell.execute_reply": "2024-09-04T05:49:46.529989Z",
     "shell.execute_reply.started": "2024-09-04T05:49:44.332347Z"
    },
    "jupyter": {
     "outputs_hidden": true
    }
   },
   "outputs": [],
   "source": [
    "year_amoc_levs= weighted_mon_to_year_mean(ssp585_msftmz_noresm2lm.sel(lat=26.5, method='nearest').isel(basin=0), 'msftmz').load()/(1025.0 * 10**6)\n",
    "max_lev_indices=year_amoc_levs.idxmax(dim='lev')\n",
    "year_amoc = year_amoc_levs.sel(lev=max_lev_indices)\n",
    "ssp585_msftmz_noresm2lm_mean = year_amoc.mean(dim=\"realiz\")"
   ]
  },
  {
   "cell_type": "code",
   "execution_count": null,
   "id": "f55c6b1d-9067-48e2-9a27-a5b52fc9d256",
   "metadata": {
    "execution": {
     "iopub.execute_input": "2024-09-04T05:50:25.504337Z",
     "iopub.status.busy": "2024-09-04T05:50:25.503759Z",
     "iopub.status.idle": "2024-09-04T05:50:25.518056Z",
     "shell.execute_reply": "2024-09-04T05:50:25.517328Z",
     "shell.execute_reply.started": "2024-09-04T05:50:25.504310Z"
    }
   },
   "outputs": [],
   "source": [
    "# Save to .nc file\n",
    "ds = xr.Dataset({\n",
    "    'r1i1p1f1': ssp585_msftmz_noresm2lm_mean,\n",
    "})\n",
    "file_path = '/work/uo1075/m300817/carbon_amoc/amoc-carbon/data/CMIP6_amoc/NorESM2-LM/msftmz_noresm2lm_ssp585_r1i1p1f1.nc'\n",
    "ds.to_netcdf(path=file_path)"
   ]
  },
  {
   "cell_type": "markdown",
   "id": "c473f8c8-5c2e-4fe4-8f76-aa6adfe1bc1f",
   "metadata": {},
   "source": [
    "## piControl"
   ]
  },
  {
   "cell_type": "code",
   "execution_count": null,
   "id": "aa9f4f43-d13b-4ae1-965f-7ef4098ce753",
   "metadata": {
    "execution": {
     "iopub.execute_input": "2024-09-02T15:08:05.879089Z",
     "iopub.status.busy": "2024-09-02T15:08:05.878605Z",
     "iopub.status.idle": "2024-09-02T15:08:05.883763Z",
     "shell.execute_reply": "2024-09-02T15:08:05.883029Z",
     "shell.execute_reply.started": "2024-09-02T15:08:05.879065Z"
    },
    "tags": []
   },
   "outputs": [],
   "source": [
    "# Paths for ssp245 scenario\n",
    "paths={'MPI-ESM1.2-LR':'/work/ik1017/CMIP6/data/CMIP6/CMIP/MPI-M/MPI-ESM1-2-LR/piControl/',\n",
    "       'CESM2':'/work/ik1017/CMIP6/data/CMIP6/CMIP/NCAR/CESM2/piControl',\n",
    "       'NorESM2-LM':'/work/ik1017/CMIP6/data/CMIP6/CMIP/NCC/NorESM2-LM/piControl',\n",
    "       'ACCESS-ESM1-5':'/work/ik1017/CMIP6/data/CMIP6/CMIP/CSIRO/ACCESS-ESM1-5/piControl',\n",
    "       'CanESM5':'/work/ik1017/CMIP6/data/CMIP6/CMIP/CCCma/CanESM5/piControl',\n",
    "       'GISS-E2-1-G':'/work/ik1017/CMIP6/data/CMIP6/CMIP/NASA-GISS/GISS-E2-1-G/piControl/',\n",
    "       'MIROC6':'/work/ik1017/CMIP6/data/CMIP6/CMIP/MIROC/MIROC6/piControl/'\n",
    "      }\n",
    "\n",
    "paths_r1i1p1f1={'MPI-ESM1.2-LR':'/work/ik1017/CMIP6/data/CMIP6/CMIP/MPI-M/MPI-ESM1-2-LR/piControl/',\n",
    "       'CESM2':'/work/ik1017/CMIP6/data/CMIP6/CMIP/NCAR/CESM2/piControl',\n",
    "       'NorESM2-LM':'/work/ik1017/CMIP6/data/CMIP6/CMIP/NCC/NorESM2-LM/piControl',\n",
    "       'ACCESS-ESM1-5':'/work/ik1017/CMIP6/data/CMIP6/CMIP/CSIRO/ACCESS-ESM1-5/piControl',\n",
    "      }\n",
    "paths_r1i1p2f1 = {'CanESM5':'/work/ik1017/CMIP6/data/CMIP6/CMIP/CCCma/CanESM5/piControl'}\n",
    "paths_r1i1p1f2 = {'GISS-E2-1-G':'/work/ik1017/CMIP6/data/CMIP6/CMIP/NASA-GISS/GISS-E2-1-G/piControl/'} \n",
    "path_MIROC = {'MIROC6':'/work/ik1017/CMIP6/data/CMIP6/CMIP/MIROC/MIROC6/piControl/'} "
   ]
  },
  {
   "cell_type": "code",
   "execution_count": null,
   "id": "47657667-9b34-4990-9799-73136eab68b2",
   "metadata": {
    "collapsed": true,
    "execution": {
     "iopub.execute_input": "2024-09-02T15:07:22.161526Z",
     "iopub.status.busy": "2024-09-02T15:07:22.161055Z",
     "iopub.status.idle": "2024-09-02T15:07:31.424369Z",
     "shell.execute_reply": "2024-09-02T15:07:31.423605Z",
     "shell.execute_reply.started": "2024-09-02T15:07:22.161502Z"
    },
    "jupyter": {
     "outputs_hidden": true
    },
    "scrolled": true,
    "tags": []
   },
   "outputs": [],
   "source": [
    "msftmz_models_dict = {}\n",
    "for mod in paths_r1i1p1f1:\n",
    "    infiles = glob.glob(f'{paths_r1i1p1f1[mod]}/r1i1p1f1/Omon/msftmz/**/**/*.nc', recursive=True)\n",
    "    msftmz_models_dict[mod]=(xr.open_mfdataset(infiles, use_cftime=True, data_vars=\"minimal\", coords=\"minimal\", compat=\"override\").assign_coords(model=mod))\n",
    "for mod in paths_r1i1p2f1:\n",
    "    infiles = glob.glob(f'{paths_r1i1p2f1[mod]}/r1i1p2f1/Omon/msftmz/**/**/*.nc', recursive=True)\n",
    "    msftmz_models_dict[mod]=(xr.open_mfdataset(infiles, use_cftime=True, data_vars=\"minimal\", coords=\"minimal\", compat=\"override\").assign_coords(model=mod))\n",
    "for mod in paths_r1i1p1f2:\n",
    "    infiles = glob.glob(f'{paths_r1i1p1f2[mod]}/r1i1p1f2/Omon/msftmz/**/**/*.nc', recursive=True)\n",
    "    msftmz_models_dict[mod]=(xr.open_mfdataset(infiles, use_cftime=True, data_vars=\"minimal\", coords=\"minimal\", compat=\"override\").assign_coords(model=mod))\n",
    "for mod in path_MIROC:\n",
    "    infiles = \"/work/ik1017/CMIP6/data/CMIP6/CMIP/MIROC/MIROC6/piControl/r1i1p1f1/Omon/msftmz/gr/v20200421/msftmz_Omon_MIROC6_piControl_r1i1p1f1_gr_320001-399912.nc\"\n",
    "    msftmz_models_dict[mod]=(xr.open_mfdataset(infiles).assign_coords(model=mod))"
   ]
  },
  {
   "cell_type": "code",
   "execution_count": null,
   "id": "a70149d0-49fe-4868-9e09-88c6d3a08ac4",
   "metadata": {
    "collapsed": true,
    "execution": {
     "iopub.execute_input": "2024-09-02T15:08:14.270207Z",
     "iopub.status.busy": "2024-09-02T15:08:14.269783Z",
     "iopub.status.idle": "2024-09-02T15:10:18.733538Z",
     "shell.execute_reply": "2024-09-02T15:10:18.732756Z",
     "shell.execute_reply.started": "2024-09-02T15:08:14.270183Z"
    },
    "jupyter": {
     "outputs_hidden": true
    }
   },
   "outputs": [],
   "source": [
    "picontrol_msftmz_cmip6 = {'mean':{}, 'std':{}}\n",
    "for mod in paths:\n",
    "    if mod=='MPI-ESM1.2-LR': # atlantic is basin=1 \n",
    "        year_amoc_levs=weighted_mon_to_year_mean(msftmz_models_dict[mod].sel(lat=26.5, method='nearest').isel(basin=1), 'msftmz').load()/(1025.0 * 10**6)\n",
    "        max_lev_indices=year_amoc_levs.idxmax(dim='lev')\n",
    "        year_amoc = year_amoc_levs.sel(lev=max_lev_indices)\n",
    "        picontrol_msftmz_cmip6['mean'][mod]=year_amoc.mean(dim='time')\n",
    "        picontrol_msftmz_cmip6['std'][mod]=year_amoc.std(dim='time')\n",
    "\n",
    "    else: # atlantic basin=0\n",
    "        year_amoc_levs=weighted_mon_to_year_mean(msftmz_models_dict[mod].sel(lat=26.5, method='nearest').isel(basin=0), 'msftmz').load()/(1025.0 * 10**6)\n",
    "        max_lev_indices=year_amoc_levs.idxmax(dim='lev')\n",
    "        year_amoc = year_amoc_levs.sel(lev=max_lev_indices)\n",
    "        picontrol_msftmz_cmip6['mean'][mod]=year_amoc.mean(dim='time')\n",
    "        picontrol_msftmz_cmip6['std'][mod]=year_amoc.std(dim='time')"
   ]
  },
  {
   "cell_type": "code",
   "execution_count": null,
   "id": "c7af53ab-f35e-45c4-9c1e-c94a246e5095",
   "metadata": {
    "execution": {
     "iopub.execute_input": "2024-09-02T15:10:31.665033Z",
     "iopub.status.busy": "2024-09-02T15:10:31.664518Z",
     "iopub.status.idle": "2024-09-02T15:10:31.672343Z",
     "shell.execute_reply": "2024-09-02T15:10:31.671654Z",
     "shell.execute_reply.started": "2024-09-02T15:10:31.665010Z"
    }
   },
   "outputs": [],
   "source": [
    "picontrol_msftmz_cmip6"
   ]
  }
 ],
 "metadata": {
  "jupytext": {
   "formats": "ipynb,md"
  },
  "kernelspec": {
   "display_name": "1 Python 3 (based on the module python3/2023.01)",
   "language": "python",
   "name": "python3_2023_01"
  },
  "language_info": {
   "codemirror_mode": {
    "name": "ipython",
    "version": 3
   },
   "file_extension": ".py",
   "mimetype": "text/x-python",
   "name": "python",
   "nbconvert_exporter": "python",
   "pygments_lexer": "ipython3",
   "version": "3.10.10"
  },
  "toc-autonumbering": true
 },
 "nbformat": 4,
 "nbformat_minor": 5
}
